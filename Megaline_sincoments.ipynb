{
 "cells": [
  {
   "cell_type": "markdown",
   "metadata": {
    "id": "3rYiDeEH0q0f"
   },
   "source": [
    "# ¿Cuál es la mejor tarifa?\n",
    "\n",
    "Trabajas como analista para el operador de telecomunicaciones Megaline. La empresa ofrece a sus clientes dos tarifas de prepago, Surf y Ultimate. El departamento comercial quiere saber cuál de las tarifas genera más ingresos para poder ajustar el presupuesto de publicidad.\n",
    "\n",
    "Vas a realizar un análisis preliminar de las tarifas basado en una selección de clientes relativamente pequeña. Tendrás los datos de 500 clientes de Megaline: quiénes son los clientes, de dónde son, qué tarifa usan, así como la cantidad de llamadas que hicieron y los mensajes de texto que enviaron en 2018. Tu trabajo es analizar el comportamiento de los clientes y determinar qué tarifa de prepago genera más ingresos."
   ]
  },
  {
   "cell_type": "markdown",
   "metadata": {
    "id": "VNddPNRQ0q0w"
   },
   "source": [
    "[Te proporcionamos algunos comentarios para orientarte mientras completas este proyecto. Pero debes asegurarte de eliminar todos los comentarios entre corchetes antes de entregar tu proyecto.]\n",
    "\n",
    "[Antes de sumergirte en el análisis de datos, explica por tu propia cuenta el propósito del proyecto y las acciones que planeas realizar.]\n",
    "\n",
    "[Ten en cuenta que estudiar, modificar y analizar datos es un proceso iterativo. Es normal volver a los pasos anteriores y corregirlos/ampliarlos para permitir nuevos pasos.]"
   ]
  },
  {
   "cell_type": "markdown",
   "metadata": {
    "id": "MQi4IPy70q0y"
   },
   "source": [
    "## Inicialización"
   ]
  },
  {
   "cell_type": "code",
   "execution_count": 1,
   "metadata": {
    "id": "MtYIuBxu0q0z"
   },
   "outputs": [],
   "source": [
    "# Cargar todas las librerías\n",
    "import pandas as pd\n",
    "import numpy as np\n",
    "import seaborn as sns\n",
    "from math import factorial\n",
    "from scipy import stats as st\n",
    "from matplotlib import pyplot as plt\n",
    "from scipy import stats as st\n"
   ]
  },
  {
   "cell_type": "markdown",
   "metadata": {
    "id": "4ysWWC5i0q00"
   },
   "source": [
    "## Cargar datos"
   ]
  },
  {
   "cell_type": "code",
   "execution_count": 2,
   "metadata": {
    "id": "CCqPW7rS0q01"
   },
   "outputs": [],
   "source": [
    "# Carga los archivos de datos en diferentes DataFrames\n",
    "\n",
    "calls = pd.read_csv('/datasets/megaline_calls.csv')\n",
    "internet = pd.read_csv('/datasets/megaline_internet.csv')\n",
    "messages = pd.read_csv('/datasets/megaline_messages.csv')\n",
    "plans = pd.read_csv('/datasets/megaline_plans.csv')\n",
    "users = pd.read_csv('/datasets/megaline_users.csv')"
   ]
  },
  {
   "cell_type": "markdown",
   "metadata": {
    "id": "69qqoJ3r0q01"
   },
   "source": [
    "## Preparar los datos"
   ]
  },
  {
   "cell_type": "markdown",
   "metadata": {
    "id": "vUuZw80S0q01"
   },
   "source": [
    "[Los datos para este proyecto se dividen en varias tablas. Explora cada una para tener una comprensión inicial de los datos. Si es necesario, haz las correcciones requeridas en cada tabla.]"
   ]
  },
  {
   "cell_type": "markdown",
   "metadata": {
    "id": "ohBhimvH0q01"
   },
   "source": [
    "## Tarifas"
   ]
  },
  {
   "cell_type": "code",
   "execution_count": 3,
   "metadata": {
    "id": "GptqP3Q40q02"
   },
   "outputs": [
    {
     "name": "stdout",
     "output_type": "stream",
     "text": [
      "<class 'pandas.core.frame.DataFrame'>\n",
      "RangeIndex: 2 entries, 0 to 1\n",
      "Data columns (total 8 columns):\n",
      " #   Column                 Non-Null Count  Dtype  \n",
      "---  ------                 --------------  -----  \n",
      " 0   messages_included      2 non-null      int64  \n",
      " 1   mb_per_month_included  2 non-null      int64  \n",
      " 2   minutes_included       2 non-null      int64  \n",
      " 3   usd_monthly_pay        2 non-null      int64  \n",
      " 4   usd_per_gb             2 non-null      int64  \n",
      " 5   usd_per_message        2 non-null      float64\n",
      " 6   usd_per_minute         2 non-null      float64\n",
      " 7   plan_name              2 non-null      object \n",
      "dtypes: float64(2), int64(5), object(1)\n",
      "memory usage: 256.0+ bytes\n"
     ]
    }
   ],
   "source": [
    "# Imprime la información general/resumida sobre el DataFrame de las tarifas\n",
    "plans.info()\n"
   ]
  },
  {
   "cell_type": "code",
   "execution_count": 4,
   "metadata": {
    "id": "64xzjwL70q02"
   },
   "outputs": [
    {
     "data": {
      "text/html": [
       "<div>\n",
       "<style scoped>\n",
       "    .dataframe tbody tr th:only-of-type {\n",
       "        vertical-align: middle;\n",
       "    }\n",
       "\n",
       "    .dataframe tbody tr th {\n",
       "        vertical-align: top;\n",
       "    }\n",
       "\n",
       "    .dataframe thead th {\n",
       "        text-align: right;\n",
       "    }\n",
       "</style>\n",
       "<table border=\"1\" class=\"dataframe\">\n",
       "  <thead>\n",
       "    <tr style=\"text-align: right;\">\n",
       "      <th></th>\n",
       "      <th>messages_included</th>\n",
       "      <th>mb_per_month_included</th>\n",
       "      <th>minutes_included</th>\n",
       "      <th>usd_monthly_pay</th>\n",
       "      <th>usd_per_gb</th>\n",
       "      <th>usd_per_message</th>\n",
       "      <th>usd_per_minute</th>\n",
       "      <th>plan_name</th>\n",
       "    </tr>\n",
       "  </thead>\n",
       "  <tbody>\n",
       "    <tr>\n",
       "      <th>0</th>\n",
       "      <td>50</td>\n",
       "      <td>15360</td>\n",
       "      <td>500</td>\n",
       "      <td>20</td>\n",
       "      <td>10</td>\n",
       "      <td>0.03</td>\n",
       "      <td>0.03</td>\n",
       "      <td>surf</td>\n",
       "    </tr>\n",
       "    <tr>\n",
       "      <th>1</th>\n",
       "      <td>1000</td>\n",
       "      <td>30720</td>\n",
       "      <td>3000</td>\n",
       "      <td>70</td>\n",
       "      <td>7</td>\n",
       "      <td>0.01</td>\n",
       "      <td>0.01</td>\n",
       "      <td>ultimate</td>\n",
       "    </tr>\n",
       "  </tbody>\n",
       "</table>\n",
       "</div>"
      ],
      "text/plain": [
       "   messages_included  mb_per_month_included  minutes_included  \\\n",
       "0                 50                  15360               500   \n",
       "1               1000                  30720              3000   \n",
       "\n",
       "   usd_monthly_pay  usd_per_gb  usd_per_message  usd_per_minute plan_name  \n",
       "0               20          10             0.03            0.03      surf  \n",
       "1               70           7             0.01            0.01  ultimate  "
      ]
     },
     "execution_count": 4,
     "metadata": {},
     "output_type": "execute_result"
    }
   ],
   "source": [
    "# Imprime una muestra de los datos para las tarifas\n",
    "plans.sample(n = 2)\n"
   ]
  },
  {
   "cell_type": "markdown",
   "metadata": {
    "id": "mEc_3_hs0q02"
   },
   "source": [
    "[Describe lo que ves y observas en la información general y en la muestra de datos impresa para el precio de datos anterior. ¿Hay algún problema (tipos de datos no adecuados, datos ausentes, etc.) que pudieran necesitar investigación y cambios adicionales? ¿Cómo se puede arreglar?]\n",
    "\n",
    "Los tipos de datos se pueden corregir con el comando astype, en los casos que se requiere valores flotantes o enteros, como es el caso de los valores que se deben agregar por sobrepasar los valores dados de cada plan."
   ]
  },
  {
   "cell_type": "markdown",
   "metadata": {
    "id": "R3C05i1l0q03"
   },
   "source": [
    "## Corregir datos"
   ]
  },
  {
   "cell_type": "markdown",
   "metadata": {
    "id": "bIi8StZI0q03"
   },
   "source": [
    "[Corrige los problemas obvios con los datos basándote en las observaciones iniciales.]"
   ]
  },
  {
   "cell_type": "code",
   "execution_count": 5,
   "metadata": {
    "id": "Y7SVmjGn0q03"
   },
   "outputs": [
    {
     "name": "stdout",
     "output_type": "stream",
     "text": [
      "<class 'pandas.core.frame.DataFrame'>\n",
      "RangeIndex: 2 entries, 0 to 1\n",
      "Data columns (total 8 columns):\n",
      " #   Column                 Non-Null Count  Dtype  \n",
      "---  ------                 --------------  -----  \n",
      " 0   messages_included      2 non-null      int64  \n",
      " 1   mb_per_month_included  2 non-null      int64  \n",
      " 2   minutes_included       2 non-null      int64  \n",
      " 3   usd_monthly_pay        2 non-null      float64\n",
      " 4   usd_per_gb             2 non-null      float64\n",
      " 5   usd_per_message        2 non-null      float64\n",
      " 6   usd_per_minute         2 non-null      float64\n",
      " 7   plan_name              2 non-null      object \n",
      "dtypes: float64(4), int64(3), object(1)\n",
      "memory usage: 256.0+ bytes\n",
      "None\n"
     ]
    }
   ],
   "source": [
    "# Corregir posibles errores existentes en los tipos de datos del DataFrame\n",
    "\n",
    "plans['messages_included'] = plans['messages_included'].astype(int)\n",
    "plans['mb_per_month_included'] = plans['mb_per_month_included'].astype(int)\n",
    "plans['minutes_included'] = plans['minutes_included'].astype(int)\n",
    "plans['usd_monthly_pay'] = plans['usd_monthly_pay'].astype(float)\n",
    "plans['usd_per_gb'] = plans['usd_per_gb'].astype(float)\n",
    "plans['usd_per_minute'] = plans['usd_per_minute'].astype(float)\n",
    "plans['usd_per_message'] = plans['usd_per_message'].astype(float)\n",
    "\n",
    "\n",
    "print(plans.info())"
   ]
  },
  {
   "cell_type": "markdown",
   "metadata": {
    "id": "LJir7bml0q03"
   },
   "source": [
    "## Enriquecer los datos"
   ]
  },
  {
   "cell_type": "markdown",
   "metadata": {
    "id": "eqADpCfg0q04"
   },
   "source": [
    "[Agrega factores adicionales a los datos si crees que pudieran ser útiles.]"
   ]
  },
  {
   "cell_type": "code",
   "execution_count": 6,
   "metadata": {
    "id": "gfcIEuXV0q04"
   },
   "outputs": [
    {
     "data": {
      "text/html": [
       "<div>\n",
       "<style scoped>\n",
       "    .dataframe tbody tr th:only-of-type {\n",
       "        vertical-align: middle;\n",
       "    }\n",
       "\n",
       "    .dataframe tbody tr th {\n",
       "        vertical-align: top;\n",
       "    }\n",
       "\n",
       "    .dataframe thead th {\n",
       "        text-align: right;\n",
       "    }\n",
       "</style>\n",
       "<table border=\"1\" class=\"dataframe\">\n",
       "  <thead>\n",
       "    <tr style=\"text-align: right;\">\n",
       "      <th></th>\n",
       "      <th>messages_included</th>\n",
       "      <th>mb_per_month_included</th>\n",
       "      <th>minutes_included</th>\n",
       "      <th>usd_monthly_pay</th>\n",
       "      <th>usd_per_gb</th>\n",
       "      <th>usd_per_message</th>\n",
       "      <th>usd_per_minute</th>\n",
       "      <th>plan_name</th>\n",
       "      <th>GB_per_month_included</th>\n",
       "    </tr>\n",
       "  </thead>\n",
       "  <tbody>\n",
       "    <tr>\n",
       "      <th>0</th>\n",
       "      <td>50</td>\n",
       "      <td>15360</td>\n",
       "      <td>500</td>\n",
       "      <td>20.0</td>\n",
       "      <td>10.0</td>\n",
       "      <td>0.03</td>\n",
       "      <td>0.03</td>\n",
       "      <td>surf</td>\n",
       "      <td>15.0</td>\n",
       "    </tr>\n",
       "    <tr>\n",
       "      <th>1</th>\n",
       "      <td>1000</td>\n",
       "      <td>30720</td>\n",
       "      <td>3000</td>\n",
       "      <td>70.0</td>\n",
       "      <td>7.0</td>\n",
       "      <td>0.01</td>\n",
       "      <td>0.01</td>\n",
       "      <td>ultimate</td>\n",
       "      <td>30.0</td>\n",
       "    </tr>\n",
       "  </tbody>\n",
       "</table>\n",
       "</div>"
      ],
      "text/plain": [
       "   messages_included  mb_per_month_included  minutes_included  \\\n",
       "0                 50                  15360               500   \n",
       "1               1000                  30720              3000   \n",
       "\n",
       "   usd_monthly_pay  usd_per_gb  usd_per_message  usd_per_minute plan_name  \\\n",
       "0             20.0        10.0             0.03            0.03      surf   \n",
       "1             70.0         7.0             0.01            0.01  ultimate   \n",
       "\n",
       "   GB_per_month_included  \n",
       "0                   15.0  \n",
       "1                   30.0  "
      ]
     },
     "execution_count": 6,
     "metadata": {},
     "output_type": "execute_result"
    }
   ],
   "source": [
    "plans['GB_per_month_included'] = np.ceil(plans['mb_per_month_included'] / 1024)\n",
    "plans\n",
    "# ceil() sirve para redondear siempre hacia el número superior"
   ]
  },
  {
   "cell_type": "markdown",
   "metadata": {
    "id": "1n2X6WXf0q04"
   },
   "source": [
    "## Usuarios/as"
   ]
  },
  {
   "cell_type": "code",
   "execution_count": 7,
   "metadata": {
    "id": "2NgjWFqx0q05"
   },
   "outputs": [
    {
     "name": "stdout",
     "output_type": "stream",
     "text": [
      "<class 'pandas.core.frame.DataFrame'>\n",
      "RangeIndex: 500 entries, 0 to 499\n",
      "Data columns (total 8 columns):\n",
      " #   Column      Non-Null Count  Dtype \n",
      "---  ------      --------------  ----- \n",
      " 0   user_id     500 non-null    int64 \n",
      " 1   first_name  500 non-null    object\n",
      " 2   last_name   500 non-null    object\n",
      " 3   age         500 non-null    int64 \n",
      " 4   city        500 non-null    object\n",
      " 5   reg_date    500 non-null    object\n",
      " 6   plan        500 non-null    object\n",
      " 7   churn_date  34 non-null     object\n",
      "dtypes: int64(2), object(6)\n",
      "memory usage: 31.4+ KB\n"
     ]
    }
   ],
   "source": [
    "# Imprime la información general/resumida sobre el DataFrame de usuarios\n",
    "users.info()\n"
   ]
  },
  {
   "cell_type": "code",
   "execution_count": 8,
   "metadata": {
    "id": "1IN1L9uh0q05"
   },
   "outputs": [
    {
     "data": {
      "text/html": [
       "<div>\n",
       "<style scoped>\n",
       "    .dataframe tbody tr th:only-of-type {\n",
       "        vertical-align: middle;\n",
       "    }\n",
       "\n",
       "    .dataframe tbody tr th {\n",
       "        vertical-align: top;\n",
       "    }\n",
       "\n",
       "    .dataframe thead th {\n",
       "        text-align: right;\n",
       "    }\n",
       "</style>\n",
       "<table border=\"1\" class=\"dataframe\">\n",
       "  <thead>\n",
       "    <tr style=\"text-align: right;\">\n",
       "      <th></th>\n",
       "      <th>user_id</th>\n",
       "      <th>first_name</th>\n",
       "      <th>last_name</th>\n",
       "      <th>age</th>\n",
       "      <th>city</th>\n",
       "      <th>reg_date</th>\n",
       "      <th>plan</th>\n",
       "      <th>churn_date</th>\n",
       "    </tr>\n",
       "  </thead>\n",
       "  <tbody>\n",
       "    <tr>\n",
       "      <th>162</th>\n",
       "      <td>1162</td>\n",
       "      <td>Mark</td>\n",
       "      <td>Farley</td>\n",
       "      <td>20</td>\n",
       "      <td>Los Angeles-Long Beach-Anaheim, CA MSA</td>\n",
       "      <td>2018-07-12</td>\n",
       "      <td>ultimate</td>\n",
       "      <td>NaN</td>\n",
       "    </tr>\n",
       "    <tr>\n",
       "      <th>243</th>\n",
       "      <td>1243</td>\n",
       "      <td>Isaias</td>\n",
       "      <td>Compton</td>\n",
       "      <td>71</td>\n",
       "      <td>Phoenix-Mesa-Chandler, AZ MSA</td>\n",
       "      <td>2018-05-11</td>\n",
       "      <td>surf</td>\n",
       "      <td>NaN</td>\n",
       "    </tr>\n",
       "    <tr>\n",
       "      <th>440</th>\n",
       "      <td>1440</td>\n",
       "      <td>France</td>\n",
       "      <td>Barrett</td>\n",
       "      <td>49</td>\n",
       "      <td>Nashville-Davidson–Murfreesboro–Franklin, TN MSA</td>\n",
       "      <td>2018-04-16</td>\n",
       "      <td>surf</td>\n",
       "      <td>NaN</td>\n",
       "    </tr>\n",
       "    <tr>\n",
       "      <th>97</th>\n",
       "      <td>1097</td>\n",
       "      <td>Deandre</td>\n",
       "      <td>Powell</td>\n",
       "      <td>27</td>\n",
       "      <td>Washington-Arlington-Alexandria, DC-VA-MD-WV MSA</td>\n",
       "      <td>2018-02-26</td>\n",
       "      <td>surf</td>\n",
       "      <td>NaN</td>\n",
       "    </tr>\n",
       "    <tr>\n",
       "      <th>269</th>\n",
       "      <td>1269</td>\n",
       "      <td>Irving</td>\n",
       "      <td>Thompson</td>\n",
       "      <td>39</td>\n",
       "      <td>Dallas-Fort Worth-Arlington, TX MSA</td>\n",
       "      <td>2018-09-13</td>\n",
       "      <td>ultimate</td>\n",
       "      <td>2018-12-15</td>\n",
       "    </tr>\n",
       "    <tr>\n",
       "      <th>92</th>\n",
       "      <td>1092</td>\n",
       "      <td>Taren</td>\n",
       "      <td>Strickland</td>\n",
       "      <td>26</td>\n",
       "      <td>Dallas-Fort Worth-Arlington, TX MSA</td>\n",
       "      <td>2018-12-10</td>\n",
       "      <td>surf</td>\n",
       "      <td>NaN</td>\n",
       "    </tr>\n",
       "    <tr>\n",
       "      <th>482</th>\n",
       "      <td>1482</td>\n",
       "      <td>Armand</td>\n",
       "      <td>Glenn</td>\n",
       "      <td>70</td>\n",
       "      <td>New York-Newark-Jersey City, NY-NJ-PA MSA</td>\n",
       "      <td>2018-01-01</td>\n",
       "      <td>ultimate</td>\n",
       "      <td>NaN</td>\n",
       "    </tr>\n",
       "    <tr>\n",
       "      <th>105</th>\n",
       "      <td>1105</td>\n",
       "      <td>Micheal</td>\n",
       "      <td>Poole</td>\n",
       "      <td>57</td>\n",
       "      <td>Providence-Warwick, RI-MA MSA</td>\n",
       "      <td>2018-01-08</td>\n",
       "      <td>surf</td>\n",
       "      <td>NaN</td>\n",
       "    </tr>\n",
       "    <tr>\n",
       "      <th>202</th>\n",
       "      <td>1202</td>\n",
       "      <td>Osvaldo</td>\n",
       "      <td>Mayer</td>\n",
       "      <td>36</td>\n",
       "      <td>Minneapolis-St. Paul-Bloomington, MN-WI MSA</td>\n",
       "      <td>2018-09-30</td>\n",
       "      <td>ultimate</td>\n",
       "      <td>NaN</td>\n",
       "    </tr>\n",
       "    <tr>\n",
       "      <th>12</th>\n",
       "      <td>1012</td>\n",
       "      <td>Jonelle</td>\n",
       "      <td>Mcbride</td>\n",
       "      <td>59</td>\n",
       "      <td>Chicago-Naperville-Elgin, IL-IN-WI MSA</td>\n",
       "      <td>2018-06-28</td>\n",
       "      <td>surf</td>\n",
       "      <td>2018-11-16</td>\n",
       "    </tr>\n",
       "  </tbody>\n",
       "</table>\n",
       "</div>"
      ],
      "text/plain": [
       "     user_id first_name   last_name  age  \\\n",
       "162     1162       Mark      Farley   20   \n",
       "243     1243     Isaias     Compton   71   \n",
       "440     1440     France     Barrett   49   \n",
       "97      1097    Deandre      Powell   27   \n",
       "269     1269     Irving    Thompson   39   \n",
       "92      1092      Taren  Strickland   26   \n",
       "482     1482     Armand       Glenn   70   \n",
       "105     1105    Micheal       Poole   57   \n",
       "202     1202    Osvaldo       Mayer   36   \n",
       "12      1012    Jonelle     Mcbride   59   \n",
       "\n",
       "                                                 city    reg_date      plan  \\\n",
       "162            Los Angeles-Long Beach-Anaheim, CA MSA  2018-07-12  ultimate   \n",
       "243                     Phoenix-Mesa-Chandler, AZ MSA  2018-05-11      surf   \n",
       "440  Nashville-Davidson–Murfreesboro–Franklin, TN MSA  2018-04-16      surf   \n",
       "97   Washington-Arlington-Alexandria, DC-VA-MD-WV MSA  2018-02-26      surf   \n",
       "269               Dallas-Fort Worth-Arlington, TX MSA  2018-09-13  ultimate   \n",
       "92                Dallas-Fort Worth-Arlington, TX MSA  2018-12-10      surf   \n",
       "482         New York-Newark-Jersey City, NY-NJ-PA MSA  2018-01-01  ultimate   \n",
       "105                     Providence-Warwick, RI-MA MSA  2018-01-08      surf   \n",
       "202       Minneapolis-St. Paul-Bloomington, MN-WI MSA  2018-09-30  ultimate   \n",
       "12             Chicago-Naperville-Elgin, IL-IN-WI MSA  2018-06-28      surf   \n",
       "\n",
       "     churn_date  \n",
       "162         NaN  \n",
       "243         NaN  \n",
       "440         NaN  \n",
       "97          NaN  \n",
       "269  2018-12-15  \n",
       "92          NaN  \n",
       "482         NaN  \n",
       "105         NaN  \n",
       "202         NaN  \n",
       "12   2018-11-16  "
      ]
     },
     "execution_count": 8,
     "metadata": {},
     "output_type": "execute_result"
    }
   ],
   "source": [
    "# Imprime una muestra de datos para usuarios\n",
    "users.sample(n = 10)\n"
   ]
  },
  {
   "cell_type": "markdown",
   "metadata": {
    "id": "dCZoUq4f0q06"
   },
   "source": [
    "[Describe lo que ves y observas en la información general y en la muestra de datos impresa para el precio de datos anterior. ¿Hay algún problema (tipos de datos no adecuados, datos ausentes, etc.) que pudieran necesitar investigación y cambios adicionales? ¿Cómo se puede arreglar?]\n",
    "\n",
    "Los tipos de datos se pueden corregir con el comando astype, en los casos que se requiere valores flotantes o enteros. También se debe poner los datos de fechas en formato datetime para que no surjan problemas mas adelante en el proyecto. Como punto adicional, se puede agregar columnas para tener como referencia los dias que los usuarios han estado dentro de un plan, la antiguedad de los mismos que se puede categorizar, y los grupos de edad de los usuarios partiendo de la información necesaria que ya tenemos."
   ]
  },
  {
   "cell_type": "markdown",
   "metadata": {
    "id": "BX5FQh_I0q06"
   },
   "source": [
    "### Corregir los datos"
   ]
  },
  {
   "cell_type": "markdown",
   "metadata": {
    "id": "8OdKMwJv0q06"
   },
   "source": [
    "[Corrige los problemas obvios con los datos basándote en las observaciones iniciales.]"
   ]
  },
  {
   "cell_type": "code",
   "execution_count": 9,
   "metadata": {
    "id": "yUqX-K0C0q07"
   },
   "outputs": [
    {
     "data": {
      "text/html": [
       "<div>\n",
       "<style scoped>\n",
       "    .dataframe tbody tr th:only-of-type {\n",
       "        vertical-align: middle;\n",
       "    }\n",
       "\n",
       "    .dataframe tbody tr th {\n",
       "        vertical-align: top;\n",
       "    }\n",
       "\n",
       "    .dataframe thead th {\n",
       "        text-align: right;\n",
       "    }\n",
       "</style>\n",
       "<table border=\"1\" class=\"dataframe\">\n",
       "  <thead>\n",
       "    <tr style=\"text-align: right;\">\n",
       "      <th></th>\n",
       "      <th>user_id</th>\n",
       "      <th>first_name</th>\n",
       "      <th>last_name</th>\n",
       "      <th>age</th>\n",
       "      <th>city</th>\n",
       "      <th>reg_date</th>\n",
       "      <th>plan</th>\n",
       "      <th>churn_date</th>\n",
       "    </tr>\n",
       "  </thead>\n",
       "  <tbody>\n",
       "    <tr>\n",
       "      <th>358</th>\n",
       "      <td>1358</td>\n",
       "      <td>Vaughn</td>\n",
       "      <td>Maldonado</td>\n",
       "      <td>20</td>\n",
       "      <td>New York-Newark-Jersey City, NY-NJ-PA MSA</td>\n",
       "      <td>2018-04-26</td>\n",
       "      <td>surf</td>\n",
       "      <td>2018-10-22</td>\n",
       "    </tr>\n",
       "    <tr>\n",
       "      <th>316</th>\n",
       "      <td>1316</td>\n",
       "      <td>Lucilla</td>\n",
       "      <td>Weeks</td>\n",
       "      <td>59</td>\n",
       "      <td>Tulsa, OK MSA</td>\n",
       "      <td>2018-05-21</td>\n",
       "      <td>surf</td>\n",
       "      <td>NaT</td>\n",
       "    </tr>\n",
       "    <tr>\n",
       "      <th>134</th>\n",
       "      <td>1134</td>\n",
       "      <td>Shannon</td>\n",
       "      <td>Nichols</td>\n",
       "      <td>71</td>\n",
       "      <td>Chicago-Naperville-Elgin, IL-IN-WI MSA</td>\n",
       "      <td>2018-09-03</td>\n",
       "      <td>surf</td>\n",
       "      <td>NaT</td>\n",
       "    </tr>\n",
       "    <tr>\n",
       "      <th>269</th>\n",
       "      <td>1269</td>\n",
       "      <td>Irving</td>\n",
       "      <td>Thompson</td>\n",
       "      <td>39</td>\n",
       "      <td>Dallas-Fort Worth-Arlington, TX MSA</td>\n",
       "      <td>2018-09-13</td>\n",
       "      <td>ultimate</td>\n",
       "      <td>2018-12-15</td>\n",
       "    </tr>\n",
       "    <tr>\n",
       "      <th>159</th>\n",
       "      <td>1159</td>\n",
       "      <td>Dierdre</td>\n",
       "      <td>Baker</td>\n",
       "      <td>58</td>\n",
       "      <td>Miami-Fort Lauderdale-West Palm Beach, FL MSA</td>\n",
       "      <td>2018-07-21</td>\n",
       "      <td>ultimate</td>\n",
       "      <td>NaT</td>\n",
       "    </tr>\n",
       "  </tbody>\n",
       "</table>\n",
       "</div>"
      ],
      "text/plain": [
       "     user_id first_name  last_name  age  \\\n",
       "358     1358     Vaughn  Maldonado   20   \n",
       "316     1316    Lucilla      Weeks   59   \n",
       "134     1134    Shannon    Nichols   71   \n",
       "269     1269     Irving   Thompson   39   \n",
       "159     1159    Dierdre      Baker   58   \n",
       "\n",
       "                                              city   reg_date      plan  \\\n",
       "358      New York-Newark-Jersey City, NY-NJ-PA MSA 2018-04-26      surf   \n",
       "316                                  Tulsa, OK MSA 2018-05-21      surf   \n",
       "134         Chicago-Naperville-Elgin, IL-IN-WI MSA 2018-09-03      surf   \n",
       "269            Dallas-Fort Worth-Arlington, TX MSA 2018-09-13  ultimate   \n",
       "159  Miami-Fort Lauderdale-West Palm Beach, FL MSA 2018-07-21  ultimate   \n",
       "\n",
       "    churn_date  \n",
       "358 2018-10-22  \n",
       "316        NaT  \n",
       "134        NaT  \n",
       "269 2018-12-15  \n",
       "159        NaT  "
      ]
     },
     "execution_count": 9,
     "metadata": {},
     "output_type": "execute_result"
    }
   ],
   "source": [
    "# Convertir 'reg_date' y 'churn_date' a formato de fecha si están en el CSV\n",
    "users['reg_date'] = pd.to_datetime(users['reg_date'], errors='coerce')\n",
    "users['churn_date'] = pd.to_datetime(users['churn_date'], errors='coerce')\n",
    "\n",
    "# Aseguramos que 'user_id' sea un entero\n",
    "users['user_id'] = users['user_id'].astype(int)\n",
    "\n",
    "# Aseguramos que 'age' sea un entero\n",
    "users['age'] = users['age'].astype(int)\n",
    "\n",
    "users.sample(n = 5)\n",
    "\n"
   ]
  },
  {
   "cell_type": "markdown",
   "metadata": {
    "id": "ycwuARJp0q07"
   },
   "source": [
    "### Enriquecer los datos"
   ]
  },
  {
   "cell_type": "markdown",
   "metadata": {
    "id": "96NIh4CJ0q08"
   },
   "source": [
    "[Agrega factores adicionales a los datos si crees que pudieran ser útiles.]"
   ]
  },
  {
   "cell_type": "code",
   "execution_count": 10,
   "metadata": {
    "id": "iq0AaBS90q08"
   },
   "outputs": [
    {
     "name": "stdout",
     "output_type": "stream",
     "text": [
      "Información general del dataframe de usuarios después de las correcciones y adiciones:\n",
      "\n",
      "<class 'pandas.core.frame.DataFrame'>\n",
      "RangeIndex: 500 entries, 0 to 499\n",
      "Data columns (total 12 columns):\n",
      " #   Column                 Non-Null Count  Dtype         \n",
      "---  ------                 --------------  -----         \n",
      " 0   user_id                500 non-null    int64         \n",
      " 1   first_name             500 non-null    object        \n",
      " 2   last_name              500 non-null    object        \n",
      " 3   age                    500 non-null    int64         \n",
      " 4   city                   500 non-null    object        \n",
      " 5   reg_date               500 non-null    datetime64[ns]\n",
      " 6   plan                   500 non-null    object        \n",
      " 7   churn_date             34 non-null     datetime64[ns]\n",
      " 8   subscription_duration  500 non-null    int64         \n",
      " 9   subscription_status    500 non-null    object        \n",
      " 10  age_group              500 non-null    object        \n",
      " 11  user_tenure            500 non-null    object        \n",
      "dtypes: datetime64[ns](2), int64(3), object(7)\n",
      "memory usage: 47.0+ KB\n",
      "\n",
      "Muestra de los datos del dataframe de usuarios después de las correcciones y adiciones:\n",
      "\n"
     ]
    },
    {
     "data": {
      "text/html": [
       "<div>\n",
       "<style scoped>\n",
       "    .dataframe tbody tr th:only-of-type {\n",
       "        vertical-align: middle;\n",
       "    }\n",
       "\n",
       "    .dataframe tbody tr th {\n",
       "        vertical-align: top;\n",
       "    }\n",
       "\n",
       "    .dataframe thead th {\n",
       "        text-align: right;\n",
       "    }\n",
       "</style>\n",
       "<table border=\"1\" class=\"dataframe\">\n",
       "  <thead>\n",
       "    <tr style=\"text-align: right;\">\n",
       "      <th></th>\n",
       "      <th>user_id</th>\n",
       "      <th>first_name</th>\n",
       "      <th>last_name</th>\n",
       "      <th>age</th>\n",
       "      <th>city</th>\n",
       "      <th>reg_date</th>\n",
       "      <th>plan</th>\n",
       "      <th>churn_date</th>\n",
       "      <th>subscription_duration</th>\n",
       "      <th>subscription_status</th>\n",
       "      <th>age_group</th>\n",
       "      <th>user_tenure</th>\n",
       "    </tr>\n",
       "  </thead>\n",
       "  <tbody>\n",
       "    <tr>\n",
       "      <th>124</th>\n",
       "      <td>1124</td>\n",
       "      <td>Jenell</td>\n",
       "      <td>Navarro</td>\n",
       "      <td>48</td>\n",
       "      <td>New Haven-Milford, CT MSA</td>\n",
       "      <td>2018-02-19</td>\n",
       "      <td>ultimate</td>\n",
       "      <td>NaT</td>\n",
       "      <td>2357</td>\n",
       "      <td>Active</td>\n",
       "      <td>Adult</td>\n",
       "      <td>Veteran</td>\n",
       "    </tr>\n",
       "    <tr>\n",
       "      <th>327</th>\n",
       "      <td>1327</td>\n",
       "      <td>Natosha</td>\n",
       "      <td>Peck</td>\n",
       "      <td>20</td>\n",
       "      <td>New York-Newark-Jersey City, NY-NJ-PA MSA</td>\n",
       "      <td>2018-02-17</td>\n",
       "      <td>surf</td>\n",
       "      <td>NaT</td>\n",
       "      <td>2359</td>\n",
       "      <td>Active</td>\n",
       "      <td>Young</td>\n",
       "      <td>Veteran</td>\n",
       "    </tr>\n",
       "    <tr>\n",
       "      <th>253</th>\n",
       "      <td>1253</td>\n",
       "      <td>Sumiko</td>\n",
       "      <td>Dudley</td>\n",
       "      <td>28</td>\n",
       "      <td>Cleveland-Elyria, OH MSA</td>\n",
       "      <td>2018-08-18</td>\n",
       "      <td>ultimate</td>\n",
       "      <td>NaT</td>\n",
       "      <td>2177</td>\n",
       "      <td>Active</td>\n",
       "      <td>Adult</td>\n",
       "      <td>Veteran</td>\n",
       "    </tr>\n",
       "    <tr>\n",
       "      <th>89</th>\n",
       "      <td>1089</td>\n",
       "      <td>Malena</td>\n",
       "      <td>Kelley</td>\n",
       "      <td>70</td>\n",
       "      <td>Philadelphia-Camden-Wilmington, PA-NJ-DE-MD MSA</td>\n",
       "      <td>2018-09-03</td>\n",
       "      <td>surf</td>\n",
       "      <td>NaT</td>\n",
       "      <td>2161</td>\n",
       "      <td>Active</td>\n",
       "      <td>Senior</td>\n",
       "      <td>Veteran</td>\n",
       "    </tr>\n",
       "    <tr>\n",
       "      <th>498</th>\n",
       "      <td>1498</td>\n",
       "      <td>Scot</td>\n",
       "      <td>Williamson</td>\n",
       "      <td>51</td>\n",
       "      <td>New York-Newark-Jersey City, NY-NJ-PA MSA</td>\n",
       "      <td>2018-02-04</td>\n",
       "      <td>surf</td>\n",
       "      <td>NaT</td>\n",
       "      <td>2372</td>\n",
       "      <td>Active</td>\n",
       "      <td>Senior</td>\n",
       "      <td>Veteran</td>\n",
       "    </tr>\n",
       "  </tbody>\n",
       "</table>\n",
       "</div>"
      ],
      "text/plain": [
       "     user_id first_name   last_name  age  \\\n",
       "124     1124     Jenell     Navarro   48   \n",
       "327     1327    Natosha        Peck   20   \n",
       "253     1253     Sumiko      Dudley   28   \n",
       "89      1089     Malena      Kelley   70   \n",
       "498     1498       Scot  Williamson   51   \n",
       "\n",
       "                                                city   reg_date      plan  \\\n",
       "124                        New Haven-Milford, CT MSA 2018-02-19  ultimate   \n",
       "327        New York-Newark-Jersey City, NY-NJ-PA MSA 2018-02-17      surf   \n",
       "253                         Cleveland-Elyria, OH MSA 2018-08-18  ultimate   \n",
       "89   Philadelphia-Camden-Wilmington, PA-NJ-DE-MD MSA 2018-09-03      surf   \n",
       "498        New York-Newark-Jersey City, NY-NJ-PA MSA 2018-02-04      surf   \n",
       "\n",
       "    churn_date  subscription_duration subscription_status age_group  \\\n",
       "124        NaT                   2357              Active     Adult   \n",
       "327        NaT                   2359              Active     Young   \n",
       "253        NaT                   2177              Active     Adult   \n",
       "89         NaT                   2161              Active    Senior   \n",
       "498        NaT                   2372              Active    Senior   \n",
       "\n",
       "    user_tenure  \n",
       "124     Veteran  \n",
       "327     Veteran  \n",
       "253     Veteran  \n",
       "89      Veteran  \n",
       "498     Veteran  "
      ]
     },
     "execution_count": 10,
     "metadata": {},
     "output_type": "execute_result"
    }
   ],
   "source": [
    "# Añadir factor adicional: Duración de la suscripción (en días)\n",
    "users['subscription_duration'] = (users['churn_date'].fillna(pd.Timestamp(\"now\")) - users['reg_date']).dt.days\n",
    "\n",
    "# Añadir factor adicional: Estado de suscripción\n",
    "users['subscription_status'] = users['churn_date'].apply(lambda x: 'Active' if pd.isna(x) else 'Churned')\n",
    "\n",
    "# Añadir factor adicional: Grupos de edad\n",
    "def categorize_age(age):\n",
    "    if age < 25:\n",
    "        return 'Young'\n",
    "    elif age < 50:\n",
    "        return 'Adult'\n",
    "    else:\n",
    "        return 'Senior'\n",
    "\n",
    "users['age_group'] = users['age'].apply(categorize_age)\n",
    "\n",
    "# Añadir factor adicional: Antigüedad del usuario (categorías basadas en la duración de la suscripción)\n",
    "def categorize_duration(days):\n",
    "    if days < 180:\n",
    "        return 'New'\n",
    "    elif days < 365:\n",
    "        return 'Intermediate'\n",
    "    else:\n",
    "        return 'Veteran'\n",
    "\n",
    "users['user_tenure'] = users['subscription_duration'].apply(categorize_duration)\n",
    "\n",
    "# Imprimir la información general del dataframe después de las correcciones y adiciones\n",
    "print(\"Información general del dataframe de usuarios después de las correcciones y adiciones:\\n\")\n",
    "users.info()\n",
    "\n",
    "# Imprimir una muestra aleatoria de los datos del dataframe de usuarios\n",
    "print(\"\\nMuestra de los datos del dataframe de usuarios después de las correcciones y adiciones:\\n\")\n",
    "users.sample(n =  5)  \n"
   ]
  },
  {
   "cell_type": "markdown",
   "metadata": {
    "id": "o7MeKCid0q08"
   },
   "source": [
    "## Llamadas"
   ]
  },
  {
   "cell_type": "code",
   "execution_count": 11,
   "metadata": {
    "id": "6dDlnoDm0q08"
   },
   "outputs": [
    {
     "name": "stdout",
     "output_type": "stream",
     "text": [
      "<class 'pandas.core.frame.DataFrame'>\n",
      "RangeIndex: 137735 entries, 0 to 137734\n",
      "Data columns (total 4 columns):\n",
      " #   Column     Non-Null Count   Dtype  \n",
      "---  ------     --------------   -----  \n",
      " 0   id         137735 non-null  object \n",
      " 1   user_id    137735 non-null  int64  \n",
      " 2   call_date  137735 non-null  object \n",
      " 3   duration   137735 non-null  float64\n",
      "dtypes: float64(1), int64(1), object(2)\n",
      "memory usage: 4.2+ MB\n"
     ]
    }
   ],
   "source": [
    "# Imprime la información general/resumida sobre el DataFrame de las llamadas\n",
    "calls.info()\n"
   ]
  },
  {
   "cell_type": "code",
   "execution_count": 12,
   "metadata": {
    "id": "kuh1vlNB0q09"
   },
   "outputs": [
    {
     "data": {
      "text/html": [
       "<div>\n",
       "<style scoped>\n",
       "    .dataframe tbody tr th:only-of-type {\n",
       "        vertical-align: middle;\n",
       "    }\n",
       "\n",
       "    .dataframe tbody tr th {\n",
       "        vertical-align: top;\n",
       "    }\n",
       "\n",
       "    .dataframe thead th {\n",
       "        text-align: right;\n",
       "    }\n",
       "</style>\n",
       "<table border=\"1\" class=\"dataframe\">\n",
       "  <thead>\n",
       "    <tr style=\"text-align: right;\">\n",
       "      <th></th>\n",
       "      <th>id</th>\n",
       "      <th>user_id</th>\n",
       "      <th>call_date</th>\n",
       "      <th>duration</th>\n",
       "    </tr>\n",
       "  </thead>\n",
       "  <tbody>\n",
       "    <tr>\n",
       "      <th>21129</th>\n",
       "      <td>1077_1096</td>\n",
       "      <td>1077</td>\n",
       "      <td>2018-08-03</td>\n",
       "      <td>7.35</td>\n",
       "    </tr>\n",
       "    <tr>\n",
       "      <th>69970</th>\n",
       "      <td>1250_200</td>\n",
       "      <td>1250</td>\n",
       "      <td>2018-12-19</td>\n",
       "      <td>9.36</td>\n",
       "    </tr>\n",
       "    <tr>\n",
       "      <th>71984</th>\n",
       "      <td>1256_8</td>\n",
       "      <td>1256</td>\n",
       "      <td>2018-10-23</td>\n",
       "      <td>7.25</td>\n",
       "    </tr>\n",
       "    <tr>\n",
       "      <th>75465</th>\n",
       "      <td>1267_187</td>\n",
       "      <td>1267</td>\n",
       "      <td>2018-12-22</td>\n",
       "      <td>12.74</td>\n",
       "    </tr>\n",
       "    <tr>\n",
       "      <th>107568</th>\n",
       "      <td>1382_195</td>\n",
       "      <td>1382</td>\n",
       "      <td>2018-08-27</td>\n",
       "      <td>16.51</td>\n",
       "    </tr>\n",
       "  </tbody>\n",
       "</table>\n",
       "</div>"
      ],
      "text/plain": [
       "               id  user_id   call_date  duration\n",
       "21129   1077_1096     1077  2018-08-03      7.35\n",
       "69970    1250_200     1250  2018-12-19      9.36\n",
       "71984      1256_8     1256  2018-10-23      7.25\n",
       "75465    1267_187     1267  2018-12-22     12.74\n",
       "107568   1382_195     1382  2018-08-27     16.51"
      ]
     },
     "execution_count": 12,
     "metadata": {},
     "output_type": "execute_result"
    }
   ],
   "source": [
    "# Imprime una muestra de datos para las llamadas\n",
    "calls.sample(n = 5)\n"
   ]
  },
  {
   "cell_type": "markdown",
   "metadata": {
    "id": "DOAxYJSx0q09"
   },
   "source": [
    "[Describe lo que ves y observas en la información general y en la muestra de datos impresa para el precio de datos anterior. ¿Hay algún problema (tipos de datos no adecuados, datos ausentes, etc.) que pudieran necesitar investigación y cambios adicionales? ¿Cómo se puede arreglar?]\n",
    "\n",
    "Los tipos de datos se pueden corregir con el comando astype, en los casos que se requiere valores flotantes o enteros. También se debe poner los datos de fechas en formato datetime para que no surjan problemas mas adelante en el proyecto. Como punto adicional, se puede agregar columnas para tener como referencia una duración redondeada de las llamadas, y las fechas por dia y por mes que pueden ser útiles mas adelante."
   ]
  },
  {
   "cell_type": "markdown",
   "metadata": {
    "id": "S7hzxmbX0q0-"
   },
   "source": [
    "### Corregir los datos"
   ]
  },
  {
   "cell_type": "markdown",
   "metadata": {
    "id": "YxWyAjD20q0-"
   },
   "source": [
    "[Corrige los problemas obvios con los datos basándote en las observaciones iniciales.]"
   ]
  },
  {
   "cell_type": "code",
   "execution_count": 13,
   "metadata": {
    "id": "S2r8xA4f0q0-"
   },
   "outputs": [
    {
     "name": "stdout",
     "output_type": "stream",
     "text": [
      "Información general del dataframe de llamadas después de las correcciones:\n",
      "\n",
      "<class 'pandas.core.frame.DataFrame'>\n",
      "RangeIndex: 137735 entries, 0 to 137734\n",
      "Data columns (total 4 columns):\n",
      " #   Column     Non-Null Count   Dtype         \n",
      "---  ------     --------------   -----         \n",
      " 0   id         137735 non-null  int64         \n",
      " 1   user_id    137735 non-null  int64         \n",
      " 2   call_date  137735 non-null  datetime64[ns]\n",
      " 3   duration   137735 non-null  float64       \n",
      "dtypes: datetime64[ns](1), float64(1), int64(2)\n",
      "memory usage: 4.2 MB\n",
      "\n",
      "Muestra de los datos del dataframe de llamadas después de las correcciones:\n",
      "\n"
     ]
    },
    {
     "data": {
      "text/html": [
       "<div>\n",
       "<style scoped>\n",
       "    .dataframe tbody tr th:only-of-type {\n",
       "        vertical-align: middle;\n",
       "    }\n",
       "\n",
       "    .dataframe tbody tr th {\n",
       "        vertical-align: top;\n",
       "    }\n",
       "\n",
       "    .dataframe thead th {\n",
       "        text-align: right;\n",
       "    }\n",
       "</style>\n",
       "<table border=\"1\" class=\"dataframe\">\n",
       "  <thead>\n",
       "    <tr style=\"text-align: right;\">\n",
       "      <th></th>\n",
       "      <th>id</th>\n",
       "      <th>user_id</th>\n",
       "      <th>call_date</th>\n",
       "      <th>duration</th>\n",
       "    </tr>\n",
       "  </thead>\n",
       "  <tbody>\n",
       "    <tr>\n",
       "      <th>40783</th>\n",
       "      <td>1150649</td>\n",
       "      <td>1150</td>\n",
       "      <td>2018-12-15</td>\n",
       "      <td>13.12</td>\n",
       "    </tr>\n",
       "    <tr>\n",
       "      <th>11916</th>\n",
       "      <td>1052135</td>\n",
       "      <td>1052</td>\n",
       "      <td>2018-11-25</td>\n",
       "      <td>11.24</td>\n",
       "    </tr>\n",
       "    <tr>\n",
       "      <th>98859</th>\n",
       "      <td>1354293</td>\n",
       "      <td>1354</td>\n",
       "      <td>2018-11-04</td>\n",
       "      <td>0.00</td>\n",
       "    </tr>\n",
       "    <tr>\n",
       "      <th>54417</th>\n",
       "      <td>1196302</td>\n",
       "      <td>1196</td>\n",
       "      <td>2018-03-27</td>\n",
       "      <td>0.45</td>\n",
       "    </tr>\n",
       "    <tr>\n",
       "      <th>33156</th>\n",
       "      <td>112410</td>\n",
       "      <td>1124</td>\n",
       "      <td>2018-10-20</td>\n",
       "      <td>8.65</td>\n",
       "    </tr>\n",
       "  </tbody>\n",
       "</table>\n",
       "</div>"
      ],
      "text/plain": [
       "            id  user_id  call_date  duration\n",
       "40783  1150649     1150 2018-12-15     13.12\n",
       "11916  1052135     1052 2018-11-25     11.24\n",
       "98859  1354293     1354 2018-11-04      0.00\n",
       "54417  1196302     1196 2018-03-27      0.45\n",
       "33156   112410     1124 2018-10-20      8.65"
      ]
     },
     "execution_count": 13,
     "metadata": {},
     "output_type": "execute_result"
    }
   ],
   "source": [
    "# Convertir 'call_date' a formato de fecha\n",
    "calls['call_date'] = pd.to_datetime(calls['call_date'], errors='coerce')\n",
    "\n",
    "# Asegurarnos de que 'duration' sea un valor numérico y manejar valores nulos\n",
    "calls['duration'] = pd.to_numeric(calls['duration'], errors='coerce')\n",
    "\n",
    "# Asegurarnos de que 'user_id' y 'id' sean enteros\n",
    "calls['user_id'] = calls['user_id'].astype(int, errors='ignore')\n",
    "calls['id'] = calls['id'].astype(int, errors='ignore')\n",
    "\n",
    "# Imprimir la información general del dataframe después de las correcciones\n",
    "print(\"Información general del dataframe de llamadas después de las correcciones:\\n\")\n",
    "calls.info()\n",
    "\n",
    "# Imprimir una muestra aleatoria de los datos del dataframe de llamadas\n",
    "print(\"\\nMuestra de los datos del dataframe de llamadas después de las correcciones:\\n\")\n",
    "calls.sample(n = 5)"
   ]
  },
  {
   "cell_type": "markdown",
   "metadata": {
    "id": "KrMgTrlG0q0_"
   },
   "source": [
    "### Enriquecer los datos"
   ]
  },
  {
   "cell_type": "markdown",
   "metadata": {
    "id": "a9MbmEvE0q0_"
   },
   "source": [
    "[Agrega factores adicionales a los datos si crees que pudieran ser útiles.]"
   ]
  },
  {
   "cell_type": "code",
   "execution_count": 14,
   "metadata": {
    "id": "iZ1avpA_0q0_"
   },
   "outputs": [
    {
     "name": "stdout",
     "output_type": "stream",
     "text": [
      "Información general del dataframe de llamadas después de las correcciones y adiciones:\n",
      "\n",
      "<class 'pandas.core.frame.DataFrame'>\n",
      "RangeIndex: 137735 entries, 0 to 137734\n",
      "Data columns (total 7 columns):\n",
      " #   Column            Non-Null Count   Dtype         \n",
      "---  ------            --------------   -----         \n",
      " 0   id                137735 non-null  int64         \n",
      " 1   user_id           137735 non-null  int64         \n",
      " 2   call_date         137735 non-null  datetime64[ns]\n",
      " 3   duration          137735 non-null  float64       \n",
      " 4   duration_rounded  137735 non-null  int64         \n",
      " 5   call_day_of_week  137735 non-null  object        \n",
      " 6   month             137735 non-null  object        \n",
      "dtypes: datetime64[ns](1), float64(1), int64(3), object(2)\n",
      "memory usage: 7.4+ MB\n",
      "\n",
      "Muestra de los datos del dataframe de llamadas después de las correcciones y adiciones:\n",
      "\n"
     ]
    },
    {
     "data": {
      "text/html": [
       "<div>\n",
       "<style scoped>\n",
       "    .dataframe tbody tr th:only-of-type {\n",
       "        vertical-align: middle;\n",
       "    }\n",
       "\n",
       "    .dataframe tbody tr th {\n",
       "        vertical-align: top;\n",
       "    }\n",
       "\n",
       "    .dataframe thead th {\n",
       "        text-align: right;\n",
       "    }\n",
       "</style>\n",
       "<table border=\"1\" class=\"dataframe\">\n",
       "  <thead>\n",
       "    <tr style=\"text-align: right;\">\n",
       "      <th></th>\n",
       "      <th>id</th>\n",
       "      <th>user_id</th>\n",
       "      <th>call_date</th>\n",
       "      <th>duration</th>\n",
       "      <th>duration_rounded</th>\n",
       "      <th>call_day_of_week</th>\n",
       "      <th>month</th>\n",
       "    </tr>\n",
       "  </thead>\n",
       "  <tbody>\n",
       "    <tr>\n",
       "      <th>66084</th>\n",
       "      <td>1239167</td>\n",
       "      <td>1239</td>\n",
       "      <td>2018-10-28</td>\n",
       "      <td>9.48</td>\n",
       "      <td>10</td>\n",
       "      <td>Sunday</td>\n",
       "      <td>October</td>\n",
       "    </tr>\n",
       "    <tr>\n",
       "      <th>128363</th>\n",
       "      <td>1460502</td>\n",
       "      <td>1460</td>\n",
       "      <td>2018-07-12</td>\n",
       "      <td>9.72</td>\n",
       "      <td>10</td>\n",
       "      <td>Thursday</td>\n",
       "      <td>July</td>\n",
       "    </tr>\n",
       "    <tr>\n",
       "      <th>55085</th>\n",
       "      <td>119735</td>\n",
       "      <td>1197</td>\n",
       "      <td>2018-12-26</td>\n",
       "      <td>4.58</td>\n",
       "      <td>5</td>\n",
       "      <td>Wednesday</td>\n",
       "      <td>December</td>\n",
       "    </tr>\n",
       "    <tr>\n",
       "      <th>98860</th>\n",
       "      <td>1354295</td>\n",
       "      <td>1354</td>\n",
       "      <td>2018-11-27</td>\n",
       "      <td>2.16</td>\n",
       "      <td>3</td>\n",
       "      <td>Tuesday</td>\n",
       "      <td>November</td>\n",
       "    </tr>\n",
       "    <tr>\n",
       "      <th>41120</th>\n",
       "      <td>1151298</td>\n",
       "      <td>1151</td>\n",
       "      <td>2018-12-03</td>\n",
       "      <td>0.91</td>\n",
       "      <td>1</td>\n",
       "      <td>Monday</td>\n",
       "      <td>December</td>\n",
       "    </tr>\n",
       "  </tbody>\n",
       "</table>\n",
       "</div>"
      ],
      "text/plain": [
       "             id  user_id  call_date  duration  duration_rounded  \\\n",
       "66084   1239167     1239 2018-10-28      9.48                10   \n",
       "128363  1460502     1460 2018-07-12      9.72                10   \n",
       "55085    119735     1197 2018-12-26      4.58                 5   \n",
       "98860   1354295     1354 2018-11-27      2.16                 3   \n",
       "41120   1151298     1151 2018-12-03      0.91                 1   \n",
       "\n",
       "       call_day_of_week     month  \n",
       "66084            Sunday   October  \n",
       "128363         Thursday      July  \n",
       "55085         Wednesday  December  \n",
       "98860           Tuesday  November  \n",
       "41120            Monday  December  "
      ]
     },
     "execution_count": 14,
     "metadata": {},
     "output_type": "execute_result"
    }
   ],
   "source": [
    "# Añadir factor adicional: Duración de la llamada redondeada\n",
    "calls['duration_rounded'] = np.ceil(calls['duration']).astype(int)\n",
    "\n",
    "# Añadir factor adicional: Día de la semana de la llamada\n",
    "calls['call_day_of_week'] = calls['call_date'].dt.day_name()\n",
    "\n",
    "# Añadir factor adicional: Mes de la llamada\n",
    "calls['month'] = calls['call_date'].dt.month_name()\n",
    "\n",
    "# Imprimir la información general del dataframe después de las correcciones y adiciones\n",
    "print(\"Información general del dataframe de llamadas después de las correcciones y adiciones:\\n\")\n",
    "calls.info()\n",
    "\n",
    "# Imprimir una muestra aleatoria de los datos del dataframe de llamadas\n",
    "print(\"\\nMuestra de los datos del dataframe de llamadas después de las correcciones y adiciones:\\n\")\n",
    "calls.sample(n = 5)"
   ]
  },
  {
   "cell_type": "markdown",
   "metadata": {
    "id": "mOUZSi180q0_"
   },
   "source": [
    "## Mensajes"
   ]
  },
  {
   "cell_type": "code",
   "execution_count": 15,
   "metadata": {
    "id": "R-bYJpdV0q1A"
   },
   "outputs": [
    {
     "name": "stdout",
     "output_type": "stream",
     "text": [
      "<class 'pandas.core.frame.DataFrame'>\n",
      "RangeIndex: 76051 entries, 0 to 76050\n",
      "Data columns (total 3 columns):\n",
      " #   Column        Non-Null Count  Dtype \n",
      "---  ------        --------------  ----- \n",
      " 0   id            76051 non-null  object\n",
      " 1   user_id       76051 non-null  int64 \n",
      " 2   message_date  76051 non-null  object\n",
      "dtypes: int64(1), object(2)\n",
      "memory usage: 1.7+ MB\n"
     ]
    }
   ],
   "source": [
    "# Imprime la información general/resumida sobre el DataFrame de los mensajes\n",
    "messages.info()\n"
   ]
  },
  {
   "cell_type": "code",
   "execution_count": 16,
   "metadata": {
    "id": "mCEl2iGE0q1A"
   },
   "outputs": [
    {
     "data": {
      "text/html": [
       "<div>\n",
       "<style scoped>\n",
       "    .dataframe tbody tr th:only-of-type {\n",
       "        vertical-align: middle;\n",
       "    }\n",
       "\n",
       "    .dataframe tbody tr th {\n",
       "        vertical-align: top;\n",
       "    }\n",
       "\n",
       "    .dataframe thead th {\n",
       "        text-align: right;\n",
       "    }\n",
       "</style>\n",
       "<table border=\"1\" class=\"dataframe\">\n",
       "  <thead>\n",
       "    <tr style=\"text-align: right;\">\n",
       "      <th></th>\n",
       "      <th>id</th>\n",
       "      <th>user_id</th>\n",
       "      <th>message_date</th>\n",
       "    </tr>\n",
       "  </thead>\n",
       "  <tbody>\n",
       "    <tr>\n",
       "      <th>46719</th>\n",
       "      <td>1318_109</td>\n",
       "      <td>1318</td>\n",
       "      <td>2018-12-27</td>\n",
       "    </tr>\n",
       "    <tr>\n",
       "      <th>56251</th>\n",
       "      <td>1355_368</td>\n",
       "      <td>1355</td>\n",
       "      <td>2018-10-28</td>\n",
       "    </tr>\n",
       "    <tr>\n",
       "      <th>16635</th>\n",
       "      <td>1111_131</td>\n",
       "      <td>1111</td>\n",
       "      <td>2018-09-26</td>\n",
       "    </tr>\n",
       "    <tr>\n",
       "      <th>36321</th>\n",
       "      <td>1241_125</td>\n",
       "      <td>1241</td>\n",
       "      <td>2018-11-04</td>\n",
       "    </tr>\n",
       "    <tr>\n",
       "      <th>48494</th>\n",
       "      <td>1326_31</td>\n",
       "      <td>1326</td>\n",
       "      <td>2018-10-25</td>\n",
       "    </tr>\n",
       "  </tbody>\n",
       "</table>\n",
       "</div>"
      ],
      "text/plain": [
       "             id  user_id message_date\n",
       "46719  1318_109     1318   2018-12-27\n",
       "56251  1355_368     1355   2018-10-28\n",
       "16635  1111_131     1111   2018-09-26\n",
       "36321  1241_125     1241   2018-11-04\n",
       "48494   1326_31     1326   2018-10-25"
      ]
     },
     "execution_count": 16,
     "metadata": {},
     "output_type": "execute_result"
    }
   ],
   "source": [
    "# Imprime una muestra de datos para los mensajes\n",
    "messages.sample(n = 5)\n"
   ]
  },
  {
   "cell_type": "markdown",
   "metadata": {
    "id": "04xDj7KH0q1A"
   },
   "source": [
    "[Describe lo que ves y observas en la información general y en la muestra de datos impresa para el precio de datos anterior. ¿Hay algún problema (tipos de datos no adecuados, datos ausentes, etc.) que pudieran necesitar investigación y cambios adicionales? ¿Cómo se puede arreglar?]\n",
    "\n",
    "Los tipos de datos se pueden corregir con el comando astype, en los casos que se requiere valores flotantes o enteros. También se debe poner los datos de fechas en formato datetime para que no surjan problemas mas adelante en el proyecto. Como punto adicional, se puede agregar columnas para tener como referencia las fechas por dia y por mes en los que se enviaron mensajes que pueden ser útiles mas adelante."
   ]
  },
  {
   "cell_type": "markdown",
   "metadata": {
    "id": "Sprfak900q1B"
   },
   "source": [
    "### Corregir los datos"
   ]
  },
  {
   "cell_type": "markdown",
   "metadata": {
    "id": "eGw7d9j10q1B"
   },
   "source": [
    "[Corrige los problemas obvios con los datos basándote en las observaciones iniciales.]"
   ]
  },
  {
   "cell_type": "code",
   "execution_count": 17,
   "metadata": {
    "id": "vsllvkoa0q1B"
   },
   "outputs": [
    {
     "name": "stdout",
     "output_type": "stream",
     "text": [
      "Información general del dataframe de mensajes después de las correcciones:\n",
      "\n",
      "<class 'pandas.core.frame.DataFrame'>\n",
      "RangeIndex: 76051 entries, 0 to 76050\n",
      "Data columns (total 3 columns):\n",
      " #   Column        Non-Null Count  Dtype         \n",
      "---  ------        --------------  -----         \n",
      " 0   id            76051 non-null  int64         \n",
      " 1   user_id       76051 non-null  int64         \n",
      " 2   message_date  76051 non-null  datetime64[ns]\n",
      "dtypes: datetime64[ns](1), int64(2)\n",
      "memory usage: 1.7 MB\n",
      "\n",
      "Muestra de los datos del dataframe de mensajes después de las correcciones:\n",
      "\n"
     ]
    },
    {
     "data": {
      "text/html": [
       "<div>\n",
       "<style scoped>\n",
       "    .dataframe tbody tr th:only-of-type {\n",
       "        vertical-align: middle;\n",
       "    }\n",
       "\n",
       "    .dataframe tbody tr th {\n",
       "        vertical-align: top;\n",
       "    }\n",
       "\n",
       "    .dataframe thead th {\n",
       "        text-align: right;\n",
       "    }\n",
       "</style>\n",
       "<table border=\"1\" class=\"dataframe\">\n",
       "  <thead>\n",
       "    <tr style=\"text-align: right;\">\n",
       "      <th></th>\n",
       "      <th>id</th>\n",
       "      <th>user_id</th>\n",
       "      <th>message_date</th>\n",
       "    </tr>\n",
       "  </thead>\n",
       "  <tbody>\n",
       "    <tr>\n",
       "      <th>5747</th>\n",
       "      <td>1054114</td>\n",
       "      <td>1054</td>\n",
       "      <td>2018-12-27</td>\n",
       "    </tr>\n",
       "    <tr>\n",
       "      <th>34958</th>\n",
       "      <td>122348</td>\n",
       "      <td>1223</td>\n",
       "      <td>2018-08-27</td>\n",
       "    </tr>\n",
       "    <tr>\n",
       "      <th>29266</th>\n",
       "      <td>117962</td>\n",
       "      <td>1179</td>\n",
       "      <td>2018-09-15</td>\n",
       "    </tr>\n",
       "    <tr>\n",
       "      <th>49141</th>\n",
       "      <td>132899</td>\n",
       "      <td>1328</td>\n",
       "      <td>2018-07-12</td>\n",
       "    </tr>\n",
       "    <tr>\n",
       "      <th>37862</th>\n",
       "      <td>1250115</td>\n",
       "      <td>1250</td>\n",
       "      <td>2018-12-16</td>\n",
       "    </tr>\n",
       "  </tbody>\n",
       "</table>\n",
       "</div>"
      ],
      "text/plain": [
       "            id  user_id message_date\n",
       "5747   1054114     1054   2018-12-27\n",
       "34958   122348     1223   2018-08-27\n",
       "29266   117962     1179   2018-09-15\n",
       "49141   132899     1328   2018-07-12\n",
       "37862  1250115     1250   2018-12-16"
      ]
     },
     "execution_count": 17,
     "metadata": {},
     "output_type": "execute_result"
    }
   ],
   "source": [
    "# Convertir 'message_date' a formato de fecha\n",
    "messages['message_date'] = pd.to_datetime(messages['message_date'], errors='coerce')\n",
    "\n",
    "# Asegurarnos de que 'user_id' y 'id' sean enteros\n",
    "messages['user_id'] = messages['user_id'].astype(int, errors='ignore')\n",
    "messages['id'] = messages['id'].astype(int, errors='ignore')\n",
    "\n",
    "# Imprimir la información general del dataframe después de las correcciones\n",
    "print(\"Información general del dataframe de mensajes después de las correcciones:\\n\")\n",
    "messages.info()\n",
    "\n",
    "# Imprimir una muestra aleatoria de los datos del dataframe de mensajes\n",
    "print(\"\\nMuestra de los datos del dataframe de mensajes después de las correcciones:\\n\")\n",
    "messages.sample(n = 5)"
   ]
  },
  {
   "cell_type": "markdown",
   "metadata": {
    "id": "HvLid7iD0q1B"
   },
   "source": [
    "### Enriquecer los datos"
   ]
  },
  {
   "cell_type": "markdown",
   "metadata": {
    "id": "8nhPFKIe0q1C"
   },
   "source": [
    "[Agrega factores adicionales a los datos si crees que pudieran ser útiles.] Revisar message hour"
   ]
  },
  {
   "cell_type": "code",
   "execution_count": 18,
   "metadata": {
    "id": "zYEXZac10q1C"
   },
   "outputs": [
    {
     "name": "stdout",
     "output_type": "stream",
     "text": [
      "Información general del dataframe de mensajes después de las correcciones y adiciones:\n",
      "\n",
      "<class 'pandas.core.frame.DataFrame'>\n",
      "RangeIndex: 76051 entries, 0 to 76050\n",
      "Data columns (total 5 columns):\n",
      " #   Column               Non-Null Count  Dtype         \n",
      "---  ------               --------------  -----         \n",
      " 0   id                   76051 non-null  int64         \n",
      " 1   user_id              76051 non-null  int64         \n",
      " 2   message_date         76051 non-null  datetime64[ns]\n",
      " 3   message_day_of_week  76051 non-null  object        \n",
      " 4   month                76051 non-null  object        \n",
      "dtypes: datetime64[ns](1), int64(2), object(2)\n",
      "memory usage: 2.9+ MB\n",
      "\n",
      "Muestra de los datos del dataframe de mensajes después de las correcciones y adiciones:\n",
      "\n"
     ]
    },
    {
     "data": {
      "text/html": [
       "<div>\n",
       "<style scoped>\n",
       "    .dataframe tbody tr th:only-of-type {\n",
       "        vertical-align: middle;\n",
       "    }\n",
       "\n",
       "    .dataframe tbody tr th {\n",
       "        vertical-align: top;\n",
       "    }\n",
       "\n",
       "    .dataframe thead th {\n",
       "        text-align: right;\n",
       "    }\n",
       "</style>\n",
       "<table border=\"1\" class=\"dataframe\">\n",
       "  <thead>\n",
       "    <tr style=\"text-align: right;\">\n",
       "      <th></th>\n",
       "      <th>id</th>\n",
       "      <th>user_id</th>\n",
       "      <th>message_date</th>\n",
       "      <th>message_day_of_week</th>\n",
       "      <th>month</th>\n",
       "    </tr>\n",
       "  </thead>\n",
       "  <tbody>\n",
       "    <tr>\n",
       "      <th>26003</th>\n",
       "      <td>11596</td>\n",
       "      <td>1159</td>\n",
       "      <td>2018-09-06</td>\n",
       "      <td>Thursday</td>\n",
       "      <td>September</td>\n",
       "    </tr>\n",
       "    <tr>\n",
       "      <th>61418</th>\n",
       "      <td>1384543</td>\n",
       "      <td>1384</td>\n",
       "      <td>2018-12-28</td>\n",
       "      <td>Friday</td>\n",
       "      <td>December</td>\n",
       "    </tr>\n",
       "    <tr>\n",
       "      <th>32014</th>\n",
       "      <td>1199142</td>\n",
       "      <td>1199</td>\n",
       "      <td>2018-08-21</td>\n",
       "      <td>Tuesday</td>\n",
       "      <td>August</td>\n",
       "    </tr>\n",
       "    <tr>\n",
       "      <th>35551</th>\n",
       "      <td>123096</td>\n",
       "      <td>1230</td>\n",
       "      <td>2018-12-30</td>\n",
       "      <td>Sunday</td>\n",
       "      <td>December</td>\n",
       "    </tr>\n",
       "    <tr>\n",
       "      <th>39925</th>\n",
       "      <td>1258428</td>\n",
       "      <td>1258</td>\n",
       "      <td>2018-10-31</td>\n",
       "      <td>Wednesday</td>\n",
       "      <td>October</td>\n",
       "    </tr>\n",
       "  </tbody>\n",
       "</table>\n",
       "</div>"
      ],
      "text/plain": [
       "            id  user_id message_date message_day_of_week      month\n",
       "26003    11596     1159   2018-09-06            Thursday  September\n",
       "61418  1384543     1384   2018-12-28              Friday   December\n",
       "32014  1199142     1199   2018-08-21             Tuesday     August\n",
       "35551   123096     1230   2018-12-30              Sunday   December\n",
       "39925  1258428     1258   2018-10-31           Wednesday    October"
      ]
     },
     "execution_count": 18,
     "metadata": {},
     "output_type": "execute_result"
    }
   ],
   "source": [
    "# Añadir factor adicional: Día de la semana del mensaje\n",
    "messages['message_day_of_week'] = messages['message_date'].dt.day_name()\n",
    "\n",
    "# Añadir factor adicional: Mes del mensaje\n",
    "messages['month'] = messages['message_date'].dt.month_name()\n",
    "\n",
    "# Imprimir la información general del dataframe después de las correcciones y adiciones\n",
    "print(\"Información general del dataframe de mensajes después de las correcciones y adiciones:\\n\")\n",
    "messages.info()\n",
    "\n",
    "# Imprimir una muestra aleatoria de los datos del dataframe de mensajes\n",
    "print(\"\\nMuestra de los datos del dataframe de mensajes después de las correcciones y adiciones:\\n\")\n",
    "messages.sample(n = 5)"
   ]
  },
  {
   "cell_type": "markdown",
   "metadata": {
    "id": "bStkaxn40q1C"
   },
   "source": [
    "## Internet"
   ]
  },
  {
   "cell_type": "code",
   "execution_count": 19,
   "metadata": {
    "id": "e-Uz5qyn0q1C"
   },
   "outputs": [
    {
     "name": "stdout",
     "output_type": "stream",
     "text": [
      "<class 'pandas.core.frame.DataFrame'>\n",
      "RangeIndex: 104825 entries, 0 to 104824\n",
      "Data columns (total 4 columns):\n",
      " #   Column        Non-Null Count   Dtype  \n",
      "---  ------        --------------   -----  \n",
      " 0   id            104825 non-null  object \n",
      " 1   user_id       104825 non-null  int64  \n",
      " 2   session_date  104825 non-null  object \n",
      " 3   mb_used       104825 non-null  float64\n",
      "dtypes: float64(1), int64(1), object(2)\n",
      "memory usage: 3.2+ MB\n"
     ]
    }
   ],
   "source": [
    "# Imprime la información general/resumida sobre el DataFrame de internet\n",
    "internet.info()\n"
   ]
  },
  {
   "cell_type": "code",
   "execution_count": 20,
   "metadata": {
    "id": "9r3x_XLw0q1C"
   },
   "outputs": [
    {
     "data": {
      "text/html": [
       "<div>\n",
       "<style scoped>\n",
       "    .dataframe tbody tr th:only-of-type {\n",
       "        vertical-align: middle;\n",
       "    }\n",
       "\n",
       "    .dataframe tbody tr th {\n",
       "        vertical-align: top;\n",
       "    }\n",
       "\n",
       "    .dataframe thead th {\n",
       "        text-align: right;\n",
       "    }\n",
       "</style>\n",
       "<table border=\"1\" class=\"dataframe\">\n",
       "  <thead>\n",
       "    <tr style=\"text-align: right;\">\n",
       "      <th></th>\n",
       "      <th>id</th>\n",
       "      <th>user_id</th>\n",
       "      <th>session_date</th>\n",
       "      <th>mb_used</th>\n",
       "    </tr>\n",
       "  </thead>\n",
       "  <tbody>\n",
       "    <tr>\n",
       "      <th>46695</th>\n",
       "      <td>1206_696</td>\n",
       "      <td>1206</td>\n",
       "      <td>2018-12-14</td>\n",
       "      <td>307.99</td>\n",
       "    </tr>\n",
       "    <tr>\n",
       "      <th>94820</th>\n",
       "      <td>1441_71</td>\n",
       "      <td>1441</td>\n",
       "      <td>2018-11-22</td>\n",
       "      <td>21.44</td>\n",
       "    </tr>\n",
       "    <tr>\n",
       "      <th>66829</th>\n",
       "      <td>1312_52</td>\n",
       "      <td>1312</td>\n",
       "      <td>2018-05-13</td>\n",
       "      <td>255.46</td>\n",
       "    </tr>\n",
       "    <tr>\n",
       "      <th>26084</th>\n",
       "      <td>1122_39</td>\n",
       "      <td>1122</td>\n",
       "      <td>2018-07-17</td>\n",
       "      <td>127.42</td>\n",
       "    </tr>\n",
       "    <tr>\n",
       "      <th>21444</th>\n",
       "      <td>1099_197</td>\n",
       "      <td>1099</td>\n",
       "      <td>2018-11-30</td>\n",
       "      <td>395.25</td>\n",
       "    </tr>\n",
       "  </tbody>\n",
       "</table>\n",
       "</div>"
      ],
      "text/plain": [
       "             id  user_id session_date  mb_used\n",
       "46695  1206_696     1206   2018-12-14   307.99\n",
       "94820   1441_71     1441   2018-11-22    21.44\n",
       "66829   1312_52     1312   2018-05-13   255.46\n",
       "26084   1122_39     1122   2018-07-17   127.42\n",
       "21444  1099_197     1099   2018-11-30   395.25"
      ]
     },
     "execution_count": 20,
     "metadata": {},
     "output_type": "execute_result"
    }
   ],
   "source": [
    "# Imprime una muestra de datos para el tráfico de internet\n",
    "internet.sample(n = 5)\n"
   ]
  },
  {
   "cell_type": "markdown",
   "metadata": {
    "id": "EzOG5ik30q1D"
   },
   "source": [
    "[Describe lo que ves y observas en la información general y en la muestra de datos impresa para el precio de datos anterior. ¿Hay algún problema (tipos de datos no adecuados, datos ausentes, etc.) que pudieran necesitar investigación y cambios adicionales? ¿Cómo se puede arreglar?]\n",
    "\n",
    "Los tipos de datos se pueden corregir con el comando astype, en los casos que se requiere valores flotantes o enteros. También se debe poner los datos de fechas en formato datetime para que no surjan problemas mas adelante en el proyecto. Como punto adicional, se puede agregar columnas para tener como referencia las fechas por dia y por mes en los que se usaron megas que pueden ser útiles mas adelante."
   ]
  },
  {
   "cell_type": "markdown",
   "metadata": {
    "id": "yA0tkPFg0q1D"
   },
   "source": [
    "### Corregir los datos"
   ]
  },
  {
   "cell_type": "markdown",
   "metadata": {
    "id": "zlZMuIEK0q1D"
   },
   "source": [
    "[Corrige los problemas obvios con los datos basándote en las observaciones iniciales.]"
   ]
  },
  {
   "cell_type": "code",
   "execution_count": 21,
   "metadata": {
    "id": "zVeanzdd0q1E",
    "scrolled": false
   },
   "outputs": [
    {
     "name": "stdout",
     "output_type": "stream",
     "text": [
      "Información general del dataframe de tráfico de internet después de las correcciones:\n",
      "\n",
      "<class 'pandas.core.frame.DataFrame'>\n",
      "RangeIndex: 104825 entries, 0 to 104824\n",
      "Data columns (total 4 columns):\n",
      " #   Column        Non-Null Count   Dtype         \n",
      "---  ------        --------------   -----         \n",
      " 0   id            104825 non-null  int64         \n",
      " 1   user_id       104825 non-null  int64         \n",
      " 2   session_date  104825 non-null  datetime64[ns]\n",
      " 3   mb_used       104825 non-null  float64       \n",
      "dtypes: datetime64[ns](1), float64(1), int64(2)\n",
      "memory usage: 3.2 MB\n",
      "\n",
      "Muestra de los datos del dataframe de tráfico de internet después de las correcciones:\n",
      "\n"
     ]
    },
    {
     "data": {
      "text/html": [
       "<div>\n",
       "<style scoped>\n",
       "    .dataframe tbody tr th:only-of-type {\n",
       "        vertical-align: middle;\n",
       "    }\n",
       "\n",
       "    .dataframe tbody tr th {\n",
       "        vertical-align: top;\n",
       "    }\n",
       "\n",
       "    .dataframe thead th {\n",
       "        text-align: right;\n",
       "    }\n",
       "</style>\n",
       "<table border=\"1\" class=\"dataframe\">\n",
       "  <thead>\n",
       "    <tr style=\"text-align: right;\">\n",
       "      <th></th>\n",
       "      <th>id</th>\n",
       "      <th>user_id</th>\n",
       "      <th>session_date</th>\n",
       "      <th>mb_used</th>\n",
       "    </tr>\n",
       "  </thead>\n",
       "  <tbody>\n",
       "    <tr>\n",
       "      <th>98692</th>\n",
       "      <td>1466173</td>\n",
       "      <td>1466</td>\n",
       "      <td>2018-06-04</td>\n",
       "      <td>311.90</td>\n",
       "    </tr>\n",
       "    <tr>\n",
       "      <th>84081</th>\n",
       "      <td>139249</td>\n",
       "      <td>1392</td>\n",
       "      <td>2018-10-04</td>\n",
       "      <td>585.53</td>\n",
       "    </tr>\n",
       "    <tr>\n",
       "      <th>17573</th>\n",
       "      <td>1079178</td>\n",
       "      <td>1079</td>\n",
       "      <td>2018-09-21</td>\n",
       "      <td>520.66</td>\n",
       "    </tr>\n",
       "    <tr>\n",
       "      <th>53346</th>\n",
       "      <td>1240318</td>\n",
       "      <td>1240</td>\n",
       "      <td>2018-07-14</td>\n",
       "      <td>648.22</td>\n",
       "    </tr>\n",
       "    <tr>\n",
       "      <th>23334</th>\n",
       "      <td>1106708</td>\n",
       "      <td>1106</td>\n",
       "      <td>2018-08-14</td>\n",
       "      <td>495.51</td>\n",
       "    </tr>\n",
       "  </tbody>\n",
       "</table>\n",
       "</div>"
      ],
      "text/plain": [
       "            id  user_id session_date  mb_used\n",
       "98692  1466173     1466   2018-06-04   311.90\n",
       "84081   139249     1392   2018-10-04   585.53\n",
       "17573  1079178     1079   2018-09-21   520.66\n",
       "53346  1240318     1240   2018-07-14   648.22\n",
       "23334  1106708     1106   2018-08-14   495.51"
      ]
     },
     "execution_count": 21,
     "metadata": {},
     "output_type": "execute_result"
    }
   ],
   "source": [
    "# Convertir 'session_date' a formato de fecha\n",
    "internet['session_date'] = pd.to_datetime(internet['session_date'], errors='coerce')\n",
    "\n",
    "# Asegurarnos de que 'user_id' y 'id' sean enteros\n",
    "internet['user_id'] = internet['user_id'].astype(int, errors='ignore')\n",
    "internet['id'] = internet['id'].astype(int, errors='ignore')\n",
    "\n",
    "# Imprimir la información general del dataframe después de las correcciones\n",
    "print(\"Información general del dataframe de tráfico de internet después de las correcciones:\\n\")\n",
    "internet.info()\n",
    "\n",
    "# Imprimir una muestra aleatoria de los datos del dataframe de tráfico de internet\n",
    "print(\"\\nMuestra de los datos del dataframe de tráfico de internet después de las correcciones:\\n\")\n",
    "internet.sample(n = 5)"
   ]
  },
  {
   "cell_type": "markdown",
   "metadata": {
    "id": "e8_mLF4a0q1E"
   },
   "source": [
    "### Enriquecer los datos"
   ]
  },
  {
   "cell_type": "markdown",
   "metadata": {
    "id": "xhNdn2tE0q1E"
   },
   "source": [
    "[Agrega factores adicionales a los datos si crees que pudieran ser útiles.]"
   ]
  },
  {
   "cell_type": "code",
   "execution_count": 22,
   "metadata": {
    "id": "ESiYPIEK0q1E"
   },
   "outputs": [
    {
     "name": "stdout",
     "output_type": "stream",
     "text": [
      "Información general del dataframe de tráfico de internet después de las correcciones y adiciones:\n",
      "<class 'pandas.core.frame.DataFrame'>\n",
      "RangeIndex: 104825 entries, 0 to 104824\n",
      "Data columns (total 7 columns):\n",
      " #   Column               Non-Null Count   Dtype         \n",
      "---  ------               --------------   -----         \n",
      " 0   id                   104825 non-null  int64         \n",
      " 1   user_id              104825 non-null  int64         \n",
      " 2   session_date         104825 non-null  datetime64[ns]\n",
      " 3   mb_used              104825 non-null  float64       \n",
      " 4   session_day_of_week  104825 non-null  object        \n",
      " 5   month                104825 non-null  object        \n",
      " 6   GB_used              104825 non-null  float64       \n",
      "dtypes: datetime64[ns](1), float64(2), int64(2), object(2)\n",
      "memory usage: 5.6+ MB\n",
      "None\n",
      "\n",
      "Muestra de los datos del dataframe de tráfico de internet después de las correcciones y adiciones:\n",
      "             id  user_id session_date  mb_used session_day_of_week      month  \\\n",
      "97505    146032     1460   2018-12-12   355.55           Wednesday   December   \n",
      "46007   1203332     1203   2018-07-07   171.29            Saturday       July   \n",
      "102275   149090     1490   2018-08-29   854.93           Wednesday     August   \n",
      "40013   1181118     1181   2018-12-17   458.86              Monday   December   \n",
      "104817  1499212     1499   2018-09-11     0.00             Tuesday  September   \n",
      "\n",
      "        GB_used  \n",
      "97505       1.0  \n",
      "46007       1.0  \n",
      "102275      1.0  \n",
      "40013       1.0  \n",
      "104817      0.0  \n"
     ]
    }
   ],
   "source": [
    "# Añadir factor adicional: Día de la semana de la sesión\n",
    "internet['session_day_of_week'] = internet['session_date'].dt.day_name()\n",
    "\n",
    "# Añadir factor adicional: Mes de la sesión\n",
    "internet['month'] = internet['session_date'].dt.month_name()\n",
    "\n",
    "# Añadir factor adicional: GB redondeados\n",
    "internet['GB_used'] = np.ceil(internet['mb_used'] / 1024)\n",
    "\n",
    "# Imprimir la información general del dataframe después de las correcciones y adiciones\n",
    "print(\"Información general del dataframe de tráfico de internet después de las correcciones y adiciones:\")\n",
    "print(internet.info())\n",
    "\n",
    "# Imprimir una muestra aleatoria de los datos del dataframe de tráfico de internet\n",
    "print(\"\\nMuestra de los datos del dataframe de tráfico de internet después de las correcciones y adiciones:\")\n",
    "print(internet.sample(n = 5))  "
   ]
  },
  {
   "cell_type": "markdown",
   "metadata": {
    "id": "3UA2cqIW0q1E"
   },
   "source": [
    "## Estudiar las condiciones de las tarifas"
   ]
  },
  {
   "cell_type": "markdown",
   "metadata": {
    "id": "T86Sqltq0q1F"
   },
   "source": [
    "[Es sumamente importante entender cómo funcionan las tarifas, cómo se les cobra a los usuarios en función de su plan de suscripción. Así que te sugerimos imprimir la información de la tarifa para ver una vez más sus condiciones.]"
   ]
  },
  {
   "cell_type": "code",
   "execution_count": 23,
   "metadata": {
    "id": "i409op8p0q1F",
    "scrolled": false
   },
   "outputs": [
    {
     "name": "stdout",
     "output_type": "stream",
     "text": [
      "Información general del dataframe de tarifas:\n",
      "\n",
      "<class 'pandas.core.frame.DataFrame'>\n",
      "RangeIndex: 2 entries, 0 to 1\n",
      "Data columns (total 9 columns):\n",
      " #   Column                 Non-Null Count  Dtype  \n",
      "---  ------                 --------------  -----  \n",
      " 0   messages_included      2 non-null      int64  \n",
      " 1   mb_per_month_included  2 non-null      int64  \n",
      " 2   minutes_included       2 non-null      int64  \n",
      " 3   usd_monthly_pay        2 non-null      float64\n",
      " 4   usd_per_gb             2 non-null      float64\n",
      " 5   usd_per_message        2 non-null      float64\n",
      " 6   usd_per_minute         2 non-null      float64\n",
      " 7   plan_name              2 non-null      object \n",
      " 8   GB_per_month_included  2 non-null      float64\n",
      "dtypes: float64(5), int64(3), object(1)\n",
      "memory usage: 272.0+ bytes\n",
      "\n",
      "Muestra de los datos del dataframe de tarifas:\n",
      "\n"
     ]
    },
    {
     "data": {
      "text/html": [
       "<div>\n",
       "<style scoped>\n",
       "    .dataframe tbody tr th:only-of-type {\n",
       "        vertical-align: middle;\n",
       "    }\n",
       "\n",
       "    .dataframe tbody tr th {\n",
       "        vertical-align: top;\n",
       "    }\n",
       "\n",
       "    .dataframe thead th {\n",
       "        text-align: right;\n",
       "    }\n",
       "</style>\n",
       "<table border=\"1\" class=\"dataframe\">\n",
       "  <thead>\n",
       "    <tr style=\"text-align: right;\">\n",
       "      <th></th>\n",
       "      <th>messages_included</th>\n",
       "      <th>mb_per_month_included</th>\n",
       "      <th>minutes_included</th>\n",
       "      <th>usd_monthly_pay</th>\n",
       "      <th>usd_per_gb</th>\n",
       "      <th>usd_per_message</th>\n",
       "      <th>usd_per_minute</th>\n",
       "      <th>plan_name</th>\n",
       "      <th>GB_per_month_included</th>\n",
       "    </tr>\n",
       "  </thead>\n",
       "  <tbody>\n",
       "    <tr>\n",
       "      <th>0</th>\n",
       "      <td>50</td>\n",
       "      <td>15360</td>\n",
       "      <td>500</td>\n",
       "      <td>20.0</td>\n",
       "      <td>10.0</td>\n",
       "      <td>0.03</td>\n",
       "      <td>0.03</td>\n",
       "      <td>surf</td>\n",
       "      <td>15.0</td>\n",
       "    </tr>\n",
       "    <tr>\n",
       "      <th>1</th>\n",
       "      <td>1000</td>\n",
       "      <td>30720</td>\n",
       "      <td>3000</td>\n",
       "      <td>70.0</td>\n",
       "      <td>7.0</td>\n",
       "      <td>0.01</td>\n",
       "      <td>0.01</td>\n",
       "      <td>ultimate</td>\n",
       "      <td>30.0</td>\n",
       "    </tr>\n",
       "  </tbody>\n",
       "</table>\n",
       "</div>"
      ],
      "text/plain": [
       "   messages_included  mb_per_month_included  minutes_included  \\\n",
       "0                 50                  15360               500   \n",
       "1               1000                  30720              3000   \n",
       "\n",
       "   usd_monthly_pay  usd_per_gb  usd_per_message  usd_per_minute plan_name  \\\n",
       "0             20.0        10.0             0.03            0.03      surf   \n",
       "1             70.0         7.0             0.01            0.01  ultimate   \n",
       "\n",
       "   GB_per_month_included  \n",
       "0                   15.0  \n",
       "1                   30.0  "
      ]
     },
     "execution_count": 23,
     "metadata": {},
     "output_type": "execute_result"
    }
   ],
   "source": [
    "# Imprime las condiciones de la tarifa y asegúrate de que te quedan claras\n",
    "\n",
    "# Imprimir la información general del dataframe de tarifas\n",
    "print(\"Información general del dataframe de tarifas:\\n\")\n",
    "plans.info()\n",
    "\n",
    "# Imprimir una muestra de los datos del dataframe de tarifas\n",
    "print(\"\\nMuestra de los datos del dataframe de tarifas:\\n\")\n",
    "plans"
   ]
  },
  {
   "cell_type": "markdown",
   "metadata": {},
   "source": [
    "Surf\n",
    "\n",
    "- Pago mensual: 20$.\n",
    "\n",
    "- 500 minutos al mes, 50 SMS y 15 GB de datos.\n",
    "- Si se exceden los límites del paquete:\n",
    "    - 1 minuto: 3 centavos.\n",
    "    - 1 SMS: 3 centavos.\n",
    "    - 1 GB de datos: 10$.\n",
    "\n",
    "\n",
    "Ultimate\n",
    "\n",
    "- Pago mensual: 70$.\n",
    "\n",
    "- 3000 minutos al mes, 1000 SMS y 30 GB de datos.\n",
    "- Si se exceden los límites del paquete:\n",
    "    - 1 minuto: 1 centavo.\n",
    "    - 1 SMS: 1 centavo.\n",
    "    - 1 GB de datos: 7$."
   ]
  },
  {
   "cell_type": "markdown",
   "metadata": {
    "id": "hMR1tP5d0q1F"
   },
   "source": [
    "## Agregar datos por usuario\n",
    "\n",
    "[Ahora que los datos están limpios, agrega los datos por usuario y por periodo para que solo haya un registro por usuario y por periodo. Esto facilitará mucho el análisis posterior.]"
   ]
  },
  {
   "cell_type": "code",
   "execution_count": 24,
   "metadata": {
    "id": "A332cedB0q1G",
    "scrolled": false
   },
   "outputs": [
    {
     "name": "stdout",
     "output_type": "stream",
     "text": [
      "      user_id      month  num_calls\n",
      "0        1000   December         16\n",
      "1        1001     August         27\n",
      "2        1001   December         56\n",
      "3        1001   November         64\n",
      "4        1001    October         65\n",
      "...       ...        ...        ...\n",
      "2253     1498  September         45\n",
      "2254     1499   December         65\n",
      "2255     1499   November         45\n",
      "2256     1499    October         53\n",
      "2257     1499  September         41\n",
      "\n",
      "[2258 rows x 3 columns] \n",
      "\n",
      "\n",
      "          month  user_id  calls_month\n",
      "0         April     1010           90\n",
      "1         April     1028            7\n",
      "2         April     1041           60\n",
      "3         April     1042           44\n",
      "4         April     1049           30\n",
      "...         ...      ...          ...\n",
      "2253  September     1494           67\n",
      "2254  September     1495           52\n",
      "2255  September     1496           52\n",
      "2256  September     1498           45\n",
      "2257  September     1499           41\n",
      "\n",
      "[2258 rows x 3 columns]\n",
      "\n",
      "\n",
      "\n",
      "     user_id      month              sum            count\n",
      "                        duration_rounded duration_rounded\n",
      "0       1000   December              124               16\n",
      "1       1001     August              182               27\n",
      "2       1001   December              412               56\n",
      "3       1001   November              426               64\n",
      "4       1001    October              393               65\n",
      "...      ...        ...              ...              ...\n",
      "2253    1498  September              363               45\n",
      "2254    1499   December              496               65\n",
      "2255    1499   November              308               45\n",
      "2256    1499    October              385               53\n",
      "2257    1499  September              346               41\n",
      "\n",
      "[2258 rows x 4 columns]\n"
     ]
    }
   ],
   "source": [
    "# Calcula el número de llamadas hechas por cada usuario al mes. Guarda el resultado.\n",
    "\n",
    "# Agrupar los datos por usuario y por mes, y contar el número de llamadas\n",
    "calls_per_user_per_month = calls.groupby(['user_id', 'month']).size().reset_index(name = 'num_calls')\n",
    "\n",
    "print(calls_per_user_per_month, '\\n\\n')\n",
    "\n",
    "# Agrupar los datos por usuario y por mes, y contar el número de llamadas\n",
    "calls_per_month = calls.groupby(['month', 'user_id'])['user_id'].count().reset_index(name = 'calls_month')\n",
    "print(calls_per_month)\n",
    "print('\\n\\n')\n",
    "\n",
    "pivot_call = calls.pivot_table(index = ['user_id', 'month'],\n",
    "                              values = ['duration_rounded'],\n",
    "                              aggfunc = ['sum','count']).reset_index()\n",
    "\n",
    "print(pivot_call)\n",
    "\n"
   ]
  },
  {
   "cell_type": "code",
   "execution_count": 25,
   "metadata": {
    "id": "aw2cmuql0q1G",
    "scrolled": false
   },
   "outputs": [
    {
     "name": "stdout",
     "output_type": "stream",
     "text": [
      "      user_id      month  total_minutes\n",
      "0        1000   December            124\n",
      "1        1001     August            182\n",
      "2        1001   December            412\n",
      "3        1001   November            426\n",
      "4        1001    October            393\n",
      "...       ...        ...            ...\n",
      "2253     1498  September            363\n",
      "2254     1499   December            496\n",
      "2255     1499   November            308\n",
      "2256     1499    October            385\n",
      "2257     1499  September            346\n",
      "\n",
      "[2258 rows x 3 columns] \n",
      "\n",
      "\n",
      "          month  user_id  total_minutes\n",
      "0         April     1010            656\n",
      "1         April     1028             53\n",
      "2         April     1041            453\n",
      "3         April     1042            279\n",
      "4         April     1049            234\n",
      "...         ...      ...            ...\n",
      "2253  September     1494            485\n",
      "2254  September     1495            302\n",
      "2255  September     1496            414\n",
      "2256  September     1498            363\n",
      "2257  September     1499            346\n",
      "\n",
      "[2258 rows x 3 columns]\n"
     ]
    }
   ],
   "source": [
    "# Calcula la cantidad de minutos usados por cada usuario al mes. Guarda el resultado.\n",
    "\n",
    "# Agrupar los datos por usuario y por mes, y sumar la duración de las llamadas\n",
    "minutes_per_user_per_month = calls.groupby(['user_id', 'month'])['duration_rounded'].sum().reset_index(name = 'total_minutes')\n",
    "\n",
    "print(minutes_per_user_per_month, '\\n\\n')\n",
    "\n",
    "\n",
    "# Agrupar los datos por usuario y por mes, y sumar la duración de las llamadas\n",
    "minutes_per_month = calls.groupby(['month', 'user_id'])['duration_rounded'].sum().reset_index(name = 'total_minutes')\n",
    "\n",
    "print(minutes_per_month)"
   ]
  },
  {
   "cell_type": "code",
   "execution_count": 26,
   "metadata": {
    "id": "CcQvNHn60q1G",
    "scrolled": false
   },
   "outputs": [
    {
     "name": "stdout",
     "output_type": "stream",
     "text": [
      "      user_id      month  total_messages\n",
      "0        1000   December              11\n",
      "1        1001     August              30\n",
      "2        1001   December              44\n",
      "3        1001   November              36\n",
      "4        1001    October              53\n",
      "...       ...        ...             ...\n",
      "1801     1496   December              11\n",
      "1802     1496   November              13\n",
      "1803     1496    October              18\n",
      "1804     1496  September              21\n",
      "1805     1497   December              50\n",
      "\n",
      "[1806 rows x 3 columns] \n",
      "\n",
      "\n",
      "          month  user_id  total_messages\n",
      "0         April     1028              77\n",
      "1         April     1054               6\n",
      "2         April     1059              20\n",
      "3         April     1061              17\n",
      "4         April     1062               5\n",
      "...         ...      ...             ...\n",
      "1801  September     1489              59\n",
      "1802  September     1491              50\n",
      "1803  September     1492              11\n",
      "1804  September     1494              21\n",
      "1805  September     1496              21\n",
      "\n",
      "[1806 rows x 3 columns]\n"
     ]
    }
   ],
   "source": [
    "# Calcula el número de mensajes enviados por cada usuario al mes. Guarda el resultado.\n",
    "\n",
    "# Agrupar los datos por usuario y por mes, y contar el número de mensajes enviados\n",
    "messages_per_user_per_month = messages.groupby(['user_id', 'month']).size().reset_index(name = 'total_messages')\n",
    "\n",
    "print(messages_per_user_per_month, '\\n\\n')\n",
    "\n",
    "\n",
    "# Agrupar los datos por usuario y por mes, y contar el número de mensajes enviados\n",
    "messages_per_month = messages.groupby(['month', 'user_id'])['id'].count().reset_index(name = 'total_messages')\n",
    "\n",
    "print(messages_per_month)\n"
   ]
  },
  {
   "cell_type": "code",
   "execution_count": 27,
   "metadata": {
    "id": "H1AqN2eG0q1H",
    "scrolled": false
   },
   "outputs": [
    {
     "name": "stdout",
     "output_type": "stream",
     "text": [
      "      user_id      month  total_GB\n",
      "0        1000   December       4.0\n",
      "1        1001     August      21.0\n",
      "2        1001   December      55.0\n",
      "3        1001   November      49.0\n",
      "4        1001    October      50.0\n",
      "...       ...        ...       ...\n",
      "2272     1498  September      52.0\n",
      "2273     1499   December      58.0\n",
      "2274     1499   November      43.0\n",
      "2275     1499    October      52.0\n",
      "2276     1499  September      37.0\n",
      "\n",
      "[2277 rows x 3 columns] \n",
      "\n",
      "\n",
      "          month  user_id  total_inter_volume\n",
      "0         April     1010                49.0\n",
      "1         April     1028                73.0\n",
      "2         April     1041                59.0\n",
      "3         April     1042                18.0\n",
      "4         April     1049                13.0\n",
      "...         ...      ...                 ...\n",
      "2272  September     1494                42.0\n",
      "2273  September     1495                62.0\n",
      "2274  September     1496                42.0\n",
      "2275  September     1498                52.0\n",
      "2276  September     1499                37.0\n",
      "\n",
      "[2277 rows x 3 columns]\n"
     ]
    }
   ],
   "source": [
    "# Calcula el volumen del tráfico de Internet usado por cada usuario al mes. Guarda el resultado.\n",
    "\n",
    "# Agrupar los datos por usuario y por mes, y sumar el volumen de datos usados\n",
    "internet_per_user_per_month = internet.groupby(['user_id', 'month'])['GB_used'].sum().reset_index(name = 'total_GB')\n",
    "\n",
    "print(internet_per_user_per_month, '\\n\\n')\n",
    "\n",
    "# Agrupar los datos por usuario y por mes, y sumar el volumen de datos usados\n",
    "internet_volume = internet.groupby(['month', 'user_id'])['GB_used'].sum().reset_index(name = 'total_inter_volume')\n",
    "\n",
    "print(internet_volume)\n"
   ]
  },
  {
   "cell_type": "markdown",
   "metadata": {
    "id": "VDfYXnj80q1H"
   },
   "source": [
    "[Junta los datos agregados en un DataFrame para que haya un registro que represente lo que consumió un usuario único en un mes determinado.]"
   ]
  },
  {
   "cell_type": "code",
   "execution_count": 28,
   "metadata": {
    "id": "FW99ykyf0q1H"
   },
   "outputs": [
    {
     "name": "stdout",
     "output_type": "stream",
     "text": [
      "      user_id     month  num_calls  total_minutes  total_messages  total_GB\n",
      "0        1000  December       16.0          124.0            11.0       4.0\n",
      "1        1001    August       27.0          182.0            30.0      21.0\n",
      "2        1001  December       56.0          412.0            44.0      55.0\n",
      "3        1001  November       64.0          426.0            36.0      49.0\n",
      "4        1001   October       65.0          393.0            53.0      50.0\n",
      "...       ...       ...        ...            ...             ...       ...\n",
      "2288     1349   October        NaN            NaN            76.0      27.0\n",
      "2289     1361       May        NaN            NaN             2.0       7.0\n",
      "2290     1482   October        NaN            NaN             2.0       NaN\n",
      "2291     1108  December        NaN            NaN             NaN       2.0\n",
      "2292     1311      June        NaN            NaN             NaN       7.0\n",
      "\n",
      "[2293 rows x 6 columns] \n",
      "\n",
      "\n",
      "          month  user_id  total_minutes  calls_month  total_messages  \\\n",
      "0         April     1010          656.0         90.0             NaN   \n",
      "1         April     1028           53.0          7.0            77.0   \n",
      "2         April     1041          453.0         60.0             NaN   \n",
      "3         April     1042          279.0         44.0             NaN   \n",
      "4         April     1049          234.0         30.0             NaN   \n",
      "...         ...      ...            ...          ...             ...   \n",
      "2288  September     1080            NaN          NaN            64.0   \n",
      "2289  September     1131            NaN          NaN            26.0   \n",
      "2290  September     1194            NaN          NaN            76.0   \n",
      "2291   December     1108            NaN          NaN             NaN   \n",
      "2292       June     1311            NaN          NaN             NaN   \n",
      "\n",
      "      total_inter_volume  \n",
      "0                   49.0  \n",
      "1                   73.0  \n",
      "2                   59.0  \n",
      "3                   18.0  \n",
      "4                   13.0  \n",
      "...                  ...  \n",
      "2288                46.0  \n",
      "2289                29.0  \n",
      "2290                72.0  \n",
      "2291                 2.0  \n",
      "2292                 7.0  \n",
      "\n",
      "[2293 rows x 6 columns]\n"
     ]
    }
   ],
   "source": [
    "# Fusiona los datos de llamadas, minutos, mensajes e Internet con base en user_id y month\n",
    "\n",
    "# Fusionar los datos de llamadas y minutos\n",
    "merged_data = pd.merge(calls_per_user_per_month, minutes_per_user_per_month, on = ['user_id', 'month'], how = 'outer')\n",
    "\n",
    "# Fusionar los datos de mensajes\n",
    "merged_data = pd.merge(merged_data, messages_per_user_per_month, on = ['user_id', 'month'], how = 'outer')\n",
    "\n",
    "# Fusionar los datos de Internet\n",
    "merged_data = pd.merge(merged_data, internet_per_user_per_month, on = ['user_id', 'month'], how = 'outer')\n",
    "\n",
    "print(merged_data, '\\n\\n')\n",
    "\n",
    "\n",
    "# Fuciona los DataFrame\n",
    "merged_data_2 = minutes_per_month.merge(calls_per_month, on = ['month', 'user_id'], how = 'outer')\n",
    "merged_data_2 = merged_data_2.merge(messages_per_month, on = ['month', 'user_id'], how = 'outer')\n",
    "merged_data_2 = merged_data_2.merge(internet_volume, on = ['month', 'user_id'], how = 'outer')\n",
    "\n",
    "print(merged_data_2)"
   ]
  },
  {
   "cell_type": "code",
   "execution_count": 29,
   "metadata": {
    "id": "0dNOXHag0q1H",
    "scrolled": false
   },
   "outputs": [
    {
     "name": "stdout",
     "output_type": "stream",
     "text": [
      "      user_id     month  num_calls  total_minutes  total_messages  total_GB  \\\n",
      "0        1000  December       16.0          124.0            11.0       4.0   \n",
      "1        1001    August       27.0          182.0            30.0      21.0   \n",
      "2        1001  December       56.0          412.0            44.0      55.0   \n",
      "3        1001  November       64.0          426.0            36.0      49.0   \n",
      "4        1001   October       65.0          393.0            53.0      50.0   \n",
      "...       ...       ...        ...            ...             ...       ...   \n",
      "2288     1349   October        NaN            NaN            76.0      27.0   \n",
      "2289     1361       May        NaN            NaN             2.0       7.0   \n",
      "2290     1482   October        NaN            NaN             2.0       NaN   \n",
      "2291     1108  December        NaN            NaN             NaN       2.0   \n",
      "2292     1311      June        NaN            NaN             NaN       7.0   \n",
      "\n",
      "      first_name  last_name  age                                       city  \\\n",
      "0       Anamaria      Bauer   45      Atlanta-Sandy Springs-Roswell, GA MSA   \n",
      "1         Mickey  Wilkerson   28            Seattle-Tacoma-Bellevue, WA MSA   \n",
      "2         Mickey  Wilkerson   28            Seattle-Tacoma-Bellevue, WA MSA   \n",
      "3         Mickey  Wilkerson   28            Seattle-Tacoma-Bellevue, WA MSA   \n",
      "4         Mickey  Wilkerson   28            Seattle-Tacoma-Bellevue, WA MSA   \n",
      "...          ...        ...  ...                                        ...   \n",
      "2288  Florentina       Diaz   69         Boston-Cambridge-Newton, MA-NH MSA   \n",
      "2289     Jacelyn    Hoffman   45                  Birmingham-Hoover, AL MSA   \n",
      "2290      Armand      Glenn   70  New York-Newark-Jersey City, NY-NJ-PA MSA   \n",
      "2291    Porfirio       Kane   45                     Salt Lake City, UT MSA   \n",
      "2292     Cherlyn   Saunders   69                      Memphis, TN-MS-AR MSA   \n",
      "\n",
      "      ... age_group user_tenure messages_included  mb_per_month_included  \\\n",
      "0     ...     Adult     Veteran              1000                  30720   \n",
      "1     ...     Adult     Veteran                50                  15360   \n",
      "2     ...     Adult     Veteran                50                  15360   \n",
      "3     ...     Adult     Veteran                50                  15360   \n",
      "4     ...     Adult     Veteran                50                  15360   \n",
      "...   ...       ...         ...               ...                    ...   \n",
      "2288  ...    Senior     Veteran                50                  15360   \n",
      "2289  ...     Adult     Veteran                50                  15360   \n",
      "2290  ...    Senior     Veteran              1000                  30720   \n",
      "2291  ...     Adult     Veteran              1000                  30720   \n",
      "2292  ...    Senior     Veteran              1000                  30720   \n",
      "\n",
      "     minutes_included usd_monthly_pay usd_per_gb  usd_per_message  \\\n",
      "0                3000            70.0        7.0             0.01   \n",
      "1                 500            20.0       10.0             0.03   \n",
      "2                 500            20.0       10.0             0.03   \n",
      "3                 500            20.0       10.0             0.03   \n",
      "4                 500            20.0       10.0             0.03   \n",
      "...               ...             ...        ...              ...   \n",
      "2288              500            20.0       10.0             0.03   \n",
      "2289              500            20.0       10.0             0.03   \n",
      "2290             3000            70.0        7.0             0.01   \n",
      "2291             3000            70.0        7.0             0.01   \n",
      "2292             3000            70.0        7.0             0.01   \n",
      "\n",
      "      usd_per_minute  GB_per_month_included  \n",
      "0               0.01                   30.0  \n",
      "1               0.03                   15.0  \n",
      "2               0.03                   15.0  \n",
      "3               0.03                   15.0  \n",
      "4               0.03                   15.0  \n",
      "...              ...                    ...  \n",
      "2288            0.03                   15.0  \n",
      "2289            0.03                   15.0  \n",
      "2290            0.01                   30.0  \n",
      "2291            0.01                   30.0  \n",
      "2292            0.01                   30.0  \n",
      "\n",
      "[2293 rows x 25 columns] \n",
      "\n",
      "\n",
      "          month  user_id  total_minutes  calls_month  total_messages  \\\n",
      "0         April     1010          656.0         90.0             NaN   \n",
      "1         April     1028           53.0          7.0            77.0   \n",
      "2         April     1041          453.0         60.0             NaN   \n",
      "3         April     1042          279.0         44.0             NaN   \n",
      "4         April     1049          234.0         30.0             NaN   \n",
      "...         ...      ...            ...          ...             ...   \n",
      "2288  September     1080            NaN          NaN            64.0   \n",
      "2289  September     1131            NaN          NaN            26.0   \n",
      "2290  September     1194            NaN          NaN            76.0   \n",
      "2291   December     1108            NaN          NaN             NaN   \n",
      "2292       June     1311            NaN          NaN             NaN   \n",
      "\n",
      "      total_inter_volume      plan  messages_included  mb_per_month_included  \\\n",
      "0                   49.0      surf                 50                  15360   \n",
      "1                   73.0  ultimate               1000                  30720   \n",
      "2                   59.0  ultimate               1000                  30720   \n",
      "3                   18.0      surf                 50                  15360   \n",
      "4                   13.0      surf                 50                  15360   \n",
      "...                  ...       ...                ...                    ...   \n",
      "2288                46.0      surf                 50                  15360   \n",
      "2289                29.0      surf                 50                  15360   \n",
      "2290                72.0      surf                 50                  15360   \n",
      "2291                 2.0  ultimate               1000                  30720   \n",
      "2292                 7.0  ultimate               1000                  30720   \n",
      "\n",
      "      minutes_included  usd_monthly_pay  usd_per_gb  usd_per_message  \\\n",
      "0                  500             20.0        10.0             0.03   \n",
      "1                 3000             70.0         7.0             0.01   \n",
      "2                 3000             70.0         7.0             0.01   \n",
      "3                  500             20.0        10.0             0.03   \n",
      "4                  500             20.0        10.0             0.03   \n",
      "...                ...              ...         ...              ...   \n",
      "2288               500             20.0        10.0             0.03   \n",
      "2289               500             20.0        10.0             0.03   \n",
      "2290               500             20.0        10.0             0.03   \n",
      "2291              3000             70.0         7.0             0.01   \n",
      "2292              3000             70.0         7.0             0.01   \n",
      "\n",
      "      usd_per_minute  GB_per_month_included  \n",
      "0               0.03                   15.0  \n",
      "1               0.01                   30.0  \n",
      "2               0.01                   30.0  \n",
      "3               0.03                   15.0  \n",
      "4               0.03                   15.0  \n",
      "...              ...                    ...  \n",
      "2288            0.03                   15.0  \n",
      "2289            0.03                   15.0  \n",
      "2290            0.03                   15.0  \n",
      "2291            0.01                   30.0  \n",
      "2292            0.01                   30.0  \n",
      "\n",
      "[2293 rows x 15 columns]\n"
     ]
    }
   ],
   "source": [
    "# Añade la información de la tarifa\n",
    "\n",
    "# Fusionar los datos de usuarios con el dataframe fusionado de actividad de usuario\n",
    "merged_data = merged_data.merge(users, on = 'user_id', how = 'left')\n",
    "\n",
    "# # Fusionar con los datos de planes para añadir la información de la tarifa\n",
    "merged_data = pd.merge(merged_data, plans, left_on='plan', right_on='plan_name', how='left')\n",
    "\n",
    "# # Eliminar la columna de plan_name para evitar redundancia\n",
    "merged_data.drop(columns=['plan_name'], inplace=True)\n",
    "\n",
    "print(merged_data, '\\n\\n')\n",
    "\n",
    "\n",
    "\n",
    "# Fusionar los datos de usuarios con el dataframe fusionado de actividad de usuario\n",
    "merged_data_2 = merged_data_2.merge(users[['user_id', 'plan']], on = 'user_id', how = 'left')\n",
    "\n",
    "# # Fusionar con la lista users a partir de month y plan sin juntar el resto de la lista\n",
    "merged_data_2 = merged_data_2.merge(plans, how = 'left', left_on = 'plan', right_on = 'plan_name')\n",
    "\n",
    "# # Eliminar la columna de plan_name para evitar redundancia\n",
    "merged_data_2 = merged_data_2.drop('plan_name', axis = 'columns')\n",
    "\n",
    "print(merged_data_2)\n",
    "\n"
   ]
  },
  {
   "cell_type": "markdown",
   "metadata": {
    "id": "1IwGo4wg0q1I"
   },
   "source": [
    "[Calcula los ingresos mensuales por usuario (resta el límite del paquete gratuito del número total de llamadas, mensajes de texto y datos; multiplica el resultado por el valor del plan de llamadas; añade la tarifa mensual en función del plan de llamadas). Nota: Dadas las condiciones del plan, ¡esto podría no ser tan trivial como un par de líneas! Así que no pasa nada si dedicas algo de tiempo a ello.]"
   ]
  },
  {
   "cell_type": "code",
   "execution_count": 30,
   "metadata": {
    "id": "5FGCf_c60q1I"
   },
   "outputs": [
    {
     "name": "stdout",
     "output_type": "stream",
     "text": [
      "      user_id     month  num_calls  total_minutes  total_messages  total_GB  \\\n",
      "0        1000  December       16.0          124.0            11.0       4.0   \n",
      "1        1001    August       27.0          182.0            30.0      21.0   \n",
      "2        1001  December       56.0          412.0            44.0      55.0   \n",
      "3        1001  November       64.0          426.0            36.0      49.0   \n",
      "4        1001   October       65.0          393.0            53.0      50.0   \n",
      "...       ...       ...        ...            ...             ...       ...   \n",
      "2288     1349   October        0.0            0.0            76.0      27.0   \n",
      "2289     1361       May        0.0            0.0             2.0       7.0   \n",
      "2290     1482   October        0.0            0.0             2.0       0.0   \n",
      "2291     1108  December        0.0            0.0             0.0       2.0   \n",
      "2292     1311      June        0.0            0.0             0.0       7.0   \n",
      "\n",
      "      first_name  last_name  age                                       city  \\\n",
      "0       Anamaria      Bauer   45      Atlanta-Sandy Springs-Roswell, GA MSA   \n",
      "1         Mickey  Wilkerson   28            Seattle-Tacoma-Bellevue, WA MSA   \n",
      "2         Mickey  Wilkerson   28            Seattle-Tacoma-Bellevue, WA MSA   \n",
      "3         Mickey  Wilkerson   28            Seattle-Tacoma-Bellevue, WA MSA   \n",
      "4         Mickey  Wilkerson   28            Seattle-Tacoma-Bellevue, WA MSA   \n",
      "...          ...        ...  ...                                        ...   \n",
      "2288  Florentina       Diaz   69         Boston-Cambridge-Newton, MA-NH MSA   \n",
      "2289     Jacelyn    Hoffman   45                  Birmingham-Hoover, AL MSA   \n",
      "2290      Armand      Glenn   70  New York-Newark-Jersey City, NY-NJ-PA MSA   \n",
      "2291    Porfirio       Kane   45                     Salt Lake City, UT MSA   \n",
      "2292     Cherlyn   Saunders   69                      Memphis, TN-MS-AR MSA   \n",
      "\n",
      "      ... usd_per_minute GB_per_month_included basic_income  extra_minutes  \\\n",
      "0     ...           0.01                  30.0         70.0            0.0   \n",
      "1     ...           0.03                  15.0         20.0            0.0   \n",
      "2     ...           0.03                  15.0         20.0            0.0   \n",
      "3     ...           0.03                  15.0         20.0            0.0   \n",
      "4     ...           0.03                  15.0         20.0            0.0   \n",
      "...   ...            ...                   ...          ...            ...   \n",
      "2288  ...           0.03                  15.0         20.0            0.0   \n",
      "2289  ...           0.03                  15.0         20.0            0.0   \n",
      "2290  ...           0.01                  30.0         70.0            0.0   \n",
      "2291  ...           0.01                  30.0         70.0            0.0   \n",
      "2292  ...           0.01                  30.0         70.0            0.0   \n",
      "\n",
      "     extra_messages extra_GB extra_minutes_income  extra_messages_income  \\\n",
      "0               0.0      0.0                  0.0                   0.00   \n",
      "1               0.0      6.0                  0.0                   0.00   \n",
      "2               0.0     40.0                  0.0                   0.00   \n",
      "3               0.0     34.0                  0.0                   0.00   \n",
      "4               3.0     35.0                  0.0                   0.09   \n",
      "...             ...      ...                  ...                    ...   \n",
      "2288           26.0     12.0                  0.0                   0.78   \n",
      "2289            0.0      0.0                  0.0                   0.00   \n",
      "2290            0.0      0.0                  0.0                   0.00   \n",
      "2291            0.0      0.0                  0.0                   0.00   \n",
      "2292            0.0      0.0                  0.0                   0.00   \n",
      "\n",
      "      extra_GB_income  total_monthly_income  \n",
      "0                 0.0                 70.00  \n",
      "1                60.0                 80.00  \n",
      "2               400.0                420.00  \n",
      "3               340.0                360.00  \n",
      "4               350.0                370.09  \n",
      "...               ...                   ...  \n",
      "2288            120.0                140.78  \n",
      "2289              0.0                 20.00  \n",
      "2290              0.0                 70.00  \n",
      "2291              0.0                 70.00  \n",
      "2292              0.0                 70.00  \n",
      "\n",
      "[2293 rows x 33 columns]\n"
     ]
    }
   ],
   "source": [
    "# Calcula el ingreso mensual para cada usuario\n",
    "# Calcular el ingreso mensual básico\n",
    "merged_data['basic_income'] = merged_data['usd_monthly_pay']\n",
    "\n",
    "# Convertimos los valores ausentes para poder realizar las operaciones\n",
    "merged_data['total_minutes'] = merged_data['total_minutes'].fillna(0)\n",
    "merged_data['total_messages'] = merged_data['total_messages'].fillna(0)\n",
    "merged_data['total_GB'] = merged_data['total_GB'].fillna(0)\n",
    "merged_data['num_calls'] = merged_data['num_calls'].fillna(0)\n",
    "\n",
    "# Calcular los minutos, mensajes y datos excedentes\n",
    "merged_data['extra_minutes'] = (merged_data['total_minutes'] - merged_data['minutes_included']).clip(lower=0)\n",
    "merged_data['extra_messages'] = (merged_data['total_messages'] - merged_data['messages_included']).clip(lower=0)\n",
    "merged_data['extra_GB'] = (merged_data['total_GB'] - merged_data['GB_per_month_included']).clip(lower=0)\n",
    "\n",
    "# Calcular los cargos adicionales\n",
    "merged_data['extra_minutes_income'] = merged_data['extra_minutes'] * merged_data['usd_per_minute']\n",
    "merged_data['extra_messages_income'] = merged_data['extra_messages'] * merged_data['usd_per_message']\n",
    "merged_data['extra_GB_income'] = merged_data['extra_GB'] * merged_data['usd_per_gb']\n",
    "\n",
    "# Calcular el ingreso total mensual\n",
    "merged_data['total_monthly_income'] = (merged_data['basic_income'] +\n",
    "                                                  merged_data['extra_minutes_income'] +\n",
    "                                                  merged_data['extra_messages_income'] +\n",
    "                                                  merged_data['extra_GB_income'])\n",
    "\n",
    "print(merged_data)\n",
    "\n",
    "\n",
    "\n",
    "\n",
    "\n"
   ]
  },
  {
   "cell_type": "markdown",
   "metadata": {
    "id": "-jtyHzJb0q1I"
   },
   "source": [
    "## Estudia el comportamiento de usuario"
   ]
  },
  {
   "cell_type": "markdown",
   "metadata": {
    "id": "AxU3Y0N70q1J"
   },
   "source": [
    "[Calcula algunas estadísticas descriptivas para los datos agregados y fusionados que nos sean útiles y que muestren un panorama general captado por los datos. Dibuja gráficos útiles para facilitar la comprensión. Dado que la tarea principal es comparar las tarifas y decidir cuál es más rentable, las estadísticas y gráficas deben calcularse por tarifa.]\n",
    "\n",
    "[En los comentarios hallarás pistas relevantes para las llamadas, pero no las hay para los mensajes e Internet. Sin embargo, el principio del estudio estadístico que se aplica para ellos es el mismo que para las llamadas.]"
   ]
  },
  {
   "cell_type": "markdown",
   "metadata": {
    "id": "vtW4CJEe0q1J"
   },
   "source": [
    "### Llamadas"
   ]
  },
  {
   "cell_type": "code",
   "execution_count": 31,
   "metadata": {
    "id": "Jf5v5--k0q1J"
   },
   "outputs": [
    {
     "name": "stdout",
     "output_type": "stream",
     "text": [
      "plan      month    \n",
      "surf      November     423.325088\n",
      "ultimate  July         427.067797\n",
      "          October      450.735849\n",
      "          June         370.957447\n",
      "surf      March        330.000000\n",
      "ultimate  August       421.436620\n",
      "          May          406.241379\n",
      "          November     445.196850\n",
      "surf      January      203.000000\n",
      "ultimate  December     459.099338\n",
      "          March        304.250000\n",
      "surf      December     473.836478\n",
      "ultimate  April        336.857143\n",
      "surf      September    414.226804\n",
      "          February     297.000000\n",
      "ultimate  February     403.142857\n",
      "          January      193.500000\n",
      "surf      April        351.540000\n",
      "          May          399.584416\n",
      "          July         449.983471\n",
      "          October      429.729958\n",
      "          August       410.111111\n",
      "ultimate  September    437.511628\n",
      "surf      June         431.298969\n",
      "Name: total_minutes, dtype: float64 \n",
      "\n"
     ]
    },
    {
     "data": {
      "image/png": "[encoded data removed]",
      "text/plain": [
       "<Figure size 640x480 with 1 Axes>"
      ]
     },
     "metadata": {},
     "output_type": "display_data"
    },
    {
     "data": {
      "image/png": "[encoded data removed]",
      "text/plain": [
       "<Figure size 800x600 with 1 Axes>"
      ]
     },
     "metadata": {},
     "output_type": "display_data"
    }
   ],
   "source": [
    "# Compara la duración promedio de llamadas por cada plan y por cada mes. Traza un gráfico de barras para visualizarla.\n",
    "\n",
    "# Calcular la duración promedio de llamadas por plan y por mes\n",
    "average_call_duration = merged_data.groupby(['plan', 'month'])['total_minutes'].mean()\n",
    "\n",
    "# Renombrar la columna para mayor claridad\n",
    "# average_call_duration.rename(columns={'total_minutes': 'average_call_duration'}, inplace=True)\n",
    "# average_call_duration = average_call_duration.sort_values(by = 'month')\n",
    "\n",
    "print(average_call_duration.sample(n = 24), '\\n')\n",
    "\n",
    "# Visualizar los datos con un gráfico de barras\n",
    "average_call_duration.plot(kind = 'bar',\n",
    "                 title = 'Duración promedio de llamadas por cada plan y cada mes',\n",
    "                 xlabel = 'Plan y mes', \n",
    "                 ylabel = 'Duración promedio de llamadas',\n",
    "                 x = 'month'\n",
    "                 )\n",
    "\n",
    "\n",
    "plt.show()\n",
    "\n",
    "\n",
    "pivot_average_call_duration = merged_data.pivot_table(index = 'month', \n",
    "                                                      columns = 'plan', \n",
    "                                                      values = 'total_minutes', \n",
    "                                                      aggfunc = 'mean')\n",
    "\n",
    "\n",
    "\n",
    "pivot_average_call_duration.plot(kind = 'bar',\n",
    "                 title = 'Duración promedio de llamadas por cada plan y cada mes',\n",
    "                 xlabel = 'Plan y mes', \n",
    "                 ylabel = 'Duración promedio de llamadas',\n",
    "                                 figsize = (8, 6)\n",
    "                 )\n",
    "\n",
    "plt.show()"
   ]
  },
  {
   "cell_type": "code",
   "execution_count": 32,
   "metadata": {
    "id": "QoLqW1S_0q1J"
   },
   "outputs": [
    {
     "data": {
      "image/png": "[encoded data removed]",
      "text/plain": [
       "<Figure size 640x480 with 1 Axes>"
      ]
     },
     "metadata": {},
     "output_type": "display_data"
    }
   ],
   "source": [
    "# Compara el número de minutos mensuales que necesitan los usuarios de cada plan. Traza un histograma.\n",
    "# Filtrar las columnas necesarias\n",
    "min_per_month = merged_data[['plan', 'total_minutes']]\n",
    "\n",
    "# Crear un histograma para cada plan en un solo gráfico utilizando el método .hist() de pandas\n",
    "plans = min_per_month['plan'].unique()\n",
    "for plan in plans:\n",
    "    subset = min_per_month[min_per_month['plan'] == plan]\n",
    "    plt.hist(subset['total_minutes'], bins = 30, alpha = 0.5, label = plan)\n",
    "\n",
    "# Añadir títulos y etiquetas\n",
    "plt.title('Distribución del número de minutos mensuales usados por plan')\n",
    "plt.xlabel('Número de minutos mensuales')\n",
    "plt.ylabel('Frecuencia')\n",
    "plt.legend(title = 'Plan')\n",
    "\n",
    "\n",
    "plt.show()\n"
   ]
  },
  {
   "cell_type": "markdown",
   "metadata": {
    "id": "bLS9T8OH0q1K"
   },
   "source": [
    "[Calcula la media y la variable de la duración de las llamadas para averiguar si los usuarios de los distintos planes se comportan de forma diferente al realizar sus llamadas.]"
   ]
  },
  {
   "cell_type": "code",
   "execution_count": 33,
   "metadata": {
    "id": "oSndbAnt0q1K"
   },
   "outputs": [
    {
     "name": "stdout",
     "output_type": "stream",
     "text": [
      "                mean           var\n",
      "plan                              \n",
      "surf      428.749523  54968.279461\n",
      "ultimate  430.450000  57844.464812\n"
     ]
    }
   ],
   "source": [
    "# Calcula la media y la varianza de la duración mensual de llamadas.\n",
    "\n",
    "\n",
    "# Agrupar por usuario, mes y plan, y calcular la suma de minutos usados\n",
    "monthly_call_duration = merged_data.groupby(['user_id', 'month', 'plan'])['total_minutes'].sum().reset_index()\n",
    "\n",
    "# Agrupar por plan y calcular la media y la varianza de la duración mensual de llamadas\n",
    "plan_call_stats = monthly_call_duration.groupby('plan')['total_minutes'].agg(['mean', 'var'])\n",
    "\n",
    "# Mostrar los resultados\n",
    "print(plan_call_stats)\n"
   ]
  },
  {
   "cell_type": "code",
   "execution_count": 34,
   "metadata": {
    "id": "nZzoRUKc0q1K"
   },
   "outputs": [
    {
     "data": {
      "image/png": "[encoded data removed]",
      "text/plain": [
       "<Figure size 640x480 with 1 Axes>"
      ]
     },
     "metadata": {},
     "output_type": "display_data"
    }
   ],
   "source": [
    "# Traza un diagrama de caja para visualizar la distribución de la duración mensual de llamadas\n",
    "\n",
    "# Crear un diagrama de caja utilizando seaborn\n",
    "sns.boxplot(x='month', y='total_minutes', data = monthly_call_duration)\n",
    "\n",
    "# Añadir títulos y etiquetas\n",
    "plt.title('Distribución de la duración mensual de llamadas')\n",
    "plt.xlabel('Mes')\n",
    "plt.ylabel('Duración de llamadas (minutos)')\n",
    "plt.xticks(rotation = 75)\n",
    "\n",
    "\n",
    "plt.tight_layout()\n",
    "plt.show()\n"
   ]
  },
  {
   "cell_type": "markdown",
   "metadata": {
    "id": "r627zBO50q1K"
   },
   "source": [
    "[Elabora las conclusiones sobre el comportamiento de los usuarios con respecto a las llamadas. ¿Su comportamiento varía en función del plan?]\n",
    "\n",
    "En la mayotia de meses la duración promedio de las llamadas em mayor en el plan surf, también se puede observar que la duración promedio de las llamadas va en aumento desde enero hasta diciembre, siendo este ultimo el mes que mayor duración tienen las llamadas. Obserevando las graficas y las medias, se puede deducir que el plan ultimate tiene los datos mas dispersos, lo que nos da una diferencia de 2 puntos en la media de ambos planes."
   ]
  },
  {
   "cell_type": "markdown",
   "metadata": {
    "id": "8idKy8Wh0q1L"
   },
   "source": [
    "### Mensajes"
   ]
  },
  {
   "cell_type": "code",
   "execution_count": 35,
   "metadata": {
    "id": "NXLxiTit0q1L"
   },
   "outputs": [
    {
     "data": {
      "image/png": "[encoded data removed]",
      "text/plain": [
       "<Figure size 640x480 with 1 Axes>"
      ]
     },
     "metadata": {},
     "output_type": "display_data"
    }
   ],
   "source": [
    "# Comprara el número de mensajes que tienden a enviar cada mes los usuarios de cada plan\n",
    "\n",
    "message_per_plan = merged_data.groupby('plan')['total_messages']\n",
    "\n",
    "# Genera el histograma para cada plan\n",
    "message_per_plan.plot(kind = 'hist', bins = 30)\n",
    "\n",
    "# Añadir títulos y etiquetas\n",
    "plt.title('Distribución de mensajes mensuales usados por plan')\n",
    "plt.xlabel('Total de mensajes')\n",
    "plt.ylabel('Frecuencia')\n",
    "plt.legend(title = 'Plan')\n",
    "\n",
    "plt.tight_layout()\n",
    "plt.show()\n"
   ]
  },
  {
   "cell_type": "code",
   "execution_count": 36,
   "metadata": {
    "id": "GRI_R7xF0q1L"
   },
   "outputs": [
    {
     "name": "stdout",
     "output_type": "stream",
     "text": [
      "               mean          var\n",
      "plan                            \n",
      "surf      31.159568  1126.724522\n",
      "ultimate  37.551389  1208.756744\n"
     ]
    },
    {
     "data": {
      "image/png": "[encoded data removed]",
      "text/plain": [
       "<Figure size 800x600 with 1 Axes>"
      ]
     },
     "metadata": {},
     "output_type": "display_data"
    }
   ],
   "source": [
    "# Calcula la media y la varianza de la cantidad de mensajes enviados por mes.\n",
    "\n",
    "# Agrupar por usuario, mes y plan, y calcular la suma de mensajes usados\n",
    "monthly_messages = merged_data.groupby(['user_id', 'month', 'plan'])['total_messages'].sum().reset_index()\n",
    "\n",
    "# Agrupar por plan y calcular la media y la varianza del numero de mensajes usados\n",
    "plan_messages_stats = monthly_messages.groupby('plan')['total_messages'].agg(['mean', 'var'])\n",
    "\n",
    "# Mostrar los resultados\n",
    "print(plan_messages_stats)\n",
    "\n",
    "\n",
    "pivot_average_messages = merged_data.pivot_table(index = 'month', \n",
    "                                                      columns = 'plan', \n",
    "                                                      values = 'total_messages', \n",
    "                                                      aggfunc = 'mean')\n",
    "\n",
    "\n",
    "\n",
    "pivot_average_messages.plot(kind = 'bar',\n",
    "                 title = 'Número de mensajes por cada plan y cada mes',\n",
    "                 xlabel = 'Plan y mes', \n",
    "                 ylabel = 'Número de mensajes',\n",
    "                                 figsize = (8, 6)\n",
    "                 )\n",
    "\n",
    "plt.show()"
   ]
  },
  {
   "cell_type": "code",
   "execution_count": 37,
   "metadata": {
    "id": "dtFwCGAp0q1M",
    "scrolled": false
   },
   "outputs": [
    {
     "data": {
      "image/png": "[encoded data removed]",
      "text/plain": [
       "<Figure size 1200x800 with 1 Axes>"
      ]
     },
     "metadata": {},
     "output_type": "display_data"
    }
   ],
   "source": [
    "# Agrupar por usuario, mes y plan, y calcular la suma de mensajes enviados\n",
    "monthly_messages = merged_data.groupby(['user_id', 'month', 'plan'])['total_messages'].sum().reset_index()\n",
    "\n",
    "# Configurar el tamaño del gráfico\n",
    "plt.figure(figsize=(12, 8))\n",
    "\n",
    "# Crear un diagrama de caja utilizando seaborn\n",
    "sns.boxplot(x = 'month', y = 'total_messages', hue = 'plan', data = monthly_messages)\n",
    "\n",
    "# Añadir títulos y etiquetas\n",
    "plt.title('Comparación del número de mensajes enviados por mes según el plan')\n",
    "plt.xlabel('Mes')\n",
    "plt.ylabel('Número de mensajes')\n",
    "plt.xticks(rotation = 75)\n",
    "plt.legend(title = 'Plan')\n",
    "\n",
    "\n",
    "plt.tight_layout()\n",
    "plt.show()\n"
   ]
  },
  {
   "cell_type": "markdown",
   "metadata": {
    "id": "390SSL480q1M"
   },
   "source": [
    "[Elabora las conclusiones sobre el comportamiento de los usuarios con respecto a los mensajes. ¿Su comportamiento varía en función del plan?]\n",
    "\n",
    "La media de mensajes es mayor en el plan ultimate que en el plan surf y se puede observar que el plan ultimate tiene los datos mas dispersos exeptuando los meses de octubre y diciembre donde tiene un mas datos altamanete dispersos el plan surf. También se puede concluir que diciembre es el mes en el que mas se envían mensajes en ambos planes."
   ]
  },
  {
   "cell_type": "markdown",
   "metadata": {
    "id": "42YSypXz0q1M"
   },
   "source": [
    "### Internet"
   ]
  },
  {
   "cell_type": "code",
   "execution_count": 38,
   "metadata": {
    "id": "lSuKPtjh0q1M"
   },
   "outputs": [
    {
     "data": {
      "text/plain": [
       "<matplotlib.legend.Legend at 0x7fbc1f5f7b20>"
      ]
     },
     "execution_count": 38,
     "metadata": {},
     "output_type": "execute_result"
    },
    {
     "data": {
      "image/png": "[encoded data removed]",
      "text/plain": [
       "<Figure size 640x480 with 1 Axes>"
      ]
     },
     "metadata": {},
     "output_type": "display_data"
    }
   ],
   "source": [
    "# Compara la cantidad de tráfico de Internet consumido por usuarios por plan\n",
    "\n",
    "GB_per_plan = merged_data.groupby('plan')['total_GB']\n",
    "\n",
    "# Genera el histograma para cada plan\n",
    "GB_per_plan.plot(kind = 'hist', bins = 30)\n",
    "\n",
    "# Añadir títulos y etiquetas\n",
    "plt.title('Distribución de GB mensuales usados por plan')\n",
    "plt.xlabel('Total de mb')\n",
    "plt.ylabel('Frecuencia')\n",
    "plt.legend(title = 'Plan')\n",
    "\n"
   ]
  },
  {
   "cell_type": "code",
   "execution_count": 39,
   "metadata": {
    "id": "wnh8jYXi0q1N"
   },
   "outputs": [
    {
     "name": "stdout",
     "output_type": "stream",
     "text": [
      "               mean         var\n",
      "plan                           \n",
      "surf      40.140496  318.332030\n",
      "ultimate  41.080556  273.197952\n"
     ]
    }
   ],
   "source": [
    "# Compara la cantidad de tráfico de Internet consumido por usuarios por plan\n",
    "\n",
    "# Agrupar por usuario, mes y plan, y calcular la suma de megabits usados\n",
    "monthly_GB_used = merged_data.groupby(['user_id', 'month', 'plan'])['total_GB'].sum().reset_index()\n",
    "\n",
    "# Agrupar por plan y calcular la media y la varianza del número de megabits usados\n",
    "plan_internet_stats = monthly_GB_used.groupby('plan')['total_GB'].agg(['mean', 'var'])\n",
    "\n",
    "# Mostrar los resultados\n",
    "print(plan_internet_stats)"
   ]
  },
  {
   "cell_type": "code",
   "execution_count": 40,
   "metadata": {
    "id": "5VlyJ9ry0q1N"
   },
   "outputs": [
    {
     "data": {
      "image/png": "[encoded data removed]",
      "text/plain": [
       "<Figure size 640x480 with 1 Axes>"
      ]
     },
     "metadata": {},
     "output_type": "display_data"
    }
   ],
   "source": [
    "# Agrupar por usuario y plan, y calcular la suma de tráfico de Internet consumido\n",
    "internet_usage = merged_data.groupby(['user_id', 'plan'])['total_GB'].sum().reset_index()\n",
    "\n",
    "# Crear un diagrama de caja utilizando seaborn\n",
    "sns.boxplot(x = 'plan', y = 'total_GB', data = internet_usage)\n",
    " \n",
    "# Añadir títulos y etiquetas\n",
    "plt.title('Comparación del tráfico de Internet consumido por usuarios según el plan')\n",
    "plt.xlabel('Plan')\n",
    "plt.ylabel('Tráfico de Internet (GB)')\n",
    "plt.xticks(rotation = 75)\n",
    "\n",
    "# Mostrar el gráfico\n",
    "plt.tight_layout()\n",
    "plt.show()"
   ]
  },
  {
   "cell_type": "markdown",
   "metadata": {
    "id": "UN9zwuMP0q1N"
   },
   "source": [
    "[Elabora las conclusiones sobre cómo los usuarios tienden a consumir el tráfico de Internet. ¿Su comportamiento varía en función del plan?]\n",
    "\n",
    "La media del plan ultimate varia casi con 1 GB que el plan surf, lo que se puede deber a que el primero tiene algunos datos mucho mas dispersos que el segundo."
   ]
  },
  {
   "cell_type": "markdown",
   "metadata": {
    "id": "tCijq3260q1N"
   },
   "source": [
    "## Ingreso"
   ]
  },
  {
   "cell_type": "markdown",
   "metadata": {
    "id": "9nq5IAcy0q1O"
   },
   "source": [
    "[Del mismo modo que has estudiado el comportamiento de los usuarios, describe estadísticamente los ingresos de los planes.]"
   ]
  },
  {
   "cell_type": "code",
   "execution_count": 41,
   "metadata": {
    "id": "0Y1v8ZUz0q1P"
   },
   "outputs": [
    {
     "data": {
      "text/html": [
       "<div>\n",
       "<style scoped>\n",
       "    .dataframe tbody tr th:only-of-type {\n",
       "        vertical-align: middle;\n",
       "    }\n",
       "\n",
       "    .dataframe tbody tr th {\n",
       "        vertical-align: top;\n",
       "    }\n",
       "\n",
       "    .dataframe thead th {\n",
       "        text-align: right;\n",
       "    }\n",
       "</style>\n",
       "<table border=\"1\" class=\"dataframe\">\n",
       "  <thead>\n",
       "    <tr style=\"text-align: right;\">\n",
       "      <th></th>\n",
       "      <th>count</th>\n",
       "      <th>mean</th>\n",
       "      <th>std</th>\n",
       "      <th>min</th>\n",
       "      <th>25%</th>\n",
       "      <th>50%</th>\n",
       "      <th>75%</th>\n",
       "      <th>max</th>\n",
       "    </tr>\n",
       "    <tr>\n",
       "      <th>plan</th>\n",
       "      <th></th>\n",
       "      <th></th>\n",
       "      <th></th>\n",
       "      <th></th>\n",
       "      <th></th>\n",
       "      <th></th>\n",
       "      <th></th>\n",
       "      <th></th>\n",
       "    </tr>\n",
       "  </thead>\n",
       "  <tbody>\n",
       "    <tr>\n",
       "      <th>surf</th>\n",
       "      <td>1573.0</td>\n",
       "      <td>282.117724</td>\n",
       "      <td>163.239312</td>\n",
       "      <td>20.0</td>\n",
       "      <td>173.51</td>\n",
       "      <td>290.0</td>\n",
       "      <td>390.0</td>\n",
       "      <td>1210.37</td>\n",
       "    </tr>\n",
       "    <tr>\n",
       "      <th>ultimate</th>\n",
       "      <td>720.0</td>\n",
       "      <td>166.629167</td>\n",
       "      <td>87.318976</td>\n",
       "      <td>70.0</td>\n",
       "      <td>84.00</td>\n",
       "      <td>154.0</td>\n",
       "      <td>217.0</td>\n",
       "      <td>532.00</td>\n",
       "    </tr>\n",
       "  </tbody>\n",
       "</table>\n",
       "</div>"
      ],
      "text/plain": [
       "           count        mean         std   min     25%    50%    75%      max\n",
       "plan                                                                         \n",
       "surf      1573.0  282.117724  163.239312  20.0  173.51  290.0  390.0  1210.37\n",
       "ultimate   720.0  166.629167   87.318976  70.0   84.00  154.0  217.0   532.00"
      ]
     },
     "execution_count": 41,
     "metadata": {},
     "output_type": "execute_result"
    }
   ],
   "source": [
    "# Agrupar por plan y calcular estadísticas descriptivas\n",
    "plan_revenue_stats = merged_data.groupby('plan')['total_monthly_income'].describe()\n",
    "\n",
    "# Mostrar las estadísticas descriptivas\n",
    "plan_revenue_stats\n"
   ]
  },
  {
   "cell_type": "markdown",
   "metadata": {
    "id": "KAFidcXZ0q1P"
   },
   "source": [
    "[Elabora las conclusiones sobre cómo difiere el ingreso entre los planes.]\n",
    "\n",
    "La media de ingreso es mayor en el plan ultimate debido a que este tiene un coste mas alto hacia los usuarios."
   ]
  },
  {
   "cell_type": "markdown",
   "metadata": {
    "id": "ajJ7VKeI0q1Q"
   },
   "source": [
    "## Prueba las hipótesis estadísticas"
   ]
  },
  {
   "cell_type": "markdown",
   "metadata": {
    "id": "AdXAZ-yL0q1Q"
   },
   "source": [
    "[Prueba la hipótesis de que son diferentes los ingresos promedio procedentes de los usuarios de los planes de llamada Ultimate y Surf.]"
   ]
  },
  {
   "cell_type": "markdown",
   "metadata": {
    "id": "IQwa_hsh0q1Q"
   },
   "source": [
    "[Elabora las hipótesis nula y alternativa, escoge la prueba estadística, determina el valor alfa.]"
   ]
  },
  {
   "cell_type": "code",
   "execution_count": 42,
   "metadata": {},
   "outputs": [
    {
     "data": {
      "text/html": [
       "<div>\n",
       "<style scoped>\n",
       "    .dataframe tbody tr th:only-of-type {\n",
       "        vertical-align: middle;\n",
       "    }\n",
       "\n",
       "    .dataframe tbody tr th {\n",
       "        vertical-align: top;\n",
       "    }\n",
       "\n",
       "    .dataframe thead th {\n",
       "        text-align: right;\n",
       "    }\n",
       "</style>\n",
       "<table border=\"1\" class=\"dataframe\">\n",
       "  <thead>\n",
       "    <tr style=\"text-align: right;\">\n",
       "      <th></th>\n",
       "      <th>user_id</th>\n",
       "      <th>month</th>\n",
       "      <th>num_calls</th>\n",
       "      <th>total_minutes</th>\n",
       "      <th>total_messages</th>\n",
       "      <th>total_GB</th>\n",
       "      <th>first_name</th>\n",
       "      <th>last_name</th>\n",
       "      <th>age</th>\n",
       "      <th>city</th>\n",
       "      <th>...</th>\n",
       "      <th>usd_per_minute</th>\n",
       "      <th>GB_per_month_included</th>\n",
       "      <th>basic_income</th>\n",
       "      <th>extra_minutes</th>\n",
       "      <th>extra_messages</th>\n",
       "      <th>extra_GB</th>\n",
       "      <th>extra_minutes_income</th>\n",
       "      <th>extra_messages_income</th>\n",
       "      <th>extra_GB_income</th>\n",
       "      <th>total_monthly_income</th>\n",
       "    </tr>\n",
       "  </thead>\n",
       "  <tbody>\n",
       "    <tr>\n",
       "      <th>0</th>\n",
       "      <td>1000</td>\n",
       "      <td>December</td>\n",
       "      <td>16.0</td>\n",
       "      <td>124.0</td>\n",
       "      <td>11.0</td>\n",
       "      <td>4.0</td>\n",
       "      <td>Anamaria</td>\n",
       "      <td>Bauer</td>\n",
       "      <td>45</td>\n",
       "      <td>Atlanta-Sandy Springs-Roswell, GA MSA</td>\n",
       "      <td>...</td>\n",
       "      <td>0.01</td>\n",
       "      <td>30.0</td>\n",
       "      <td>70.0</td>\n",
       "      <td>0.0</td>\n",
       "      <td>0.0</td>\n",
       "      <td>0.0</td>\n",
       "      <td>0.0</td>\n",
       "      <td>0.00</td>\n",
       "      <td>0.0</td>\n",
       "      <td>70.00</td>\n",
       "    </tr>\n",
       "    <tr>\n",
       "      <th>1</th>\n",
       "      <td>1001</td>\n",
       "      <td>August</td>\n",
       "      <td>27.0</td>\n",
       "      <td>182.0</td>\n",
       "      <td>30.0</td>\n",
       "      <td>21.0</td>\n",
       "      <td>Mickey</td>\n",
       "      <td>Wilkerson</td>\n",
       "      <td>28</td>\n",
       "      <td>Seattle-Tacoma-Bellevue, WA MSA</td>\n",
       "      <td>...</td>\n",
       "      <td>0.03</td>\n",
       "      <td>15.0</td>\n",
       "      <td>20.0</td>\n",
       "      <td>0.0</td>\n",
       "      <td>0.0</td>\n",
       "      <td>6.0</td>\n",
       "      <td>0.0</td>\n",
       "      <td>0.00</td>\n",
       "      <td>60.0</td>\n",
       "      <td>80.00</td>\n",
       "    </tr>\n",
       "    <tr>\n",
       "      <th>2</th>\n",
       "      <td>1001</td>\n",
       "      <td>December</td>\n",
       "      <td>56.0</td>\n",
       "      <td>412.0</td>\n",
       "      <td>44.0</td>\n",
       "      <td>55.0</td>\n",
       "      <td>Mickey</td>\n",
       "      <td>Wilkerson</td>\n",
       "      <td>28</td>\n",
       "      <td>Seattle-Tacoma-Bellevue, WA MSA</td>\n",
       "      <td>...</td>\n",
       "      <td>0.03</td>\n",
       "      <td>15.0</td>\n",
       "      <td>20.0</td>\n",
       "      <td>0.0</td>\n",
       "      <td>0.0</td>\n",
       "      <td>40.0</td>\n",
       "      <td>0.0</td>\n",
       "      <td>0.00</td>\n",
       "      <td>400.0</td>\n",
       "      <td>420.00</td>\n",
       "    </tr>\n",
       "    <tr>\n",
       "      <th>3</th>\n",
       "      <td>1001</td>\n",
       "      <td>November</td>\n",
       "      <td>64.0</td>\n",
       "      <td>426.0</td>\n",
       "      <td>36.0</td>\n",
       "      <td>49.0</td>\n",
       "      <td>Mickey</td>\n",
       "      <td>Wilkerson</td>\n",
       "      <td>28</td>\n",
       "      <td>Seattle-Tacoma-Bellevue, WA MSA</td>\n",
       "      <td>...</td>\n",
       "      <td>0.03</td>\n",
       "      <td>15.0</td>\n",
       "      <td>20.0</td>\n",
       "      <td>0.0</td>\n",
       "      <td>0.0</td>\n",
       "      <td>34.0</td>\n",
       "      <td>0.0</td>\n",
       "      <td>0.00</td>\n",
       "      <td>340.0</td>\n",
       "      <td>360.00</td>\n",
       "    </tr>\n",
       "    <tr>\n",
       "      <th>4</th>\n",
       "      <td>1001</td>\n",
       "      <td>October</td>\n",
       "      <td>65.0</td>\n",
       "      <td>393.0</td>\n",
       "      <td>53.0</td>\n",
       "      <td>50.0</td>\n",
       "      <td>Mickey</td>\n",
       "      <td>Wilkerson</td>\n",
       "      <td>28</td>\n",
       "      <td>Seattle-Tacoma-Bellevue, WA MSA</td>\n",
       "      <td>...</td>\n",
       "      <td>0.03</td>\n",
       "      <td>15.0</td>\n",
       "      <td>20.0</td>\n",
       "      <td>0.0</td>\n",
       "      <td>3.0</td>\n",
       "      <td>35.0</td>\n",
       "      <td>0.0</td>\n",
       "      <td>0.09</td>\n",
       "      <td>350.0</td>\n",
       "      <td>370.09</td>\n",
       "    </tr>\n",
       "    <tr>\n",
       "      <th>...</th>\n",
       "      <td>...</td>\n",
       "      <td>...</td>\n",
       "      <td>...</td>\n",
       "      <td>...</td>\n",
       "      <td>...</td>\n",
       "      <td>...</td>\n",
       "      <td>...</td>\n",
       "      <td>...</td>\n",
       "      <td>...</td>\n",
       "      <td>...</td>\n",
       "      <td>...</td>\n",
       "      <td>...</td>\n",
       "      <td>...</td>\n",
       "      <td>...</td>\n",
       "      <td>...</td>\n",
       "      <td>...</td>\n",
       "      <td>...</td>\n",
       "      <td>...</td>\n",
       "      <td>...</td>\n",
       "      <td>...</td>\n",
       "      <td>...</td>\n",
       "    </tr>\n",
       "    <tr>\n",
       "      <th>2288</th>\n",
       "      <td>1349</td>\n",
       "      <td>October</td>\n",
       "      <td>0.0</td>\n",
       "      <td>0.0</td>\n",
       "      <td>76.0</td>\n",
       "      <td>27.0</td>\n",
       "      <td>Florentina</td>\n",
       "      <td>Diaz</td>\n",
       "      <td>69</td>\n",
       "      <td>Boston-Cambridge-Newton, MA-NH MSA</td>\n",
       "      <td>...</td>\n",
       "      <td>0.03</td>\n",
       "      <td>15.0</td>\n",
       "      <td>20.0</td>\n",
       "      <td>0.0</td>\n",
       "      <td>26.0</td>\n",
       "      <td>12.0</td>\n",
       "      <td>0.0</td>\n",
       "      <td>0.78</td>\n",
       "      <td>120.0</td>\n",
       "      <td>140.78</td>\n",
       "    </tr>\n",
       "    <tr>\n",
       "      <th>2289</th>\n",
       "      <td>1361</td>\n",
       "      <td>May</td>\n",
       "      <td>0.0</td>\n",
       "      <td>0.0</td>\n",
       "      <td>2.0</td>\n",
       "      <td>7.0</td>\n",
       "      <td>Jacelyn</td>\n",
       "      <td>Hoffman</td>\n",
       "      <td>45</td>\n",
       "      <td>Birmingham-Hoover, AL MSA</td>\n",
       "      <td>...</td>\n",
       "      <td>0.03</td>\n",
       "      <td>15.0</td>\n",
       "      <td>20.0</td>\n",
       "      <td>0.0</td>\n",
       "      <td>0.0</td>\n",
       "      <td>0.0</td>\n",
       "      <td>0.0</td>\n",
       "      <td>0.00</td>\n",
       "      <td>0.0</td>\n",
       "      <td>20.00</td>\n",
       "    </tr>\n",
       "    <tr>\n",
       "      <th>2290</th>\n",
       "      <td>1482</td>\n",
       "      <td>October</td>\n",
       "      <td>0.0</td>\n",
       "      <td>0.0</td>\n",
       "      <td>2.0</td>\n",
       "      <td>0.0</td>\n",
       "      <td>Armand</td>\n",
       "      <td>Glenn</td>\n",
       "      <td>70</td>\n",
       "      <td>New York-Newark-Jersey City, NY-NJ-PA MSA</td>\n",
       "      <td>...</td>\n",
       "      <td>0.01</td>\n",
       "      <td>30.0</td>\n",
       "      <td>70.0</td>\n",
       "      <td>0.0</td>\n",
       "      <td>0.0</td>\n",
       "      <td>0.0</td>\n",
       "      <td>0.0</td>\n",
       "      <td>0.00</td>\n",
       "      <td>0.0</td>\n",
       "      <td>70.00</td>\n",
       "    </tr>\n",
       "    <tr>\n",
       "      <th>2291</th>\n",
       "      <td>1108</td>\n",
       "      <td>December</td>\n",
       "      <td>0.0</td>\n",
       "      <td>0.0</td>\n",
       "      <td>0.0</td>\n",
       "      <td>2.0</td>\n",
       "      <td>Porfirio</td>\n",
       "      <td>Kane</td>\n",
       "      <td>45</td>\n",
       "      <td>Salt Lake City, UT MSA</td>\n",
       "      <td>...</td>\n",
       "      <td>0.01</td>\n",
       "      <td>30.0</td>\n",
       "      <td>70.0</td>\n",
       "      <td>0.0</td>\n",
       "      <td>0.0</td>\n",
       "      <td>0.0</td>\n",
       "      <td>0.0</td>\n",
       "      <td>0.00</td>\n",
       "      <td>0.0</td>\n",
       "      <td>70.00</td>\n",
       "    </tr>\n",
       "    <tr>\n",
       "      <th>2292</th>\n",
       "      <td>1311</td>\n",
       "      <td>June</td>\n",
       "      <td>0.0</td>\n",
       "      <td>0.0</td>\n",
       "      <td>0.0</td>\n",
       "      <td>7.0</td>\n",
       "      <td>Cherlyn</td>\n",
       "      <td>Saunders</td>\n",
       "      <td>69</td>\n",
       "      <td>Memphis, TN-MS-AR MSA</td>\n",
       "      <td>...</td>\n",
       "      <td>0.01</td>\n",
       "      <td>30.0</td>\n",
       "      <td>70.0</td>\n",
       "      <td>0.0</td>\n",
       "      <td>0.0</td>\n",
       "      <td>0.0</td>\n",
       "      <td>0.0</td>\n",
       "      <td>0.00</td>\n",
       "      <td>0.0</td>\n",
       "      <td>70.00</td>\n",
       "    </tr>\n",
       "  </tbody>\n",
       "</table>\n",
       "<p>2293 rows × 33 columns</p>\n",
       "</div>"
      ],
      "text/plain": [
       "      user_id     month  num_calls  total_minutes  total_messages  total_GB  \\\n",
       "0        1000  December       16.0          124.0            11.0       4.0   \n",
       "1        1001    August       27.0          182.0            30.0      21.0   \n",
       "2        1001  December       56.0          412.0            44.0      55.0   \n",
       "3        1001  November       64.0          426.0            36.0      49.0   \n",
       "4        1001   October       65.0          393.0            53.0      50.0   \n",
       "...       ...       ...        ...            ...             ...       ...   \n",
       "2288     1349   October        0.0            0.0            76.0      27.0   \n",
       "2289     1361       May        0.0            0.0             2.0       7.0   \n",
       "2290     1482   October        0.0            0.0             2.0       0.0   \n",
       "2291     1108  December        0.0            0.0             0.0       2.0   \n",
       "2292     1311      June        0.0            0.0             0.0       7.0   \n",
       "\n",
       "      first_name  last_name  age                                       city  \\\n",
       "0       Anamaria      Bauer   45      Atlanta-Sandy Springs-Roswell, GA MSA   \n",
       "1         Mickey  Wilkerson   28            Seattle-Tacoma-Bellevue, WA MSA   \n",
       "2         Mickey  Wilkerson   28            Seattle-Tacoma-Bellevue, WA MSA   \n",
       "3         Mickey  Wilkerson   28            Seattle-Tacoma-Bellevue, WA MSA   \n",
       "4         Mickey  Wilkerson   28            Seattle-Tacoma-Bellevue, WA MSA   \n",
       "...          ...        ...  ...                                        ...   \n",
       "2288  Florentina       Diaz   69         Boston-Cambridge-Newton, MA-NH MSA   \n",
       "2289     Jacelyn    Hoffman   45                  Birmingham-Hoover, AL MSA   \n",
       "2290      Armand      Glenn   70  New York-Newark-Jersey City, NY-NJ-PA MSA   \n",
       "2291    Porfirio       Kane   45                     Salt Lake City, UT MSA   \n",
       "2292     Cherlyn   Saunders   69                      Memphis, TN-MS-AR MSA   \n",
       "\n",
       "      ... usd_per_minute GB_per_month_included basic_income  extra_minutes  \\\n",
       "0     ...           0.01                  30.0         70.0            0.0   \n",
       "1     ...           0.03                  15.0         20.0            0.0   \n",
       "2     ...           0.03                  15.0         20.0            0.0   \n",
       "3     ...           0.03                  15.0         20.0            0.0   \n",
       "4     ...           0.03                  15.0         20.0            0.0   \n",
       "...   ...            ...                   ...          ...            ...   \n",
       "2288  ...           0.03                  15.0         20.0            0.0   \n",
       "2289  ...           0.03                  15.0         20.0            0.0   \n",
       "2290  ...           0.01                  30.0         70.0            0.0   \n",
       "2291  ...           0.01                  30.0         70.0            0.0   \n",
       "2292  ...           0.01                  30.0         70.0            0.0   \n",
       "\n",
       "     extra_messages extra_GB extra_minutes_income  extra_messages_income  \\\n",
       "0               0.0      0.0                  0.0                   0.00   \n",
       "1               0.0      6.0                  0.0                   0.00   \n",
       "2               0.0     40.0                  0.0                   0.00   \n",
       "3               0.0     34.0                  0.0                   0.00   \n",
       "4               3.0     35.0                  0.0                   0.09   \n",
       "...             ...      ...                  ...                    ...   \n",
       "2288           26.0     12.0                  0.0                   0.78   \n",
       "2289            0.0      0.0                  0.0                   0.00   \n",
       "2290            0.0      0.0                  0.0                   0.00   \n",
       "2291            0.0      0.0                  0.0                   0.00   \n",
       "2292            0.0      0.0                  0.0                   0.00   \n",
       "\n",
       "      extra_GB_income  total_monthly_income  \n",
       "0                 0.0                 70.00  \n",
       "1                60.0                 80.00  \n",
       "2               400.0                420.00  \n",
       "3               340.0                360.00  \n",
       "4               350.0                370.09  \n",
       "...               ...                   ...  \n",
       "2288            120.0                140.78  \n",
       "2289              0.0                 20.00  \n",
       "2290              0.0                 70.00  \n",
       "2291              0.0                 70.00  \n",
       "2292              0.0                 70.00  \n",
       "\n",
       "[2293 rows x 33 columns]"
      ]
     },
     "execution_count": 42,
     "metadata": {},
     "output_type": "execute_result"
    }
   ],
   "source": [
    "merged_data"
   ]
  },
  {
   "cell_type": "code",
   "execution_count": 48,
   "metadata": {
    "id": "nFoPNlPq0q1R"
   },
   "outputs": [
    {
     "name": "stdout",
     "output_type": "stream",
     "text": [
      "Valor p resultante: 2.3248333100718407e-97\n",
      "Rechazamos la hipótesis nula.\n"
     ]
    }
   ],
   "source": [
    "# Prueba las hipótesis\n",
    "\n",
    "# Hipótesis nula = ingreso promedio de los usuarios de las tarifas (surf - ultimate) no son diferentes\n",
    "# Hipótesis alternativa = ingreso promedio de los usuarios de las tarifas (surf - ultimate) son diferentes\n",
    "\n",
    "# Filtrar los datos para los planes \"Ultimate\" y \"Surf\"\n",
    "surf_p = merged_data[merged_data['plan'] == 'surf']['total_monthly_income']\n",
    "ultimate_p = merged_data[merged_data['plan'] == 'ultimate']['total_monthly_income']\n",
    "\n",
    "# Establecer el nivel de significancia comúnmente utilizado\n",
    "alpha = 0.05\n",
    "\n",
    "# Realizar la prueba t de dos muestras\n",
    "results = st.ttest_ind(surf_p, ultimate_p, equal_var = False)\n",
    "\n",
    "# Imprimir valor p resultante\n",
    "print('Valor p resultante:', results.pvalue)\n",
    "\n",
    "# Comarar el valor p con el umbral\n",
    "if(results.pvalue < alpha):\n",
    "    print('Rechazamos la hipótesis nula.')\n",
    "else:\n",
    "    print('No rechazamos la hipótesis nula.')\n",
    "        \n",
    "    \n",
    "\n"
   ]
  },
  {
   "cell_type": "markdown",
   "metadata": {
    "id": "tCcAruM60q1R"
   },
   "source": [
    "[Prueba la hipótesis de que el ingreso promedio de los usuarios del área NY-NJ es diferente al de los usuarios de otras regiones.]"
   ]
  },
  {
   "cell_type": "markdown",
   "metadata": {
    "id": "LsBgitqj0q1R"
   },
   "source": [
    "[Elabora las hipótesis nula y alternativa, escoge la prueba estadística, determina el valor alfa.]"
   ]
  },
  {
   "cell_type": "code",
   "execution_count": 50,
   "metadata": {
    "id": "Cqcj7wrZ0q1S"
   },
   "outputs": [],
   "source": [
    "# Prueba las hipótesis\n",
    "\n",
    "# Filtrar los datos para el área NY-NJ y otras regiones\n",
    "NY_NJ = merged_data[merged_data['city'].str.contains('NJ','NY')]\n",
    "\n",
    "result_NY_NJ = NY_NJ['total_monthly_income']\n",
    "other_regions = merged_data[~merged_data['city'].str.contains('NJ','NY')]['total_monthly_income']"
   ]
  },
  {
   "cell_type": "code",
   "execution_count": 51,
   "metadata": {},
   "outputs": [
    {
     "name": "stdout",
     "output_type": "stream",
     "text": [
      "Valor p resultante: 0.14955945844501195\n",
      "No rechazamos la hipótesis nula.\n"
     ]
    }
   ],
   "source": [
    "# Establecer el nivel de significancia comúnmente utilizado\n",
    "alpha = 0.05\n",
    "\n",
    "# Realizar la prueba t de dos muestras\n",
    "results = st.ttest_ind(result_NY_NJ, other_regions, nan_policy = 'omit', equal_var = False)\n",
    "\n",
    "# Imprimir valor p resultante\n",
    "print('Valor p resultante:', results.pvalue)\n",
    "\n",
    "# Comarar el valor p con el umbral\n",
    "if(results.pvalue < alpha):\n",
    "    print('Rechazamos la hipótesis nula.')\n",
    "else:\n",
    "    print('No rechazamos la hipótesis nula.')\n"
   ]
  },
  {
   "cell_type": "markdown",
   "metadata": {
    "id": "bbTR8UQO0q1T"
   },
   "source": [
    "## Conclusión general\n",
    "\n",
    "[En esta sección final, enumera tus conclusiones importantes. Asegúrate de que estas abarquen todas las decisiones (suposiciones) importantes que adoptaste y que determinaron la forma elegida para procesar y analizar los datos.]\n",
    "\n",
    "Los resultados indican que los usuarios del plan surf tienden a usar mas minutos en las llamadas, una mayoria de mensajes y mas megas de internet, sin embargo, al momento de observar las medias en los tres casos, nos podemos dar cuenta que por algunos datos que sobrepasan los valores de los cuartiles, la media del plan ultimate en todos los casos se mantiene mayor.\n",
    "\n",
    "\n",
    "Por otra parte, mediante la prueba de las hipótesis, se puede afirmar que que el ingreso promedio de los planes surf - ultimate son diferentes, y también podemos decir que el ingreso promedio de los usuarios NY-NJ no difiere en gran medida de otras regiones.\n"
   ]
  }
 ],
 "metadata": {
  "ExecuteTimeLog": [
   {
    "duration": 828,
    "start_time": "2021-11-16T09:21:11.304Z"
   },
   {
    "duration": 893,
    "start_time": "2021-11-16T09:21:17.728Z"
   },
   {
    "duration": 1150,
    "start_time": "2021-11-16T09:21:29.568Z"
   },
   {
    "duration": 3,
    "start_time": "2021-11-16T09:24:14.495Z"
   },
   {
    "duration": 120,
    "start_time": "2021-11-16T09:24:46.630Z"
   },
   {
    "duration": 3,
    "start_time": "2021-11-16T09:28:27.882Z"
   },
   {
    "duration": 4,
    "start_time": "2021-11-16T09:29:54.281Z"
   },
   {
    "duration": 3,
    "start_time": "2021-11-16T09:30:45.936Z"
   },
   {
    "duration": 4,
    "start_time": "2021-11-16T09:31:06.300Z"
   },
   {
    "duration": 113,
    "start_time": "2021-11-16T09:31:37.208Z"
   },
   {
    "duration": 143,
    "start_time": "2021-11-16T09:31:48.656Z"
   },
   {
    "duration": 98,
    "start_time": "2021-11-16T09:31:55.678Z"
   },
   {
    "duration": 3,
    "start_time": "2021-11-16T09:32:08.535Z"
   },
   {
    "duration": 111,
    "start_time": "2021-11-16T09:32:10.120Z"
   },
   {
    "duration": 3,
    "start_time": "2021-11-16T09:32:15.732Z"
   },
   {
    "duration": 4,
    "start_time": "2021-11-16T09:32:29.423Z"
   },
   {
    "duration": 3,
    "start_time": "2021-11-16T10:03:03.074Z"
   },
   {
    "duration": 3,
    "start_time": "2021-11-16T10:10:01.288Z"
   },
   {
    "duration": 3,
    "start_time": "2021-11-16T10:10:46.923Z"
   },
   {
    "duration": 121,
    "start_time": "2021-11-16T10:37:46.494Z"
   },
   {
    "duration": 125,
    "start_time": "2021-11-16T10:38:20.632Z"
   },
   {
    "duration": 112,
    "start_time": "2021-11-16T10:46:53.001Z"
   },
   {
    "duration": 110,
    "start_time": "2021-11-16T10:48:25.775Z"
   },
   {
    "duration": 3,
    "start_time": "2021-11-16T10:50:18.720Z"
   },
   {
    "duration": 4,
    "start_time": "2021-11-16T10:50:37.649Z"
   },
   {
    "duration": 2,
    "start_time": "2021-11-16T10:50:51.884Z"
   },
   {
    "duration": 3,
    "start_time": "2021-11-16T10:51:56.237Z"
   },
   {
    "duration": 101,
    "start_time": "2021-11-16T10:53:13.791Z"
   },
   {
    "duration": 3,
    "start_time": "2021-11-16T10:55:59.186Z"
   },
   {
    "duration": 3,
    "start_time": "2021-11-16T10:56:10.751Z"
   },
   {
    "duration": 3,
    "start_time": "2021-11-16T10:56:49.038Z"
   },
   {
    "duration": 3,
    "start_time": "2021-11-16T10:56:49.174Z"
   },
   {
    "duration": 4,
    "start_time": "2021-11-16T10:56:49.414Z"
   },
   {
    "duration": 3,
    "start_time": "2021-11-16T10:56:49.680Z"
   },
   {
    "duration": 3,
    "start_time": "2021-11-16T10:56:50.370Z"
   },
   {
    "duration": 114,
    "start_time": "2021-11-16T10:59:34.518Z"
   },
   {
    "duration": 3,
    "start_time": "2021-11-16T11:01:41.201Z"
   },
   {
    "duration": 116,
    "start_time": "2021-11-16T11:01:48.754Z"
   },
   {
    "duration": 3,
    "start_time": "2021-11-16T11:02:16.685Z"
   },
   {
    "duration": 3,
    "start_time": "2021-11-16T11:02:19.479Z"
   },
   {
    "duration": 3,
    "start_time": "2021-11-16T11:02:47.067Z"
   },
   {
    "duration": 3,
    "start_time": "2021-11-16T11:02:49.353Z"
   },
   {
    "duration": 3,
    "start_time": "2021-11-16T11:03:07.835Z"
   },
   {
    "duration": 3,
    "start_time": "2021-11-16T11:03:07.953Z"
   },
   {
    "duration": 112,
    "start_time": "2021-11-16T11:07:52.072Z"
   },
   {
    "duration": 187,
    "start_time": "2021-11-16T11:09:23.468Z"
   },
   {
    "duration": 4,
    "start_time": "2021-11-16T11:10:01.455Z"
   },
   {
    "duration": 3,
    "start_time": "2021-11-16T11:10:05.069Z"
   },
   {
    "duration": 4,
    "start_time": "2021-11-16T11:10:13.376Z"
   },
   {
    "duration": 3,
    "start_time": "2021-11-16T11:10:14.434Z"
   },
   {
    "duration": 3,
    "start_time": "2021-11-16T11:10:22.853Z"
   },
   {
    "duration": 4,
    "start_time": "2021-11-16T11:27:29.279Z"
   },
   {
    "duration": 4,
    "start_time": "2021-11-16T11:29:08.919Z"
   },
   {
    "duration": 118,
    "start_time": "2021-11-16T11:29:46.703Z"
   },
   {
    "duration": 437,
    "start_time": "2021-11-16T11:36:02.181Z"
   },
   {
    "duration": 157,
    "start_time": "2021-11-16T11:36:14.388Z"
   },
   {
    "duration": 207,
    "start_time": "2021-11-16T11:47:15.898Z"
   },
   {
    "duration": 3,
    "start_time": "2021-11-16T11:53:52.092Z"
   },
   {
    "duration": 3,
    "start_time": "2021-11-16T11:53:52.236Z"
   },
   {
    "duration": 3,
    "start_time": "2021-11-16T11:59:12.005Z"
   },
   {
    "duration": 112,
    "start_time": "2021-11-16T12:00:33.446Z"
   },
   {
    "duration": 3,
    "start_time": "2021-11-16T12:02:14.453Z"
   },
   {
    "duration": 3,
    "start_time": "2021-11-16T12:02:39.512Z"
   },
   {
    "duration": 106,
    "start_time": "2021-11-16T12:03:03.460Z"
   },
   {
    "duration": 3,
    "start_time": "2021-11-17T20:37:21.139Z"
   },
   {
    "duration": 3,
    "start_time": "2021-11-17T20:37:22.229Z"
   },
   {
    "duration": 3,
    "start_time": "2021-11-17T20:38:38.806Z"
   },
   {
    "duration": 3,
    "start_time": "2021-11-17T20:38:41.958Z"
   },
   {
    "duration": 3,
    "start_time": "2021-11-17T20:43:46.551Z"
   },
   {
    "duration": 4,
    "start_time": "2021-11-17T20:58:21.835Z"
   },
   {
    "duration": 3,
    "start_time": "2021-11-17T20:59:21.872Z"
   },
   {
    "duration": 4,
    "start_time": "2021-11-17T20:59:45.352Z"
   },
   {
    "duration": 4,
    "start_time": "2021-11-17T20:59:49.646Z"
   },
   {
    "duration": 159,
    "start_time": "2021-11-17T21:02:26.949Z"
   },
   {
    "duration": 3,
    "start_time": "2021-11-17T21:03:53.461Z"
   },
   {
    "duration": 3,
    "start_time": "2021-11-17T21:03:53.694Z"
   },
   {
    "duration": 3,
    "start_time": "2021-11-17T21:05:28.145Z"
   },
   {
    "duration": 116,
    "start_time": "2021-11-17T21:05:57.787Z"
   },
   {
    "duration": 3,
    "start_time": "2021-11-17T21:06:37.993Z"
   },
   {
    "duration": 3,
    "start_time": "2021-11-17T21:06:38.261Z"
   },
   {
    "duration": 3,
    "start_time": "2021-11-17T21:11:54.358Z"
   },
   {
    "duration": 3,
    "start_time": "2021-11-17T21:12:43.846Z"
   },
   {
    "duration": 4,
    "start_time": "2021-11-17T21:13:08.773Z"
   },
   {
    "duration": 3,
    "start_time": "2021-11-17T21:14:44.441Z"
   },
   {
    "duration": 3,
    "start_time": "2021-11-17T21:15:42.059Z"
   },
   {
    "duration": 4,
    "start_time": "2021-11-17T21:15:51.995Z"
   },
   {
    "duration": 3,
    "start_time": "2021-11-17T21:15:53.923Z"
   },
   {
    "duration": 3,
    "start_time": "2021-11-17T21:15:55.282Z"
   },
   {
    "duration": 3,
    "start_time": "2021-11-17T21:16:28.492Z"
   },
   {
    "duration": 3,
    "start_time": "2021-11-17T21:16:32.603Z"
   },
   {
    "duration": 3,
    "start_time": "2021-11-17T21:17:06.941Z"
   },
   {
    "duration": 98,
    "start_time": "2021-11-17T21:18:05.733Z"
   },
   {
    "duration": 4,
    "start_time": "2021-11-17T21:21:35.255Z"
   },
   {
    "duration": 3,
    "start_time": "2021-11-17T21:21:37.804Z"
   },
   {
    "duration": 4,
    "start_time": "2021-11-17T21:23:06.071Z"
   },
   {
    "duration": 3,
    "start_time": "2021-11-17T21:23:24.799Z"
   },
   {
    "duration": 3,
    "start_time": "2021-11-17T21:23:32.591Z"
   },
   {
    "duration": 98,
    "start_time": "2021-11-17T21:28:31.559Z"
   },
   {
    "duration": 3,
    "start_time": "2021-11-17T21:28:45.448Z"
   },
   {
    "duration": 3,
    "start_time": "2021-11-17T21:29:17.303Z"
   },
   {
    "duration": 3,
    "start_time": "2021-11-17T21:29:29.617Z"
   },
   {
    "duration": 3,
    "start_time": "2021-11-17T21:29:32.681Z"
   },
   {
    "duration": 3,
    "start_time": "2021-11-17T21:36:11.474Z"
   },
   {
    "duration": 3,
    "start_time": "2021-11-17T21:36:14.791Z"
   },
   {
    "duration": 3,
    "start_time": "2021-11-17T21:36:53.943Z"
   },
   {
    "duration": 3,
    "start_time": "2021-11-17T21:36:56.165Z"
   },
   {
    "duration": 4,
    "start_time": "2021-11-17T21:37:16.590Z"
   },
   {
    "duration": 3,
    "start_time": "2021-11-17T21:37:22.702Z"
   },
   {
    "duration": 4,
    "start_time": "2021-11-17T21:38:03.479Z"
   },
   {
    "duration": 3,
    "start_time": "2021-11-17T21:38:08.601Z"
   },
   {
    "duration": 3,
    "start_time": "2021-11-17T21:38:12.928Z"
   },
   {
    "duration": 3,
    "start_time": "2021-11-17T21:38:48.896Z"
   },
   {
    "duration": 2,
    "start_time": "2021-11-17T21:38:49.171Z"
   },
   {
    "duration": 4,
    "start_time": "2021-11-17T21:39:57.889Z"
   },
   {
    "duration": 3,
    "start_time": "2021-11-17T21:39:58.057Z"
   },
   {
    "duration": 3,
    "start_time": "2021-11-17T21:41:20.108Z"
   },
   {
    "duration": 3,
    "start_time": "2021-11-17T21:41:20.629Z"
   },
   {
    "duration": 3,
    "start_time": "2021-11-17T21:42:49.136Z"
   },
   {
    "duration": 3,
    "start_time": "2021-11-17T21:43:15.137Z"
   },
   {
    "duration": 4,
    "start_time": "2021-11-17T21:43:16.766Z"
   },
   {
    "duration": 4,
    "start_time": "2021-11-17T21:43:31.711Z"
   },
   {
    "duration": 3,
    "start_time": "2021-11-17T21:43:36.312Z"
   },
   {
    "duration": 4,
    "start_time": "2021-11-17T21:45:08.825Z"
   },
   {
    "duration": 4,
    "start_time": "2021-11-17T21:45:10.119Z"
   },
   {
    "duration": 4,
    "start_time": "2021-11-17T21:45:13.748Z"
   },
   {
    "duration": 3,
    "start_time": "2021-11-17T21:45:22.219Z"
   },
   {
    "duration": 3,
    "start_time": "2021-11-17T21:45:33.412Z"
   },
   {
    "duration": 2,
    "start_time": "2021-11-17T21:46:01.885Z"
   },
   {
    "duration": 3,
    "start_time": "2021-11-17T21:46:03.628Z"
   },
   {
    "duration": 107,
    "start_time": "2021-11-17T21:47:32.512Z"
   },
   {
    "duration": 103,
    "start_time": "2021-11-17T21:50:36.243Z"
   },
   {
    "duration": 3,
    "start_time": "2021-11-18T06:28:31.440Z"
   },
   {
    "duration": 3,
    "start_time": "2021-11-18T06:29:00.168Z"
   },
   {
    "duration": 3,
    "start_time": "2021-11-18T06:31:27.008Z"
   },
   {
    "duration": 2,
    "start_time": "2021-11-18T06:35:34.288Z"
   },
   {
    "duration": 2,
    "start_time": "2021-11-18T06:38:04.527Z"
   },
   {
    "duration": 5123,
    "start_time": "2024-06-07T03:08:50.369Z"
   },
   {
    "duration": 150,
    "start_time": "2024-06-07T03:10:28.280Z"
   },
   {
    "duration": 324,
    "start_time": "2024-06-07T03:13:26.253Z"
   },
   {
    "duration": 17,
    "start_time": "2024-06-07T03:14:30.238Z"
   },
   {
    "duration": 5029,
    "start_time": "2024-06-08T03:12:50.308Z"
   },
   {
    "duration": 356,
    "start_time": "2024-06-08T03:12:55.340Z"
   },
   {
    "duration": 16,
    "start_time": "2024-06-08T03:12:55.699Z"
   },
   {
    "duration": 7,
    "start_time": "2024-06-08T03:12:55.718Z"
   },
   {
    "duration": 18,
    "start_time": "2024-06-08T03:12:55.729Z"
   },
   {
    "duration": 3,
    "start_time": "2024-06-08T03:12:55.751Z"
   },
   {
    "duration": 5,
    "start_time": "2024-06-08T03:12:55.757Z"
   },
   {
    "duration": 4,
    "start_time": "2024-06-08T03:12:55.766Z"
   },
   {
    "duration": 42,
    "start_time": "2024-06-08T03:12:55.772Z"
   },
   {
    "duration": 5,
    "start_time": "2024-06-08T03:12:55.817Z"
   },
   {
    "duration": 3,
    "start_time": "2024-06-08T03:12:55.825Z"
   },
   {
    "duration": 17,
    "start_time": "2024-06-08T03:12:55.831Z"
   },
   {
    "duration": 3,
    "start_time": "2024-06-08T03:12:55.851Z"
   },
   {
    "duration": 3,
    "start_time": "2024-06-08T03:12:55.860Z"
   },
   {
    "duration": 4,
    "start_time": "2024-06-08T03:12:55.866Z"
   },
   {
    "duration": 4,
    "start_time": "2024-06-08T03:12:55.914Z"
   },
   {
    "duration": 5,
    "start_time": "2024-06-08T03:12:55.921Z"
   },
   {
    "duration": 4,
    "start_time": "2024-06-08T03:12:55.930Z"
   },
   {
    "duration": 4,
    "start_time": "2024-06-08T03:12:55.938Z"
   },
   {
    "duration": 4,
    "start_time": "2024-06-08T03:12:55.946Z"
   },
   {
    "duration": 4,
    "start_time": "2024-06-08T03:12:55.954Z"
   },
   {
    "duration": 3,
    "start_time": "2024-06-08T03:12:56.014Z"
   },
   {
    "duration": 3,
    "start_time": "2024-06-08T03:12:56.021Z"
   },
   {
    "duration": 4,
    "start_time": "2024-06-08T03:12:56.027Z"
   },
   {
    "duration": 5,
    "start_time": "2024-06-08T03:12:56.034Z"
   },
   {
    "duration": 4,
    "start_time": "2024-06-08T03:12:56.041Z"
   },
   {
    "duration": 4,
    "start_time": "2024-06-08T03:12:56.049Z"
   },
   {
    "duration": 57,
    "start_time": "2024-06-08T03:12:56.056Z"
   },
   {
    "duration": 11,
    "start_time": "2024-06-08T03:14:42.842Z"
   },
   {
    "duration": 16,
    "start_time": "2024-06-08T03:15:16.378Z"
   },
   {
    "duration": 5185,
    "start_time": "2024-06-08T20:00:19.307Z"
   },
   {
    "duration": 466,
    "start_time": "2024-06-08T20:00:24.498Z"
   },
   {
    "duration": 19,
    "start_time": "2024-06-08T20:00:24.972Z"
   },
   {
    "duration": 32,
    "start_time": "2024-06-08T20:00:24.997Z"
   },
   {
    "duration": 16,
    "start_time": "2024-06-08T20:00:25.034Z"
   },
   {
    "duration": 4,
    "start_time": "2024-06-08T20:00:25.054Z"
   },
   {
    "duration": 4,
    "start_time": "2024-06-08T20:00:25.061Z"
   },
   {
    "duration": 3,
    "start_time": "2024-06-08T20:00:25.069Z"
   },
   {
    "duration": 4,
    "start_time": "2024-06-08T20:00:25.127Z"
   },
   {
    "duration": 4,
    "start_time": "2024-06-08T20:00:25.140Z"
   },
   {
    "duration": 4,
    "start_time": "2024-06-08T20:00:25.148Z"
   },
   {
    "duration": 4,
    "start_time": "2024-06-08T20:00:25.156Z"
   },
   {
    "duration": 4,
    "start_time": "2024-06-08T20:00:25.164Z"
   },
   {
    "duration": 3,
    "start_time": "2024-06-08T20:00:25.173Z"
   },
   {
    "duration": 46,
    "start_time": "2024-06-08T20:00:25.179Z"
   },
   {
    "duration": 3,
    "start_time": "2024-06-08T20:00:25.229Z"
   },
   {
    "duration": 4,
    "start_time": "2024-06-08T20:00:25.236Z"
   },
   {
    "duration": 4,
    "start_time": "2024-06-08T20:00:25.244Z"
   },
   {
    "duration": 4,
    "start_time": "2024-06-08T20:00:25.252Z"
   },
   {
    "duration": 4,
    "start_time": "2024-06-08T20:00:25.260Z"
   },
   {
    "duration": 4,
    "start_time": "2024-06-08T20:00:25.325Z"
   },
   {
    "duration": 5,
    "start_time": "2024-06-08T20:00:25.332Z"
   },
   {
    "duration": 4,
    "start_time": "2024-06-08T20:00:25.342Z"
   },
   {
    "duration": 3,
    "start_time": "2024-06-08T20:00:25.351Z"
   },
   {
    "duration": 4,
    "start_time": "2024-06-08T20:00:25.358Z"
   },
   {
    "duration": 58,
    "start_time": "2024-06-08T20:00:25.366Z"
   },
   {
    "duration": 5,
    "start_time": "2024-06-08T20:00:25.426Z"
   },
   {
    "duration": 6,
    "start_time": "2024-06-08T20:00:25.437Z"
   },
   {
    "duration": 5047,
    "start_time": "2024-06-08T23:26:28.871Z"
   },
   {
    "duration": 365,
    "start_time": "2024-06-08T23:26:33.924Z"
   },
   {
    "duration": 17,
    "start_time": "2024-06-08T23:26:34.291Z"
   },
   {
    "duration": 16,
    "start_time": "2024-06-08T23:26:34.311Z"
   },
   {
    "duration": 16,
    "start_time": "2024-06-08T23:26:34.332Z"
   },
   {
    "duration": 4,
    "start_time": "2024-06-08T23:26:34.350Z"
   },
   {
    "duration": 3,
    "start_time": "2024-06-08T23:26:34.358Z"
   },
   {
    "duration": 3,
    "start_time": "2024-06-08T23:26:34.365Z"
   },
   {
    "duration": 45,
    "start_time": "2024-06-08T23:26:34.370Z"
   },
   {
    "duration": 4,
    "start_time": "2024-06-08T23:26:34.419Z"
   },
   {
    "duration": 4,
    "start_time": "2024-06-08T23:26:34.426Z"
   },
   {
    "duration": 3,
    "start_time": "2024-06-08T23:26:34.433Z"
   },
   {
    "duration": 3,
    "start_time": "2024-06-08T23:26:34.440Z"
   },
   {
    "duration": 3,
    "start_time": "2024-06-08T23:26:34.451Z"
   },
   {
    "duration": 57,
    "start_time": "2024-06-08T23:26:34.457Z"
   },
   {
    "duration": 4,
    "start_time": "2024-06-08T23:26:34.517Z"
   },
   {
    "duration": 5,
    "start_time": "2024-06-08T23:26:34.524Z"
   },
   {
    "duration": 4,
    "start_time": "2024-06-08T23:26:34.533Z"
   },
   {
    "duration": 4,
    "start_time": "2024-06-08T23:26:34.540Z"
   },
   {
    "duration": 4,
    "start_time": "2024-06-08T23:26:34.548Z"
   },
   {
    "duration": 3,
    "start_time": "2024-06-08T23:26:34.556Z"
   },
   {
    "duration": 3,
    "start_time": "2024-06-08T23:26:34.614Z"
   },
   {
    "duration": 3,
    "start_time": "2024-06-08T23:26:34.621Z"
   },
   {
    "duration": 4,
    "start_time": "2024-06-08T23:26:34.626Z"
   },
   {
    "duration": 3,
    "start_time": "2024-06-08T23:26:34.634Z"
   },
   {
    "duration": 3,
    "start_time": "2024-06-08T23:26:34.640Z"
   },
   {
    "duration": 3,
    "start_time": "2024-06-08T23:26:34.647Z"
   },
   {
    "duration": 57,
    "start_time": "2024-06-08T23:26:34.654Z"
   },
   {
    "duration": 9,
    "start_time": "2024-06-08T23:27:32.034Z"
   },
   {
    "duration": 473,
    "start_time": "2024-06-08T23:36:05.194Z"
   },
   {
    "duration": 944,
    "start_time": "2024-06-08T23:36:42.407Z"
   },
   {
    "duration": 10,
    "start_time": "2024-06-08T23:37:27.419Z"
   },
   {
    "duration": 10,
    "start_time": "2024-06-08T23:39:36.923Z"
   },
   {
    "duration": 13,
    "start_time": "2024-06-08T23:39:42.233Z"
   },
   {
    "duration": 93,
    "start_time": "2024-06-08T23:42:45.996Z"
   },
   {
    "duration": 9,
    "start_time": "2024-06-08T23:42:54.296Z"
   },
   {
    "duration": 10,
    "start_time": "2024-06-08T23:43:12.075Z"
   },
   {
    "duration": 15,
    "start_time": "2024-06-08T23:43:13.990Z"
   },
   {
    "duration": 12,
    "start_time": "2024-06-08T23:43:24.947Z"
   },
   {
    "duration": 15,
    "start_time": "2024-06-08T23:43:27.870Z"
   },
   {
    "duration": 10,
    "start_time": "2024-06-08T23:50:12.795Z"
   },
   {
    "duration": 17,
    "start_time": "2024-06-08T23:55:54.104Z"
   },
   {
    "duration": 10,
    "start_time": "2024-06-09T00:02:20.997Z"
   },
   {
    "duration": 12,
    "start_time": "2024-06-09T00:02:22.199Z"
   },
   {
    "duration": 10,
    "start_time": "2024-06-09T00:02:23.078Z"
   },
   {
    "duration": 11,
    "start_time": "2024-06-09T00:02:23.845Z"
   },
   {
    "duration": 11,
    "start_time": "2024-06-09T00:02:24.460Z"
   },
   {
    "duration": 11,
    "start_time": "2024-06-09T00:02:24.768Z"
   },
   {
    "duration": 10,
    "start_time": "2024-06-09T00:02:24.994Z"
   },
   {
    "duration": 10,
    "start_time": "2024-06-09T00:02:25.182Z"
   },
   {
    "duration": 11,
    "start_time": "2024-06-09T00:02:25.379Z"
   },
   {
    "duration": 9,
    "start_time": "2024-06-09T00:02:25.711Z"
   },
   {
    "duration": 12,
    "start_time": "2024-06-09T00:02:26.103Z"
   },
   {
    "duration": 11,
    "start_time": "2024-06-09T00:02:26.534Z"
   },
   {
    "duration": 12,
    "start_time": "2024-06-09T00:02:27.014Z"
   },
   {
    "duration": 11,
    "start_time": "2024-06-09T00:02:27.502Z"
   },
   {
    "duration": 10,
    "start_time": "2024-06-09T00:02:32.354Z"
   },
   {
    "duration": 14,
    "start_time": "2024-06-09T00:02:38.084Z"
   },
   {
    "duration": 14,
    "start_time": "2024-06-09T00:02:56.212Z"
   },
   {
    "duration": 34,
    "start_time": "2024-06-09T00:03:14.388Z"
   },
   {
    "duration": 22,
    "start_time": "2024-06-09T00:03:48.238Z"
   },
   {
    "duration": 24,
    "start_time": "2024-06-09T00:04:22.264Z"
   },
   {
    "duration": 519,
    "start_time": "2024-06-09T00:05:28.146Z"
   },
   {
    "duration": 10,
    "start_time": "2024-06-09T00:05:39.448Z"
   },
   {
    "duration": 11,
    "start_time": "2024-06-09T00:05:43.530Z"
   },
   {
    "duration": 4925,
    "start_time": "2024-06-09T15:01:47.509Z"
   },
   {
    "duration": 367,
    "start_time": "2024-06-09T15:01:52.438Z"
   },
   {
    "duration": 16,
    "start_time": "2024-06-09T15:01:52.808Z"
   },
   {
    "duration": 11,
    "start_time": "2024-06-09T15:01:52.827Z"
   },
   {
    "duration": 9,
    "start_time": "2024-06-09T15:01:52.843Z"
   },
   {
    "duration": 56,
    "start_time": "2024-06-09T15:01:52.856Z"
   },
   {
    "duration": 3,
    "start_time": "2024-06-09T15:01:52.915Z"
   },
   {
    "duration": 25,
    "start_time": "2024-06-09T15:01:52.921Z"
   },
   {
    "duration": 3,
    "start_time": "2024-06-09T15:01:52.949Z"
   },
   {
    "duration": 59,
    "start_time": "2024-06-09T15:01:52.955Z"
   },
   {
    "duration": 4,
    "start_time": "2024-06-09T15:01:53.019Z"
   },
   {
    "duration": 32,
    "start_time": "2024-06-09T15:01:53.030Z"
   },
   {
    "duration": 5,
    "start_time": "2024-06-09T15:01:53.065Z"
   },
   {
    "duration": 36,
    "start_time": "2024-06-09T15:01:53.077Z"
   },
   {
    "duration": 5,
    "start_time": "2024-06-09T15:01:53.118Z"
   },
   {
    "duration": 4,
    "start_time": "2024-06-09T15:01:53.127Z"
   },
   {
    "duration": 7,
    "start_time": "2024-06-09T15:01:53.136Z"
   },
   {
    "duration": 4,
    "start_time": "2024-06-09T15:01:53.146Z"
   },
   {
    "duration": 4,
    "start_time": "2024-06-09T15:01:53.153Z"
   },
   {
    "duration": 4,
    "start_time": "2024-06-09T15:01:53.160Z"
   },
   {
    "duration": 5,
    "start_time": "2024-06-09T15:01:53.215Z"
   },
   {
    "duration": 6,
    "start_time": "2024-06-09T15:01:53.225Z"
   },
   {
    "duration": 3,
    "start_time": "2024-06-09T15:01:53.235Z"
   },
   {
    "duration": 5,
    "start_time": "2024-06-09T15:01:53.243Z"
   },
   {
    "duration": 4,
    "start_time": "2024-06-09T15:01:53.251Z"
   },
   {
    "duration": 4,
    "start_time": "2024-06-09T15:01:53.314Z"
   },
   {
    "duration": 3,
    "start_time": "2024-06-09T15:01:53.322Z"
   },
   {
    "duration": 4,
    "start_time": "2024-06-09T15:01:53.328Z"
   },
   {
    "duration": 5,
    "start_time": "2024-06-09T15:01:53.335Z"
   },
   {
    "duration": 476,
    "start_time": "2024-06-09T17:14:50.346Z"
   },
   {
    "duration": 865,
    "start_time": "2024-06-09T17:15:19.305Z"
   },
   {
    "duration": 10,
    "start_time": "2024-06-09T17:15:39.377Z"
   },
   {
    "duration": 10,
    "start_time": "2024-06-09T17:17:28.790Z"
   },
   {
    "duration": 35,
    "start_time": "2024-06-09T17:19:39.847Z"
   },
   {
    "duration": 18,
    "start_time": "2024-06-09T17:19:46.029Z"
   },
   {
    "duration": 18,
    "start_time": "2024-06-09T17:21:14.747Z"
   },
   {
    "duration": 16,
    "start_time": "2024-06-09T17:27:46.167Z"
   },
   {
    "duration": 16,
    "start_time": "2024-06-09T17:27:53.475Z"
   },
   {
    "duration": 20,
    "start_time": "2024-06-09T17:45:03.015Z"
   },
   {
    "duration": 18,
    "start_time": "2024-06-09T17:45:13.306Z"
   },
   {
    "duration": 15,
    "start_time": "2024-06-09T17:45:36.726Z"
   },
   {
    "duration": 14,
    "start_time": "2024-06-09T17:46:03.771Z"
   },
   {
    "duration": 13,
    "start_time": "2024-06-09T17:46:17.335Z"
   },
   {
    "duration": 8,
    "start_time": "2024-06-09T17:46:32.925Z"
   },
   {
    "duration": 12,
    "start_time": "2024-06-09T17:46:35.742Z"
   },
   {
    "duration": 3,
    "start_time": "2024-06-09T17:46:53.995Z"
   },
   {
    "duration": 6,
    "start_time": "2024-06-09T17:47:04.585Z"
   },
   {
    "duration": 16,
    "start_time": "2024-06-09T17:47:13.914Z"
   },
   {
    "duration": 9,
    "start_time": "2024-06-09T17:47:53.177Z"
   },
   {
    "duration": 20,
    "start_time": "2024-06-09T17:47:58.397Z"
   },
   {
    "duration": 1364,
    "start_time": "2024-06-09T17:48:12.429Z"
   },
   {
    "duration": 292,
    "start_time": "2024-06-09T17:48:13.797Z"
   },
   {
    "duration": 23,
    "start_time": "2024-06-09T17:48:14.091Z"
   },
   {
    "duration": 11,
    "start_time": "2024-06-09T17:48:14.119Z"
   },
   {
    "duration": 10,
    "start_time": "2024-06-09T17:48:14.133Z"
   },
   {
    "duration": 17,
    "start_time": "2024-06-09T17:48:14.145Z"
   },
   {
    "duration": 56,
    "start_time": "2024-06-09T17:48:14.166Z"
   },
   {
    "duration": 3,
    "start_time": "2024-06-09T17:48:14.225Z"
   },
   {
    "duration": 26,
    "start_time": "2024-06-09T17:48:14.232Z"
   },
   {
    "duration": 2,
    "start_time": "2024-06-09T17:48:14.264Z"
   },
   {
    "duration": 56,
    "start_time": "2024-06-09T17:48:14.269Z"
   },
   {
    "duration": 3,
    "start_time": "2024-06-09T17:48:14.328Z"
   },
   {
    "duration": 22,
    "start_time": "2024-06-09T17:48:14.334Z"
   },
   {
    "duration": 3,
    "start_time": "2024-06-09T17:48:14.360Z"
   },
   {
    "duration": 5,
    "start_time": "2024-06-09T17:48:14.366Z"
   },
   {
    "duration": 4,
    "start_time": "2024-06-09T17:48:14.413Z"
   },
   {
    "duration": 4,
    "start_time": "2024-06-09T17:48:14.420Z"
   },
   {
    "duration": 5,
    "start_time": "2024-06-09T17:48:14.427Z"
   },
   {
    "duration": 4,
    "start_time": "2024-06-09T17:48:14.435Z"
   },
   {
    "duration": 3,
    "start_time": "2024-06-09T17:48:14.443Z"
   },
   {
    "duration": 4,
    "start_time": "2024-06-09T17:48:14.450Z"
   },
   {
    "duration": 3,
    "start_time": "2024-06-09T17:48:14.514Z"
   },
   {
    "duration": 3,
    "start_time": "2024-06-09T17:48:14.521Z"
   },
   {
    "duration": 3,
    "start_time": "2024-06-09T17:48:14.528Z"
   },
   {
    "duration": 4,
    "start_time": "2024-06-09T17:48:14.535Z"
   },
   {
    "duration": 4,
    "start_time": "2024-06-09T17:48:14.541Z"
   },
   {
    "duration": 5,
    "start_time": "2024-06-09T17:48:14.548Z"
   },
   {
    "duration": 3,
    "start_time": "2024-06-09T17:48:14.611Z"
   },
   {
    "duration": 3,
    "start_time": "2024-06-09T17:48:14.617Z"
   },
   {
    "duration": 3,
    "start_time": "2024-06-09T17:48:14.624Z"
   },
   {
    "duration": 24,
    "start_time": "2024-06-09T17:56:12.758Z"
   },
   {
    "duration": 17,
    "start_time": "2024-06-09T17:59:10.321Z"
   },
   {
    "duration": 14,
    "start_time": "2024-06-09T17:59:22.290Z"
   },
   {
    "duration": 17,
    "start_time": "2024-06-09T17:59:49.413Z"
   },
   {
    "duration": 19,
    "start_time": "2024-06-09T18:00:15.725Z"
   },
   {
    "duration": 10,
    "start_time": "2024-06-09T18:01:33.267Z"
   },
   {
    "duration": 10,
    "start_time": "2024-06-09T18:11:38.211Z"
   },
   {
    "duration": 18,
    "start_time": "2024-06-09T18:11:41.522Z"
   },
   {
    "duration": 11,
    "start_time": "2024-06-09T18:11:42.281Z"
   },
   {
    "duration": 10,
    "start_time": "2024-06-09T18:11:43.101Z"
   },
   {
    "duration": 10,
    "start_time": "2024-06-09T18:11:44.074Z"
   },
   {
    "duration": 4940,
    "start_time": "2024-06-09T20:14:44.126Z"
   },
   {
    "duration": 370,
    "start_time": "2024-06-09T20:14:49.071Z"
   },
   {
    "duration": 16,
    "start_time": "2024-06-09T20:14:49.443Z"
   },
   {
    "duration": 12,
    "start_time": "2024-06-09T20:14:49.461Z"
   },
   {
    "duration": 10,
    "start_time": "2024-06-09T20:14:49.478Z"
   },
   {
    "duration": 52,
    "start_time": "2024-06-09T20:14:49.491Z"
   },
   {
    "duration": 15,
    "start_time": "2024-06-09T20:14:49.547Z"
   },
   {
    "duration": 11,
    "start_time": "2024-06-09T20:14:49.565Z"
   },
   {
    "duration": 65,
    "start_time": "2024-06-09T20:14:49.580Z"
   },
   {
    "duration": 3,
    "start_time": "2024-06-09T20:14:49.649Z"
   },
   {
    "duration": 20,
    "start_time": "2024-06-09T20:14:49.655Z"
   },
   {
    "duration": 3,
    "start_time": "2024-06-09T20:14:49.678Z"
   },
   {
    "duration": 60,
    "start_time": "2024-06-09T20:14:49.684Z"
   },
   {
    "duration": 3,
    "start_time": "2024-06-09T20:14:49.749Z"
   },
   {
    "duration": 4,
    "start_time": "2024-06-09T20:14:49.755Z"
   },
   {
    "duration": 6,
    "start_time": "2024-06-09T20:14:49.762Z"
   },
   {
    "duration": 3,
    "start_time": "2024-06-09T20:14:49.771Z"
   },
   {
    "duration": 4,
    "start_time": "2024-06-09T20:14:49.777Z"
   },
   {
    "duration": 50,
    "start_time": "2024-06-09T20:14:49.783Z"
   },
   {
    "duration": 3,
    "start_time": "2024-06-09T20:14:49.836Z"
   },
   {
    "duration": 3,
    "start_time": "2024-06-09T20:14:49.843Z"
   },
   {
    "duration": 4,
    "start_time": "2024-06-09T20:14:49.850Z"
   },
   {
    "duration": 3,
    "start_time": "2024-06-09T20:14:49.857Z"
   },
   {
    "duration": 3,
    "start_time": "2024-06-09T20:14:49.864Z"
   },
   {
    "duration": 6,
    "start_time": "2024-06-09T20:14:49.870Z"
   },
   {
    "duration": 3,
    "start_time": "2024-06-09T20:14:49.932Z"
   },
   {
    "duration": 4,
    "start_time": "2024-06-09T20:14:49.938Z"
   },
   {
    "duration": 3,
    "start_time": "2024-06-09T20:14:49.945Z"
   },
   {
    "duration": 4,
    "start_time": "2024-06-09T20:14:49.951Z"
   },
   {
    "duration": 3,
    "start_time": "2024-06-09T20:14:49.958Z"
   },
   {
    "duration": 9,
    "start_time": "2024-06-09T20:24:05.198Z"
   },
   {
    "duration": 15,
    "start_time": "2024-06-09T20:24:52.051Z"
   },
   {
    "duration": 26,
    "start_time": "2024-06-09T20:48:43.913Z"
   },
   {
    "duration": 422,
    "start_time": "2024-06-09T20:53:18.697Z"
   },
   {
    "duration": 16,
    "start_time": "2024-06-09T20:53:42.372Z"
   },
   {
    "duration": 13,
    "start_time": "2024-06-09T20:55:01.493Z"
   },
   {
    "duration": 10,
    "start_time": "2024-06-09T20:55:09.614Z"
   },
   {
    "duration": 18,
    "start_time": "2024-06-09T20:56:29.774Z"
   },
   {
    "duration": 15,
    "start_time": "2024-06-09T21:04:06.632Z"
   },
   {
    "duration": 41,
    "start_time": "2024-06-09T21:06:14.841Z"
   },
   {
    "duration": 50,
    "start_time": "2024-06-09T21:07:01.722Z"
   },
   {
    "duration": 32,
    "start_time": "2024-06-09T21:07:51.382Z"
   },
   {
    "duration": 102,
    "start_time": "2024-06-09T21:08:08.199Z"
   },
   {
    "duration": 4965,
    "start_time": "2024-06-09T23:15:43.754Z"
   },
   {
    "duration": 439,
    "start_time": "2024-06-09T23:15:48.723Z"
   },
   {
    "duration": 16,
    "start_time": "2024-06-09T23:15:49.165Z"
   },
   {
    "duration": 11,
    "start_time": "2024-06-09T23:15:49.186Z"
   },
   {
    "duration": 21,
    "start_time": "2024-06-09T23:15:49.200Z"
   },
   {
    "duration": 32,
    "start_time": "2024-06-09T23:15:49.237Z"
   },
   {
    "duration": 14,
    "start_time": "2024-06-09T23:15:49.272Z"
   },
   {
    "duration": 10,
    "start_time": "2024-06-09T23:15:49.289Z"
   },
   {
    "duration": 51,
    "start_time": "2024-06-09T23:15:49.302Z"
   },
   {
    "duration": 35,
    "start_time": "2024-06-09T23:15:49.359Z"
   },
   {
    "duration": 40,
    "start_time": "2024-06-09T23:15:49.397Z"
   },
   {
    "duration": 4,
    "start_time": "2024-06-09T23:15:49.442Z"
   },
   {
    "duration": 19,
    "start_time": "2024-06-09T23:15:49.448Z"
   },
   {
    "duration": 3,
    "start_time": "2024-06-09T23:15:49.470Z"
   },
   {
    "duration": 22,
    "start_time": "2024-06-09T23:15:49.476Z"
   },
   {
    "duration": 2,
    "start_time": "2024-06-09T23:15:49.533Z"
   },
   {
    "duration": 14,
    "start_time": "2024-06-09T23:15:49.537Z"
   },
   {
    "duration": 3,
    "start_time": "2024-06-09T23:15:49.557Z"
   },
   {
    "duration": 3,
    "start_time": "2024-06-09T23:15:49.565Z"
   },
   {
    "duration": 3,
    "start_time": "2024-06-09T23:15:49.571Z"
   },
   {
    "duration": 4,
    "start_time": "2024-06-09T23:15:49.578Z"
   },
   {
    "duration": 3,
    "start_time": "2024-06-09T23:15:49.586Z"
   },
   {
    "duration": 3,
    "start_time": "2024-06-09T23:15:49.595Z"
   },
   {
    "duration": 5,
    "start_time": "2024-06-09T23:15:49.634Z"
   },
   {
    "duration": 10,
    "start_time": "2024-06-09T23:15:49.642Z"
   },
   {
    "duration": 7,
    "start_time": "2024-06-09T23:15:49.654Z"
   },
   {
    "duration": 6,
    "start_time": "2024-06-09T23:15:49.663Z"
   },
   {
    "duration": 3,
    "start_time": "2024-06-09T23:15:49.675Z"
   },
   {
    "duration": 3,
    "start_time": "2024-06-09T23:15:49.682Z"
   },
   {
    "duration": 4,
    "start_time": "2024-06-09T23:15:49.688Z"
   },
   {
    "duration": 47,
    "start_time": "2024-06-09T23:15:49.695Z"
   },
   {
    "duration": 8,
    "start_time": "2024-06-09T23:15:49.745Z"
   },
   {
    "duration": 14,
    "start_time": "2024-06-09T23:25:56.720Z"
   },
   {
    "duration": 12,
    "start_time": "2024-06-09T23:36:32.720Z"
   },
   {
    "duration": 12,
    "start_time": "2024-06-09T23:36:36.389Z"
   },
   {
    "duration": 12,
    "start_time": "2024-06-09T23:36:37.219Z"
   },
   {
    "duration": 19,
    "start_time": "2024-06-09T23:36:37.725Z"
   },
   {
    "duration": 12,
    "start_time": "2024-06-09T23:36:38.222Z"
   },
   {
    "duration": 13,
    "start_time": "2024-06-09T23:50:15.737Z"
   },
   {
    "duration": 16,
    "start_time": "2024-06-09T23:50:21.536Z"
   },
   {
    "duration": 13,
    "start_time": "2024-06-09T23:50:24.836Z"
   },
   {
    "duration": 13,
    "start_time": "2024-06-09T23:50:28.221Z"
   },
   {
    "duration": 13,
    "start_time": "2024-06-09T23:50:36.433Z"
   },
   {
    "duration": 11,
    "start_time": "2024-06-09T23:51:10.840Z"
   },
   {
    "duration": 466,
    "start_time": "2024-06-09T23:54:10.939Z"
   },
   {
    "duration": 41,
    "start_time": "2024-06-09T23:54:18.096Z"
   },
   {
    "duration": 165,
    "start_time": "2024-06-10T00:17:23.492Z"
   },
   {
    "duration": 19,
    "start_time": "2024-06-10T00:18:59.556Z"
   },
   {
    "duration": 12,
    "start_time": "2024-06-10T00:19:25.421Z"
   },
   {
    "duration": 64,
    "start_time": "2024-06-10T00:28:15.039Z"
   },
   {
    "duration": 109,
    "start_time": "2024-06-10T00:28:43.255Z"
   },
   {
    "duration": 96,
    "start_time": "2024-06-10T00:34:00.323Z"
   },
   {
    "duration": 101,
    "start_time": "2024-06-10T00:34:23.157Z"
   },
   {
    "duration": 89,
    "start_time": "2024-06-10T00:34:24.640Z"
   },
   {
    "duration": 88,
    "start_time": "2024-06-10T00:34:26.052Z"
   },
   {
    "duration": 93,
    "start_time": "2024-06-10T00:37:30.323Z"
   },
   {
    "duration": 40,
    "start_time": "2024-06-10T00:37:40.002Z"
   },
   {
    "duration": 1294,
    "start_time": "2024-06-10T00:39:31.028Z"
   },
   {
    "duration": 284,
    "start_time": "2024-06-10T00:39:32.326Z"
   },
   {
    "duration": 15,
    "start_time": "2024-06-10T00:39:32.616Z"
   },
   {
    "duration": 11,
    "start_time": "2024-06-10T00:39:32.634Z"
   },
   {
    "duration": 20,
    "start_time": "2024-06-10T00:39:32.651Z"
   },
   {
    "duration": 59,
    "start_time": "2024-06-10T00:39:32.674Z"
   },
   {
    "duration": 15,
    "start_time": "2024-06-10T00:39:32.736Z"
   },
   {
    "duration": 10,
    "start_time": "2024-06-10T00:39:32.754Z"
   },
   {
    "duration": 16,
    "start_time": "2024-06-10T00:39:32.767Z"
   },
   {
    "duration": 81,
    "start_time": "2024-06-10T00:39:32.786Z"
   },
   {
    "duration": 24,
    "start_time": "2024-06-10T00:39:32.870Z"
   },
   {
    "duration": 36,
    "start_time": "2024-06-10T00:39:32.897Z"
   },
   {
    "duration": 96,
    "start_time": "2024-06-10T00:39:32.936Z"
   },
   {
    "duration": 186,
    "start_time": "2024-06-10T00:39:33.041Z"
   },
   {
    "duration": 21,
    "start_time": "2024-06-10T00:39:33.234Z"
   },
   {
    "duration": 10,
    "start_time": "2024-06-10T00:39:33.257Z"
   },
   {
    "duration": 78,
    "start_time": "2024-06-10T00:39:33.270Z"
   },
   {
    "duration": 107,
    "start_time": "2024-06-10T00:39:33.351Z"
   },
   {
    "duration": 22,
    "start_time": "2024-06-10T00:39:33.461Z"
   },
   {
    "duration": 6,
    "start_time": "2024-06-10T00:39:33.486Z"
   },
   {
    "duration": 3,
    "start_time": "2024-06-10T00:39:33.495Z"
   },
   {
    "duration": 33,
    "start_time": "2024-06-10T00:39:33.501Z"
   },
   {
    "duration": 4,
    "start_time": "2024-06-10T00:39:33.537Z"
   },
   {
    "duration": 3,
    "start_time": "2024-06-10T00:39:33.544Z"
   },
   {
    "duration": 3,
    "start_time": "2024-06-10T00:39:33.550Z"
   },
   {
    "duration": 3,
    "start_time": "2024-06-10T00:39:33.556Z"
   },
   {
    "duration": 3,
    "start_time": "2024-06-10T00:39:33.563Z"
   },
   {
    "duration": 5,
    "start_time": "2024-06-10T00:39:33.568Z"
   },
   {
    "duration": 59,
    "start_time": "2024-06-10T00:39:33.575Z"
   },
   {
    "duration": 3,
    "start_time": "2024-06-10T00:39:33.637Z"
   },
   {
    "duration": 3,
    "start_time": "2024-06-10T00:39:33.644Z"
   },
   {
    "duration": 4,
    "start_time": "2024-06-10T00:39:33.650Z"
   },
   {
    "duration": 4,
    "start_time": "2024-06-10T00:39:33.657Z"
   },
   {
    "duration": 3,
    "start_time": "2024-06-10T00:39:33.664Z"
   },
   {
    "duration": 3,
    "start_time": "2024-06-10T00:39:33.671Z"
   },
   {
    "duration": 57,
    "start_time": "2024-06-10T00:39:33.677Z"
   },
   {
    "duration": 11,
    "start_time": "2024-06-10T00:41:48.986Z"
   },
   {
    "duration": 57,
    "start_time": "2024-06-10T01:04:16.957Z"
   },
   {
    "duration": 34,
    "start_time": "2024-06-10T01:04:47.870Z"
   },
   {
    "duration": 128,
    "start_time": "2024-06-10T01:08:26.558Z"
   },
   {
    "duration": 120,
    "start_time": "2024-06-10T01:09:10.758Z"
   },
   {
    "duration": 122,
    "start_time": "2024-06-10T01:09:12.861Z"
   },
   {
    "duration": 135,
    "start_time": "2024-06-10T01:09:14.057Z"
   },
   {
    "duration": 21,
    "start_time": "2024-06-10T01:12:00.491Z"
   },
   {
    "duration": 24,
    "start_time": "2024-06-10T01:12:10.745Z"
   },
   {
    "duration": 32,
    "start_time": "2024-06-10T01:49:01.397Z"
   },
   {
    "duration": 27,
    "start_time": "2024-06-10T01:49:56.430Z"
   },
   {
    "duration": 27,
    "start_time": "2024-06-10T01:50:13.520Z"
   },
   {
    "duration": 29,
    "start_time": "2024-06-10T01:50:35.668Z"
   },
   {
    "duration": 45,
    "start_time": "2024-06-10T01:54:17.850Z"
   },
   {
    "duration": 37,
    "start_time": "2024-06-10T01:54:46.308Z"
   },
   {
    "duration": 28,
    "start_time": "2024-06-10T01:55:04.690Z"
   },
   {
    "duration": 41,
    "start_time": "2024-06-10T02:05:57.247Z"
   },
   {
    "duration": 31,
    "start_time": "2024-06-10T02:06:00.052Z"
   },
   {
    "duration": 37,
    "start_time": "2024-06-10T02:06:12.735Z"
   },
   {
    "duration": 1261,
    "start_time": "2024-06-10T02:10:32.623Z"
   },
   {
    "duration": 19,
    "start_time": "2024-06-10T02:11:10.939Z"
   },
   {
    "duration": 20,
    "start_time": "2024-06-10T02:11:23.701Z"
   },
   {
    "duration": 26,
    "start_time": "2024-06-10T02:18:32.446Z"
   },
   {
    "duration": 30,
    "start_time": "2024-06-10T02:18:47.521Z"
   },
   {
    "duration": 50,
    "start_time": "2024-06-10T02:25:22.249Z"
   },
   {
    "duration": 5625,
    "start_time": "2024-06-10T03:07:22.168Z"
   },
   {
    "duration": 413,
    "start_time": "2024-06-10T03:07:27.797Z"
   },
   {
    "duration": 16,
    "start_time": "2024-06-10T03:07:28.213Z"
   },
   {
    "duration": 12,
    "start_time": "2024-06-10T03:07:28.233Z"
   },
   {
    "duration": 22,
    "start_time": "2024-06-10T03:07:28.251Z"
   },
   {
    "duration": 58,
    "start_time": "2024-06-10T03:07:28.276Z"
   },
   {
    "duration": 15,
    "start_time": "2024-06-10T03:07:28.337Z"
   },
   {
    "duration": 13,
    "start_time": "2024-06-10T03:07:28.356Z"
   },
   {
    "duration": 19,
    "start_time": "2024-06-10T03:07:28.371Z"
   },
   {
    "duration": 81,
    "start_time": "2024-06-10T03:07:28.393Z"
   },
   {
    "duration": 26,
    "start_time": "2024-06-10T03:07:28.477Z"
   },
   {
    "duration": 15,
    "start_time": "2024-06-10T03:07:28.536Z"
   },
   {
    "duration": 99,
    "start_time": "2024-06-10T03:07:28.555Z"
   },
   {
    "duration": 187,
    "start_time": "2024-06-10T03:07:28.662Z"
   },
   {
    "duration": 22,
    "start_time": "2024-06-10T03:07:28.853Z"
   },
   {
    "duration": 11,
    "start_time": "2024-06-10T03:07:28.879Z"
   },
   {
    "duration": 81,
    "start_time": "2024-06-10T03:07:28.892Z"
   },
   {
    "duration": 125,
    "start_time": "2024-06-10T03:07:28.976Z"
   },
   {
    "duration": 42,
    "start_time": "2024-06-10T03:07:29.104Z"
   },
   {
    "duration": 12,
    "start_time": "2024-06-10T03:07:29.149Z"
   },
   {
    "duration": 93,
    "start_time": "2024-06-10T03:07:29.164Z"
   },
   {
    "duration": 157,
    "start_time": "2024-06-10T03:07:29.260Z"
   },
   {
    "duration": 27,
    "start_time": "2024-06-10T03:07:29.420Z"
   },
   {
    "duration": 37,
    "start_time": "2024-06-10T03:07:29.450Z"
   },
   {
    "duration": 62,
    "start_time": "2024-06-10T03:07:29.490Z"
   },
   {
    "duration": 25,
    "start_time": "2024-06-10T03:07:29.555Z"
   },
   {
    "duration": 50,
    "start_time": "2024-06-10T03:07:29.583Z"
   },
   {
    "duration": 247,
    "start_time": "2024-06-10T03:07:29.637Z"
   },
   {
    "duration": 0,
    "start_time": "2024-06-10T03:07:29.887Z"
   },
   {
    "duration": 0,
    "start_time": "2024-06-10T03:07:29.888Z"
   },
   {
    "duration": 0,
    "start_time": "2024-06-10T03:07:29.890Z"
   },
   {
    "duration": 0,
    "start_time": "2024-06-10T03:07:29.892Z"
   },
   {
    "duration": 0,
    "start_time": "2024-06-10T03:07:29.893Z"
   },
   {
    "duration": 0,
    "start_time": "2024-06-10T03:07:29.896Z"
   },
   {
    "duration": 0,
    "start_time": "2024-06-10T03:07:29.897Z"
   },
   {
    "duration": 0,
    "start_time": "2024-06-10T03:07:29.900Z"
   },
   {
    "duration": 0,
    "start_time": "2024-06-10T03:07:29.902Z"
   },
   {
    "duration": 0,
    "start_time": "2024-06-10T03:07:29.904Z"
   },
   {
    "duration": 36,
    "start_time": "2024-06-10T03:07:51.775Z"
   },
   {
    "duration": 150,
    "start_time": "2024-06-10T03:09:37.042Z"
   },
   {
    "duration": 145,
    "start_time": "2024-06-10T03:10:05.857Z"
   },
   {
    "duration": 181,
    "start_time": "2024-06-10T03:12:26.269Z"
   },
   {
    "duration": 99,
    "start_time": "2024-06-10T03:12:48.901Z"
   },
   {
    "duration": 150,
    "start_time": "2024-06-10T03:15:08.698Z"
   },
   {
    "duration": 1286,
    "start_time": "2024-06-10T03:16:01.172Z"
   },
   {
    "duration": 271,
    "start_time": "2024-06-10T03:16:02.462Z"
   },
   {
    "duration": 16,
    "start_time": "2024-06-10T03:16:02.735Z"
   },
   {
    "duration": 10,
    "start_time": "2024-06-10T03:16:02.754Z"
   },
   {
    "duration": 20,
    "start_time": "2024-06-10T03:16:02.769Z"
   },
   {
    "duration": 63,
    "start_time": "2024-06-10T03:16:02.792Z"
   },
   {
    "duration": 15,
    "start_time": "2024-06-10T03:16:02.858Z"
   },
   {
    "duration": 9,
    "start_time": "2024-06-10T03:16:02.876Z"
   },
   {
    "duration": 52,
    "start_time": "2024-06-10T03:16:02.888Z"
   },
   {
    "duration": 36,
    "start_time": "2024-06-10T03:16:02.944Z"
   },
   {
    "duration": 54,
    "start_time": "2024-06-10T03:16:02.983Z"
   },
   {
    "duration": 13,
    "start_time": "2024-06-10T03:16:03.040Z"
   },
   {
    "duration": 98,
    "start_time": "2024-06-10T03:16:03.056Z"
   },
   {
    "duration": 194,
    "start_time": "2024-06-10T03:16:03.161Z"
   },
   {
    "duration": 20,
    "start_time": "2024-06-10T03:16:03.357Z"
   },
   {
    "duration": 11,
    "start_time": "2024-06-10T03:16:03.380Z"
   },
   {
    "duration": 72,
    "start_time": "2024-06-10T03:16:03.397Z"
   },
   {
    "duration": 111,
    "start_time": "2024-06-10T03:16:03.473Z"
   },
   {
    "duration": 22,
    "start_time": "2024-06-10T03:16:03.587Z"
   },
   {
    "duration": 11,
    "start_time": "2024-06-10T03:16:03.632Z"
   },
   {
    "duration": 57,
    "start_time": "2024-06-10T03:16:03.645Z"
   },
   {
    "duration": 156,
    "start_time": "2024-06-10T03:16:03.705Z"
   },
   {
    "duration": 20,
    "start_time": "2024-06-10T03:16:03.864Z"
   },
   {
    "duration": 1182,
    "start_time": "2024-06-10T03:16:03.887Z"
   },
   {
    "duration": 0,
    "start_time": "2024-06-10T03:16:05.072Z"
   },
   {
    "duration": 0,
    "start_time": "2024-06-10T03:16:05.074Z"
   },
   {
    "duration": 0,
    "start_time": "2024-06-10T03:16:05.076Z"
   },
   {
    "duration": 0,
    "start_time": "2024-06-10T03:16:05.079Z"
   },
   {
    "duration": 0,
    "start_time": "2024-06-10T03:16:05.081Z"
   },
   {
    "duration": 0,
    "start_time": "2024-06-10T03:16:05.083Z"
   },
   {
    "duration": 0,
    "start_time": "2024-06-10T03:16:05.086Z"
   },
   {
    "duration": 0,
    "start_time": "2024-06-10T03:16:05.087Z"
   },
   {
    "duration": 0,
    "start_time": "2024-06-10T03:16:05.089Z"
   },
   {
    "duration": 0,
    "start_time": "2024-06-10T03:16:05.091Z"
   },
   {
    "duration": 0,
    "start_time": "2024-06-10T03:16:05.093Z"
   },
   {
    "duration": 0,
    "start_time": "2024-06-10T03:16:05.136Z"
   },
   {
    "duration": 0,
    "start_time": "2024-06-10T03:16:05.138Z"
   },
   {
    "duration": 0,
    "start_time": "2024-06-10T03:16:05.141Z"
   },
   {
    "duration": 31,
    "start_time": "2024-06-10T03:18:13.398Z"
   },
   {
    "duration": 26,
    "start_time": "2024-06-10T03:18:18.688Z"
   },
   {
    "duration": 19,
    "start_time": "2024-06-10T03:18:26.910Z"
   },
   {
    "duration": 24,
    "start_time": "2024-06-10T03:18:31.749Z"
   },
   {
    "duration": 29,
    "start_time": "2024-06-10T03:18:58.708Z"
   },
   {
    "duration": 28,
    "start_time": "2024-06-10T03:19:14.843Z"
   },
   {
    "duration": 39,
    "start_time": "2024-06-10T03:21:13.472Z"
   },
   {
    "duration": 325,
    "start_time": "2024-06-10T03:24:12.637Z"
   },
   {
    "duration": 73,
    "start_time": "2024-06-10T03:24:36.289Z"
   },
   {
    "duration": 162,
    "start_time": "2024-06-10T03:25:33.953Z"
   },
   {
    "duration": 192,
    "start_time": "2024-06-10T03:29:47.803Z"
   },
   {
    "duration": 1400,
    "start_time": "2024-06-10T03:30:49.892Z"
   },
   {
    "duration": 341,
    "start_time": "2024-06-10T03:30:51.295Z"
   },
   {
    "duration": 23,
    "start_time": "2024-06-10T03:30:51.639Z"
   },
   {
    "duration": 12,
    "start_time": "2024-06-10T03:30:51.668Z"
   },
   {
    "duration": 21,
    "start_time": "2024-06-10T03:30:51.684Z"
   },
   {
    "duration": 56,
    "start_time": "2024-06-10T03:30:51.708Z"
   },
   {
    "duration": 20,
    "start_time": "2024-06-10T03:30:51.768Z"
   },
   {
    "duration": 10,
    "start_time": "2024-06-10T03:30:51.791Z"
   },
   {
    "duration": 18,
    "start_time": "2024-06-10T03:30:51.835Z"
   },
   {
    "duration": 38,
    "start_time": "2024-06-10T03:30:51.861Z"
   },
   {
    "duration": 63,
    "start_time": "2024-06-10T03:30:51.902Z"
   },
   {
    "duration": 14,
    "start_time": "2024-06-10T03:30:51.969Z"
   },
   {
    "duration": 114,
    "start_time": "2024-06-10T03:30:51.985Z"
   },
   {
    "duration": 195,
    "start_time": "2024-06-10T03:30:52.102Z"
   },
   {
    "duration": 41,
    "start_time": "2024-06-10T03:30:52.301Z"
   },
   {
    "duration": 16,
    "start_time": "2024-06-10T03:30:52.344Z"
   },
   {
    "duration": 52,
    "start_time": "2024-06-10T03:30:52.363Z"
   },
   {
    "duration": 106,
    "start_time": "2024-06-10T03:30:52.434Z"
   },
   {
    "duration": 27,
    "start_time": "2024-06-10T03:30:52.545Z"
   },
   {
    "duration": 12,
    "start_time": "2024-06-10T03:30:52.578Z"
   },
   {
    "duration": 83,
    "start_time": "2024-06-10T03:30:52.592Z"
   },
   {
    "duration": 138,
    "start_time": "2024-06-10T03:30:52.678Z"
   },
   {
    "duration": 30,
    "start_time": "2024-06-10T03:30:52.819Z"
   },
   {
    "duration": 35,
    "start_time": "2024-06-10T03:30:52.853Z"
   },
   {
    "duration": 55,
    "start_time": "2024-06-10T03:30:52.892Z"
   },
   {
    "duration": 22,
    "start_time": "2024-06-10T03:30:52.951Z"
   },
   {
    "duration": 25,
    "start_time": "2024-06-10T03:30:52.977Z"
   },
   {
    "duration": 32,
    "start_time": "2024-06-10T03:30:53.040Z"
   },
   {
    "duration": 802,
    "start_time": "2024-06-10T03:30:53.076Z"
   },
   {
    "duration": 0,
    "start_time": "2024-06-10T03:30:53.883Z"
   },
   {
    "duration": 0,
    "start_time": "2024-06-10T03:30:53.886Z"
   },
   {
    "duration": 0,
    "start_time": "2024-06-10T03:30:53.888Z"
   },
   {
    "duration": 0,
    "start_time": "2024-06-10T03:30:53.891Z"
   },
   {
    "duration": 0,
    "start_time": "2024-06-10T03:30:53.893Z"
   },
   {
    "duration": 0,
    "start_time": "2024-06-10T03:30:53.896Z"
   },
   {
    "duration": 0,
    "start_time": "2024-06-10T03:30:53.898Z"
   },
   {
    "duration": 0,
    "start_time": "2024-06-10T03:30:53.901Z"
   },
   {
    "duration": 0,
    "start_time": "2024-06-10T03:30:53.932Z"
   },
   {
    "duration": 54,
    "start_time": "2024-06-10T03:31:49.017Z"
   },
   {
    "duration": 40,
    "start_time": "2024-06-10T03:35:52.853Z"
   },
   {
    "duration": 3,
    "start_time": "2024-06-10T03:38:32.398Z"
   },
   {
    "duration": 5089,
    "start_time": "2024-06-10T20:50:34.279Z"
   },
   {
    "duration": 363,
    "start_time": "2024-06-10T20:50:39.372Z"
   },
   {
    "duration": 17,
    "start_time": "2024-06-10T20:50:39.737Z"
   },
   {
    "duration": 11,
    "start_time": "2024-06-10T20:50:39.760Z"
   },
   {
    "duration": 45,
    "start_time": "2024-06-10T20:50:39.774Z"
   },
   {
    "duration": 29,
    "start_time": "2024-06-10T20:50:39.822Z"
   },
   {
    "duration": 14,
    "start_time": "2024-06-10T20:50:39.855Z"
   },
   {
    "duration": 9,
    "start_time": "2024-06-10T20:50:39.907Z"
   },
   {
    "duration": 16,
    "start_time": "2024-06-10T20:50:39.920Z"
   },
   {
    "duration": 68,
    "start_time": "2024-06-10T20:50:39.942Z"
   },
   {
    "duration": 26,
    "start_time": "2024-06-10T20:50:40.013Z"
   },
   {
    "duration": 13,
    "start_time": "2024-06-10T20:50:40.042Z"
   },
   {
    "duration": 107,
    "start_time": "2024-06-10T20:50:40.057Z"
   },
   {
    "duration": 168,
    "start_time": "2024-06-10T20:50:40.167Z"
   },
   {
    "duration": 20,
    "start_time": "2024-06-10T20:50:40.338Z"
   },
   {
    "duration": 9,
    "start_time": "2024-06-10T20:50:40.361Z"
   },
   {
    "duration": 73,
    "start_time": "2024-06-10T20:50:40.373Z"
   },
   {
    "duration": 115,
    "start_time": "2024-06-10T20:50:40.449Z"
   },
   {
    "duration": 24,
    "start_time": "2024-06-10T20:50:40.567Z"
   },
   {
    "duration": 10,
    "start_time": "2024-06-10T20:50:40.607Z"
   },
   {
    "duration": 57,
    "start_time": "2024-06-10T20:50:40.620Z"
   },
   {
    "duration": 131,
    "start_time": "2024-06-10T20:50:40.708Z"
   },
   {
    "duration": 20,
    "start_time": "2024-06-10T20:50:40.842Z"
   },
   {
    "duration": 61,
    "start_time": "2024-06-10T20:50:40.866Z"
   },
   {
    "duration": 27,
    "start_time": "2024-06-10T20:50:40.929Z"
   },
   {
    "duration": 22,
    "start_time": "2024-06-10T20:50:40.959Z"
   },
   {
    "duration": 24,
    "start_time": "2024-06-10T20:50:41.007Z"
   },
   {
    "duration": 27,
    "start_time": "2024-06-10T20:50:41.038Z"
   },
   {
    "duration": 4,
    "start_time": "2024-06-10T20:50:41.067Z"
   },
   {
    "duration": 4,
    "start_time": "2024-06-10T20:50:41.105Z"
   },
   {
    "duration": 4,
    "start_time": "2024-06-10T20:50:41.112Z"
   },
   {
    "duration": 3,
    "start_time": "2024-06-10T20:50:41.119Z"
   },
   {
    "duration": 5,
    "start_time": "2024-06-10T20:50:41.125Z"
   },
   {
    "duration": 4,
    "start_time": "2024-06-10T20:50:41.132Z"
   },
   {
    "duration": 3,
    "start_time": "2024-06-10T20:50:41.139Z"
   },
   {
    "duration": 6,
    "start_time": "2024-06-10T20:50:41.145Z"
   },
   {
    "duration": 54,
    "start_time": "2024-06-10T20:50:41.154Z"
   },
   {
    "duration": 4,
    "start_time": "2024-06-10T20:50:41.210Z"
   },
   {
    "duration": 16,
    "start_time": "2024-06-10T21:35:21.027Z"
   },
   {
    "duration": 229,
    "start_time": "2024-06-10T21:35:43.223Z"
   },
   {
    "duration": 911,
    "start_time": "2024-06-10T21:39:49.255Z"
   },
   {
    "duration": 28,
    "start_time": "2024-06-10T21:47:09.383Z"
   },
   {
    "duration": 24,
    "start_time": "2024-06-10T21:48:12.966Z"
   },
   {
    "duration": 27,
    "start_time": "2024-06-10T21:48:26.055Z"
   },
   {
    "duration": 27,
    "start_time": "2024-06-10T21:49:54.498Z"
   },
   {
    "duration": 45,
    "start_time": "2024-06-10T21:54:02.888Z"
   },
   {
    "duration": 21,
    "start_time": "2024-06-11T17:34:23.275Z"
   },
   {
    "duration": 28,
    "start_time": "2024-06-11T17:34:31.557Z"
   },
   {
    "duration": 4958,
    "start_time": "2024-06-11T17:34:42.637Z"
   },
   {
    "duration": 343,
    "start_time": "2024-06-11T17:34:47.601Z"
   },
   {
    "duration": 16,
    "start_time": "2024-06-11T17:34:47.947Z"
   },
   {
    "duration": 11,
    "start_time": "2024-06-11T17:34:47.968Z"
   },
   {
    "duration": 36,
    "start_time": "2024-06-11T17:34:47.983Z"
   },
   {
    "duration": 29,
    "start_time": "2024-06-11T17:34:48.022Z"
   },
   {
    "duration": 49,
    "start_time": "2024-06-11T17:34:48.054Z"
   },
   {
    "duration": 9,
    "start_time": "2024-06-11T17:34:48.106Z"
   },
   {
    "duration": 16,
    "start_time": "2024-06-11T17:34:48.118Z"
   },
   {
    "duration": 76,
    "start_time": "2024-06-11T17:34:48.141Z"
   },
   {
    "duration": 27,
    "start_time": "2024-06-11T17:34:48.223Z"
   },
   {
    "duration": 13,
    "start_time": "2024-06-11T17:34:48.254Z"
   },
   {
    "duration": 104,
    "start_time": "2024-06-11T17:34:48.270Z"
   },
   {
    "duration": 158,
    "start_time": "2024-06-11T17:34:48.401Z"
   },
   {
    "duration": 21,
    "start_time": "2024-06-11T17:34:48.562Z"
   },
   {
    "duration": 10,
    "start_time": "2024-06-11T17:34:48.602Z"
   },
   {
    "duration": 46,
    "start_time": "2024-06-11T17:34:48.616Z"
   },
   {
    "duration": 117,
    "start_time": "2024-06-11T17:34:48.665Z"
   },
   {
    "duration": 31,
    "start_time": "2024-06-11T17:34:48.785Z"
   },
   {
    "duration": 11,
    "start_time": "2024-06-11T17:34:48.819Z"
   },
   {
    "duration": 87,
    "start_time": "2024-06-11T17:34:48.833Z"
   },
   {
    "duration": 140,
    "start_time": "2024-06-11T17:34:48.922Z"
   },
   {
    "duration": 19,
    "start_time": "2024-06-11T17:34:49.065Z"
   },
   {
    "duration": 29,
    "start_time": "2024-06-11T17:34:49.103Z"
   },
   {
    "duration": 27,
    "start_time": "2024-06-11T17:34:49.135Z"
   },
   {
    "duration": 49,
    "start_time": "2024-06-11T17:34:49.165Z"
   },
   {
    "duration": 24,
    "start_time": "2024-06-11T17:34:49.217Z"
   },
   {
    "duration": 56,
    "start_time": "2024-06-11T17:34:49.247Z"
   },
   {
    "duration": 421,
    "start_time": "2024-06-11T17:34:49.305Z"
   },
   {
    "duration": 0,
    "start_time": "2024-06-11T17:34:49.729Z"
   },
   {
    "duration": 0,
    "start_time": "2024-06-11T17:34:49.731Z"
   },
   {
    "duration": 0,
    "start_time": "2024-06-11T17:34:49.734Z"
   },
   {
    "duration": 0,
    "start_time": "2024-06-11T17:34:49.737Z"
   },
   {
    "duration": 0,
    "start_time": "2024-06-11T17:34:49.740Z"
   },
   {
    "duration": 0,
    "start_time": "2024-06-11T17:34:49.742Z"
   },
   {
    "duration": 0,
    "start_time": "2024-06-11T17:34:49.746Z"
   },
   {
    "duration": 1,
    "start_time": "2024-06-11T17:34:49.748Z"
   },
   {
    "duration": 0,
    "start_time": "2024-06-11T17:34:49.751Z"
   },
   {
    "duration": 16,
    "start_time": "2024-06-11T17:35:34.877Z"
   },
   {
    "duration": 17,
    "start_time": "2024-06-11T17:44:07.639Z"
   },
   {
    "duration": 34,
    "start_time": "2024-06-11T17:46:48.177Z"
   },
   {
    "duration": 62,
    "start_time": "2024-06-11T17:47:27.517Z"
   },
   {
    "duration": 39,
    "start_time": "2024-06-11T17:47:50.516Z"
   },
   {
    "duration": 36,
    "start_time": "2024-06-11T17:48:46.877Z"
   },
   {
    "duration": 48,
    "start_time": "2024-06-11T17:49:23.077Z"
   },
   {
    "duration": 4891,
    "start_time": "2024-06-12T01:45:36.856Z"
   },
   {
    "duration": 360,
    "start_time": "2024-06-12T01:45:41.751Z"
   },
   {
    "duration": 16,
    "start_time": "2024-06-12T01:45:42.113Z"
   },
   {
    "duration": 10,
    "start_time": "2024-06-12T01:45:42.134Z"
   },
   {
    "duration": 20,
    "start_time": "2024-06-12T01:45:42.147Z"
   },
   {
    "duration": 64,
    "start_time": "2024-06-12T01:45:42.170Z"
   },
   {
    "duration": 14,
    "start_time": "2024-06-12T01:45:42.237Z"
   },
   {
    "duration": 9,
    "start_time": "2024-06-12T01:45:42.254Z"
   },
   {
    "duration": 55,
    "start_time": "2024-06-12T01:45:42.266Z"
   },
   {
    "duration": 35,
    "start_time": "2024-06-12T01:45:42.327Z"
   },
   {
    "duration": 54,
    "start_time": "2024-06-12T01:45:42.366Z"
   },
   {
    "duration": 13,
    "start_time": "2024-06-12T01:45:42.423Z"
   },
   {
    "duration": 104,
    "start_time": "2024-06-12T01:45:42.439Z"
   },
   {
    "duration": 170,
    "start_time": "2024-06-12T01:45:42.546Z"
   },
   {
    "duration": 19,
    "start_time": "2024-06-12T01:45:42.719Z"
   },
   {
    "duration": 10,
    "start_time": "2024-06-12T01:45:42.740Z"
   },
   {
    "duration": 83,
    "start_time": "2024-06-12T01:45:42.753Z"
   },
   {
    "duration": 100,
    "start_time": "2024-06-12T01:45:42.838Z"
   },
   {
    "duration": 23,
    "start_time": "2024-06-12T01:45:42.941Z"
   },
   {
    "duration": 14,
    "start_time": "2024-06-12T01:45:42.967Z"
   },
   {
    "duration": 70,
    "start_time": "2024-06-12T01:45:43.014Z"
   },
   {
    "duration": 142,
    "start_time": "2024-06-12T01:45:43.088Z"
   },
   {
    "duration": 19,
    "start_time": "2024-06-12T01:45:43.234Z"
   },
   {
    "duration": 56,
    "start_time": "2024-06-12T01:45:43.257Z"
   },
   {
    "duration": 33,
    "start_time": "2024-06-12T01:45:43.318Z"
   },
   {
    "duration": 22,
    "start_time": "2024-06-12T01:45:43.353Z"
   },
   {
    "duration": 57,
    "start_time": "2024-06-12T01:45:43.378Z"
   },
   {
    "duration": 30,
    "start_time": "2024-06-12T01:45:43.443Z"
   },
   {
    "duration": 53,
    "start_time": "2024-06-12T01:45:43.476Z"
   },
   {
    "duration": 4,
    "start_time": "2024-06-12T01:45:43.532Z"
   },
   {
    "duration": 4,
    "start_time": "2024-06-12T01:45:43.538Z"
   },
   {
    "duration": 4,
    "start_time": "2024-06-12T01:45:43.545Z"
   },
   {
    "duration": 4,
    "start_time": "2024-06-12T01:45:43.552Z"
   },
   {
    "duration": 4,
    "start_time": "2024-06-12T01:45:43.559Z"
   },
   {
    "duration": 4,
    "start_time": "2024-06-12T01:45:43.613Z"
   },
   {
    "duration": 5,
    "start_time": "2024-06-12T01:45:43.621Z"
   },
   {
    "duration": 6,
    "start_time": "2024-06-12T01:45:43.628Z"
   },
   {
    "duration": 4,
    "start_time": "2024-06-12T01:45:43.637Z"
   },
   {
    "duration": 222,
    "start_time": "2024-06-12T01:48:51.927Z"
   },
   {
    "duration": 29,
    "start_time": "2024-06-12T02:13:53.768Z"
   },
   {
    "duration": 34,
    "start_time": "2024-06-12T02:14:03.090Z"
   },
   {
    "duration": 914,
    "start_time": "2024-06-12T02:20:07.600Z"
   },
   {
    "duration": 93,
    "start_time": "2024-06-12T02:20:30.991Z"
   },
   {
    "duration": 49,
    "start_time": "2024-06-12T02:22:58.968Z"
   },
   {
    "duration": 50,
    "start_time": "2024-06-12T02:23:19.406Z"
   },
   {
    "duration": 1253,
    "start_time": "2024-06-12T02:23:28.560Z"
   },
   {
    "duration": 320,
    "start_time": "2024-06-12T02:23:29.817Z"
   },
   {
    "duration": 15,
    "start_time": "2024-06-12T02:23:30.140Z"
   },
   {
    "duration": 13,
    "start_time": "2024-06-12T02:23:30.158Z"
   },
   {
    "duration": 20,
    "start_time": "2024-06-12T02:23:30.175Z"
   },
   {
    "duration": 47,
    "start_time": "2024-06-12T02:23:30.198Z"
   },
   {
    "duration": 19,
    "start_time": "2024-06-12T02:23:30.250Z"
   },
   {
    "duration": 40,
    "start_time": "2024-06-12T02:23:30.272Z"
   },
   {
    "duration": 22,
    "start_time": "2024-06-12T02:23:30.316Z"
   },
   {
    "duration": 82,
    "start_time": "2024-06-12T02:23:30.343Z"
   },
   {
    "duration": 45,
    "start_time": "2024-06-12T02:23:30.430Z"
   },
   {
    "duration": 35,
    "start_time": "2024-06-12T02:23:30.478Z"
   },
   {
    "duration": 95,
    "start_time": "2024-06-12T02:23:30.517Z"
   },
   {
    "duration": 187,
    "start_time": "2024-06-12T02:23:30.620Z"
   },
   {
    "duration": 20,
    "start_time": "2024-06-12T02:23:30.813Z"
   },
   {
    "duration": 11,
    "start_time": "2024-06-12T02:23:30.836Z"
   },
   {
    "duration": 90,
    "start_time": "2024-06-12T02:23:30.851Z"
   },
   {
    "duration": 115,
    "start_time": "2024-06-12T02:23:30.944Z"
   },
   {
    "duration": 51,
    "start_time": "2024-06-12T02:23:31.062Z"
   },
   {
    "duration": 12,
    "start_time": "2024-06-12T02:23:31.116Z"
   },
   {
    "duration": 86,
    "start_time": "2024-06-12T02:23:31.132Z"
   },
   {
    "duration": 138,
    "start_time": "2024-06-12T02:23:31.221Z"
   },
   {
    "duration": 21,
    "start_time": "2024-06-12T02:23:31.366Z"
   },
   {
    "duration": 46,
    "start_time": "2024-06-12T02:23:31.390Z"
   },
   {
    "duration": 36,
    "start_time": "2024-06-12T02:23:31.439Z"
   },
   {
    "duration": 50,
    "start_time": "2024-06-12T02:23:31.481Z"
   },
   {
    "duration": 28,
    "start_time": "2024-06-12T02:23:31.536Z"
   },
   {
    "duration": 53,
    "start_time": "2024-06-12T02:23:31.566Z"
   },
   {
    "duration": 17,
    "start_time": "2024-06-12T02:23:31.621Z"
   },
   {
    "duration": 3,
    "start_time": "2024-06-12T02:23:31.642Z"
   },
   {
    "duration": 3,
    "start_time": "2024-06-12T02:23:31.649Z"
   },
   {
    "duration": 4,
    "start_time": "2024-06-12T02:23:31.655Z"
   },
   {
    "duration": 4,
    "start_time": "2024-06-12T02:23:31.662Z"
   },
   {
    "duration": 3,
    "start_time": "2024-06-12T02:23:31.713Z"
   },
   {
    "duration": 3,
    "start_time": "2024-06-12T02:23:31.720Z"
   },
   {
    "duration": 3,
    "start_time": "2024-06-12T02:23:31.727Z"
   },
   {
    "duration": 3,
    "start_time": "2024-06-12T02:23:31.734Z"
   },
   {
    "duration": 3,
    "start_time": "2024-06-12T02:23:31.741Z"
   },
   {
    "duration": 1393,
    "start_time": "2024-06-12T02:23:52.059Z"
   },
   {
    "duration": 312,
    "start_time": "2024-06-12T02:23:53.457Z"
   },
   {
    "duration": 16,
    "start_time": "2024-06-12T02:23:53.772Z"
   },
   {
    "duration": 26,
    "start_time": "2024-06-12T02:23:53.792Z"
   },
   {
    "duration": 20,
    "start_time": "2024-06-12T02:23:53.823Z"
   },
   {
    "duration": 66,
    "start_time": "2024-06-12T02:23:53.846Z"
   },
   {
    "duration": 16,
    "start_time": "2024-06-12T02:23:53.915Z"
   },
   {
    "duration": 9,
    "start_time": "2024-06-12T02:23:53.934Z"
   },
   {
    "duration": 19,
    "start_time": "2024-06-12T02:23:53.946Z"
   },
   {
    "duration": 75,
    "start_time": "2024-06-12T02:23:53.968Z"
   },
   {
    "duration": 27,
    "start_time": "2024-06-12T02:23:54.046Z"
   },
   {
    "duration": 46,
    "start_time": "2024-06-12T02:23:54.077Z"
   },
   {
    "duration": 86,
    "start_time": "2024-06-12T02:23:54.126Z"
   },
   {
    "duration": 168,
    "start_time": "2024-06-12T02:23:54.221Z"
   },
   {
    "duration": 28,
    "start_time": "2024-06-12T02:23:54.396Z"
   },
   {
    "duration": 14,
    "start_time": "2024-06-12T02:23:54.428Z"
   },
   {
    "duration": 88,
    "start_time": "2024-06-12T02:23:54.445Z"
   },
   {
    "duration": 114,
    "start_time": "2024-06-12T02:23:54.536Z"
   },
   {
    "duration": 26,
    "start_time": "2024-06-12T02:23:54.655Z"
   },
   {
    "duration": 38,
    "start_time": "2024-06-12T02:23:54.684Z"
   },
   {
    "duration": 64,
    "start_time": "2024-06-12T02:23:54.726Z"
   },
   {
    "duration": 148,
    "start_time": "2024-06-12T02:23:54.813Z"
   },
   {
    "duration": 27,
    "start_time": "2024-06-12T02:23:54.964Z"
   },
   {
    "duration": 29,
    "start_time": "2024-06-12T02:23:55.012Z"
   },
   {
    "duration": 35,
    "start_time": "2024-06-12T02:23:55.046Z"
   },
   {
    "duration": 43,
    "start_time": "2024-06-12T02:23:55.085Z"
   },
   {
    "duration": 32,
    "start_time": "2024-06-12T02:23:55.130Z"
   },
   {
    "duration": 65,
    "start_time": "2024-06-12T02:23:55.165Z"
   },
   {
    "duration": 20,
    "start_time": "2024-06-12T02:23:55.233Z"
   },
   {
    "duration": 3,
    "start_time": "2024-06-12T02:23:55.257Z"
   },
   {
    "duration": 4,
    "start_time": "2024-06-12T02:23:55.264Z"
   },
   {
    "duration": 40,
    "start_time": "2024-06-12T02:23:55.272Z"
   },
   {
    "duration": 4,
    "start_time": "2024-06-12T02:23:55.317Z"
   },
   {
    "duration": 3,
    "start_time": "2024-06-12T02:23:55.328Z"
   },
   {
    "duration": 4,
    "start_time": "2024-06-12T02:23:55.337Z"
   },
   {
    "duration": 4,
    "start_time": "2024-06-12T02:23:55.345Z"
   },
   {
    "duration": 3,
    "start_time": "2024-06-12T02:23:55.353Z"
   },
   {
    "duration": 53,
    "start_time": "2024-06-12T02:23:55.359Z"
   },
   {
    "duration": 19,
    "start_time": "2024-06-12T02:24:10.400Z"
   },
   {
    "duration": 22,
    "start_time": "2024-06-12T02:25:26.344Z"
   },
   {
    "duration": 212,
    "start_time": "2024-06-12T02:25:34.454Z"
   },
   {
    "duration": 18,
    "start_time": "2024-06-12T02:25:44.781Z"
   },
   {
    "duration": 43,
    "start_time": "2024-06-12T02:26:03.794Z"
   },
   {
    "duration": 42,
    "start_time": "2024-06-12T02:26:28.047Z"
   },
   {
    "duration": 18,
    "start_time": "2024-06-12T02:27:17.465Z"
   },
   {
    "duration": 19,
    "start_time": "2024-06-12T02:27:26.318Z"
   },
   {
    "duration": 255,
    "start_time": "2024-06-12T02:27:53.648Z"
   },
   {
    "duration": 241,
    "start_time": "2024-06-12T02:28:16.435Z"
   },
   {
    "duration": 20,
    "start_time": "2024-06-12T02:28:36.795Z"
   },
   {
    "duration": 22,
    "start_time": "2024-06-12T02:29:55.628Z"
   },
   {
    "duration": 19,
    "start_time": "2024-06-12T02:30:24.239Z"
   },
   {
    "duration": 1472,
    "start_time": "2024-06-12T02:30:39.611Z"
   },
   {
    "duration": 18,
    "start_time": "2024-06-12T02:30:45.154Z"
   },
   {
    "duration": 310,
    "start_time": "2024-06-13T00:25:40.040Z"
   },
   {
    "duration": 4878,
    "start_time": "2024-06-13T00:25:50.816Z"
   },
   {
    "duration": 368,
    "start_time": "2024-06-13T00:25:55.698Z"
   },
   {
    "duration": 16,
    "start_time": "2024-06-13T00:25:56.069Z"
   },
   {
    "duration": 21,
    "start_time": "2024-06-13T00:25:56.090Z"
   },
   {
    "duration": 19,
    "start_time": "2024-06-13T00:25:56.115Z"
   },
   {
    "duration": 29,
    "start_time": "2024-06-13T00:25:56.137Z"
   },
   {
    "duration": 49,
    "start_time": "2024-06-13T00:25:56.168Z"
   },
   {
    "duration": 10,
    "start_time": "2024-06-13T00:25:56.220Z"
   },
   {
    "duration": 16,
    "start_time": "2024-06-13T00:25:56.234Z"
   },
   {
    "duration": 74,
    "start_time": "2024-06-13T00:25:56.257Z"
   },
   {
    "duration": 26,
    "start_time": "2024-06-13T00:25:56.334Z"
   },
   {
    "duration": 43,
    "start_time": "2024-06-13T00:25:56.363Z"
   },
   {
    "duration": 76,
    "start_time": "2024-06-13T00:25:56.409Z"
   },
   {
    "duration": 177,
    "start_time": "2024-06-13T00:25:56.490Z"
   },
   {
    "duration": 20,
    "start_time": "2024-06-13T00:25:56.669Z"
   },
   {
    "duration": 9,
    "start_time": "2024-06-13T00:25:56.705Z"
   },
   {
    "duration": 48,
    "start_time": "2024-06-13T00:25:56.717Z"
   },
   {
    "duration": 110,
    "start_time": "2024-06-13T00:25:56.768Z"
   },
   {
    "duration": 35,
    "start_time": "2024-06-13T00:25:56.881Z"
   },
   {
    "duration": 10,
    "start_time": "2024-06-13T00:25:56.919Z"
   },
   {
    "duration": 94,
    "start_time": "2024-06-13T00:25:56.933Z"
   },
   {
    "duration": 134,
    "start_time": "2024-06-13T00:25:57.030Z"
   },
   {
    "duration": 21,
    "start_time": "2024-06-13T00:25:57.167Z"
   },
   {
    "duration": 28,
    "start_time": "2024-06-13T00:25:57.207Z"
   },
   {
    "duration": 27,
    "start_time": "2024-06-13T00:25:57.239Z"
   },
   {
    "duration": 46,
    "start_time": "2024-06-13T00:25:57.270Z"
   },
   {
    "duration": 23,
    "start_time": "2024-06-13T00:25:57.320Z"
   },
   {
    "duration": 57,
    "start_time": "2024-06-13T00:25:57.351Z"
   },
   {
    "duration": 1865,
    "start_time": "2024-06-13T00:25:57.411Z"
   },
   {
    "duration": 0,
    "start_time": "2024-06-13T00:25:59.279Z"
   },
   {
    "duration": 0,
    "start_time": "2024-06-13T00:25:59.282Z"
   },
   {
    "duration": 0,
    "start_time": "2024-06-13T00:25:59.284Z"
   },
   {
    "duration": 0,
    "start_time": "2024-06-13T00:25:59.286Z"
   },
   {
    "duration": 0,
    "start_time": "2024-06-13T00:25:59.289Z"
   },
   {
    "duration": 0,
    "start_time": "2024-06-13T00:25:59.290Z"
   },
   {
    "duration": 0,
    "start_time": "2024-06-13T00:25:59.292Z"
   },
   {
    "duration": 0,
    "start_time": "2024-06-13T00:25:59.292Z"
   },
   {
    "duration": 0,
    "start_time": "2024-06-13T00:25:59.307Z"
   },
   {
    "duration": 17,
    "start_time": "2024-06-13T00:26:08.458Z"
   },
   {
    "duration": 250,
    "start_time": "2024-06-13T00:27:43.172Z"
   },
   {
    "duration": 69,
    "start_time": "2024-06-13T00:28:15.627Z"
   },
   {
    "duration": 62,
    "start_time": "2024-06-13T00:28:23.179Z"
   },
   {
    "duration": 4987,
    "start_time": "2024-06-13T11:02:59.871Z"
   },
   {
    "duration": 354,
    "start_time": "2024-06-13T11:03:04.862Z"
   },
   {
    "duration": 16,
    "start_time": "2024-06-13T11:03:05.219Z"
   },
   {
    "duration": 11,
    "start_time": "2024-06-13T11:03:05.240Z"
   },
   {
    "duration": 51,
    "start_time": "2024-06-13T11:03:05.254Z"
   },
   {
    "duration": 27,
    "start_time": "2024-06-13T11:03:05.308Z"
   },
   {
    "duration": 14,
    "start_time": "2024-06-13T11:03:05.339Z"
   },
   {
    "duration": 10,
    "start_time": "2024-06-13T11:03:05.356Z"
   },
   {
    "duration": 16,
    "start_time": "2024-06-13T11:03:05.408Z"
   },
   {
    "duration": 54,
    "start_time": "2024-06-13T11:03:05.429Z"
   },
   {
    "duration": 36,
    "start_time": "2024-06-13T11:03:05.487Z"
   },
   {
    "duration": 12,
    "start_time": "2024-06-13T11:03:05.526Z"
   },
   {
    "duration": 106,
    "start_time": "2024-06-13T11:03:05.541Z"
   },
   {
    "duration": 164,
    "start_time": "2024-06-13T11:03:05.650Z"
   },
   {
    "duration": 22,
    "start_time": "2024-06-13T11:03:05.817Z"
   },
   {
    "duration": 13,
    "start_time": "2024-06-13T11:03:05.845Z"
   },
   {
    "duration": 80,
    "start_time": "2024-06-13T11:03:05.860Z"
   },
   {
    "duration": 102,
    "start_time": "2024-06-13T11:03:05.943Z"
   },
   {
    "duration": 22,
    "start_time": "2024-06-13T11:03:06.048Z"
   },
   {
    "duration": 33,
    "start_time": "2024-06-13T11:03:06.073Z"
   },
   {
    "duration": 58,
    "start_time": "2024-06-13T11:03:06.110Z"
   },
   {
    "duration": 147,
    "start_time": "2024-06-13T11:03:06.170Z"
   },
   {
    "duration": 19,
    "start_time": "2024-06-13T11:03:06.320Z"
   },
   {
    "duration": 29,
    "start_time": "2024-06-13T11:03:06.343Z"
   },
   {
    "duration": 28,
    "start_time": "2024-06-13T11:03:06.407Z"
   },
   {
    "duration": 21,
    "start_time": "2024-06-13T11:03:06.437Z"
   },
   {
    "duration": 55,
    "start_time": "2024-06-13T11:03:06.461Z"
   },
   {
    "duration": 27,
    "start_time": "2024-06-13T11:03:06.523Z"
   },
   {
    "duration": 1085,
    "start_time": "2024-06-13T11:03:06.553Z"
   },
   {
    "duration": 0,
    "start_time": "2024-06-13T11:03:07.641Z"
   },
   {
    "duration": 0,
    "start_time": "2024-06-13T11:03:07.642Z"
   },
   {
    "duration": 0,
    "start_time": "2024-06-13T11:03:07.644Z"
   },
   {
    "duration": 0,
    "start_time": "2024-06-13T11:03:07.647Z"
   },
   {
    "duration": 0,
    "start_time": "2024-06-13T11:03:07.649Z"
   },
   {
    "duration": 0,
    "start_time": "2024-06-13T11:03:07.651Z"
   },
   {
    "duration": 0,
    "start_time": "2024-06-13T11:03:07.653Z"
   },
   {
    "duration": 0,
    "start_time": "2024-06-13T11:03:07.655Z"
   },
   {
    "duration": 0,
    "start_time": "2024-06-13T11:03:07.657Z"
   },
   {
    "duration": 46,
    "start_time": "2024-06-13T11:04:03.506Z"
   },
   {
    "duration": 23,
    "start_time": "2024-06-13T11:04:54.864Z"
   },
   {
    "duration": 46,
    "start_time": "2024-06-13T11:06:10.273Z"
   },
   {
    "duration": 31,
    "start_time": "2024-06-13T11:06:32.339Z"
   },
   {
    "duration": 33,
    "start_time": "2024-06-13T11:09:13.019Z"
   },
   {
    "duration": 46,
    "start_time": "2024-06-13T11:10:23.282Z"
   },
   {
    "duration": 27,
    "start_time": "2024-06-13T11:10:29.352Z"
   },
   {
    "duration": 21,
    "start_time": "2024-06-13T11:10:34.201Z"
   },
   {
    "duration": 29,
    "start_time": "2024-06-13T11:10:40.791Z"
   },
   {
    "duration": 32,
    "start_time": "2024-06-13T11:10:48.977Z"
   },
   {
    "duration": 34,
    "start_time": "2024-06-13T11:10:54.157Z"
   },
   {
    "duration": 76,
    "start_time": "2024-06-13T11:16:10.302Z"
   },
   {
    "duration": 84,
    "start_time": "2024-06-13T11:16:25.542Z"
   },
   {
    "duration": 112,
    "start_time": "2024-06-13T11:16:27.014Z"
   },
   {
    "duration": 89,
    "start_time": "2024-06-13T11:19:07.226Z"
   },
   {
    "duration": 163,
    "start_time": "2024-06-13T11:19:08.032Z"
   },
   {
    "duration": 108,
    "start_time": "2024-06-13T11:22:44.838Z"
   },
   {
    "duration": 213,
    "start_time": "2024-06-13T11:22:45.623Z"
   },
   {
    "duration": 4991,
    "start_time": "2024-06-16T22:39:44.729Z"
   },
   {
    "duration": 328,
    "start_time": "2024-06-16T22:39:49.723Z"
   },
   {
    "duration": 17,
    "start_time": "2024-06-16T22:39:50.053Z"
   },
   {
    "duration": 11,
    "start_time": "2024-06-16T22:39:50.075Z"
   },
   {
    "duration": 41,
    "start_time": "2024-06-16T22:39:50.089Z"
   },
   {
    "duration": 30,
    "start_time": "2024-06-16T22:39:50.133Z"
   },
   {
    "duration": 51,
    "start_time": "2024-06-16T22:39:50.165Z"
   },
   {
    "duration": 9,
    "start_time": "2024-06-16T22:39:50.219Z"
   },
   {
    "duration": 16,
    "start_time": "2024-06-16T22:39:50.232Z"
   },
   {
    "duration": 71,
    "start_time": "2024-06-16T22:39:50.254Z"
   },
   {
    "duration": 24,
    "start_time": "2024-06-16T22:39:50.329Z"
   },
   {
    "duration": 13,
    "start_time": "2024-06-16T22:39:50.356Z"
   },
   {
    "duration": 107,
    "start_time": "2024-06-16T22:39:50.372Z"
   },
   {
    "duration": 173,
    "start_time": "2024-06-16T22:39:50.482Z"
   },
   {
    "duration": 20,
    "start_time": "2024-06-16T22:39:50.658Z"
   },
   {
    "duration": 36,
    "start_time": "2024-06-16T22:39:50.680Z"
   },
   {
    "duration": 53,
    "start_time": "2024-06-16T22:39:50.721Z"
   },
   {
    "duration": 111,
    "start_time": "2024-06-16T22:39:50.778Z"
   },
   {
    "duration": 38,
    "start_time": "2024-06-16T22:39:50.893Z"
   },
   {
    "duration": 12,
    "start_time": "2024-06-16T22:39:50.934Z"
   },
   {
    "duration": 90,
    "start_time": "2024-06-16T22:39:50.949Z"
   },
   {
    "duration": 130,
    "start_time": "2024-06-16T22:39:51.042Z"
   },
   {
    "duration": 20,
    "start_time": "2024-06-16T22:39:51.176Z"
   },
   {
    "duration": 30,
    "start_time": "2024-06-16T22:39:51.214Z"
   },
   {
    "duration": 28,
    "start_time": "2024-06-16T22:39:51.247Z"
   },
   {
    "duration": 52,
    "start_time": "2024-06-16T22:39:51.278Z"
   },
   {
    "duration": 24,
    "start_time": "2024-06-16T22:39:51.333Z"
   },
   {
    "duration": 61,
    "start_time": "2024-06-16T22:39:51.366Z"
   },
   {
    "duration": 34,
    "start_time": "2024-06-16T22:39:51.430Z"
   },
   {
    "duration": 450,
    "start_time": "2024-06-16T22:39:51.467Z"
   },
   {
    "duration": 0,
    "start_time": "2024-06-16T22:39:51.921Z"
   },
   {
    "duration": 0,
    "start_time": "2024-06-16T22:39:51.923Z"
   },
   {
    "duration": 0,
    "start_time": "2024-06-16T22:39:51.925Z"
   },
   {
    "duration": 0,
    "start_time": "2024-06-16T22:39:51.928Z"
   },
   {
    "duration": 0,
    "start_time": "2024-06-16T22:39:51.929Z"
   },
   {
    "duration": 0,
    "start_time": "2024-06-16T22:39:51.932Z"
   },
   {
    "duration": 0,
    "start_time": "2024-06-16T22:39:51.936Z"
   },
   {
    "duration": 0,
    "start_time": "2024-06-16T22:39:51.937Z"
   },
   {
    "duration": 9,
    "start_time": "2024-06-16T22:39:57.278Z"
   },
   {
    "duration": 857,
    "start_time": "2024-06-16T22:42:15.685Z"
   },
   {
    "duration": 94,
    "start_time": "2024-06-16T22:44:32.572Z"
   },
   {
    "duration": 1295,
    "start_time": "2024-06-16T22:45:11.605Z"
   },
   {
    "duration": 286,
    "start_time": "2024-06-16T22:45:12.904Z"
   },
   {
    "duration": 20,
    "start_time": "2024-06-16T22:45:13.193Z"
   },
   {
    "duration": 25,
    "start_time": "2024-06-16T22:45:13.216Z"
   },
   {
    "duration": 20,
    "start_time": "2024-06-16T22:45:13.246Z"
   },
   {
    "duration": 4,
    "start_time": "2024-06-16T22:45:13.269Z"
   },
   {
    "duration": 52,
    "start_time": "2024-06-16T22:45:13.276Z"
   },
   {
    "duration": 10,
    "start_time": "2024-06-16T22:45:13.331Z"
   },
   {
    "duration": 19,
    "start_time": "2024-06-16T22:45:13.344Z"
   },
   {
    "duration": 71,
    "start_time": "2024-06-16T22:45:13.366Z"
   },
   {
    "duration": 27,
    "start_time": "2024-06-16T22:45:13.440Z"
   },
   {
    "duration": 44,
    "start_time": "2024-06-16T22:45:13.470Z"
   },
   {
    "duration": 78,
    "start_time": "2024-06-16T22:45:13.517Z"
   },
   {
    "duration": 165,
    "start_time": "2024-06-16T22:45:13.620Z"
   },
   {
    "duration": 30,
    "start_time": "2024-06-16T22:45:13.788Z"
   },
   {
    "duration": 10,
    "start_time": "2024-06-16T22:45:13.821Z"
   },
   {
    "duration": 86,
    "start_time": "2024-06-16T22:45:13.835Z"
   },
   {
    "duration": 104,
    "start_time": "2024-06-16T22:45:13.924Z"
   },
   {
    "duration": 25,
    "start_time": "2024-06-16T22:45:14.031Z"
   },
   {
    "duration": 12,
    "start_time": "2024-06-16T22:45:14.058Z"
   },
   {
    "duration": 88,
    "start_time": "2024-06-16T22:45:14.073Z"
   },
   {
    "duration": 131,
    "start_time": "2024-06-16T22:45:14.164Z"
   },
   {
    "duration": 31,
    "start_time": "2024-06-16T22:45:14.298Z"
   },
   {
    "duration": 32,
    "start_time": "2024-06-16T22:45:14.332Z"
   },
   {
    "duration": 58,
    "start_time": "2024-06-16T22:45:14.367Z"
   },
   {
    "duration": 20,
    "start_time": "2024-06-16T22:45:14.427Z"
   },
   {
    "duration": 24,
    "start_time": "2024-06-16T22:45:14.449Z"
   },
   {
    "duration": 74,
    "start_time": "2024-06-16T22:45:14.476Z"
   },
   {
    "duration": 35,
    "start_time": "2024-06-16T22:45:14.553Z"
   },
   {
    "duration": 1334,
    "start_time": "2024-06-16T22:45:14.591Z"
   },
   {
    "duration": 0,
    "start_time": "2024-06-16T22:45:15.928Z"
   },
   {
    "duration": 0,
    "start_time": "2024-06-16T22:45:15.929Z"
   },
   {
    "duration": 0,
    "start_time": "2024-06-16T22:45:15.931Z"
   },
   {
    "duration": 0,
    "start_time": "2024-06-16T22:45:15.933Z"
   },
   {
    "duration": 0,
    "start_time": "2024-06-16T22:45:15.935Z"
   },
   {
    "duration": 0,
    "start_time": "2024-06-16T22:45:15.937Z"
   },
   {
    "duration": 0,
    "start_time": "2024-06-16T22:45:15.939Z"
   },
   {
    "duration": 0,
    "start_time": "2024-06-16T22:45:15.941Z"
   },
   {
    "duration": 96,
    "start_time": "2024-06-16T22:46:37.496Z"
   },
   {
    "duration": 5132,
    "start_time": "2024-06-17T01:36:08.705Z"
   },
   {
    "duration": 420,
    "start_time": "2024-06-17T01:36:13.841Z"
   },
   {
    "duration": 17,
    "start_time": "2024-06-17T01:36:14.263Z"
   },
   {
    "duration": 11,
    "start_time": "2024-06-17T01:36:14.285Z"
   },
   {
    "duration": 37,
    "start_time": "2024-06-17T01:36:14.299Z"
   },
   {
    "duration": 5,
    "start_time": "2024-06-17T01:36:14.338Z"
   },
   {
    "duration": 14,
    "start_time": "2024-06-17T01:36:14.346Z"
   },
   {
    "duration": 10,
    "start_time": "2024-06-17T01:36:14.363Z"
   },
   {
    "duration": 69,
    "start_time": "2024-06-17T01:36:14.376Z"
   },
   {
    "duration": 35,
    "start_time": "2024-06-17T01:36:14.450Z"
   },
   {
    "duration": 50,
    "start_time": "2024-06-17T01:36:14.489Z"
   },
   {
    "duration": 14,
    "start_time": "2024-06-17T01:36:14.542Z"
   },
   {
    "duration": 103,
    "start_time": "2024-06-17T01:36:14.559Z"
   },
   {
    "duration": 174,
    "start_time": "2024-06-17T01:36:14.665Z"
   },
   {
    "duration": 21,
    "start_time": "2024-06-17T01:36:14.842Z"
   },
   {
    "duration": 10,
    "start_time": "2024-06-17T01:36:14.866Z"
   },
   {
    "duration": 87,
    "start_time": "2024-06-17T01:36:14.880Z"
   },
   {
    "duration": 104,
    "start_time": "2024-06-17T01:36:14.971Z"
   },
   {
    "duration": 23,
    "start_time": "2024-06-17T01:36:15.078Z"
   },
   {
    "duration": 37,
    "start_time": "2024-06-17T01:36:15.104Z"
   },
   {
    "duration": 58,
    "start_time": "2024-06-17T01:36:15.144Z"
   },
   {
    "duration": 164,
    "start_time": "2024-06-17T01:36:15.205Z"
   },
   {
    "duration": 22,
    "start_time": "2024-06-17T01:36:15.373Z"
   },
   {
    "duration": 58,
    "start_time": "2024-06-17T01:36:15.399Z"
   },
   {
    "duration": 27,
    "start_time": "2024-06-17T01:36:15.460Z"
   },
   {
    "duration": 52,
    "start_time": "2024-06-17T01:36:15.491Z"
   },
   {
    "duration": 25,
    "start_time": "2024-06-17T01:36:15.547Z"
   },
   {
    "duration": 54,
    "start_time": "2024-06-17T01:36:15.580Z"
   },
   {
    "duration": 38,
    "start_time": "2024-06-17T01:36:15.637Z"
   },
   {
    "duration": 1305,
    "start_time": "2024-06-17T01:36:15.678Z"
   },
   {
    "duration": 0,
    "start_time": "2024-06-17T01:36:16.987Z"
   },
   {
    "duration": 0,
    "start_time": "2024-06-17T01:36:16.989Z"
   },
   {
    "duration": 0,
    "start_time": "2024-06-17T01:36:16.991Z"
   },
   {
    "duration": 0,
    "start_time": "2024-06-17T01:36:16.993Z"
   },
   {
    "duration": 0,
    "start_time": "2024-06-17T01:36:16.995Z"
   },
   {
    "duration": 0,
    "start_time": "2024-06-17T01:36:16.998Z"
   },
   {
    "duration": 0,
    "start_time": "2024-06-17T01:36:17.000Z"
   },
   {
    "duration": 0,
    "start_time": "2024-06-17T01:36:17.002Z"
   },
   {
    "duration": 22,
    "start_time": "2024-06-17T01:42:10.397Z"
   },
   {
    "duration": 17,
    "start_time": "2024-06-17T01:42:17.954Z"
   },
   {
    "duration": 19,
    "start_time": "2024-06-17T01:42:35.706Z"
   },
   {
    "duration": 31,
    "start_time": "2024-06-17T01:42:54.101Z"
   },
   {
    "duration": 437,
    "start_time": "2024-06-17T02:07:45.226Z"
   },
   {
    "duration": 10,
    "start_time": "2024-06-17T02:08:01.745Z"
   },
   {
    "duration": 14,
    "start_time": "2024-06-17T02:08:16.200Z"
   },
   {
    "duration": 14,
    "start_time": "2024-06-17T02:10:49.939Z"
   },
   {
    "duration": 15,
    "start_time": "2024-06-17T02:13:27.340Z"
   },
   {
    "duration": 429,
    "start_time": "2024-06-17T02:30:43.847Z"
   },
   {
    "duration": 413,
    "start_time": "2024-06-17T02:32:39.432Z"
   },
   {
    "duration": 407,
    "start_time": "2024-06-17T02:34:18.034Z"
   },
   {
    "duration": 1449,
    "start_time": "2024-06-18T01:05:20.538Z"
   },
   {
    "duration": 378,
    "start_time": "2024-06-18T01:05:21.993Z"
   },
   {
    "duration": 18,
    "start_time": "2024-06-18T01:05:22.375Z"
   },
   {
    "duration": 11,
    "start_time": "2024-06-18T01:05:22.396Z"
   },
   {
    "duration": 23,
    "start_time": "2024-06-18T01:05:22.412Z"
   },
   {
    "duration": 7,
    "start_time": "2024-06-18T01:05:22.441Z"
   },
   {
    "duration": 51,
    "start_time": "2024-06-18T01:05:22.452Z"
   },
   {
    "duration": 24,
    "start_time": "2024-06-18T01:05:22.507Z"
   },
   {
    "duration": 21,
    "start_time": "2024-06-18T01:05:22.540Z"
   },
   {
    "duration": 55,
    "start_time": "2024-06-18T01:05:22.565Z"
   },
   {
    "duration": 32,
    "start_time": "2024-06-18T01:05:22.626Z"
   },
   {
    "duration": 32,
    "start_time": "2024-06-18T01:05:22.663Z"
   },
   {
    "duration": 104,
    "start_time": "2024-06-18T01:05:22.700Z"
   },
   {
    "duration": 178,
    "start_time": "2024-06-18T01:05:22.813Z"
   },
   {
    "duration": 25,
    "start_time": "2024-06-18T01:05:22.993Z"
   },
   {
    "duration": 10,
    "start_time": "2024-06-18T01:05:23.023Z"
   },
   {
    "duration": 83,
    "start_time": "2024-06-18T01:05:23.036Z"
   },
   {
    "duration": 109,
    "start_time": "2024-06-18T01:05:23.125Z"
   },
   {
    "duration": 25,
    "start_time": "2024-06-18T01:05:23.238Z"
   },
   {
    "duration": 18,
    "start_time": "2024-06-18T01:05:23.291Z"
   },
   {
    "duration": 59,
    "start_time": "2024-06-18T01:05:23.312Z"
   },
   {
    "duration": 137,
    "start_time": "2024-06-18T01:05:23.393Z"
   },
   {
    "duration": 19,
    "start_time": "2024-06-18T01:05:23.534Z"
   },
   {
    "duration": 62,
    "start_time": "2024-06-18T01:05:23.556Z"
   },
   {
    "duration": 37,
    "start_time": "2024-06-18T01:05:23.621Z"
   },
   {
    "duration": 45,
    "start_time": "2024-06-18T01:05:23.661Z"
   },
   {
    "duration": 29,
    "start_time": "2024-06-18T01:05:23.712Z"
   },
   {
    "duration": 59,
    "start_time": "2024-06-18T01:05:23.744Z"
   },
   {
    "duration": 41,
    "start_time": "2024-06-18T01:05:23.806Z"
   },
   {
    "duration": 56,
    "start_time": "2024-06-18T01:05:23.850Z"
   },
   {
    "duration": 923,
    "start_time": "2024-06-18T01:05:23.909Z"
   },
   {
    "duration": 0,
    "start_time": "2024-06-18T01:05:24.834Z"
   },
   {
    "duration": 0,
    "start_time": "2024-06-18T01:05:24.836Z"
   },
   {
    "duration": 0,
    "start_time": "2024-06-18T01:05:24.838Z"
   },
   {
    "duration": 0,
    "start_time": "2024-06-18T01:05:24.840Z"
   },
   {
    "duration": 0,
    "start_time": "2024-06-18T01:05:24.844Z"
   },
   {
    "duration": 0,
    "start_time": "2024-06-18T01:05:24.846Z"
   },
   {
    "duration": 0,
    "start_time": "2024-06-18T01:05:24.850Z"
   },
   {
    "duration": 7,
    "start_time": "2024-06-18T01:06:20.300Z"
   },
   {
    "duration": 387,
    "start_time": "2024-06-18T01:06:30.671Z"
   },
   {
    "duration": 461,
    "start_time": "2024-06-18T01:07:27.403Z"
   },
   {
    "duration": 5016,
    "start_time": "2024-06-19T02:53:52.691Z"
   },
   {
    "duration": 372,
    "start_time": "2024-06-19T02:53:57.710Z"
   },
   {
    "duration": 18,
    "start_time": "2024-06-19T02:53:58.085Z"
   },
   {
    "duration": 11,
    "start_time": "2024-06-19T02:53:58.107Z"
   },
   {
    "duration": 22,
    "start_time": "2024-06-19T02:53:58.122Z"
   },
   {
    "duration": 5,
    "start_time": "2024-06-19T02:53:58.147Z"
   },
   {
    "duration": 54,
    "start_time": "2024-06-19T02:53:58.156Z"
   },
   {
    "duration": 16,
    "start_time": "2024-06-19T02:53:58.213Z"
   },
   {
    "duration": 18,
    "start_time": "2024-06-19T02:53:58.232Z"
   },
   {
    "duration": 71,
    "start_time": "2024-06-19T02:53:58.256Z"
   },
   {
    "duration": 27,
    "start_time": "2024-06-19T02:53:58.330Z"
   },
   {
    "duration": 43,
    "start_time": "2024-06-19T02:53:58.360Z"
   },
   {
    "duration": 96,
    "start_time": "2024-06-19T02:53:58.406Z"
   },
   {
    "duration": 169,
    "start_time": "2024-06-19T02:53:58.504Z"
   },
   {
    "duration": 31,
    "start_time": "2024-06-19T02:53:58.677Z"
   },
   {
    "duration": 9,
    "start_time": "2024-06-19T02:53:58.711Z"
   },
   {
    "duration": 47,
    "start_time": "2024-06-19T02:53:58.724Z"
   },
   {
    "duration": 131,
    "start_time": "2024-06-19T02:53:58.775Z"
   },
   {
    "duration": 24,
    "start_time": "2024-06-19T02:53:58.909Z"
   },
   {
    "duration": 11,
    "start_time": "2024-06-19T02:53:58.936Z"
   },
   {
    "duration": 89,
    "start_time": "2024-06-19T02:53:58.951Z"
   },
   {
    "duration": 145,
    "start_time": "2024-06-19T02:53:59.043Z"
   },
   {
    "duration": 19,
    "start_time": "2024-06-19T02:53:59.203Z"
   },
   {
    "duration": 30,
    "start_time": "2024-06-19T02:53:59.225Z"
   },
   {
    "duration": 62,
    "start_time": "2024-06-19T02:53:59.258Z"
   },
   {
    "duration": 20,
    "start_time": "2024-06-19T02:53:59.323Z"
   },
   {
    "duration": 23,
    "start_time": "2024-06-19T02:53:59.347Z"
   },
   {
    "duration": 28,
    "start_time": "2024-06-19T02:53:59.405Z"
   },
   {
    "duration": 34,
    "start_time": "2024-06-19T02:53:59.435Z"
   },
   {
    "duration": 34,
    "start_time": "2024-06-19T02:53:59.500Z"
   },
   {
    "duration": 432,
    "start_time": "2024-06-19T02:53:59.537Z"
   },
   {
    "duration": 3,
    "start_time": "2024-06-19T02:53:59.972Z"
   },
   {
    "duration": 23,
    "start_time": "2024-06-19T02:53:59.979Z"
   },
   {
    "duration": 3,
    "start_time": "2024-06-19T02:54:00.005Z"
   },
   {
    "duration": 4,
    "start_time": "2024-06-19T02:54:00.011Z"
   },
   {
    "duration": 4,
    "start_time": "2024-06-19T02:54:00.018Z"
   },
   {
    "duration": 4,
    "start_time": "2024-06-19T02:54:00.025Z"
   },
   {
    "duration": 5,
    "start_time": "2024-06-19T02:54:00.032Z"
   },
   {
    "duration": 4946,
    "start_time": "2024-06-20T00:22:28.128Z"
   },
   {
    "duration": 363,
    "start_time": "2024-06-20T00:22:33.079Z"
   },
   {
    "duration": 18,
    "start_time": "2024-06-20T00:22:33.445Z"
   },
   {
    "duration": 12,
    "start_time": "2024-06-20T00:22:33.466Z"
   },
   {
    "duration": 20,
    "start_time": "2024-06-20T00:22:33.503Z"
   },
   {
    "duration": 4,
    "start_time": "2024-06-20T00:22:33.526Z"
   },
   {
    "duration": 14,
    "start_time": "2024-06-20T00:22:33.535Z"
   },
   {
    "duration": 49,
    "start_time": "2024-06-20T00:22:33.553Z"
   },
   {
    "duration": 17,
    "start_time": "2024-06-20T00:22:33.606Z"
   },
   {
    "duration": 34,
    "start_time": "2024-06-20T00:22:33.627Z"
   },
   {
    "duration": 59,
    "start_time": "2024-06-20T00:22:33.664Z"
   },
   {
    "duration": 15,
    "start_time": "2024-06-20T00:22:33.726Z"
   },
   {
    "duration": 104,
    "start_time": "2024-06-20T00:22:33.745Z"
   },
   {
    "duration": 167,
    "start_time": "2024-06-20T00:22:33.856Z"
   },
   {
    "duration": 27,
    "start_time": "2024-06-20T00:22:34.029Z"
   },
   {
    "duration": 10,
    "start_time": "2024-06-20T00:22:34.059Z"
   },
   {
    "duration": 77,
    "start_time": "2024-06-20T00:22:34.073Z"
   },
   {
    "duration": 106,
    "start_time": "2024-06-20T00:22:34.154Z"
   },
   {
    "duration": 39,
    "start_time": "2024-06-20T00:22:34.263Z"
   },
   {
    "duration": 11,
    "start_time": "2024-06-20T00:22:34.305Z"
   },
   {
    "duration": 82,
    "start_time": "2024-06-20T00:22:34.319Z"
   },
   {
    "duration": 132,
    "start_time": "2024-06-20T00:22:34.404Z"
   },
   {
    "duration": 20,
    "start_time": "2024-06-20T00:22:34.539Z"
   },
   {
    "duration": 60,
    "start_time": "2024-06-20T00:22:34.562Z"
   },
   {
    "duration": 27,
    "start_time": "2024-06-20T00:22:34.625Z"
   },
   {
    "duration": 47,
    "start_time": "2024-06-20T00:22:34.655Z"
   },
   {
    "duration": 25,
    "start_time": "2024-06-20T00:22:34.705Z"
   },
   {
    "duration": 29,
    "start_time": "2024-06-20T00:22:34.733Z"
   },
   {
    "duration": 64,
    "start_time": "2024-06-20T00:22:34.765Z"
   },
   {
    "duration": 36,
    "start_time": "2024-06-20T00:22:34.833Z"
   },
   {
    "duration": 453,
    "start_time": "2024-06-20T00:22:34.872Z"
   },
   {
    "duration": 4,
    "start_time": "2024-06-20T00:22:35.328Z"
   },
   {
    "duration": 3,
    "start_time": "2024-06-20T00:22:35.336Z"
   },
   {
    "duration": 3,
    "start_time": "2024-06-20T00:22:35.342Z"
   },
   {
    "duration": 3,
    "start_time": "2024-06-20T00:22:35.349Z"
   },
   {
    "duration": 46,
    "start_time": "2024-06-20T00:22:35.356Z"
   },
   {
    "duration": 4,
    "start_time": "2024-06-20T00:22:35.405Z"
   },
   {
    "duration": 4,
    "start_time": "2024-06-20T00:22:35.412Z"
   },
   {
    "duration": 378,
    "start_time": "2024-06-20T01:13:23.123Z"
   },
   {
    "duration": 506,
    "start_time": "2024-06-20T01:15:06.460Z"
   },
   {
    "duration": 397,
    "start_time": "2024-06-20T01:15:14.539Z"
   },
   {
    "duration": 396,
    "start_time": "2024-06-20T01:48:53.402Z"
   },
   {
    "duration": 35,
    "start_time": "2024-06-20T01:49:40.367Z"
   },
   {
    "duration": 9,
    "start_time": "2024-06-20T01:49:51.781Z"
   },
   {
    "duration": 389,
    "start_time": "2024-06-20T01:50:14.203Z"
   },
   {
    "duration": 406,
    "start_time": "2024-06-20T01:50:30.998Z"
   },
   {
    "duration": 379,
    "start_time": "2024-06-20T01:50:48.486Z"
   },
   {
    "duration": 474,
    "start_time": "2024-06-20T01:51:02.517Z"
   },
   {
    "duration": 9,
    "start_time": "2024-06-20T01:51:25.886Z"
   },
   {
    "duration": 387,
    "start_time": "2024-06-20T01:51:39.898Z"
   },
   {
    "duration": 106,
    "start_time": "2024-06-20T01:52:17.555Z"
   },
   {
    "duration": 58,
    "start_time": "2024-06-20T01:52:49.406Z"
   },
   {
    "duration": 377,
    "start_time": "2024-06-20T01:56:11.867Z"
   },
   {
    "duration": 417,
    "start_time": "2024-06-20T01:56:30.113Z"
   },
   {
    "duration": 391,
    "start_time": "2024-06-20T01:57:22.586Z"
   },
   {
    "duration": 5071,
    "start_time": "2024-06-21T00:50:21.606Z"
   },
   {
    "duration": 365,
    "start_time": "2024-06-21T00:50:26.680Z"
   },
   {
    "duration": 17,
    "start_time": "2024-06-21T00:50:27.047Z"
   },
   {
    "duration": 12,
    "start_time": "2024-06-21T00:50:27.068Z"
   },
   {
    "duration": 46,
    "start_time": "2024-06-21T00:50:27.083Z"
   },
   {
    "duration": 4,
    "start_time": "2024-06-21T00:50:27.132Z"
   },
   {
    "duration": 16,
    "start_time": "2024-06-21T00:50:27.139Z"
   },
   {
    "duration": 10,
    "start_time": "2024-06-21T00:50:27.158Z"
   },
   {
    "duration": 52,
    "start_time": "2024-06-21T00:50:27.171Z"
   },
   {
    "duration": 33,
    "start_time": "2024-06-21T00:50:27.229Z"
   },
   {
    "duration": 58,
    "start_time": "2024-06-21T00:50:27.265Z"
   },
   {
    "duration": 13,
    "start_time": "2024-06-21T00:50:27.326Z"
   },
   {
    "duration": 100,
    "start_time": "2024-06-21T00:50:27.346Z"
   },
   {
    "duration": 163,
    "start_time": "2024-06-21T00:50:27.449Z"
   },
   {
    "duration": 25,
    "start_time": "2024-06-21T00:50:27.615Z"
   },
   {
    "duration": 11,
    "start_time": "2024-06-21T00:50:27.646Z"
   },
   {
    "duration": 82,
    "start_time": "2024-06-21T00:50:27.661Z"
   },
   {
    "duration": 99,
    "start_time": "2024-06-21T00:50:27.749Z"
   },
   {
    "duration": 24,
    "start_time": "2024-06-21T00:50:27.851Z"
   },
   {
    "duration": 12,
    "start_time": "2024-06-21T00:50:27.878Z"
   },
   {
    "duration": 59,
    "start_time": "2024-06-21T00:50:27.924Z"
   },
   {
    "duration": 138,
    "start_time": "2024-06-21T00:50:27.985Z"
   },
   {
    "duration": 19,
    "start_time": "2024-06-21T00:50:28.126Z"
   },
   {
    "duration": 30,
    "start_time": "2024-06-21T00:50:28.147Z"
   },
   {
    "duration": 59,
    "start_time": "2024-06-21T00:50:28.180Z"
   },
   {
    "duration": 22,
    "start_time": "2024-06-21T00:50:28.242Z"
   },
   {
    "duration": 58,
    "start_time": "2024-06-21T00:50:28.267Z"
   },
   {
    "duration": 29,
    "start_time": "2024-06-21T00:50:28.333Z"
   },
   {
    "duration": 58,
    "start_time": "2024-06-21T00:50:28.365Z"
   },
   {
    "duration": 36,
    "start_time": "2024-06-21T00:50:28.426Z"
   },
   {
    "duration": 464,
    "start_time": "2024-06-21T00:50:28.464Z"
   },
   {
    "duration": 3,
    "start_time": "2024-06-21T00:50:28.932Z"
   },
   {
    "duration": 4,
    "start_time": "2024-06-21T00:50:28.938Z"
   },
   {
    "duration": 4,
    "start_time": "2024-06-21T00:50:28.944Z"
   },
   {
    "duration": 3,
    "start_time": "2024-06-21T00:50:28.951Z"
   },
   {
    "duration": 4,
    "start_time": "2024-06-21T00:50:28.957Z"
   },
   {
    "duration": 3,
    "start_time": "2024-06-21T00:50:28.965Z"
   },
   {
    "duration": 52,
    "start_time": "2024-06-21T00:50:28.972Z"
   },
   {
    "duration": 409,
    "start_time": "2024-06-21T00:51:54.676Z"
   },
   {
    "duration": 689,
    "start_time": "2024-06-21T00:52:30.794Z"
   },
   {
    "duration": 6,
    "start_time": "2024-06-21T00:52:44.743Z"
   },
   {
    "duration": 261,
    "start_time": "2024-06-21T01:00:01.934Z"
   },
   {
    "duration": 137,
    "start_time": "2024-06-21T01:05:51.867Z"
   },
   {
    "duration": 565,
    "start_time": "2024-06-21T01:06:34.160Z"
   },
   {
    "duration": 267,
    "start_time": "2024-06-21T01:07:11.341Z"
   },
   {
    "duration": 60,
    "start_time": "2024-06-21T01:11:10.827Z"
   },
   {
    "duration": 254,
    "start_time": "2024-06-21T01:11:35.091Z"
   },
   {
    "duration": 677,
    "start_time": "2024-06-21T01:16:06.886Z"
   },
   {
    "duration": 1574,
    "start_time": "2024-06-21T01:16:37.397Z"
   },
   {
    "duration": 654,
    "start_time": "2024-06-21T01:17:20.103Z"
   },
   {
    "duration": 791,
    "start_time": "2024-06-21T01:18:37.748Z"
   },
   {
    "duration": 13,
    "start_time": "2024-06-21T01:24:28.227Z"
   },
   {
    "duration": 43,
    "start_time": "2024-06-21T01:24:39.631Z"
   },
   {
    "duration": 674,
    "start_time": "2024-06-21T01:25:13.451Z"
   },
   {
    "duration": 649,
    "start_time": "2024-06-21T01:25:39.675Z"
   },
   {
    "duration": 601,
    "start_time": "2024-06-21T01:25:47.412Z"
   },
   {
    "duration": 623,
    "start_time": "2024-06-21T01:26:04.431Z"
   },
   {
    "duration": 622,
    "start_time": "2024-06-21T01:27:37.126Z"
   },
   {
    "duration": 644,
    "start_time": "2024-06-21T01:27:46.061Z"
   },
   {
    "duration": 801,
    "start_time": "2024-06-21T01:27:57.749Z"
   },
   {
    "duration": 509,
    "start_time": "2024-06-21T01:30:12.214Z"
   },
   {
    "duration": 480,
    "start_time": "2024-06-21T01:30:23.024Z"
   },
   {
    "duration": 613,
    "start_time": "2024-06-21T01:31:51.036Z"
   },
   {
    "duration": 500,
    "start_time": "2024-06-21T01:32:01.468Z"
   },
   {
    "duration": 476,
    "start_time": "2024-06-21T01:35:41.552Z"
   },
   {
    "duration": 485,
    "start_time": "2024-06-21T01:35:48.267Z"
   },
   {
    "duration": 488,
    "start_time": "2024-06-21T01:36:28.619Z"
   },
   {
    "duration": 15,
    "start_time": "2024-06-21T01:38:49.473Z"
   },
   {
    "duration": 13,
    "start_time": "2024-06-21T01:39:10.271Z"
   },
   {
    "duration": 16,
    "start_time": "2024-06-21T01:39:16.340Z"
   },
   {
    "duration": 17,
    "start_time": "2024-06-21T01:39:56.445Z"
   },
   {
    "duration": 15,
    "start_time": "2024-06-21T01:40:00.848Z"
   },
   {
    "duration": 872,
    "start_time": "2024-06-21T01:43:54.712Z"
   },
   {
    "duration": 559,
    "start_time": "2024-06-21T01:45:24.809Z"
   },
   {
    "duration": 517,
    "start_time": "2024-06-21T01:46:51.982Z"
   },
   {
    "duration": 591,
    "start_time": "2024-06-21T01:47:02.243Z"
   },
   {
    "duration": 582,
    "start_time": "2024-06-21T01:47:12.058Z"
   },
   {
    "duration": 548,
    "start_time": "2024-06-21T01:47:30.436Z"
   },
   {
    "duration": 596,
    "start_time": "2024-06-21T01:47:48.840Z"
   },
   {
    "duration": 413,
    "start_time": "2024-06-21T01:47:56.296Z"
   },
   {
    "duration": 624,
    "start_time": "2024-06-21T01:50:20.152Z"
   },
   {
    "duration": 574,
    "start_time": "2024-06-21T01:50:53.573Z"
   },
   {
    "duration": 4971,
    "start_time": "2024-06-21T03:00:43.848Z"
   },
   {
    "duration": 366,
    "start_time": "2024-06-21T03:00:48.823Z"
   },
   {
    "duration": 16,
    "start_time": "2024-06-21T03:00:49.192Z"
   },
   {
    "duration": 11,
    "start_time": "2024-06-21T03:00:49.211Z"
   },
   {
    "duration": 21,
    "start_time": "2024-06-21T03:00:49.227Z"
   },
   {
    "duration": 4,
    "start_time": "2024-06-21T03:00:49.251Z"
   },
   {
    "duration": 51,
    "start_time": "2024-06-21T03:00:49.258Z"
   },
   {
    "duration": 12,
    "start_time": "2024-06-21T03:00:49.312Z"
   },
   {
    "duration": 16,
    "start_time": "2024-06-21T03:00:49.327Z"
   },
   {
    "duration": 79,
    "start_time": "2024-06-21T03:00:49.346Z"
   },
   {
    "duration": 26,
    "start_time": "2024-06-21T03:00:49.428Z"
   },
   {
    "duration": 12,
    "start_time": "2024-06-21T03:00:49.456Z"
   },
   {
    "duration": 74,
    "start_time": "2024-06-21T03:00:49.503Z"
   },
   {
    "duration": 177,
    "start_time": "2024-06-21T03:00:49.583Z"
   },
   {
    "duration": 20,
    "start_time": "2024-06-21T03:00:49.763Z"
   },
   {
    "duration": 23,
    "start_time": "2024-06-21T03:00:49.786Z"
   },
   {
    "duration": 46,
    "start_time": "2024-06-21T03:00:49.812Z"
   },
   {
    "duration": 117,
    "start_time": "2024-06-21T03:00:49.861Z"
   },
   {
    "duration": 35,
    "start_time": "2024-06-21T03:00:49.981Z"
   },
   {
    "duration": 11,
    "start_time": "2024-06-21T03:00:50.019Z"
   },
   {
    "duration": 86,
    "start_time": "2024-06-21T03:00:50.033Z"
   },
   {
    "duration": 125,
    "start_time": "2024-06-21T03:00:50.122Z"
   },
   {
    "duration": 18,
    "start_time": "2024-06-21T03:00:50.250Z"
   },
   {
    "duration": 57,
    "start_time": "2024-06-21T03:00:50.271Z"
   },
   {
    "duration": 27,
    "start_time": "2024-06-21T03:00:50.331Z"
   },
   {
    "duration": 48,
    "start_time": "2024-06-21T03:00:50.361Z"
   },
   {
    "duration": 25,
    "start_time": "2024-06-21T03:00:50.412Z"
   },
   {
    "duration": 62,
    "start_time": "2024-06-21T03:00:50.439Z"
   },
   {
    "duration": 37,
    "start_time": "2024-06-21T03:00:50.504Z"
   },
   {
    "duration": 60,
    "start_time": "2024-06-21T03:00:50.544Z"
   },
   {
    "duration": 423,
    "start_time": "2024-06-21T03:00:50.607Z"
   },
   {
    "duration": 394,
    "start_time": "2024-06-21T03:00:51.033Z"
   },
   {
    "duration": 15,
    "start_time": "2024-06-21T03:00:51.430Z"
   },
   {
    "duration": 696,
    "start_time": "2024-06-21T03:00:51.448Z"
   },
   {
    "duration": 4,
    "start_time": "2024-06-21T03:00:52.147Z"
   },
   {
    "duration": 3,
    "start_time": "2024-06-21T03:00:52.154Z"
   },
   {
    "duration": 4,
    "start_time": "2024-06-21T03:00:52.160Z"
   },
   {
    "duration": 35,
    "start_time": "2024-06-21T03:00:52.167Z"
   },
   {
    "duration": 567,
    "start_time": "2024-06-21T03:01:36.597Z"
   },
   {
    "duration": 594,
    "start_time": "2024-06-21T03:01:54.888Z"
   },
   {
    "duration": 850,
    "start_time": "2024-06-21T03:03:48.792Z"
   },
   {
    "duration": 894,
    "start_time": "2024-06-21T03:05:50.044Z"
   },
   {
    "duration": 676,
    "start_time": "2024-06-21T03:05:56.912Z"
   },
   {
    "duration": 866,
    "start_time": "2024-06-21T03:06:05.408Z"
   },
   {
    "duration": 701,
    "start_time": "2024-06-21T03:06:42.572Z"
   },
   {
    "duration": 1078,
    "start_time": "2024-06-21T03:06:53.912Z"
   },
   {
    "duration": 902,
    "start_time": "2024-06-21T03:07:06.745Z"
   },
   {
    "duration": 728,
    "start_time": "2024-06-21T03:09:56.668Z"
   },
   {
    "duration": 452,
    "start_time": "2024-06-21T03:11:00.616Z"
   },
   {
    "duration": 371,
    "start_time": "2024-06-21T03:11:12.342Z"
   },
   {
    "duration": 338,
    "start_time": "2024-06-21T03:13:16.273Z"
   },
   {
    "duration": 53,
    "start_time": "2024-06-21T03:34:46.861Z"
   },
   {
    "duration": 20,
    "start_time": "2024-06-21T03:35:38.971Z"
   },
   {
    "duration": 4833,
    "start_time": "2024-06-22T18:07:57.980Z"
   },
   {
    "duration": 384,
    "start_time": "2024-06-22T18:08:02.816Z"
   },
   {
    "duration": 17,
    "start_time": "2024-06-22T18:08:03.202Z"
   },
   {
    "duration": 11,
    "start_time": "2024-06-22T18:08:03.223Z"
   },
   {
    "duration": 21,
    "start_time": "2024-06-22T18:08:03.237Z"
   },
   {
    "duration": 14,
    "start_time": "2024-06-22T18:08:03.262Z"
   },
   {
    "duration": 51,
    "start_time": "2024-06-22T18:08:03.279Z"
   },
   {
    "duration": 16,
    "start_time": "2024-06-22T18:08:03.333Z"
   },
   {
    "duration": 34,
    "start_time": "2024-06-22T18:08:03.352Z"
   },
   {
    "duration": 57,
    "start_time": "2024-06-22T18:08:03.392Z"
   },
   {
    "duration": 11,
    "start_time": "2024-06-22T18:08:03.452Z"
   },
   {
    "duration": 104,
    "start_time": "2024-06-22T18:08:03.466Z"
   },
   {
    "duration": 173,
    "start_time": "2024-06-22T18:08:03.573Z"
   },
   {
    "duration": 19,
    "start_time": "2024-06-22T18:08:03.750Z"
   },
   {
    "duration": 12,
    "start_time": "2024-06-22T18:08:03.772Z"
   },
   {
    "duration": 75,
    "start_time": "2024-06-22T18:08:03.788Z"
   },
   {
    "duration": 104,
    "start_time": "2024-06-22T18:08:03.866Z"
   },
   {
    "duration": 23,
    "start_time": "2024-06-22T18:08:03.973Z"
   },
   {
    "duration": 32,
    "start_time": "2024-06-22T18:08:03.999Z"
   },
   {
    "duration": 60,
    "start_time": "2024-06-22T18:08:04.034Z"
   },
   {
    "duration": 144,
    "start_time": "2024-06-22T18:08:04.097Z"
   },
   {
    "duration": 17,
    "start_time": "2024-06-22T18:08:04.244Z"
   },
   {
    "duration": 29,
    "start_time": "2024-06-22T18:08:04.264Z"
   },
   {
    "duration": 56,
    "start_time": "2024-06-22T18:08:04.298Z"
   },
   {
    "duration": 20,
    "start_time": "2024-06-22T18:08:04.357Z"
   },
   {
    "duration": 53,
    "start_time": "2024-06-22T18:08:04.381Z"
   },
   {
    "duration": 27,
    "start_time": "2024-06-22T18:08:04.437Z"
   },
   {
    "duration": 58,
    "start_time": "2024-06-22T18:08:04.472Z"
   },
   {
    "duration": 34,
    "start_time": "2024-06-22T18:08:04.533Z"
   },
   {
    "duration": 455,
    "start_time": "2024-06-22T18:08:04.571Z"
   },
   {
    "duration": 394,
    "start_time": "2024-06-22T18:08:05.032Z"
   },
   {
    "duration": 12,
    "start_time": "2024-06-22T18:08:05.431Z"
   },
   {
    "duration": 628,
    "start_time": "2024-06-22T18:08:05.447Z"
   },
   {
    "duration": 997,
    "start_time": "2024-06-22T18:08:06.078Z"
   },
   {
    "duration": 332,
    "start_time": "2024-06-22T18:08:07.078Z"
   },
   {
    "duration": 30,
    "start_time": "2024-06-22T18:08:07.414Z"
   },
   {
    "duration": 4,
    "start_time": "2024-06-22T18:08:07.447Z"
   },
   {
    "duration": 4,
    "start_time": "2024-06-22T18:08:07.454Z"
   },
   {
    "duration": 1286,
    "start_time": "2024-06-22T18:32:44.965Z"
   },
   {
    "duration": 32,
    "start_time": "2024-06-22T18:34:50.494Z"
   },
   {
    "duration": 4,
    "start_time": "2024-06-22T18:41:39.465Z"
   },
   {
    "duration": 29,
    "start_time": "2024-06-22T18:41:50.723Z"
   },
   {
    "duration": 9,
    "start_time": "2024-06-22T18:56:53.409Z"
   },
   {
    "duration": 5013,
    "start_time": "2024-06-22T20:32:21.679Z"
   },
   {
    "duration": 339,
    "start_time": "2024-06-22T20:32:26.696Z"
   },
   {
    "duration": 16,
    "start_time": "2024-06-22T20:32:27.040Z"
   },
   {
    "duration": 10,
    "start_time": "2024-06-22T20:32:27.062Z"
   },
   {
    "duration": 46,
    "start_time": "2024-06-22T20:32:27.075Z"
   },
   {
    "duration": 15,
    "start_time": "2024-06-22T20:32:27.124Z"
   },
   {
    "duration": 9,
    "start_time": "2024-06-22T20:32:27.142Z"
   },
   {
    "duration": 58,
    "start_time": "2024-06-22T20:32:27.154Z"
   },
   {
    "duration": 34,
    "start_time": "2024-06-22T20:32:27.215Z"
   },
   {
    "duration": 25,
    "start_time": "2024-06-22T20:32:27.254Z"
   },
   {
    "duration": 42,
    "start_time": "2024-06-22T20:32:27.282Z"
   },
   {
    "duration": 101,
    "start_time": "2024-06-22T20:32:27.328Z"
   },
   {
    "duration": 170,
    "start_time": "2024-06-22T20:32:27.433Z"
   },
   {
    "duration": 20,
    "start_time": "2024-06-22T20:32:27.614Z"
   },
   {
    "duration": 10,
    "start_time": "2024-06-22T20:32:27.637Z"
   },
   {
    "duration": 87,
    "start_time": "2024-06-22T20:32:27.650Z"
   },
   {
    "duration": 116,
    "start_time": "2024-06-22T20:32:27.741Z"
   },
   {
    "duration": 22,
    "start_time": "2024-06-22T20:32:27.860Z"
   },
   {
    "duration": 36,
    "start_time": "2024-06-22T20:32:27.885Z"
   },
   {
    "duration": 58,
    "start_time": "2024-06-22T20:32:27.924Z"
   },
   {
    "duration": 146,
    "start_time": "2024-06-22T20:32:27.985Z"
   },
   {
    "duration": 19,
    "start_time": "2024-06-22T20:32:28.134Z"
   },
   {
    "duration": 59,
    "start_time": "2024-06-22T20:32:28.156Z"
   },
   {
    "duration": 27,
    "start_time": "2024-06-22T20:32:28.217Z"
   },
   {
    "duration": 19,
    "start_time": "2024-06-22T20:32:28.247Z"
   },
   {
    "duration": 61,
    "start_time": "2024-06-22T20:32:28.269Z"
   },
   {
    "duration": 28,
    "start_time": "2024-06-22T20:32:28.333Z"
   },
   {
    "duration": 53,
    "start_time": "2024-06-22T20:32:28.368Z"
   },
   {
    "duration": 36,
    "start_time": "2024-06-22T20:32:28.424Z"
   },
   {
    "duration": 443,
    "start_time": "2024-06-22T20:32:28.463Z"
   },
   {
    "duration": 388,
    "start_time": "2024-06-22T20:32:28.914Z"
   },
   {
    "duration": 13,
    "start_time": "2024-06-22T20:32:29.312Z"
   },
   {
    "duration": 726,
    "start_time": "2024-06-22T20:32:29.328Z"
   },
   {
    "duration": 956,
    "start_time": "2024-06-22T20:32:30.057Z"
   },
   {
    "duration": 386,
    "start_time": "2024-06-22T20:32:31.016Z"
   },
   {
    "duration": 19,
    "start_time": "2024-06-22T20:32:31.413Z"
   },
   {
    "duration": 10,
    "start_time": "2024-06-22T20:32:31.435Z"
   },
   {
    "duration": 3,
    "start_time": "2024-06-22T20:32:31.448Z"
   },
   {
    "duration": 5057,
    "start_time": "2024-06-24T02:30:44.237Z"
   },
   {
    "duration": 356,
    "start_time": "2024-06-24T02:30:49.297Z"
   },
   {
    "duration": 15,
    "start_time": "2024-06-24T02:30:49.656Z"
   },
   {
    "duration": 11,
    "start_time": "2024-06-24T02:30:49.676Z"
   },
   {
    "duration": 40,
    "start_time": "2024-06-24T02:30:49.690Z"
   },
   {
    "duration": 15,
    "start_time": "2024-06-24T02:30:49.734Z"
   },
   {
    "duration": 9,
    "start_time": "2024-06-24T02:30:49.752Z"
   },
   {
    "duration": 16,
    "start_time": "2024-06-24T02:30:49.764Z"
   },
   {
    "duration": 74,
    "start_time": "2024-06-24T02:30:49.783Z"
   },
   {
    "duration": 27,
    "start_time": "2024-06-24T02:30:49.862Z"
   },
   {
    "duration": 39,
    "start_time": "2024-06-24T02:30:49.892Z"
   },
   {
    "duration": 73,
    "start_time": "2024-06-24T02:30:49.935Z"
   },
   {
    "duration": 178,
    "start_time": "2024-06-24T02:30:50.011Z"
   },
   {
    "duration": 24,
    "start_time": "2024-06-24T02:30:50.192Z"
   },
   {
    "duration": 11,
    "start_time": "2024-06-24T02:30:50.231Z"
   },
   {
    "duration": 48,
    "start_time": "2024-06-24T02:30:50.246Z"
   },
   {
    "duration": 120,
    "start_time": "2024-06-24T02:30:50.297Z"
   },
   {
    "duration": 30,
    "start_time": "2024-06-24T02:30:50.420Z"
   },
   {
    "duration": 11,
    "start_time": "2024-06-24T02:30:50.453Z"
   },
   {
    "duration": 89,
    "start_time": "2024-06-24T02:30:50.466Z"
   },
   {
    "duration": 124,
    "start_time": "2024-06-24T02:30:50.558Z"
   },
   {
    "duration": 18,
    "start_time": "2024-06-24T02:30:50.685Z"
   },
   {
    "duration": 30,
    "start_time": "2024-06-24T02:30:50.730Z"
   },
   {
    "duration": 27,
    "start_time": "2024-06-24T02:30:50.763Z"
   },
   {
    "duration": 51,
    "start_time": "2024-06-24T02:30:50.793Z"
   },
   {
    "duration": 24,
    "start_time": "2024-06-24T02:30:50.848Z"
   },
   {
    "duration": 55,
    "start_time": "2024-06-24T02:30:50.875Z"
   },
   {
    "duration": 33,
    "start_time": "2024-06-24T02:30:50.937Z"
   },
   {
    "duration": 60,
    "start_time": "2024-06-24T02:30:50.973Z"
   },
   {
    "duration": 430,
    "start_time": "2024-06-24T02:30:51.035Z"
   },
   {
    "duration": 409,
    "start_time": "2024-06-24T02:30:51.468Z"
   },
   {
    "duration": 16,
    "start_time": "2024-06-24T02:30:51.881Z"
   },
   {
    "duration": 695,
    "start_time": "2024-06-24T02:30:51.901Z"
   },
   {
    "duration": 965,
    "start_time": "2024-06-24T02:30:52.599Z"
   },
   {
    "duration": 342,
    "start_time": "2024-06-24T02:30:53.569Z"
   },
   {
    "duration": 30,
    "start_time": "2024-06-24T02:30:53.915Z"
   },
   {
    "duration": 11,
    "start_time": "2024-06-24T02:30:53.947Z"
   },
   {
    "duration": 5,
    "start_time": "2024-06-24T02:30:53.961Z"
   },
   {
    "duration": 5175,
    "start_time": "2024-06-28T02:33:05.119Z"
   },
   {
    "duration": 404,
    "start_time": "2024-06-28T02:33:10.298Z"
   },
   {
    "duration": 18,
    "start_time": "2024-06-28T02:33:10.705Z"
   },
   {
    "duration": 11,
    "start_time": "2024-06-28T02:33:10.727Z"
   },
   {
    "duration": 53,
    "start_time": "2024-06-28T02:33:10.741Z"
   },
   {
    "duration": 16,
    "start_time": "2024-06-28T02:33:10.797Z"
   },
   {
    "duration": 12,
    "start_time": "2024-06-28T02:33:10.816Z"
   },
   {
    "duration": 18,
    "start_time": "2024-06-28T02:33:10.832Z"
   },
   {
    "duration": 79,
    "start_time": "2024-06-28T02:33:10.853Z"
   },
   {
    "duration": 56,
    "start_time": "2024-06-28T02:33:10.937Z"
   },
   {
    "duration": 13,
    "start_time": "2024-06-28T02:33:10.997Z"
   },
   {
    "duration": 117,
    "start_time": "2024-06-28T02:33:11.017Z"
   },
   {
    "duration": 188,
    "start_time": "2024-06-28T02:33:11.138Z"
   },
   {
    "duration": 21,
    "start_time": "2024-06-28T02:33:11.330Z"
   },
   {
    "duration": 40,
    "start_time": "2024-06-28T02:33:11.355Z"
   },
   {
    "duration": 61,
    "start_time": "2024-06-28T02:33:11.399Z"
   },
   {
    "duration": 170,
    "start_time": "2024-06-28T02:33:11.464Z"
   },
   {
    "duration": 36,
    "start_time": "2024-06-28T02:33:11.638Z"
   },
   {
    "duration": 17,
    "start_time": "2024-06-28T02:33:11.691Z"
   },
   {
    "duration": 96,
    "start_time": "2024-06-28T02:33:11.712Z"
   },
   {
    "duration": 171,
    "start_time": "2024-06-28T02:33:11.812Z"
   },
   {
    "duration": 22,
    "start_time": "2024-06-28T02:33:11.993Z"
   },
   {
    "duration": 37,
    "start_time": "2024-06-28T02:33:12.018Z"
   },
   {
    "duration": 35,
    "start_time": "2024-06-28T02:33:12.092Z"
   },
   {
    "duration": 38,
    "start_time": "2024-06-28T02:33:12.130Z"
   },
   {
    "duration": 46,
    "start_time": "2024-06-28T02:33:12.172Z"
   },
   {
    "duration": 38,
    "start_time": "2024-06-28T02:33:12.221Z"
   },
   {
    "duration": 44,
    "start_time": "2024-06-28T02:33:12.296Z"
   },
   {
    "duration": 58,
    "start_time": "2024-06-28T02:33:12.349Z"
   },
   {
    "duration": 539,
    "start_time": "2024-06-28T02:33:12.411Z"
   },
   {
    "duration": 413,
    "start_time": "2024-06-28T02:33:12.955Z"
   },
   {
    "duration": 28,
    "start_time": "2024-06-28T02:33:13.371Z"
   },
   {
    "duration": 637,
    "start_time": "2024-06-28T02:33:13.402Z"
   },
   {
    "duration": 1070,
    "start_time": "2024-06-28T02:33:14.045Z"
   },
   {
    "duration": 383,
    "start_time": "2024-06-28T02:33:15.119Z"
   },
   {
    "duration": 21,
    "start_time": "2024-06-28T02:33:15.505Z"
   },
   {
    "duration": 12,
    "start_time": "2024-06-28T02:33:15.530Z"
   },
   {
    "duration": 4,
    "start_time": "2024-06-28T02:33:15.545Z"
   },
   {
    "duration": 5097,
    "start_time": "2024-06-29T02:40:50.885Z"
   },
   {
    "duration": 354,
    "start_time": "2024-06-29T02:40:55.986Z"
   },
   {
    "duration": 19,
    "start_time": "2024-06-29T02:40:56.344Z"
   },
   {
    "duration": 12,
    "start_time": "2024-06-29T02:40:56.367Z"
   },
   {
    "duration": 43,
    "start_time": "2024-06-29T02:40:56.382Z"
   },
   {
    "duration": 14,
    "start_time": "2024-06-29T02:40:56.428Z"
   },
   {
    "duration": 10,
    "start_time": "2024-06-29T02:40:56.445Z"
   },
   {
    "duration": 57,
    "start_time": "2024-06-29T02:40:56.459Z"
   },
   {
    "duration": 35,
    "start_time": "2024-06-29T02:40:56.520Z"
   },
   {
    "duration": 57,
    "start_time": "2024-06-29T02:40:56.563Z"
   },
   {
    "duration": 22,
    "start_time": "2024-06-29T02:40:56.623Z"
   },
   {
    "duration": 90,
    "start_time": "2024-06-29T02:40:56.648Z"
   },
   {
    "duration": 180,
    "start_time": "2024-06-29T02:40:56.741Z"
   },
   {
    "duration": 20,
    "start_time": "2024-06-29T02:40:56.924Z"
   },
   {
    "duration": 10,
    "start_time": "2024-06-29T02:40:56.947Z"
   },
   {
    "duration": 81,
    "start_time": "2024-06-29T02:40:56.960Z"
   },
   {
    "duration": 103,
    "start_time": "2024-06-29T02:40:57.044Z"
   },
   {
    "duration": 24,
    "start_time": "2024-06-29T02:40:57.151Z"
   },
   {
    "duration": 31,
    "start_time": "2024-06-29T02:40:57.181Z"
   },
   {
    "duration": 56,
    "start_time": "2024-06-29T02:40:57.216Z"
   },
   {
    "duration": 147,
    "start_time": "2024-06-29T02:40:57.275Z"
   },
   {
    "duration": 18,
    "start_time": "2024-06-29T02:40:57.425Z"
   },
   {
    "duration": 29,
    "start_time": "2024-06-29T02:40:57.446Z"
   },
   {
    "duration": 59,
    "start_time": "2024-06-29T02:40:57.478Z"
   },
   {
    "duration": 19,
    "start_time": "2024-06-29T02:40:57.540Z"
   },
   {
    "duration": 56,
    "start_time": "2024-06-29T02:40:57.563Z"
   },
   {
    "duration": 27,
    "start_time": "2024-06-29T02:40:57.622Z"
   },
   {
    "duration": 58,
    "start_time": "2024-06-29T02:40:57.655Z"
   },
   {
    "duration": 35,
    "start_time": "2024-06-29T02:40:57.716Z"
   },
   {
    "duration": 443,
    "start_time": "2024-06-29T02:40:57.754Z"
   },
   {
    "duration": 419,
    "start_time": "2024-06-29T02:40:58.200Z"
   },
   {
    "duration": 14,
    "start_time": "2024-06-29T02:40:58.623Z"
   },
   {
    "duration": 700,
    "start_time": "2024-06-29T02:40:58.641Z"
   },
   {
    "duration": 929,
    "start_time": "2024-06-29T02:40:59.344Z"
   },
   {
    "duration": 337,
    "start_time": "2024-06-29T02:41:00.276Z"
   },
   {
    "duration": 21,
    "start_time": "2024-06-29T02:41:00.616Z"
   },
   {
    "duration": 11,
    "start_time": "2024-06-29T02:41:00.641Z"
   },
   {
    "duration": 4,
    "start_time": "2024-06-29T02:41:00.655Z"
   },
   {
    "duration": 1308,
    "start_time": "2024-07-01T03:18:22.377Z"
   },
   {
    "duration": 367,
    "start_time": "2024-07-01T03:18:23.688Z"
   },
   {
    "duration": 22,
    "start_time": "2024-07-01T03:18:24.059Z"
   },
   {
    "duration": 11,
    "start_time": "2024-07-01T03:18:24.085Z"
   },
   {
    "duration": 43,
    "start_time": "2024-07-01T03:18:24.100Z"
   },
   {
    "duration": 17,
    "start_time": "2024-07-01T03:18:24.147Z"
   },
   {
    "duration": 10,
    "start_time": "2024-07-01T03:18:24.167Z"
   },
   {
    "duration": 51,
    "start_time": "2024-07-01T03:18:24.181Z"
   },
   {
    "duration": 40,
    "start_time": "2024-07-01T03:18:24.235Z"
   },
   {
    "duration": 52,
    "start_time": "2024-07-01T03:18:24.283Z"
   },
   {
    "duration": 15,
    "start_time": "2024-07-01T03:18:24.354Z"
   },
   {
    "duration": 120,
    "start_time": "2024-07-01T03:18:24.373Z"
   },
   {
    "duration": 198,
    "start_time": "2024-07-01T03:18:24.496Z"
   },
   {
    "duration": 44,
    "start_time": "2024-07-01T03:18:24.698Z"
   },
   {
    "duration": 13,
    "start_time": "2024-07-01T03:18:24.747Z"
   },
   {
    "duration": 85,
    "start_time": "2024-07-01T03:18:24.765Z"
   },
   {
    "duration": 129,
    "start_time": "2024-07-01T03:18:24.856Z"
   },
   {
    "duration": 48,
    "start_time": "2024-07-01T03:18:24.988Z"
   },
   {
    "duration": 11,
    "start_time": "2024-07-01T03:18:25.039Z"
   },
   {
    "duration": 77,
    "start_time": "2024-07-01T03:18:25.053Z"
   },
   {
    "duration": 140,
    "start_time": "2024-07-01T03:18:25.133Z"
   },
   {
    "duration": 21,
    "start_time": "2024-07-01T03:18:25.276Z"
   },
   {
    "duration": 54,
    "start_time": "2024-07-01T03:18:25.301Z"
   },
   {
    "duration": 31,
    "start_time": "2024-07-01T03:18:25.358Z"
   },
   {
    "duration": 48,
    "start_time": "2024-07-01T03:18:25.392Z"
   },
   {
    "duration": 30,
    "start_time": "2024-07-01T03:18:25.443Z"
   },
   {
    "duration": 59,
    "start_time": "2024-07-01T03:18:25.477Z"
   },
   {
    "duration": 41,
    "start_time": "2024-07-01T03:18:25.544Z"
   },
   {
    "duration": 68,
    "start_time": "2024-07-01T03:18:25.589Z"
   },
   {
    "duration": 549,
    "start_time": "2024-07-01T03:18:25.660Z"
   },
   {
    "duration": 559,
    "start_time": "2024-07-01T03:18:26.214Z"
   },
   {
    "duration": 15,
    "start_time": "2024-07-01T03:18:26.776Z"
   },
   {
    "duration": 839,
    "start_time": "2024-07-01T03:18:26.795Z"
   },
   {
    "duration": 1076,
    "start_time": "2024-07-01T03:18:27.639Z"
   },
   {
    "duration": 439,
    "start_time": "2024-07-01T03:18:28.719Z"
   },
   {
    "duration": 28,
    "start_time": "2024-07-01T03:18:29.161Z"
   },
   {
    "duration": 12,
    "start_time": "2024-07-01T03:18:29.193Z"
   },
   {
    "duration": 4,
    "start_time": "2024-07-01T03:18:29.235Z"
   },
   {
    "duration": 5161,
    "start_time": "2024-07-02T00:36:07.132Z"
   },
   {
    "duration": 403,
    "start_time": "2024-07-02T00:36:12.297Z"
   },
   {
    "duration": 18,
    "start_time": "2024-07-02T00:36:12.704Z"
   },
   {
    "duration": 12,
    "start_time": "2024-07-02T00:36:12.727Z"
   },
   {
    "duration": 27,
    "start_time": "2024-07-02T00:36:12.743Z"
   },
   {
    "duration": 21,
    "start_time": "2024-07-02T00:36:12.812Z"
   },
   {
    "duration": 10,
    "start_time": "2024-07-02T00:36:12.837Z"
   },
   {
    "duration": 18,
    "start_time": "2024-07-02T00:36:12.850Z"
   },
   {
    "duration": 69,
    "start_time": "2024-07-02T00:36:12.871Z"
   },
   {
    "duration": 26,
    "start_time": "2024-07-02T00:36:12.946Z"
   },
   {
    "duration": 13,
    "start_time": "2024-07-02T00:36:13.008Z"
   },
   {
    "duration": 97,
    "start_time": "2024-07-02T00:36:13.025Z"
   },
   {
    "duration": 172,
    "start_time": "2024-07-02T00:36:13.126Z"
   },
   {
    "duration": 27,
    "start_time": "2024-07-02T00:36:13.308Z"
   },
   {
    "duration": 12,
    "start_time": "2024-07-02T00:36:13.338Z"
   },
   {
    "duration": 82,
    "start_time": "2024-07-02T00:36:13.357Z"
   },
   {
    "duration": 125,
    "start_time": "2024-07-02T00:36:13.442Z"
   },
   {
    "duration": 42,
    "start_time": "2024-07-02T00:36:13.570Z"
   },
   {
    "duration": 12,
    "start_time": "2024-07-02T00:36:13.615Z"
   },
   {
    "duration": 89,
    "start_time": "2024-07-02T00:36:13.630Z"
   },
   {
    "duration": 131,
    "start_time": "2024-07-02T00:36:13.722Z"
   },
   {
    "duration": 21,
    "start_time": "2024-07-02T00:36:13.856Z"
   },
   {
    "duration": 65,
    "start_time": "2024-07-02T00:36:13.881Z"
   },
   {
    "duration": 34,
    "start_time": "2024-07-02T00:36:13.954Z"
   },
   {
    "duration": 33,
    "start_time": "2024-07-02T00:36:13.992Z"
   },
   {
    "duration": 24,
    "start_time": "2024-07-02T00:36:14.028Z"
   },
   {
    "duration": 66,
    "start_time": "2024-07-02T00:36:14.055Z"
   },
   {
    "duration": 34,
    "start_time": "2024-07-02T00:36:14.128Z"
   },
   {
    "duration": 62,
    "start_time": "2024-07-02T00:36:14.165Z"
   },
   {
    "duration": 475,
    "start_time": "2024-07-02T00:36:14.230Z"
   },
   {
    "duration": 433,
    "start_time": "2024-07-02T00:36:14.711Z"
   },
   {
    "duration": 13,
    "start_time": "2024-07-02T00:36:15.147Z"
   },
   {
    "duration": 697,
    "start_time": "2024-07-02T00:36:15.164Z"
   },
   {
    "duration": 1072,
    "start_time": "2024-07-02T00:36:15.865Z"
   },
   {
    "duration": 359,
    "start_time": "2024-07-02T00:36:16.941Z"
   },
   {
    "duration": 21,
    "start_time": "2024-07-02T00:36:17.309Z"
   },
   {
    "duration": 12,
    "start_time": "2024-07-02T00:36:17.334Z"
   },
   {
    "duration": 6,
    "start_time": "2024-07-02T00:36:17.353Z"
   },
   {
    "duration": 5163,
    "start_time": "2024-07-04T01:33:12.585Z"
   },
   {
    "duration": 372,
    "start_time": "2024-07-04T01:33:17.753Z"
   },
   {
    "duration": 15,
    "start_time": "2024-07-04T01:33:18.128Z"
   },
   {
    "duration": 11,
    "start_time": "2024-07-04T01:33:18.148Z"
   },
   {
    "duration": 50,
    "start_time": "2024-07-04T01:33:18.162Z"
   },
   {
    "duration": 15,
    "start_time": "2024-07-04T01:33:18.217Z"
   },
   {
    "duration": 9,
    "start_time": "2024-07-04T01:33:18.236Z"
   },
   {
    "duration": 17,
    "start_time": "2024-07-04T01:33:18.249Z"
   },
   {
    "duration": 35,
    "start_time": "2024-07-04T01:33:18.311Z"
   },
   {
    "duration": 25,
    "start_time": "2024-07-04T01:33:18.351Z"
   },
   {
    "duration": 41,
    "start_time": "2024-07-04T01:33:18.379Z"
   },
   {
    "duration": 94,
    "start_time": "2024-07-04T01:33:18.423Z"
   },
   {
    "duration": 174,
    "start_time": "2024-07-04T01:33:18.520Z"
   },
   {
    "duration": 32,
    "start_time": "2024-07-04T01:33:18.697Z"
   },
   {
    "duration": 10,
    "start_time": "2024-07-04T01:33:18.732Z"
   },
   {
    "duration": 75,
    "start_time": "2024-07-04T01:33:18.746Z"
   },
   {
    "duration": 105,
    "start_time": "2024-07-04T01:33:18.824Z"
   },
   {
    "duration": 26,
    "start_time": "2024-07-04T01:33:18.933Z"
   },
   {
    "duration": 10,
    "start_time": "2024-07-04T01:33:18.963Z"
   },
   {
    "duration": 90,
    "start_time": "2024-07-04T01:33:18.976Z"
   },
   {
    "duration": 130,
    "start_time": "2024-07-04T01:33:19.069Z"
   },
   {
    "duration": 19,
    "start_time": "2024-07-04T01:33:19.213Z"
   },
   {
    "duration": 30,
    "start_time": "2024-07-04T01:33:19.235Z"
   },
   {
    "duration": 55,
    "start_time": "2024-07-04T01:33:19.269Z"
   },
   {
    "duration": 18,
    "start_time": "2024-07-04T01:33:19.328Z"
   },
   {
    "duration": 37,
    "start_time": "2024-07-04T01:33:19.350Z"
   },
   {
    "duration": 28,
    "start_time": "2024-07-04T01:33:19.414Z"
   },
   {
    "duration": 33,
    "start_time": "2024-07-04T01:33:19.449Z"
   },
   {
    "duration": 34,
    "start_time": "2024-07-04T01:33:19.512Z"
   },
   {
    "duration": 445,
    "start_time": "2024-07-04T01:33:19.550Z"
   },
   {
    "duration": 386,
    "start_time": "2024-07-04T01:33:19.998Z"
   },
   {
    "duration": 27,
    "start_time": "2024-07-04T01:33:20.388Z"
   },
   {
    "duration": 667,
    "start_time": "2024-07-04T01:33:20.418Z"
   },
   {
    "duration": 984,
    "start_time": "2024-07-04T01:33:21.089Z"
   },
   {
    "duration": 336,
    "start_time": "2024-07-04T01:33:22.076Z"
   },
   {
    "duration": 19,
    "start_time": "2024-07-04T01:33:22.415Z"
   },
   {
    "duration": 9,
    "start_time": "2024-07-04T01:33:22.437Z"
   },
   {
    "duration": 4,
    "start_time": "2024-07-04T01:33:22.450Z"
   },
   {
    "duration": 5032,
    "start_time": "2024-07-04T03:17:00.514Z"
   },
   {
    "duration": 403,
    "start_time": "2024-07-04T03:17:05.550Z"
   },
   {
    "duration": 16,
    "start_time": "2024-07-04T03:17:05.955Z"
   },
   {
    "duration": 12,
    "start_time": "2024-07-04T03:17:05.974Z"
   },
   {
    "duration": 32,
    "start_time": "2024-07-04T03:17:05.993Z"
   },
   {
    "duration": 15,
    "start_time": "2024-07-04T03:17:06.028Z"
   },
   {
    "duration": 9,
    "start_time": "2024-07-04T03:17:06.047Z"
   },
   {
    "duration": 56,
    "start_time": "2024-07-04T03:17:06.059Z"
   },
   {
    "duration": 36,
    "start_time": "2024-07-04T03:17:06.119Z"
   },
   {
    "duration": 58,
    "start_time": "2024-07-04T03:17:06.158Z"
   },
   {
    "duration": 12,
    "start_time": "2024-07-04T03:17:06.219Z"
   },
   {
    "duration": 102,
    "start_time": "2024-07-04T03:17:06.235Z"
   },
   {
    "duration": 169,
    "start_time": "2024-07-04T03:17:06.340Z"
   },
   {
    "duration": 19,
    "start_time": "2024-07-04T03:17:06.516Z"
   },
   {
    "duration": 10,
    "start_time": "2024-07-04T03:17:06.538Z"
   },
   {
    "duration": 87,
    "start_time": "2024-07-04T03:17:06.552Z"
   },
   {
    "duration": 110,
    "start_time": "2024-07-04T03:17:06.643Z"
   },
   {
    "duration": 23,
    "start_time": "2024-07-04T03:17:06.756Z"
   },
   {
    "duration": 36,
    "start_time": "2024-07-04T03:17:06.782Z"
   },
   {
    "duration": 59,
    "start_time": "2024-07-04T03:17:06.822Z"
   },
   {
    "duration": 156,
    "start_time": "2024-07-04T03:17:06.885Z"
   },
   {
    "duration": 19,
    "start_time": "2024-07-04T03:17:07.044Z"
   },
   {
    "duration": 58,
    "start_time": "2024-07-04T03:17:07.066Z"
   },
   {
    "duration": 27,
    "start_time": "2024-07-04T03:17:07.127Z"
   },
   {
    "duration": 21,
    "start_time": "2024-07-04T03:17:07.157Z"
   },
   {
    "duration": 49,
    "start_time": "2024-07-04T03:17:07.181Z"
   },
   {
    "duration": 29,
    "start_time": "2024-07-04T03:17:07.233Z"
   },
   {
    "duration": 70,
    "start_time": "2024-07-04T03:17:07.265Z"
   },
   {
    "duration": 71,
    "start_time": "2024-07-04T03:17:07.338Z"
   },
   {
    "duration": 450,
    "start_time": "2024-07-04T03:17:07.412Z"
   },
   {
    "duration": 415,
    "start_time": "2024-07-04T03:17:07.865Z"
   },
   {
    "duration": 26,
    "start_time": "2024-07-04T03:17:08.284Z"
   },
   {
    "duration": 638,
    "start_time": "2024-07-04T03:17:08.313Z"
   },
   {
    "duration": 1007,
    "start_time": "2024-07-04T03:17:08.954Z"
   },
   {
    "duration": 348,
    "start_time": "2024-07-04T03:17:09.965Z"
   },
   {
    "duration": 19,
    "start_time": "2024-07-04T03:17:10.316Z"
   },
   {
    "duration": 10,
    "start_time": "2024-07-04T03:17:10.338Z"
   },
   {
    "duration": 5,
    "start_time": "2024-07-04T03:17:10.352Z"
   },
   {
    "duration": 32,
    "start_time": "2024-07-04T03:24:39.212Z"
   },
   {
    "duration": 30,
    "start_time": "2024-07-04T03:25:23.555Z"
   },
   {
    "duration": 440,
    "start_time": "2024-07-04T03:38:40.160Z"
   },
   {
    "duration": 1160,
    "start_time": "2024-07-04T03:39:09.886Z"
   },
   {
    "duration": 404,
    "start_time": "2024-07-04T03:39:50.329Z"
   },
   {
    "duration": 507,
    "start_time": "2024-07-04T03:40:04.118Z"
   },
   {
    "duration": 409,
    "start_time": "2024-07-04T03:40:22.747Z"
   },
   {
    "duration": 422,
    "start_time": "2024-07-04T03:40:23.849Z"
   },
   {
    "duration": 4966,
    "start_time": "2024-07-05T03:53:34.807Z"
   },
   {
    "duration": 353,
    "start_time": "2024-07-05T03:53:39.777Z"
   },
   {
    "duration": 17,
    "start_time": "2024-07-05T03:53:40.134Z"
   },
   {
    "duration": 12,
    "start_time": "2024-07-05T03:53:40.156Z"
   },
   {
    "duration": 50,
    "start_time": "2024-07-05T03:53:40.171Z"
   },
   {
    "duration": 17,
    "start_time": "2024-07-05T03:53:40.225Z"
   },
   {
    "duration": 9,
    "start_time": "2024-07-05T03:53:40.246Z"
   },
   {
    "duration": 54,
    "start_time": "2024-07-05T03:53:40.258Z"
   },
   {
    "duration": 35,
    "start_time": "2024-07-05T03:53:40.315Z"
   },
   {
    "duration": 53,
    "start_time": "2024-07-05T03:53:40.356Z"
   },
   {
    "duration": 13,
    "start_time": "2024-07-05T03:53:40.412Z"
   },
   {
    "duration": 101,
    "start_time": "2024-07-05T03:53:40.429Z"
   },
   {
    "duration": 169,
    "start_time": "2024-07-05T03:53:40.533Z"
   },
   {
    "duration": 21,
    "start_time": "2024-07-05T03:53:40.705Z"
   },
   {
    "duration": 10,
    "start_time": "2024-07-05T03:53:40.729Z"
   },
   {
    "duration": 79,
    "start_time": "2024-07-05T03:53:40.741Z"
   },
   {
    "duration": 102,
    "start_time": "2024-07-05T03:53:40.823Z"
   },
   {
    "duration": 21,
    "start_time": "2024-07-05T03:53:40.928Z"
   },
   {
    "duration": 11,
    "start_time": "2024-07-05T03:53:40.952Z"
   },
   {
    "duration": 87,
    "start_time": "2024-07-05T03:53:40.966Z"
   },
   {
    "duration": 130,
    "start_time": "2024-07-05T03:53:41.056Z"
   },
   {
    "duration": 19,
    "start_time": "2024-07-05T03:53:41.200Z"
   },
   {
    "duration": 29,
    "start_time": "2024-07-05T03:53:41.222Z"
   },
   {
    "duration": 63,
    "start_time": "2024-07-05T03:53:41.255Z"
   },
   {
    "duration": 23,
    "start_time": "2024-07-05T03:53:41.322Z"
   },
   {
    "duration": 23,
    "start_time": "2024-07-05T03:53:41.349Z"
   },
   {
    "duration": 29,
    "start_time": "2024-07-05T03:53:41.402Z"
   },
   {
    "duration": 32,
    "start_time": "2024-07-05T03:53:41.443Z"
   },
   {
    "duration": 37,
    "start_time": "2024-07-05T03:53:41.501Z"
   },
   {
    "duration": 430,
    "start_time": "2024-07-05T03:53:41.540Z"
   },
   {
    "duration": 388,
    "start_time": "2024-07-05T03:53:41.973Z"
   },
   {
    "duration": 13,
    "start_time": "2024-07-05T03:53:42.364Z"
   },
   {
    "duration": 641,
    "start_time": "2024-07-05T03:53:42.382Z"
   },
   {
    "duration": 1016,
    "start_time": "2024-07-05T03:53:43.026Z"
   },
   {
    "duration": 343,
    "start_time": "2024-07-05T03:53:44.045Z"
   },
   {
    "duration": 19,
    "start_time": "2024-07-05T03:53:44.401Z"
   },
   {
    "duration": 10,
    "start_time": "2024-07-05T03:53:44.423Z"
   },
   {
    "duration": 3,
    "start_time": "2024-07-05T03:53:44.437Z"
   },
   {
    "duration": 5312,
    "start_time": "2024-07-06T02:21:08.379Z"
   },
   {
    "duration": 417,
    "start_time": "2024-07-06T02:21:13.696Z"
   },
   {
    "duration": 20,
    "start_time": "2024-07-06T02:21:14.116Z"
   },
   {
    "duration": 11,
    "start_time": "2024-07-06T02:21:14.140Z"
   },
   {
    "duration": 25,
    "start_time": "2024-07-06T02:21:14.155Z"
   },
   {
    "duration": 56,
    "start_time": "2024-07-06T02:21:14.184Z"
   },
   {
    "duration": 12,
    "start_time": "2024-07-06T02:21:14.244Z"
   },
   {
    "duration": 22,
    "start_time": "2024-07-06T02:21:14.259Z"
   },
   {
    "duration": 81,
    "start_time": "2024-07-06T02:21:14.285Z"
   },
   {
    "duration": 54,
    "start_time": "2024-07-06T02:21:14.374Z"
   },
   {
    "duration": 15,
    "start_time": "2024-07-06T02:21:14.431Z"
   },
   {
    "duration": 116,
    "start_time": "2024-07-06T02:21:14.449Z"
   },
   {
    "duration": 191,
    "start_time": "2024-07-06T02:21:14.569Z"
   },
   {
    "duration": 26,
    "start_time": "2024-07-06T02:21:14.764Z"
   },
   {
    "duration": 35,
    "start_time": "2024-07-06T02:21:14.794Z"
   },
   {
    "duration": 48,
    "start_time": "2024-07-06T02:21:14.832Z"
   },
   {
    "duration": 116,
    "start_time": "2024-07-06T02:21:14.883Z"
   },
   {
    "duration": 44,
    "start_time": "2024-07-06T02:21:15.002Z"
   },
   {
    "duration": 13,
    "start_time": "2024-07-06T02:21:15.049Z"
   },
   {
    "duration": 89,
    "start_time": "2024-07-06T02:21:15.065Z"
   },
   {
    "duration": 145,
    "start_time": "2024-07-06T02:21:15.158Z"
   },
   {
    "duration": 34,
    "start_time": "2024-07-06T02:21:15.306Z"
   },
   {
    "duration": 33,
    "start_time": "2024-07-06T02:21:15.343Z"
   },
   {
    "duration": 70,
    "start_time": "2024-07-06T02:21:15.381Z"
   },
   {
    "duration": 28,
    "start_time": "2024-07-06T02:21:15.455Z"
   },
   {
    "duration": 55,
    "start_time": "2024-07-06T02:21:15.486Z"
   },
   {
    "duration": 38,
    "start_time": "2024-07-06T02:21:15.544Z"
   },
   {
    "duration": 60,
    "start_time": "2024-07-06T02:21:15.593Z"
   },
   {
    "duration": 40,
    "start_time": "2024-07-06T02:21:15.657Z"
   },
   {
    "duration": 459,
    "start_time": "2024-07-06T02:21:15.725Z"
   },
   {
    "duration": 422,
    "start_time": "2024-07-06T02:21:16.187Z"
   },
   {
    "duration": 31,
    "start_time": "2024-07-06T02:21:16.619Z"
   },
   {
    "duration": 650,
    "start_time": "2024-07-06T02:21:16.658Z"
   },
   {
    "duration": 1086,
    "start_time": "2024-07-06T02:21:17.314Z"
   },
   {
    "duration": 328,
    "start_time": "2024-07-06T02:21:18.403Z"
   },
   {
    "duration": 23,
    "start_time": "2024-07-06T02:21:18.734Z"
   },
   {
    "duration": 11,
    "start_time": "2024-07-06T02:21:18.760Z"
   },
   {
    "duration": 4,
    "start_time": "2024-07-06T02:21:18.774Z"
   },
   {
    "duration": 428,
    "start_time": "2024-07-06T02:32:43.116Z"
   },
   {
    "duration": 1369,
    "start_time": "2024-07-06T02:33:58.238Z"
   },
   {
    "duration": 346,
    "start_time": "2024-07-06T02:33:59.612Z"
   },
   {
    "duration": 17,
    "start_time": "2024-07-06T02:33:59.961Z"
   },
   {
    "duration": 12,
    "start_time": "2024-07-06T02:33:59.982Z"
   },
   {
    "duration": 24,
    "start_time": "2024-07-06T02:34:00.022Z"
   },
   {
    "duration": 16,
    "start_time": "2024-07-06T02:34:00.049Z"
   },
   {
    "duration": 10,
    "start_time": "2024-07-06T02:34:00.069Z"
   },
   {
    "duration": 18,
    "start_time": "2024-07-06T02:34:00.122Z"
   },
   {
    "duration": 40,
    "start_time": "2024-07-06T02:34:00.143Z"
   },
   {
    "duration": 67,
    "start_time": "2024-07-06T02:34:00.188Z"
   },
   {
    "duration": 15,
    "start_time": "2024-07-06T02:34:00.258Z"
   },
   {
    "duration": 117,
    "start_time": "2024-07-06T02:34:00.276Z"
   },
   {
    "duration": 184,
    "start_time": "2024-07-06T02:34:00.396Z"
   },
   {
    "duration": 20,
    "start_time": "2024-07-06T02:34:00.586Z"
   },
   {
    "duration": 12,
    "start_time": "2024-07-06T02:34:00.624Z"
   },
   {
    "duration": 50,
    "start_time": "2024-07-06T02:34:00.640Z"
   },
   {
    "duration": 134,
    "start_time": "2024-07-06T02:34:00.693Z"
   },
   {
    "duration": 33,
    "start_time": "2024-07-06T02:34:00.831Z"
   },
   {
    "duration": 14,
    "start_time": "2024-07-06T02:34:00.867Z"
   },
   {
    "duration": 89,
    "start_time": "2024-07-06T02:34:00.885Z"
   },
   {
    "duration": 149,
    "start_time": "2024-07-06T02:34:00.978Z"
   },
   {
    "duration": 23,
    "start_time": "2024-07-06T02:34:01.131Z"
   },
   {
    "duration": 32,
    "start_time": "2024-07-06T02:34:01.158Z"
   },
   {
    "duration": 28,
    "start_time": "2024-07-06T02:34:01.224Z"
   },
   {
    "duration": 21,
    "start_time": "2024-07-06T02:34:01.255Z"
   },
   {
    "duration": 60,
    "start_time": "2024-07-06T02:34:01.280Z"
   },
   {
    "duration": 35,
    "start_time": "2024-07-06T02:34:01.347Z"
   },
   {
    "duration": 68,
    "start_time": "2024-07-06T02:34:01.386Z"
   },
   {
    "duration": 43,
    "start_time": "2024-07-06T02:34:01.458Z"
   },
   {
    "duration": 512,
    "start_time": "2024-07-06T02:34:01.504Z"
   },
   {
    "duration": 0,
    "start_time": "2024-07-06T02:34:02.022Z"
   },
   {
    "duration": 0,
    "start_time": "2024-07-06T02:34:02.025Z"
   },
   {
    "duration": 0,
    "start_time": "2024-07-06T02:34:02.027Z"
   },
   {
    "duration": 0,
    "start_time": "2024-07-06T02:34:02.030Z"
   },
   {
    "duration": 0,
    "start_time": "2024-07-06T02:34:02.033Z"
   },
   {
    "duration": 0,
    "start_time": "2024-07-06T02:34:02.035Z"
   },
   {
    "duration": 0,
    "start_time": "2024-07-06T02:34:02.038Z"
   },
   {
    "duration": 0,
    "start_time": "2024-07-06T02:34:02.040Z"
   },
   {
    "duration": 488,
    "start_time": "2024-07-06T02:34:26.438Z"
   },
   {
    "duration": 1449,
    "start_time": "2024-07-06T02:45:22.462Z"
   },
   {
    "duration": 776,
    "start_time": "2024-07-06T02:46:47.729Z"
   },
   {
    "duration": 411,
    "start_time": "2024-07-06T02:47:43.575Z"
   },
   {
    "duration": 971,
    "start_time": "2024-07-06T02:49:00.525Z"
   },
   {
    "duration": 1483,
    "start_time": "2024-07-06T02:49:27.790Z"
   },
   {
    "duration": 299,
    "start_time": "2024-07-06T02:49:29.277Z"
   },
   {
    "duration": 19,
    "start_time": "2024-07-06T02:49:29.580Z"
   },
   {
    "duration": 28,
    "start_time": "2024-07-06T02:49:29.604Z"
   },
   {
    "duration": 26,
    "start_time": "2024-07-06T02:49:29.635Z"
   },
   {
    "duration": 18,
    "start_time": "2024-07-06T02:49:29.665Z"
   },
   {
    "duration": 47,
    "start_time": "2024-07-06T02:49:29.687Z"
   },
   {
    "duration": 22,
    "start_time": "2024-07-06T02:49:29.738Z"
   },
   {
    "duration": 66,
    "start_time": "2024-07-06T02:49:29.764Z"
   },
   {
    "duration": 34,
    "start_time": "2024-07-06T02:49:29.837Z"
   },
   {
    "duration": 15,
    "start_time": "2024-07-06T02:49:29.874Z"
   },
   {
    "duration": 116,
    "start_time": "2024-07-06T02:49:29.893Z"
   },
   {
    "duration": 172,
    "start_time": "2024-07-06T02:49:30.028Z"
   },
   {
    "duration": 34,
    "start_time": "2024-07-06T02:49:30.204Z"
   },
   {
    "duration": 11,
    "start_time": "2024-07-06T02:49:30.241Z"
   },
   {
    "duration": 88,
    "start_time": "2024-07-06T02:49:30.255Z"
   },
   {
    "duration": 125,
    "start_time": "2024-07-06T02:49:30.346Z"
   },
   {
    "duration": 29,
    "start_time": "2024-07-06T02:49:30.474Z"
   },
   {
    "duration": 13,
    "start_time": "2024-07-06T02:49:30.526Z"
   },
   {
    "duration": 85,
    "start_time": "2024-07-06T02:49:30.543Z"
   },
   {
    "duration": 140,
    "start_time": "2024-07-06T02:49:30.631Z"
   },
   {
    "duration": 20,
    "start_time": "2024-07-06T02:49:30.775Z"
   },
   {
    "duration": 34,
    "start_time": "2024-07-06T02:49:30.822Z"
   },
   {
    "duration": 34,
    "start_time": "2024-07-06T02:49:30.860Z"
   },
   {
    "duration": 22,
    "start_time": "2024-07-06T02:49:30.922Z"
   },
   {
    "duration": 27,
    "start_time": "2024-07-06T02:49:30.948Z"
   },
   {
    "duration": 58,
    "start_time": "2024-07-06T02:49:30.979Z"
   },
   {
    "duration": 36,
    "start_time": "2024-07-06T02:49:31.046Z"
   },
   {
    "duration": 70,
    "start_time": "2024-07-06T02:49:31.085Z"
   },
   {
    "duration": 841,
    "start_time": "2024-07-06T02:49:31.159Z"
   },
   {
    "duration": 493,
    "start_time": "2024-07-06T02:49:32.003Z"
   },
   {
    "duration": 24,
    "start_time": "2024-07-06T02:49:32.500Z"
   },
   {
    "duration": 642,
    "start_time": "2024-07-06T02:49:32.528Z"
   },
   {
    "duration": 1058,
    "start_time": "2024-07-06T02:49:33.174Z"
   },
   {
    "duration": 378,
    "start_time": "2024-07-06T02:49:34.236Z"
   },
   {
    "duration": 20,
    "start_time": "2024-07-06T02:49:34.627Z"
   },
   {
    "duration": 11,
    "start_time": "2024-07-06T02:49:34.650Z"
   },
   {
    "duration": 4,
    "start_time": "2024-07-06T02:49:34.666Z"
   },
   {
    "duration": 864,
    "start_time": "2024-07-06T02:50:48.335Z"
   },
   {
    "duration": 947,
    "start_time": "2024-07-06T02:51:13.595Z"
   },
   {
    "duration": 5708,
    "start_time": "2024-07-07T17:39:37.524Z"
   },
   {
    "duration": 408,
    "start_time": "2024-07-07T17:39:43.241Z"
   },
   {
    "duration": 17,
    "start_time": "2024-07-07T17:39:43.654Z"
   },
   {
    "duration": 12,
    "start_time": "2024-07-07T17:39:43.674Z"
   },
   {
    "duration": 25,
    "start_time": "2024-07-07T17:39:43.706Z"
   },
   {
    "duration": 20,
    "start_time": "2024-07-07T17:39:43.735Z"
   },
   {
    "duration": 10,
    "start_time": "2024-07-07T17:39:43.758Z"
   },
   {
    "duration": 26,
    "start_time": "2024-07-07T17:39:43.805Z"
   },
   {
    "duration": 66,
    "start_time": "2024-07-07T17:39:43.836Z"
   },
   {
    "duration": 39,
    "start_time": "2024-07-07T17:39:43.906Z"
   },
   {
    "duration": 17,
    "start_time": "2024-07-07T17:39:43.949Z"
   },
   {
    "duration": 111,
    "start_time": "2024-07-07T17:39:43.970Z"
   },
   {
    "duration": 193,
    "start_time": "2024-07-07T17:39:44.084Z"
   },
   {
    "duration": 28,
    "start_time": "2024-07-07T17:39:44.286Z"
   },
   {
    "duration": 11,
    "start_time": "2024-07-07T17:39:44.318Z"
   },
   {
    "duration": 87,
    "start_time": "2024-07-07T17:39:44.332Z"
   },
   {
    "duration": 121,
    "start_time": "2024-07-07T17:39:44.424Z"
   },
   {
    "duration": 23,
    "start_time": "2024-07-07T17:39:44.550Z"
   },
   {
    "duration": 36,
    "start_time": "2024-07-07T17:39:44.576Z"
   },
   {
    "duration": 86,
    "start_time": "2024-07-07T17:39:44.616Z"
   },
   {
    "duration": 150,
    "start_time": "2024-07-07T17:39:44.706Z"
   },
   {
    "duration": 19,
    "start_time": "2024-07-07T17:39:44.860Z"
   },
   {
    "duration": 53,
    "start_time": "2024-07-07T17:39:44.883Z"
   },
   {
    "duration": 30,
    "start_time": "2024-07-07T17:39:44.940Z"
   },
   {
    "duration": 52,
    "start_time": "2024-07-07T17:39:44.974Z"
   },
   {
    "duration": 32,
    "start_time": "2024-07-07T17:39:45.030Z"
   },
   {
    "duration": 67,
    "start_time": "2024-07-07T17:39:45.065Z"
   },
   {
    "duration": 42,
    "start_time": "2024-07-07T17:39:45.139Z"
   },
   {
    "duration": 65,
    "start_time": "2024-07-07T17:39:45.184Z"
   },
   {
    "duration": 926,
    "start_time": "2024-07-07T17:39:45.253Z"
   },
   {
    "duration": 493,
    "start_time": "2024-07-07T17:39:46.183Z"
   },
   {
    "duration": 33,
    "start_time": "2024-07-07T17:39:46.679Z"
   },
   {
    "duration": 666,
    "start_time": "2024-07-07T17:39:46.717Z"
   },
   {
    "duration": 1174,
    "start_time": "2024-07-07T17:39:47.386Z"
   },
   {
    "duration": 365,
    "start_time": "2024-07-07T17:39:48.563Z"
   },
   {
    "duration": 22,
    "start_time": "2024-07-07T17:39:48.932Z"
   },
   {
    "duration": 43,
    "start_time": "2024-07-07T17:39:48.958Z"
   },
   {
    "duration": 3,
    "start_time": "2024-07-07T17:39:49.006Z"
   },
   {
    "duration": 6190,
    "start_time": "2024-07-09T01:13:31.972Z"
   },
   {
    "duration": 461,
    "start_time": "2024-07-09T01:13:38.166Z"
   },
   {
    "duration": 22,
    "start_time": "2024-07-09T01:13:38.630Z"
   },
   {
    "duration": 14,
    "start_time": "2024-07-09T01:13:38.655Z"
   },
   {
    "duration": 30,
    "start_time": "2024-07-09T01:13:38.691Z"
   },
   {
    "duration": 23,
    "start_time": "2024-07-09T01:13:38.725Z"
   },
   {
    "duration": 43,
    "start_time": "2024-07-09T01:13:38.751Z"
   },
   {
    "duration": 23,
    "start_time": "2024-07-09T01:13:38.798Z"
   },
   {
    "duration": 77,
    "start_time": "2024-07-09T01:13:38.826Z"
   },
   {
    "duration": 28,
    "start_time": "2024-07-09T01:13:38.908Z"
   },
   {
    "duration": 49,
    "start_time": "2024-07-09T01:13:38.943Z"
   },
   {
    "duration": 99,
    "start_time": "2024-07-09T01:13:38.995Z"
   },
   {
    "duration": 196,
    "start_time": "2024-07-09T01:13:39.098Z"
   },
   {
    "duration": 23,
    "start_time": "2024-07-09T01:13:39.302Z"
   },
   {
    "duration": 13,
    "start_time": "2024-07-09T01:13:39.329Z"
   },
   {
    "duration": 90,
    "start_time": "2024-07-09T01:13:39.348Z"
   },
   {
    "duration": 122,
    "start_time": "2024-07-09T01:13:39.444Z"
   },
   {
    "duration": 45,
    "start_time": "2024-07-09T01:13:39.570Z"
   },
   {
    "duration": 15,
    "start_time": "2024-07-09T01:13:39.619Z"
   },
   {
    "duration": 113,
    "start_time": "2024-07-09T01:13:39.639Z"
   },
   {
    "duration": 155,
    "start_time": "2024-07-09T01:13:39.756Z"
   },
   {
    "duration": 26,
    "start_time": "2024-07-09T01:13:39.915Z"
   },
   {
    "duration": 67,
    "start_time": "2024-07-09T01:13:39.946Z"
   },
   {
    "duration": 33,
    "start_time": "2024-07-09T01:13:40.018Z"
   },
   {
    "duration": 48,
    "start_time": "2024-07-09T01:13:40.055Z"
   },
   {
    "duration": 31,
    "start_time": "2024-07-09T01:13:40.107Z"
   },
   {
    "duration": 65,
    "start_time": "2024-07-09T01:13:40.142Z"
   },
   {
    "duration": 43,
    "start_time": "2024-07-09T01:13:40.211Z"
   },
   {
    "duration": 69,
    "start_time": "2024-07-09T01:13:40.257Z"
   },
   {
    "duration": 912,
    "start_time": "2024-07-09T01:13:40.331Z"
   },
   {
    "duration": 446,
    "start_time": "2024-07-09T01:13:41.249Z"
   },
   {
    "duration": 16,
    "start_time": "2024-07-09T01:13:41.702Z"
   },
   {
    "duration": 830,
    "start_time": "2024-07-09T01:13:41.722Z"
   },
   {
    "duration": 1094,
    "start_time": "2024-07-09T01:13:42.557Z"
   },
   {
    "duration": 364,
    "start_time": "2024-07-09T01:13:43.655Z"
   },
   {
    "duration": 25,
    "start_time": "2024-07-09T01:13:44.023Z"
   },
   {
    "duration": 39,
    "start_time": "2024-07-09T01:13:44.052Z"
   },
   {
    "duration": 5,
    "start_time": "2024-07-09T01:13:44.094Z"
   },
   {
    "duration": 27,
    "start_time": "2024-07-09T02:37:51.696Z"
   },
   {
    "duration": 5194,
    "start_time": "2024-07-10T00:39:33.081Z"
   },
   {
    "duration": 368,
    "start_time": "2024-07-10T00:39:38.280Z"
   },
   {
    "duration": 16,
    "start_time": "2024-07-10T00:39:38.652Z"
   },
   {
    "duration": 27,
    "start_time": "2024-07-10T00:39:38.674Z"
   },
   {
    "duration": 20,
    "start_time": "2024-07-10T00:39:38.706Z"
   },
   {
    "duration": 16,
    "start_time": "2024-07-10T00:39:38.730Z"
   },
   {
    "duration": 12,
    "start_time": "2024-07-10T00:39:38.749Z"
   },
   {
    "duration": 20,
    "start_time": "2024-07-10T00:39:38.802Z"
   },
   {
    "duration": 42,
    "start_time": "2024-07-10T00:39:38.829Z"
   },
   {
    "duration": 55,
    "start_time": "2024-07-10T00:39:38.876Z"
   },
   {
    "duration": 14,
    "start_time": "2024-07-10T00:39:38.934Z"
   },
   {
    "duration": 103,
    "start_time": "2024-07-10T00:39:38.951Z"
   },
   {
    "duration": 217,
    "start_time": "2024-07-10T00:39:39.057Z"
   },
   {
    "duration": 30,
    "start_time": "2024-07-10T00:39:39.282Z"
   },
   {
    "duration": 11,
    "start_time": "2024-07-10T00:39:39.319Z"
   },
   {
    "duration": 79,
    "start_time": "2024-07-10T00:39:39.333Z"
   },
   {
    "duration": 108,
    "start_time": "2024-07-10T00:39:39.415Z"
   },
   {
    "duration": 29,
    "start_time": "2024-07-10T00:39:39.526Z"
   },
   {
    "duration": 45,
    "start_time": "2024-07-10T00:39:39.558Z"
   },
   {
    "duration": 59,
    "start_time": "2024-07-10T00:39:39.606Z"
   },
   {
    "duration": 149,
    "start_time": "2024-07-10T00:39:39.668Z"
   },
   {
    "duration": 22,
    "start_time": "2024-07-10T00:39:39.822Z"
   },
   {
    "duration": 59,
    "start_time": "2024-07-10T00:39:39.848Z"
   },
   {
    "duration": 28,
    "start_time": "2024-07-10T00:39:39.910Z"
   },
   {
    "duration": 20,
    "start_time": "2024-07-10T00:39:39.941Z"
   },
   {
    "duration": 58,
    "start_time": "2024-07-10T00:39:39.965Z"
   },
   {
    "duration": 29,
    "start_time": "2024-07-10T00:39:40.026Z"
   },
   {
    "duration": 62,
    "start_time": "2024-07-10T00:39:40.059Z"
   },
   {
    "duration": 38,
    "start_time": "2024-07-10T00:39:40.125Z"
   },
   {
    "duration": 821,
    "start_time": "2024-07-10T00:39:40.166Z"
   },
   {
    "duration": 406,
    "start_time": "2024-07-10T00:39:40.991Z"
   },
   {
    "duration": 31,
    "start_time": "2024-07-10T00:39:41.405Z"
   },
   {
    "duration": 729,
    "start_time": "2024-07-10T00:39:41.440Z"
   },
   {
    "duration": 1001,
    "start_time": "2024-07-10T00:39:42.173Z"
   },
   {
    "duration": 327,
    "start_time": "2024-07-10T00:39:43.178Z"
   },
   {
    "duration": 20,
    "start_time": "2024-07-10T00:39:43.508Z"
   },
   {
    "duration": 11,
    "start_time": "2024-07-10T00:39:43.532Z"
   },
   {
    "duration": 4,
    "start_time": "2024-07-10T00:39:43.551Z"
   },
   {
    "duration": 4974,
    "start_time": "2024-07-11T15:30:10.857Z"
   },
   {
    "duration": 367,
    "start_time": "2024-07-11T15:30:15.835Z"
   },
   {
    "duration": 16,
    "start_time": "2024-07-11T15:30:16.205Z"
   },
   {
    "duration": 12,
    "start_time": "2024-07-11T15:30:16.225Z"
   },
   {
    "duration": 38,
    "start_time": "2024-07-11T15:30:16.239Z"
   },
   {
    "duration": 15,
    "start_time": "2024-07-11T15:30:16.280Z"
   },
   {
    "duration": 10,
    "start_time": "2024-07-11T15:30:16.297Z"
   },
   {
    "duration": 58,
    "start_time": "2024-07-11T15:30:16.310Z"
   },
   {
    "duration": 35,
    "start_time": "2024-07-11T15:30:16.370Z"
   },
   {
    "duration": 24,
    "start_time": "2024-07-11T15:30:16.413Z"
   },
   {
    "duration": 14,
    "start_time": "2024-07-11T15:30:16.469Z"
   },
   {
    "duration": 102,
    "start_time": "2024-07-11T15:30:16.486Z"
   },
   {
    "duration": 170,
    "start_time": "2024-07-11T15:30:16.591Z"
   },
   {
    "duration": 21,
    "start_time": "2024-07-11T15:30:16.764Z"
   },
   {
    "duration": 9,
    "start_time": "2024-07-11T15:30:16.788Z"
   },
   {
    "duration": 82,
    "start_time": "2024-07-11T15:30:16.800Z"
   },
   {
    "duration": 97,
    "start_time": "2024-07-11T15:30:16.885Z"
   },
   {
    "duration": 21,
    "start_time": "2024-07-11T15:30:16.985Z"
   },
   {
    "duration": 11,
    "start_time": "2024-07-11T15:30:17.010Z"
   },
   {
    "duration": 89,
    "start_time": "2024-07-11T15:30:17.024Z"
   },
   {
    "duration": 129,
    "start_time": "2024-07-11T15:30:17.116Z"
   },
   {
    "duration": 36,
    "start_time": "2024-07-11T15:30:17.248Z"
   },
   {
    "duration": 27,
    "start_time": "2024-07-11T15:30:17.287Z"
   },
   {
    "duration": 56,
    "start_time": "2024-07-11T15:30:17.317Z"
   },
   {
    "duration": 20,
    "start_time": "2024-07-11T15:30:17.376Z"
   },
   {
    "duration": 26,
    "start_time": "2024-07-11T15:30:17.400Z"
   },
   {
    "duration": 61,
    "start_time": "2024-07-11T15:30:17.429Z"
   },
   {
    "duration": 32,
    "start_time": "2024-07-11T15:30:17.497Z"
   },
   {
    "duration": 59,
    "start_time": "2024-07-11T15:30:17.532Z"
   },
   {
    "duration": 807,
    "start_time": "2024-07-11T15:30:17.595Z"
   },
   {
    "duration": 395,
    "start_time": "2024-07-11T15:30:18.406Z"
   },
   {
    "duration": 26,
    "start_time": "2024-07-11T15:30:18.804Z"
   },
   {
    "duration": 673,
    "start_time": "2024-07-11T15:30:18.833Z"
   },
   {
    "duration": 911,
    "start_time": "2024-07-11T15:30:19.509Z"
   },
   {
    "duration": 337,
    "start_time": "2024-07-11T15:30:20.423Z"
   },
   {
    "duration": 19,
    "start_time": "2024-07-11T15:30:20.767Z"
   },
   {
    "duration": 10,
    "start_time": "2024-07-11T15:30:20.790Z"
   },
   {
    "duration": 3,
    "start_time": "2024-07-11T15:30:20.804Z"
   },
   {
    "duration": 20,
    "start_time": "2024-07-11T15:31:02.431Z"
   },
   {
    "duration": 563,
    "start_time": "2024-07-11T15:31:37.954Z"
   },
   {
    "duration": 820,
    "start_time": "2024-07-11T15:32:50.587Z"
   },
   {
    "duration": 803,
    "start_time": "2024-07-11T15:33:24.507Z"
   },
   {
    "duration": 5014,
    "start_time": "2024-07-13T00:26:41.488Z"
   },
   {
    "duration": 369,
    "start_time": "2024-07-13T00:26:46.506Z"
   },
   {
    "duration": 15,
    "start_time": "2024-07-13T00:26:46.878Z"
   },
   {
    "duration": 11,
    "start_time": "2024-07-13T00:26:46.898Z"
   },
   {
    "duration": 32,
    "start_time": "2024-07-13T00:26:46.912Z"
   },
   {
    "duration": 15,
    "start_time": "2024-07-13T00:26:46.947Z"
   },
   {
    "duration": 10,
    "start_time": "2024-07-13T00:26:46.965Z"
   },
   {
    "duration": 56,
    "start_time": "2024-07-13T00:26:46.978Z"
   },
   {
    "duration": 36,
    "start_time": "2024-07-13T00:26:47.037Z"
   },
   {
    "duration": 57,
    "start_time": "2024-07-13T00:26:47.079Z"
   },
   {
    "duration": 12,
    "start_time": "2024-07-13T00:26:47.139Z"
   },
   {
    "duration": 98,
    "start_time": "2024-07-13T00:26:47.154Z"
   },
   {
    "duration": 176,
    "start_time": "2024-07-13T00:26:47.255Z"
   },
   {
    "duration": 23,
    "start_time": "2024-07-13T00:26:47.435Z"
   },
   {
    "duration": 10,
    "start_time": "2024-07-13T00:26:47.462Z"
   },
   {
    "duration": 80,
    "start_time": "2024-07-13T00:26:47.475Z"
   },
   {
    "duration": 99,
    "start_time": "2024-07-13T00:26:47.558Z"
   },
   {
    "duration": 23,
    "start_time": "2024-07-13T00:26:47.660Z"
   },
   {
    "duration": 11,
    "start_time": "2024-07-13T00:26:47.686Z"
   },
   {
    "duration": 58,
    "start_time": "2024-07-13T00:26:47.729Z"
   },
   {
    "duration": 140,
    "start_time": "2024-07-13T00:26:47.790Z"
   },
   {
    "duration": 18,
    "start_time": "2024-07-13T00:26:47.933Z"
   },
   {
    "duration": 29,
    "start_time": "2024-07-13T00:26:47.955Z"
   },
   {
    "duration": 64,
    "start_time": "2024-07-13T00:26:47.987Z"
   },
   {
    "duration": 18,
    "start_time": "2024-07-13T00:26:48.054Z"
   },
   {
    "duration": 25,
    "start_time": "2024-07-13T00:26:48.075Z"
   },
   {
    "duration": 52,
    "start_time": "2024-07-13T00:26:48.103Z"
   },
   {
    "duration": 33,
    "start_time": "2024-07-13T00:26:48.162Z"
   },
   {
    "duration": 63,
    "start_time": "2024-07-13T00:26:48.198Z"
   },
   {
    "duration": 770,
    "start_time": "2024-07-13T00:26:48.264Z"
   },
   {
    "duration": 388,
    "start_time": "2024-07-13T00:26:49.037Z"
   },
   {
    "duration": 17,
    "start_time": "2024-07-13T00:26:49.431Z"
   },
   {
    "duration": 613,
    "start_time": "2024-07-13T00:26:49.450Z"
   },
   {
    "duration": 992,
    "start_time": "2024-07-13T00:26:50.067Z"
   },
   {
    "duration": 359,
    "start_time": "2024-07-13T00:26:51.062Z"
   },
   {
    "duration": 18,
    "start_time": "2024-07-13T00:26:51.431Z"
   },
   {
    "duration": 10,
    "start_time": "2024-07-13T00:26:51.452Z"
   },
   {
    "duration": 3,
    "start_time": "2024-07-13T00:26:51.467Z"
   },
   {
    "duration": 1619,
    "start_time": "2024-07-13T00:36:02.752Z"
   },
   {
    "duration": 1292,
    "start_time": "2024-07-13T00:36:19.741Z"
   },
   {
    "duration": 1267,
    "start_time": "2024-07-13T00:37:40.287Z"
   },
   {
    "duration": 397,
    "start_time": "2024-07-13T00:38:51.702Z"
   },
   {
    "duration": 1012,
    "start_time": "2024-07-13T00:38:56.603Z"
   },
   {
    "duration": 508,
    "start_time": "2024-07-13T00:39:12.243Z"
   },
   {
    "duration": 50,
    "start_time": "2024-07-13T00:39:40.087Z"
   },
   {
    "duration": 16,
    "start_time": "2024-07-13T00:40:16.692Z"
   },
   {
    "duration": 908,
    "start_time": "2024-07-13T00:41:24.627Z"
   },
   {
    "duration": 16,
    "start_time": "2024-07-13T00:41:58.546Z"
   },
   {
    "duration": 17,
    "start_time": "2024-07-13T00:42:25.897Z"
   },
   {
    "duration": 906,
    "start_time": "2024-07-13T00:42:32.927Z"
   },
   {
    "duration": 150,
    "start_time": "2024-07-13T00:56:57.237Z"
   },
   {
    "duration": 336,
    "start_time": "2024-07-13T00:57:05.273Z"
   },
   {
    "duration": 359,
    "start_time": "2024-07-13T00:57:15.928Z"
   },
   {
    "duration": 17,
    "start_time": "2024-07-13T00:59:13.319Z"
   },
   {
    "duration": 18,
    "start_time": "2024-07-13T01:06:49.187Z"
   },
   {
    "duration": 369,
    "start_time": "2024-07-13T01:48:53.989Z"
   },
   {
    "duration": 369,
    "start_time": "2024-07-13T01:49:07.067Z"
   },
   {
    "duration": 10,
    "start_time": "2024-07-13T02:01:05.495Z"
   },
   {
    "duration": 10,
    "start_time": "2024-07-13T02:02:04.300Z"
   },
   {
    "duration": 32,
    "start_time": "2024-07-13T02:02:34.376Z"
   },
   {
    "duration": 12,
    "start_time": "2024-07-13T02:02:46.831Z"
   },
   {
    "duration": 11,
    "start_time": "2024-07-13T02:04:42.500Z"
   },
   {
    "duration": 13,
    "start_time": "2024-07-13T02:06:55.807Z"
   },
   {
    "duration": 773,
    "start_time": "2024-07-13T02:08:45.053Z"
   },
   {
    "duration": 12,
    "start_time": "2024-07-13T02:10:23.385Z"
   },
   {
    "duration": 5152,
    "start_time": "2024-07-13T17:35:54.532Z"
   },
   {
    "duration": 586,
    "start_time": "2024-07-13T17:35:59.695Z"
   },
   {
    "duration": 17,
    "start_time": "2024-07-13T17:36:00.284Z"
   },
   {
    "duration": 11,
    "start_time": "2024-07-13T17:36:00.304Z"
   },
   {
    "duration": 20,
    "start_time": "2024-07-13T17:36:00.330Z"
   },
   {
    "duration": 13,
    "start_time": "2024-07-13T17:36:00.355Z"
   },
   {
    "duration": 10,
    "start_time": "2024-07-13T17:36:00.371Z"
   },
   {
    "duration": 56,
    "start_time": "2024-07-13T17:36:00.384Z"
   },
   {
    "duration": 33,
    "start_time": "2024-07-13T17:36:00.443Z"
   },
   {
    "duration": 53,
    "start_time": "2024-07-13T17:36:00.482Z"
   },
   {
    "duration": 14,
    "start_time": "2024-07-13T17:36:00.539Z"
   },
   {
    "duration": 109,
    "start_time": "2024-07-13T17:36:00.556Z"
   },
   {
    "duration": 167,
    "start_time": "2024-07-13T17:36:00.669Z"
   },
   {
    "duration": 31,
    "start_time": "2024-07-13T17:36:00.839Z"
   },
   {
    "duration": 10,
    "start_time": "2024-07-13T17:36:00.874Z"
   },
   {
    "duration": 79,
    "start_time": "2024-07-13T17:36:00.888Z"
   },
   {
    "duration": 110,
    "start_time": "2024-07-13T17:36:00.971Z"
   },
   {
    "duration": 48,
    "start_time": "2024-07-13T17:36:01.084Z"
   },
   {
    "duration": 13,
    "start_time": "2024-07-13T17:36:01.136Z"
   },
   {
    "duration": 92,
    "start_time": "2024-07-13T17:36:01.154Z"
   },
   {
    "duration": 136,
    "start_time": "2024-07-13T17:36:01.249Z"
   },
   {
    "duration": 42,
    "start_time": "2024-07-13T17:36:01.389Z"
   },
   {
    "duration": 31,
    "start_time": "2024-07-13T17:36:01.435Z"
   },
   {
    "duration": 28,
    "start_time": "2024-07-13T17:36:01.470Z"
   },
   {
    "duration": 26,
    "start_time": "2024-07-13T17:36:01.530Z"
   },
   {
    "duration": 26,
    "start_time": "2024-07-13T17:36:01.560Z"
   },
   {
    "duration": 69,
    "start_time": "2024-07-13T17:36:01.589Z"
   },
   {
    "duration": 37,
    "start_time": "2024-07-13T17:36:01.672Z"
   },
   {
    "duration": 49,
    "start_time": "2024-07-13T17:36:01.730Z"
   },
   {
    "duration": 824,
    "start_time": "2024-07-13T17:36:01.784Z"
   },
   {
    "duration": 391,
    "start_time": "2024-07-13T17:36:02.611Z"
   },
   {
    "duration": 30,
    "start_time": "2024-07-13T17:36:03.005Z"
   },
   {
    "duration": 673,
    "start_time": "2024-07-13T17:36:03.038Z"
   },
   {
    "duration": 524,
    "start_time": "2024-07-13T17:36:03.714Z"
   },
   {
    "duration": 17,
    "start_time": "2024-07-13T17:36:04.241Z"
   },
   {
    "duration": 970,
    "start_time": "2024-07-13T17:36:04.261Z"
   },
   {
    "duration": 377,
    "start_time": "2024-07-13T17:36:05.234Z"
   },
   {
    "duration": 29,
    "start_time": "2024-07-13T17:36:05.617Z"
   },
   {
    "duration": 361,
    "start_time": "2024-07-13T17:36:05.653Z"
   },
   {
    "duration": 28,
    "start_time": "2024-07-13T17:36:06.017Z"
   },
   {
    "duration": 11,
    "start_time": "2024-07-13T17:36:06.048Z"
   },
   {
    "duration": 4,
    "start_time": "2024-07-13T17:36:06.062Z"
   },
   {
    "duration": 4980,
    "start_time": "2024-07-14T13:45:41.124Z"
   },
   {
    "duration": 353,
    "start_time": "2024-07-14T13:45:46.110Z"
   },
   {
    "duration": 16,
    "start_time": "2024-07-14T13:45:46.465Z"
   },
   {
    "duration": 27,
    "start_time": "2024-07-14T13:45:46.486Z"
   },
   {
    "duration": 20,
    "start_time": "2024-07-14T13:45:46.516Z"
   },
   {
    "duration": 14,
    "start_time": "2024-07-14T13:45:46.540Z"
   },
   {
    "duration": 10,
    "start_time": "2024-07-14T13:45:46.557Z"
   },
   {
    "duration": 16,
    "start_time": "2024-07-14T13:45:46.610Z"
   },
   {
    "duration": 33,
    "start_time": "2024-07-14T13:45:46.629Z"
   },
   {
    "duration": 52,
    "start_time": "2024-07-14T13:45:46.668Z"
   },
   {
    "duration": 15,
    "start_time": "2024-07-14T13:45:46.723Z"
   },
   {
    "duration": 104,
    "start_time": "2024-07-14T13:45:46.741Z"
   },
   {
    "duration": 165,
    "start_time": "2024-07-14T13:45:46.847Z"
   },
   {
    "duration": 20,
    "start_time": "2024-07-14T13:45:47.016Z"
   },
   {
    "duration": 10,
    "start_time": "2024-07-14T13:45:47.038Z"
   },
   {
    "duration": 79,
    "start_time": "2024-07-14T13:45:47.051Z"
   },
   {
    "duration": 105,
    "start_time": "2024-07-14T13:45:47.133Z"
   },
   {
    "duration": 23,
    "start_time": "2024-07-14T13:45:47.241Z"
   },
   {
    "duration": 11,
    "start_time": "2024-07-14T13:45:47.267Z"
   },
   {
    "duration": 90,
    "start_time": "2024-07-14T13:45:47.281Z"
   },
   {
    "duration": 142,
    "start_time": "2024-07-14T13:45:47.376Z"
   },
   {
    "duration": 20,
    "start_time": "2024-07-14T13:45:47.521Z"
   },
   {
    "duration": 29,
    "start_time": "2024-07-14T13:45:47.544Z"
   },
   {
    "duration": 56,
    "start_time": "2024-07-14T13:45:47.577Z"
   },
   {
    "duration": 19,
    "start_time": "2024-07-14T13:45:47.637Z"
   },
   {
    "duration": 54,
    "start_time": "2024-07-14T13:45:47.659Z"
   },
   {
    "duration": 28,
    "start_time": "2024-07-14T13:45:47.716Z"
   },
   {
    "duration": 56,
    "start_time": "2024-07-14T13:45:47.752Z"
   },
   {
    "duration": 35,
    "start_time": "2024-07-14T13:45:47.812Z"
   },
   {
    "duration": 762,
    "start_time": "2024-07-14T13:45:47.850Z"
   },
   {
    "duration": 401,
    "start_time": "2024-07-14T13:45:48.615Z"
   },
   {
    "duration": 16,
    "start_time": "2024-07-14T13:45:49.020Z"
   },
   {
    "duration": 691,
    "start_time": "2024-07-14T13:45:49.039Z"
   },
   {
    "duration": 483,
    "start_time": "2024-07-14T13:45:49.734Z"
   },
   {
    "duration": 17,
    "start_time": "2024-07-14T13:45:50.220Z"
   },
   {
    "duration": 933,
    "start_time": "2024-07-14T13:45:50.240Z"
   },
   {
    "duration": 373,
    "start_time": "2024-07-14T13:45:51.176Z"
   },
   {
    "duration": 15,
    "start_time": "2024-07-14T13:45:51.553Z"
   },
   {
    "duration": 340,
    "start_time": "2024-07-14T13:45:51.572Z"
   },
   {
    "duration": 18,
    "start_time": "2024-07-14T13:45:51.915Z"
   },
   {
    "duration": 12,
    "start_time": "2024-07-14T13:45:51.936Z"
   },
   {
    "duration": 4,
    "start_time": "2024-07-14T13:45:51.950Z"
   },
   {
    "duration": 487,
    "start_time": "2024-07-14T13:53:08.495Z"
   },
   {
    "duration": 11,
    "start_time": "2024-07-14T13:53:22.107Z"
   },
   {
    "duration": 12,
    "start_time": "2024-07-14T13:53:39.017Z"
   },
   {
    "duration": 11,
    "start_time": "2024-07-14T13:55:09.031Z"
   },
   {
    "duration": 5023,
    "start_time": "2024-07-18T02:37:19.664Z"
   },
   {
    "duration": 373,
    "start_time": "2024-07-18T02:37:24.691Z"
   },
   {
    "duration": 17,
    "start_time": "2024-07-18T02:37:25.067Z"
   },
   {
    "duration": 12,
    "start_time": "2024-07-18T02:37:25.089Z"
   },
   {
    "duration": 38,
    "start_time": "2024-07-18T02:37:25.104Z"
   },
   {
    "duration": 14,
    "start_time": "2024-07-18T02:37:25.145Z"
   },
   {
    "duration": 9,
    "start_time": "2024-07-18T02:37:25.163Z"
   },
   {
    "duration": 57,
    "start_time": "2024-07-18T02:37:25.176Z"
   },
   {
    "duration": 36,
    "start_time": "2024-07-18T02:37:25.236Z"
   },
   {
    "duration": 61,
    "start_time": "2024-07-18T02:37:25.279Z"
   },
   {
    "duration": 13,
    "start_time": "2024-07-18T02:37:25.343Z"
   },
   {
    "duration": 111,
    "start_time": "2024-07-18T02:37:25.359Z"
   },
   {
    "duration": 166,
    "start_time": "2024-07-18T02:37:25.476Z"
   },
   {
    "duration": 20,
    "start_time": "2024-07-18T02:37:25.645Z"
   },
   {
    "duration": 9,
    "start_time": "2024-07-18T02:37:25.671Z"
   },
   {
    "duration": 78,
    "start_time": "2024-07-18T02:37:25.683Z"
   },
   {
    "duration": 119,
    "start_time": "2024-07-18T02:37:25.764Z"
   },
   {
    "duration": 40,
    "start_time": "2024-07-18T02:37:25.887Z"
   },
   {
    "duration": 11,
    "start_time": "2024-07-18T02:37:25.930Z"
   },
   {
    "duration": 84,
    "start_time": "2024-07-18T02:37:25.945Z"
   },
   {
    "duration": 130,
    "start_time": "2024-07-18T02:37:26.033Z"
   },
   {
    "duration": 23,
    "start_time": "2024-07-18T02:37:26.166Z"
   },
   {
    "duration": 57,
    "start_time": "2024-07-18T02:37:26.194Z"
   },
   {
    "duration": 28,
    "start_time": "2024-07-18T02:37:26.253Z"
   },
   {
    "duration": 48,
    "start_time": "2024-07-18T02:37:26.284Z"
   },
   {
    "duration": 24,
    "start_time": "2024-07-18T02:37:26.335Z"
   },
   {
    "duration": 29,
    "start_time": "2024-07-18T02:37:26.362Z"
   },
   {
    "duration": 35,
    "start_time": "2024-07-18T02:37:26.428Z"
   },
   {
    "duration": 59,
    "start_time": "2024-07-18T02:37:26.467Z"
   },
   {
    "duration": 783,
    "start_time": "2024-07-18T02:37:26.529Z"
   },
   {
    "duration": 410,
    "start_time": "2024-07-18T02:37:27.315Z"
   },
   {
    "duration": 21,
    "start_time": "2024-07-18T02:37:27.729Z"
   },
   {
    "duration": 698,
    "start_time": "2024-07-18T02:37:27.754Z"
   },
   {
    "duration": 546,
    "start_time": "2024-07-18T02:37:28.455Z"
   },
   {
    "duration": 29,
    "start_time": "2024-07-18T02:37:29.004Z"
   },
   {
    "duration": 968,
    "start_time": "2024-07-18T02:37:29.036Z"
   },
   {
    "duration": 384,
    "start_time": "2024-07-18T02:37:30.007Z"
   },
   {
    "duration": 30,
    "start_time": "2024-07-18T02:37:30.394Z"
   },
   {
    "duration": 382,
    "start_time": "2024-07-18T02:37:30.430Z"
   },
   {
    "duration": 22,
    "start_time": "2024-07-18T02:37:30.816Z"
   },
   {
    "duration": 13,
    "start_time": "2024-07-18T02:37:30.841Z"
   },
   {
    "duration": 5,
    "start_time": "2024-07-18T02:37:30.856Z"
   },
   {
    "duration": 12,
    "start_time": "2024-07-18T02:57:12.354Z"
   },
   {
    "duration": 5,
    "start_time": "2024-07-18T02:57:18.016Z"
   },
   {
    "duration": 15,
    "start_time": "2024-07-18T02:57:23.072Z"
   },
   {
    "duration": 24,
    "start_time": "2024-07-18T03:00:22.190Z"
   },
   {
    "duration": 1369,
    "start_time": "2024-07-18T03:04:41.407Z"
   },
   {
    "duration": 112,
    "start_time": "2024-07-18T03:05:39.393Z"
   },
   {
    "duration": 16,
    "start_time": "2024-07-18T03:08:32.495Z"
   },
   {
    "duration": 14,
    "start_time": "2024-07-18T03:10:08.599Z"
   },
   {
    "duration": 5278,
    "start_time": "2024-07-18T03:43:05.758Z"
   },
   {
    "duration": 394,
    "start_time": "2024-07-18T03:43:11.040Z"
   },
   {
    "duration": 19,
    "start_time": "2024-07-18T03:43:11.436Z"
   },
   {
    "duration": 12,
    "start_time": "2024-07-18T03:43:11.461Z"
   },
   {
    "duration": 26,
    "start_time": "2024-07-18T03:43:11.508Z"
   },
   {
    "duration": 17,
    "start_time": "2024-07-18T03:43:11.537Z"
   },
   {
    "duration": 11,
    "start_time": "2024-07-18T03:43:11.558Z"
   },
   {
    "duration": 56,
    "start_time": "2024-07-18T03:43:11.573Z"
   },
   {
    "duration": 47,
    "start_time": "2024-07-18T03:43:11.632Z"
   },
   {
    "duration": 56,
    "start_time": "2024-07-18T03:43:11.683Z"
   },
   {
    "duration": 16,
    "start_time": "2024-07-18T03:43:11.743Z"
   },
   {
    "duration": 131,
    "start_time": "2024-07-18T03:43:11.763Z"
   },
   {
    "duration": 186,
    "start_time": "2024-07-18T03:43:11.897Z"
   },
   {
    "duration": 31,
    "start_time": "2024-07-18T03:43:12.091Z"
   },
   {
    "duration": 10,
    "start_time": "2024-07-18T03:43:12.129Z"
   },
   {
    "duration": 84,
    "start_time": "2024-07-18T03:43:12.144Z"
   },
   {
    "duration": 138,
    "start_time": "2024-07-18T03:43:12.231Z"
   },
   {
    "duration": 44,
    "start_time": "2024-07-18T03:43:12.375Z"
   },
   {
    "duration": 12,
    "start_time": "2024-07-18T03:43:12.423Z"
   },
   {
    "duration": 86,
    "start_time": "2024-07-18T03:43:12.440Z"
   },
   {
    "duration": 141,
    "start_time": "2024-07-18T03:43:12.533Z"
   },
   {
    "duration": 35,
    "start_time": "2024-07-18T03:43:12.677Z"
   },
   {
    "duration": 36,
    "start_time": "2024-07-18T03:43:12.716Z"
   },
   {
    "duration": 67,
    "start_time": "2024-07-18T03:43:12.757Z"
   },
   {
    "duration": 27,
    "start_time": "2024-07-18T03:43:12.829Z"
   },
   {
    "duration": 52,
    "start_time": "2024-07-18T03:43:12.860Z"
   },
   {
    "duration": 38,
    "start_time": "2024-07-18T03:43:12.916Z"
   },
   {
    "duration": 73,
    "start_time": "2024-07-18T03:43:12.958Z"
   },
   {
    "duration": 40,
    "start_time": "2024-07-18T03:43:13.034Z"
   },
   {
    "duration": 842,
    "start_time": "2024-07-18T03:43:13.077Z"
   },
   {
    "duration": 468,
    "start_time": "2024-07-18T03:43:13.926Z"
   },
   {
    "duration": 24,
    "start_time": "2024-07-18T03:43:14.401Z"
   },
   {
    "duration": 734,
    "start_time": "2024-07-18T03:43:14.428Z"
   },
   {
    "duration": 587,
    "start_time": "2024-07-18T03:43:15.166Z"
   },
   {
    "duration": 20,
    "start_time": "2024-07-18T03:43:15.756Z"
   },
   {
    "duration": 1022,
    "start_time": "2024-07-18T03:43:15.779Z"
   },
   {
    "duration": 409,
    "start_time": "2024-07-18T03:43:16.804Z"
   },
   {
    "duration": 19,
    "start_time": "2024-07-18T03:43:17.217Z"
   },
   {
    "duration": 386,
    "start_time": "2024-07-18T03:43:17.240Z"
   },
   {
    "duration": 24,
    "start_time": "2024-07-18T03:43:17.629Z"
   },
   {
    "duration": 15,
    "start_time": "2024-07-18T03:43:17.663Z"
   },
   {
    "duration": 18,
    "start_time": "2024-07-18T03:43:17.710Z"
   },
   {
    "duration": 10,
    "start_time": "2024-07-18T03:44:00.763Z"
   },
   {
    "duration": 585,
    "start_time": "2024-07-18T03:44:08.115Z"
   },
   {
    "duration": 15,
    "start_time": "2024-07-18T03:44:14.546Z"
   },
   {
    "duration": 5009,
    "start_time": "2024-07-19T03:16:36.941Z"
   },
   {
    "duration": 397,
    "start_time": "2024-07-19T03:16:41.953Z"
   },
   {
    "duration": 15,
    "start_time": "2024-07-19T03:16:42.353Z"
   },
   {
    "duration": 12,
    "start_time": "2024-07-19T03:16:42.373Z"
   },
   {
    "duration": 44,
    "start_time": "2024-07-19T03:16:42.387Z"
   },
   {
    "duration": 21,
    "start_time": "2024-07-19T03:16:42.436Z"
   },
   {
    "duration": 11,
    "start_time": "2024-07-19T03:16:42.461Z"
   },
   {
    "duration": 19,
    "start_time": "2024-07-19T03:16:42.475Z"
   },
   {
    "duration": 70,
    "start_time": "2024-07-19T03:16:42.496Z"
   },
   {
    "duration": 24,
    "start_time": "2024-07-19T03:16:42.572Z"
   },
   {
    "duration": 38,
    "start_time": "2024-07-19T03:16:42.602Z"
   },
   {
    "duration": 92,
    "start_time": "2024-07-19T03:16:42.643Z"
   },
   {
    "duration": 168,
    "start_time": "2024-07-19T03:16:42.739Z"
   },
   {
    "duration": 31,
    "start_time": "2024-07-19T03:16:42.910Z"
   },
   {
    "duration": 9,
    "start_time": "2024-07-19T03:16:42.944Z"
   },
   {
    "duration": 74,
    "start_time": "2024-07-19T03:16:42.956Z"
   },
   {
    "duration": 102,
    "start_time": "2024-07-19T03:16:43.034Z"
   },
   {
    "duration": 22,
    "start_time": "2024-07-19T03:16:43.139Z"
   },
   {
    "duration": 11,
    "start_time": "2024-07-19T03:16:43.164Z"
   },
   {
    "duration": 104,
    "start_time": "2024-07-19T03:16:43.181Z"
   },
   {
    "duration": 121,
    "start_time": "2024-07-19T03:16:43.288Z"
   },
   {
    "duration": 35,
    "start_time": "2024-07-19T03:16:43.412Z"
   },
   {
    "duration": 28,
    "start_time": "2024-07-19T03:16:43.450Z"
   },
   {
    "duration": 55,
    "start_time": "2024-07-19T03:16:43.481Z"
   },
   {
    "duration": 19,
    "start_time": "2024-07-19T03:16:43.539Z"
   },
   {
    "duration": 25,
    "start_time": "2024-07-19T03:16:43.560Z"
   },
   {
    "duration": 58,
    "start_time": "2024-07-19T03:16:43.588Z"
   },
   {
    "duration": 33,
    "start_time": "2024-07-19T03:16:43.653Z"
   },
   {
    "duration": 67,
    "start_time": "2024-07-19T03:16:43.689Z"
   },
   {
    "duration": 773,
    "start_time": "2024-07-19T03:16:43.759Z"
   },
   {
    "duration": 401,
    "start_time": "2024-07-19T03:16:44.535Z"
   },
   {
    "duration": 16,
    "start_time": "2024-07-19T03:16:44.939Z"
   },
   {
    "duration": 723,
    "start_time": "2024-07-19T03:16:44.958Z"
   },
   {
    "duration": 535,
    "start_time": "2024-07-19T03:16:45.685Z"
   },
   {
    "duration": 15,
    "start_time": "2024-07-19T03:16:46.230Z"
   },
   {
    "duration": 930,
    "start_time": "2024-07-19T03:16:46.249Z"
   },
   {
    "duration": 372,
    "start_time": "2024-07-19T03:16:47.182Z"
   },
   {
    "duration": 17,
    "start_time": "2024-07-19T03:16:47.557Z"
   },
   {
    "duration": 358,
    "start_time": "2024-07-19T03:16:47.577Z"
   },
   {
    "duration": 18,
    "start_time": "2024-07-19T03:16:47.938Z"
   },
   {
    "duration": 12,
    "start_time": "2024-07-19T03:16:47.959Z"
   },
   {
    "duration": 12,
    "start_time": "2024-07-19T03:16:47.974Z"
   },
   {
    "duration": 5,
    "start_time": "2024-07-19T03:23:45.063Z"
   },
   {
    "duration": 280,
    "start_time": "2024-07-19T03:23:45.072Z"
   },
   {
    "duration": 14,
    "start_time": "2024-07-19T03:23:45.355Z"
   },
   {
    "duration": 10,
    "start_time": "2024-07-19T03:23:45.373Z"
   },
   {
    "duration": 49,
    "start_time": "2024-07-19T03:23:45.386Z"
   },
   {
    "duration": 20,
    "start_time": "2024-07-19T03:23:45.438Z"
   },
   {
    "duration": 14,
    "start_time": "2024-07-19T03:23:45.461Z"
   },
   {
    "duration": 18,
    "start_time": "2024-07-19T03:23:45.479Z"
   },
   {
    "duration": 36,
    "start_time": "2024-07-19T03:23:45.530Z"
   },
   {
    "duration": 29,
    "start_time": "2024-07-19T03:23:45.570Z"
   },
   {
    "duration": 15,
    "start_time": "2024-07-19T03:23:45.632Z"
   },
   {
    "duration": 92,
    "start_time": "2024-07-19T03:23:45.651Z"
   },
   {
    "duration": 166,
    "start_time": "2024-07-19T03:23:45.746Z"
   },
   {
    "duration": 29,
    "start_time": "2024-07-19T03:23:45.915Z"
   },
   {
    "duration": 9,
    "start_time": "2024-07-19T03:23:45.947Z"
   },
   {
    "duration": 73,
    "start_time": "2024-07-19T03:23:45.958Z"
   },
   {
    "duration": 101,
    "start_time": "2024-07-19T03:23:46.034Z"
   },
   {
    "duration": 23,
    "start_time": "2024-07-19T03:23:46.138Z"
   },
   {
    "duration": 11,
    "start_time": "2024-07-19T03:23:46.164Z"
   },
   {
    "duration": 93,
    "start_time": "2024-07-19T03:23:46.178Z"
   },
   {
    "duration": 132,
    "start_time": "2024-07-19T03:23:46.274Z"
   },
   {
    "duration": 31,
    "start_time": "2024-07-19T03:23:46.409Z"
   },
   {
    "duration": 28,
    "start_time": "2024-07-19T03:23:46.443Z"
   },
   {
    "duration": 55,
    "start_time": "2024-07-19T03:23:46.477Z"
   },
   {
    "duration": 19,
    "start_time": "2024-07-19T03:23:46.535Z"
   },
   {
    "duration": 23,
    "start_time": "2024-07-19T03:23:46.558Z"
   },
   {
    "duration": 64,
    "start_time": "2024-07-19T03:23:46.584Z"
   },
   {
    "duration": 32,
    "start_time": "2024-07-19T03:23:46.651Z"
   },
   {
    "duration": 61,
    "start_time": "2024-07-19T03:23:46.686Z"
   },
   {
    "duration": 824,
    "start_time": "2024-07-19T03:23:46.750Z"
   },
   {
    "duration": 399,
    "start_time": "2024-07-19T03:23:47.577Z"
   },
   {
    "duration": 16,
    "start_time": "2024-07-19T03:23:47.982Z"
   },
   {
    "duration": 569,
    "start_time": "2024-07-19T03:23:48.001Z"
   },
   {
    "duration": 544,
    "start_time": "2024-07-19T03:23:48.573Z"
   },
   {
    "duration": 23,
    "start_time": "2024-07-19T03:23:49.120Z"
   },
   {
    "duration": 919,
    "start_time": "2024-07-19T03:23:49.145Z"
   },
   {
    "duration": 390,
    "start_time": "2024-07-19T03:23:50.067Z"
   },
   {
    "duration": 17,
    "start_time": "2024-07-19T03:23:50.459Z"
   },
   {
    "duration": 451,
    "start_time": "2024-07-19T03:23:50.480Z"
   },
   {
    "duration": 19,
    "start_time": "2024-07-19T03:23:50.934Z"
   },
   {
    "duration": 11,
    "start_time": "2024-07-19T03:23:50.956Z"
   },
   {
    "duration": 11,
    "start_time": "2024-07-19T03:23:50.970Z"
   },
   {
    "duration": 14,
    "start_time": "2024-07-19T03:31:30.963Z"
   },
   {
    "duration": 8,
    "start_time": "2024-07-19T03:31:35.023Z"
   },
   {
    "duration": 7,
    "start_time": "2024-07-19T03:32:16.367Z"
   },
   {
    "duration": 6,
    "start_time": "2024-07-19T03:32:26.997Z"
   },
   {
    "duration": 5,
    "start_time": "2024-07-19T03:32:33.699Z"
   },
   {
    "duration": 339,
    "start_time": "2024-07-21T00:35:28.767Z"
   },
   {
    "duration": 5219,
    "start_time": "2024-07-21T00:35:39.464Z"
   },
   {
    "duration": 405,
    "start_time": "2024-07-21T00:35:44.689Z"
   },
   {
    "duration": 18,
    "start_time": "2024-07-21T00:35:45.099Z"
   },
   {
    "duration": 15,
    "start_time": "2024-07-21T00:35:45.121Z"
   },
   {
    "duration": 47,
    "start_time": "2024-07-21T00:35:45.143Z"
   },
   {
    "duration": 19,
    "start_time": "2024-07-21T00:35:45.195Z"
   },
   {
    "duration": 9,
    "start_time": "2024-07-21T00:35:45.218Z"
   },
   {
    "duration": 52,
    "start_time": "2024-07-21T00:35:45.231Z"
   },
   {
    "duration": 37,
    "start_time": "2024-07-21T00:35:45.287Z"
   },
   {
    "duration": 82,
    "start_time": "2024-07-21T00:35:45.327Z"
   },
   {
    "duration": 19,
    "start_time": "2024-07-21T00:35:45.412Z"
   },
   {
    "duration": 110,
    "start_time": "2024-07-21T00:35:45.436Z"
   },
   {
    "duration": 198,
    "start_time": "2024-07-21T00:35:45.550Z"
   },
   {
    "duration": 33,
    "start_time": "2024-07-21T00:35:45.757Z"
   },
   {
    "duration": 11,
    "start_time": "2024-07-21T00:35:45.793Z"
   },
   {
    "duration": 85,
    "start_time": "2024-07-21T00:35:45.808Z"
   },
   {
    "duration": 113,
    "start_time": "2024-07-21T00:35:45.896Z"
   },
   {
    "duration": 23,
    "start_time": "2024-07-21T00:35:46.013Z"
   },
   {
    "duration": 37,
    "start_time": "2024-07-21T00:35:46.039Z"
   },
   {
    "duration": 59,
    "start_time": "2024-07-21T00:35:46.080Z"
   },
   {
    "duration": 138,
    "start_time": "2024-07-21T00:35:46.169Z"
   },
   {
    "duration": 57,
    "start_time": "2024-07-21T00:35:46.311Z"
   },
   {
    "duration": 32,
    "start_time": "2024-07-21T00:35:46.372Z"
   },
   {
    "duration": 30,
    "start_time": "2024-07-21T00:35:46.408Z"
   },
   {
    "duration": 29,
    "start_time": "2024-07-21T00:35:46.470Z"
   },
   {
    "duration": 32,
    "start_time": "2024-07-21T00:35:46.502Z"
   },
   {
    "duration": 66,
    "start_time": "2024-07-21T00:35:46.539Z"
   },
   {
    "duration": 79,
    "start_time": "2024-07-21T00:35:46.609Z"
   },
   {
    "duration": 40,
    "start_time": "2024-07-21T00:35:46.692Z"
   },
   {
    "duration": 832,
    "start_time": "2024-07-21T00:35:46.736Z"
   },
   {
    "duration": 487,
    "start_time": "2024-07-21T00:35:47.571Z"
   },
   {
    "duration": 25,
    "start_time": "2024-07-21T00:35:48.068Z"
   },
   {
    "duration": 709,
    "start_time": "2024-07-21T00:35:48.096Z"
   },
   {
    "duration": 570,
    "start_time": "2024-07-21T00:35:48.809Z"
   },
   {
    "duration": 17,
    "start_time": "2024-07-21T00:35:49.382Z"
   },
   {
    "duration": 978,
    "start_time": "2024-07-21T00:35:49.402Z"
   },
   {
    "duration": 364,
    "start_time": "2024-07-21T00:35:50.384Z"
   },
   {
    "duration": 27,
    "start_time": "2024-07-21T00:35:50.752Z"
   },
   {
    "duration": 376,
    "start_time": "2024-07-21T00:35:50.783Z"
   },
   {
    "duration": 19,
    "start_time": "2024-07-21T00:35:51.168Z"
   },
   {
    "duration": 11,
    "start_time": "2024-07-21T00:35:51.195Z"
   },
   {
    "duration": 12,
    "start_time": "2024-07-21T00:35:51.209Z"
   },
   {
    "duration": 545,
    "start_time": "2024-07-21T00:38:06.588Z"
   },
   {
    "duration": 30,
    "start_time": "2024-07-21T00:38:48.522Z"
   },
   {
    "duration": 27,
    "start_time": "2024-07-21T00:38:55.569Z"
   },
   {
    "duration": 29,
    "start_time": "2024-07-21T00:38:59.901Z"
   },
   {
    "duration": 1320,
    "start_time": "2024-07-21T00:39:21.336Z"
   },
   {
    "duration": 275,
    "start_time": "2024-07-21T00:39:22.667Z"
   },
   {
    "duration": 16,
    "start_time": "2024-07-21T00:39:22.945Z"
   },
   {
    "duration": 11,
    "start_time": "2024-07-21T00:39:22.970Z"
   },
   {
    "duration": 21,
    "start_time": "2024-07-21T00:39:22.986Z"
   },
   {
    "duration": 15,
    "start_time": "2024-07-21T00:39:23.010Z"
   },
   {
    "duration": 10,
    "start_time": "2024-07-21T00:39:23.067Z"
   },
   {
    "duration": 16,
    "start_time": "2024-07-21T00:39:23.081Z"
   },
   {
    "duration": 70,
    "start_time": "2024-07-21T00:39:23.100Z"
   },
   {
    "duration": 26,
    "start_time": "2024-07-21T00:39:23.173Z"
   },
   {
    "duration": 13,
    "start_time": "2024-07-21T00:39:23.203Z"
   },
   {
    "duration": 107,
    "start_time": "2024-07-21T00:39:23.219Z"
   },
   {
    "duration": 173,
    "start_time": "2024-07-21T00:39:23.329Z"
   },
   {
    "duration": 20,
    "start_time": "2024-07-21T00:39:23.508Z"
   },
   {
    "duration": 9,
    "start_time": "2024-07-21T00:39:23.531Z"
   },
   {
    "duration": 48,
    "start_time": "2024-07-21T00:39:23.568Z"
   },
   {
    "duration": 107,
    "start_time": "2024-07-21T00:39:23.619Z"
   },
   {
    "duration": 40,
    "start_time": "2024-07-21T00:39:23.728Z"
   },
   {
    "duration": 12,
    "start_time": "2024-07-21T00:39:23.771Z"
   },
   {
    "duration": 84,
    "start_time": "2024-07-21T00:39:23.786Z"
   },
   {
    "duration": 133,
    "start_time": "2024-07-21T00:39:23.874Z"
   },
   {
    "duration": 26,
    "start_time": "2024-07-21T00:39:24.010Z"
   },
   {
    "duration": 62,
    "start_time": "2024-07-21T00:39:24.039Z"
   },
   {
    "duration": 29,
    "start_time": "2024-07-21T00:39:24.104Z"
   },
   {
    "duration": 45,
    "start_time": "2024-07-21T00:39:24.136Z"
   },
   {
    "duration": 26,
    "start_time": "2024-07-21T00:39:24.184Z"
   },
   {
    "duration": 66,
    "start_time": "2024-07-21T00:39:24.213Z"
   },
   {
    "duration": 38,
    "start_time": "2024-07-21T00:39:24.282Z"
   },
   {
    "duration": 67,
    "start_time": "2024-07-21T00:39:24.324Z"
   },
   {
    "duration": 793,
    "start_time": "2024-07-21T00:39:24.394Z"
   },
   {
    "duration": 456,
    "start_time": "2024-07-21T00:39:25.190Z"
   },
   {
    "duration": 29,
    "start_time": "2024-07-21T00:39:25.649Z"
   },
   {
    "duration": 610,
    "start_time": "2024-07-21T00:39:25.682Z"
   },
   {
    "duration": 546,
    "start_time": "2024-07-21T00:39:26.295Z"
   },
   {
    "duration": 30,
    "start_time": "2024-07-21T00:39:26.844Z"
   },
   {
    "duration": 1169,
    "start_time": "2024-07-21T00:39:26.878Z"
   },
   {
    "duration": 422,
    "start_time": "2024-07-21T00:39:28.049Z"
   },
   {
    "duration": 19,
    "start_time": "2024-07-21T00:39:28.476Z"
   },
   {
    "duration": 458,
    "start_time": "2024-07-21T00:39:28.498Z"
   },
   {
    "duration": 23,
    "start_time": "2024-07-21T00:39:28.959Z"
   },
   {
    "duration": 12,
    "start_time": "2024-07-21T00:39:28.990Z"
   },
   {
    "duration": 12,
    "start_time": "2024-07-21T00:39:29.005Z"
   },
   {
    "duration": 406,
    "start_time": "2024-07-21T00:54:13.542Z"
   },
   {
    "duration": 29,
    "start_time": "2024-07-21T00:55:10.190Z"
   },
   {
    "duration": 27,
    "start_time": "2024-07-21T00:55:44.200Z"
   },
   {
    "duration": 1362,
    "start_time": "2024-07-21T00:56:43.996Z"
   },
   {
    "duration": 285,
    "start_time": "2024-07-21T00:56:45.362Z"
   },
   {
    "duration": 16,
    "start_time": "2024-07-21T00:56:45.650Z"
   },
   {
    "duration": 13,
    "start_time": "2024-07-21T00:56:45.671Z"
   },
   {
    "duration": 20,
    "start_time": "2024-07-21T00:56:45.687Z"
   },
   {
    "duration": 14,
    "start_time": "2024-07-21T00:56:45.711Z"
   },
   {
    "duration": 48,
    "start_time": "2024-07-21T00:56:45.728Z"
   },
   {
    "duration": 17,
    "start_time": "2024-07-21T00:56:45.779Z"
   },
   {
    "duration": 72,
    "start_time": "2024-07-21T00:56:45.800Z"
   },
   {
    "duration": 32,
    "start_time": "2024-07-21T00:56:45.881Z"
   },
   {
    "duration": 12,
    "start_time": "2024-07-21T00:56:45.916Z"
   },
   {
    "duration": 108,
    "start_time": "2024-07-21T00:56:45.931Z"
   },
   {
    "duration": 181,
    "start_time": "2024-07-21T00:56:46.042Z"
   },
   {
    "duration": 19,
    "start_time": "2024-07-21T00:56:46.226Z"
   },
   {
    "duration": 11,
    "start_time": "2024-07-21T00:56:46.267Z"
   },
   {
    "duration": 49,
    "start_time": "2024-07-21T00:56:46.282Z"
   },
   {
    "duration": 143,
    "start_time": "2024-07-21T00:56:46.334Z"
   },
   {
    "duration": 26,
    "start_time": "2024-07-21T00:56:46.481Z"
   },
   {
    "duration": 11,
    "start_time": "2024-07-21T00:56:46.510Z"
   },
   {
    "duration": 98,
    "start_time": "2024-07-21T00:56:46.525Z"
   },
   {
    "duration": 132,
    "start_time": "2024-07-21T00:56:46.626Z"
   },
   {
    "duration": 30,
    "start_time": "2024-07-21T00:56:46.769Z"
   },
   {
    "duration": 29,
    "start_time": "2024-07-21T00:56:46.802Z"
   },
   {
    "duration": 60,
    "start_time": "2024-07-21T00:56:46.834Z"
   },
   {
    "duration": 20,
    "start_time": "2024-07-21T00:56:46.898Z"
   },
   {
    "duration": 58,
    "start_time": "2024-07-21T00:56:46.921Z"
   },
   {
    "duration": 29,
    "start_time": "2024-07-21T00:56:46.982Z"
   },
   {
    "duration": 58,
    "start_time": "2024-07-21T00:56:47.018Z"
   },
   {
    "duration": 36,
    "start_time": "2024-07-21T00:56:47.079Z"
   },
   {
    "duration": 814,
    "start_time": "2024-07-21T00:56:47.117Z"
   },
   {
    "duration": 469,
    "start_time": "2024-07-21T00:56:47.934Z"
   },
   {
    "duration": 17,
    "start_time": "2024-07-21T00:56:48.407Z"
   },
   {
    "duration": 617,
    "start_time": "2024-07-21T00:56:48.427Z"
   },
   {
    "duration": 529,
    "start_time": "2024-07-21T00:56:49.047Z"
   },
   {
    "duration": 15,
    "start_time": "2024-07-21T00:56:49.580Z"
   },
   {
    "duration": 990,
    "start_time": "2024-07-21T00:56:49.598Z"
   },
   {
    "duration": 376,
    "start_time": "2024-07-21T00:56:50.592Z"
   },
   {
    "duration": 20,
    "start_time": "2024-07-21T00:56:50.971Z"
   },
   {
    "duration": 459,
    "start_time": "2024-07-21T00:56:50.995Z"
   },
   {
    "duration": 27,
    "start_time": "2024-07-21T00:56:51.457Z"
   },
   {
    "duration": 11,
    "start_time": "2024-07-21T00:56:51.487Z"
   },
   {
    "duration": 13,
    "start_time": "2024-07-21T00:56:51.502Z"
   },
   {
    "duration": 323,
    "start_time": "2024-07-21T16:19:36.023Z"
   },
   {
    "duration": 4896,
    "start_time": "2024-07-21T16:19:46.172Z"
   },
   {
    "duration": 339,
    "start_time": "2024-07-21T16:19:51.072Z"
   },
   {
    "duration": 16,
    "start_time": "2024-07-21T16:19:51.414Z"
   },
   {
    "duration": 12,
    "start_time": "2024-07-21T16:19:51.435Z"
   },
   {
    "duration": 61,
    "start_time": "2024-07-21T16:19:51.450Z"
   },
   {
    "duration": 6,
    "start_time": "2024-07-21T16:19:51.514Z"
   },
   {
    "duration": 19,
    "start_time": "2024-07-21T16:19:51.523Z"
   },
   {
    "duration": 10,
    "start_time": "2024-07-21T16:19:51.545Z"
   },
   {
    "duration": 56,
    "start_time": "2024-07-21T16:19:51.558Z"
   },
   {
    "duration": 35,
    "start_time": "2024-07-21T16:19:51.620Z"
   },
   {
    "duration": 53,
    "start_time": "2024-07-21T16:19:51.658Z"
   },
   {
    "duration": 14,
    "start_time": "2024-07-21T16:19:51.714Z"
   },
   {
    "duration": 97,
    "start_time": "2024-07-21T16:19:51.731Z"
   },
   {
    "duration": 169,
    "start_time": "2024-07-21T16:19:51.831Z"
   },
   {
    "duration": 21,
    "start_time": "2024-07-21T16:19:52.002Z"
   },
   {
    "duration": 9,
    "start_time": "2024-07-21T16:19:52.029Z"
   },
   {
    "duration": 81,
    "start_time": "2024-07-21T16:19:52.041Z"
   },
   {
    "duration": 102,
    "start_time": "2024-07-21T16:19:52.125Z"
   },
   {
    "duration": 23,
    "start_time": "2024-07-21T16:19:52.230Z"
   },
   {
    "duration": 11,
    "start_time": "2024-07-21T16:19:52.256Z"
   },
   {
    "duration": 85,
    "start_time": "2024-07-21T16:19:52.272Z"
   },
   {
    "duration": 148,
    "start_time": "2024-07-21T16:19:52.360Z"
   },
   {
    "duration": 31,
    "start_time": "2024-07-21T16:19:52.511Z"
   },
   {
    "duration": 33,
    "start_time": "2024-07-21T16:19:52.546Z"
   },
   {
    "duration": 37,
    "start_time": "2024-07-21T16:19:52.611Z"
   },
   {
    "duration": 28,
    "start_time": "2024-07-21T16:19:52.651Z"
   },
   {
    "duration": 30,
    "start_time": "2024-07-21T16:19:52.708Z"
   },
   {
    "duration": 61,
    "start_time": "2024-07-21T16:19:52.747Z"
   },
   {
    "duration": 35,
    "start_time": "2024-07-21T16:19:52.812Z"
   },
   {
    "duration": 58,
    "start_time": "2024-07-21T16:19:52.851Z"
   },
   {
    "duration": 751,
    "start_time": "2024-07-21T16:19:52.912Z"
   },
   {
    "duration": 417,
    "start_time": "2024-07-21T16:19:53.666Z"
   },
   {
    "duration": 25,
    "start_time": "2024-07-21T16:19:54.086Z"
   },
   {
    "duration": 688,
    "start_time": "2024-07-21T16:19:54.114Z"
   },
   {
    "duration": 526,
    "start_time": "2024-07-21T16:19:54.804Z"
   },
   {
    "duration": 17,
    "start_time": "2024-07-21T16:19:55.333Z"
   },
   {
    "duration": 952,
    "start_time": "2024-07-21T16:19:55.353Z"
   },
   {
    "duration": 377,
    "start_time": "2024-07-21T16:19:56.308Z"
   },
   {
    "duration": 29,
    "start_time": "2024-07-21T16:19:56.688Z"
   },
   {
    "duration": 376,
    "start_time": "2024-07-21T16:19:56.720Z"
   },
   {
    "duration": 28,
    "start_time": "2024-07-21T16:19:57.099Z"
   },
   {
    "duration": 12,
    "start_time": "2024-07-21T16:19:57.130Z"
   },
   {
    "duration": 11,
    "start_time": "2024-07-21T16:19:57.146Z"
   },
   {
    "duration": 503,
    "start_time": "2024-07-21T16:21:34.965Z"
   },
   {
    "duration": 29,
    "start_time": "2024-07-21T16:21:49.185Z"
   },
   {
    "duration": 5,
    "start_time": "2024-07-21T16:21:56.661Z"
   },
   {
    "duration": 273,
    "start_time": "2024-07-21T16:22:00.446Z"
   },
   {
    "duration": 17,
    "start_time": "2024-07-21T16:22:10.917Z"
   },
   {
    "duration": 8,
    "start_time": "2024-07-21T16:22:14.005Z"
   },
   {
    "duration": 8,
    "start_time": "2024-07-21T16:22:17.047Z"
   },
   {
    "duration": 8,
    "start_time": "2024-07-21T16:22:17.837Z"
   },
   {
    "duration": 8,
    "start_time": "2024-07-21T16:22:20.982Z"
   },
   {
    "duration": 18,
    "start_time": "2024-07-21T16:22:32.171Z"
   },
   {
    "duration": 4,
    "start_time": "2024-07-21T16:22:38.769Z"
   },
   {
    "duration": 5,
    "start_time": "2024-07-21T16:23:42.541Z"
   },
   {
    "duration": 14,
    "start_time": "2024-07-21T16:23:48.581Z"
   },
   {
    "duration": 15,
    "start_time": "2024-07-21T16:24:25.421Z"
   },
   {
    "duration": 14,
    "start_time": "2024-07-21T16:28:28.671Z"
   },
   {
    "duration": 1234,
    "start_time": "2024-07-21T16:28:52.537Z"
   },
   {
    "duration": 273,
    "start_time": "2024-07-21T16:28:53.774Z"
   },
   {
    "duration": 15,
    "start_time": "2024-07-21T16:28:57.287Z"
   },
   {
    "duration": 10,
    "start_time": "2024-07-21T16:28:59.437Z"
   },
   {
    "duration": 20,
    "start_time": "2024-07-21T16:30:00.128Z"
   },
   {
    "duration": 19,
    "start_time": "2024-07-21T16:30:02.625Z"
   },
   {
    "duration": 21,
    "start_time": "2024-07-21T16:31:16.686Z"
   },
   {
    "duration": 244,
    "start_time": "2024-07-21T16:37:06.093Z"
   },
   {
    "duration": 20,
    "start_time": "2024-07-21T16:37:37.847Z"
   },
   {
    "duration": 13,
    "start_time": "2024-07-21T16:37:44.074Z"
   },
   {
    "duration": 14,
    "start_time": "2024-07-21T16:37:49.470Z"
   },
   {
    "duration": 14,
    "start_time": "2024-07-21T16:37:50.299Z"
   },
   {
    "duration": 13,
    "start_time": "2024-07-21T16:37:51.042Z"
   },
   {
    "duration": 19,
    "start_time": "2024-07-21T16:38:01.461Z"
   },
   {
    "duration": 16,
    "start_time": "2024-07-21T16:38:06.421Z"
   },
   {
    "duration": 6,
    "start_time": "2024-07-21T16:38:26.938Z"
   },
   {
    "duration": 4,
    "start_time": "2024-07-21T16:38:27.652Z"
   },
   {
    "duration": 5,
    "start_time": "2024-07-21T16:38:29.914Z"
   },
   {
    "duration": 262,
    "start_time": "2024-07-21T16:38:31.162Z"
   },
   {
    "duration": 14,
    "start_time": "2024-07-21T16:38:35.245Z"
   },
   {
    "duration": 10,
    "start_time": "2024-07-21T16:38:36.099Z"
   },
   {
    "duration": 25,
    "start_time": "2024-07-21T16:38:40.670Z"
   },
   {
    "duration": 14,
    "start_time": "2024-07-21T16:38:43.599Z"
   },
   {
    "duration": 4884,
    "start_time": "2024-07-23T03:17:17.222Z"
   },
   {
    "duration": 378,
    "start_time": "2024-07-23T03:17:22.109Z"
   },
   {
    "duration": 16,
    "start_time": "2024-07-23T03:17:22.489Z"
   },
   {
    "duration": 12,
    "start_time": "2024-07-23T03:17:22.509Z"
   },
   {
    "duration": 20,
    "start_time": "2024-07-23T03:17:26.408Z"
   },
   {
    "duration": 18,
    "start_time": "2024-07-23T03:18:12.738Z"
   },
   {
    "duration": 5,
    "start_time": "2024-07-23T03:19:01.718Z"
   },
   {
    "duration": 5,
    "start_time": "2024-07-23T03:19:06.171Z"
   },
   {
    "duration": 14,
    "start_time": "2024-07-23T03:19:13.703Z"
   },
   {
    "duration": 1225,
    "start_time": "2024-07-23T03:19:38.132Z"
   },
   {
    "duration": 271,
    "start_time": "2024-07-23T03:19:39.361Z"
   },
   {
    "duration": 15,
    "start_time": "2024-07-23T03:19:41.562Z"
   },
   {
    "duration": 14,
    "start_time": "2024-07-23T03:19:42.673Z"
   },
   {
    "duration": 19,
    "start_time": "2024-07-23T03:19:45.729Z"
   },
   {
    "duration": 19,
    "start_time": "2024-07-23T03:19:49.563Z"
   },
   {
    "duration": 15,
    "start_time": "2024-07-23T03:20:10.971Z"
   },
   {
    "duration": 9,
    "start_time": "2024-07-23T03:20:11.422Z"
   },
   {
    "duration": 16,
    "start_time": "2024-07-23T03:20:13.769Z"
   },
   {
    "duration": 35,
    "start_time": "2024-07-23T03:20:15.662Z"
   },
   {
    "duration": 26,
    "start_time": "2024-07-23T03:20:17.667Z"
   },
   {
    "duration": 12,
    "start_time": "2024-07-23T03:20:18.515Z"
   },
   {
    "duration": 75,
    "start_time": "2024-07-23T03:27:39.833Z"
   },
   {
    "duration": 152,
    "start_time": "2024-07-23T03:28:09.934Z"
   },
   {
    "duration": 154,
    "start_time": "2024-07-23T03:28:48.652Z"
   },
   {
    "duration": 152,
    "start_time": "2024-07-23T03:29:07.462Z"
   },
   {
    "duration": 150,
    "start_time": "2024-07-23T03:30:47.921Z"
   },
   {
    "duration": 24,
    "start_time": "2024-07-23T03:31:40.571Z"
   },
   {
    "duration": 9,
    "start_time": "2024-07-23T03:31:41.884Z"
   },
   {
    "duration": 46,
    "start_time": "2024-07-23T03:32:10.481Z"
   },
   {
    "duration": 86,
    "start_time": "2024-07-23T03:32:42.608Z"
   },
   {
    "duration": 23,
    "start_time": "2024-07-23T03:34:55.460Z"
   },
   {
    "duration": 13,
    "start_time": "2024-07-23T03:34:56.275Z"
   },
   {
    "duration": 59,
    "start_time": "2024-07-23T03:35:29.358Z"
   },
   {
    "duration": 124,
    "start_time": "2024-07-23T03:37:59.630Z"
   },
   {
    "duration": 26,
    "start_time": "2024-07-23T03:38:53.256Z"
   },
   {
    "duration": 27,
    "start_time": "2024-07-23T03:39:41.379Z"
   },
   {
    "duration": 27,
    "start_time": "2024-07-23T03:41:20.514Z"
   },
   {
    "duration": 19,
    "start_time": "2024-07-23T03:41:39.048Z"
   },
   {
    "duration": 26,
    "start_time": "2024-07-23T03:42:12.465Z"
   },
   {
    "duration": 25,
    "start_time": "2024-07-23T03:42:26.221Z"
   },
   {
    "duration": 25,
    "start_time": "2024-07-23T03:42:35.227Z"
   },
   {
    "duration": 29,
    "start_time": "2024-07-23T03:42:51.879Z"
   },
   {
    "duration": 32,
    "start_time": "2024-07-23T03:43:08.319Z"
   },
   {
    "duration": 34,
    "start_time": "2024-07-23T03:48:09.791Z"
   },
   {
    "duration": 767,
    "start_time": "2024-07-23T03:49:26.877Z"
   },
   {
    "duration": 374,
    "start_time": "2024-07-23T03:52:12.462Z"
   },
   {
    "duration": 16,
    "start_time": "2024-07-23T03:52:14.215Z"
   },
   {
    "duration": 752,
    "start_time": "2024-07-23T03:52:14.931Z"
   },
   {
    "duration": 509,
    "start_time": "2024-07-23T03:52:31.074Z"
   },
   {
    "duration": 16,
    "start_time": "2024-07-23T03:52:31.817Z"
   },
   {
    "duration": 891,
    "start_time": "2024-07-23T03:52:32.511Z"
   },
   {
    "duration": 5104,
    "start_time": "2024-07-25T02:31:35.351Z"
   },
   {
    "duration": 433,
    "start_time": "2024-07-25T02:31:40.459Z"
   },
   {
    "duration": 18,
    "start_time": "2024-07-25T02:31:40.895Z"
   },
   {
    "duration": 12,
    "start_time": "2024-07-25T02:31:40.918Z"
   },
   {
    "duration": 24,
    "start_time": "2024-07-25T02:31:40.933Z"
   },
   {
    "duration": 23,
    "start_time": "2024-07-25T02:31:45.823Z"
   },
   {
    "duration": 15,
    "start_time": "2024-07-25T02:31:52.777Z"
   },
   {
    "duration": 9,
    "start_time": "2024-07-25T02:31:53.145Z"
   },
   {
    "duration": 17,
    "start_time": "2024-07-25T02:31:54.426Z"
   },
   {
    "duration": 37,
    "start_time": "2024-07-25T02:31:55.661Z"
   },
   {
    "duration": 25,
    "start_time": "2024-07-25T02:31:57.376Z"
   },
   {
    "duration": 14,
    "start_time": "2024-07-25T02:31:58.189Z"
   },
   {
    "duration": 101,
    "start_time": "2024-07-25T02:32:02.914Z"
   },
   {
    "duration": 153,
    "start_time": "2024-07-25T02:32:12.239Z"
   },
   {
    "duration": 18,
    "start_time": "2024-07-25T02:32:14.077Z"
   },
   {
    "duration": 9,
    "start_time": "2024-07-25T02:32:14.748Z"
   },
   {
    "duration": 56,
    "start_time": "2024-07-25T02:32:16.952Z"
   },
   {
    "duration": 92,
    "start_time": "2024-07-25T02:32:18.987Z"
   },
   {
    "duration": 29,
    "start_time": "2024-07-25T02:32:20.186Z"
   },
   {
    "duration": 12,
    "start_time": "2024-07-25T02:32:20.679Z"
   },
   {
    "duration": 57,
    "start_time": "2024-07-25T02:32:23.063Z"
   },
   {
    "duration": 121,
    "start_time": "2024-07-25T02:32:26.034Z"
   },
   {
    "duration": 35,
    "start_time": "2024-07-25T02:33:08.897Z"
   },
   {
    "duration": 28,
    "start_time": "2024-07-25T02:33:40.483Z"
   },
   {
    "duration": 29,
    "start_time": "2024-07-25T02:33:41.314Z"
   },
   {
    "duration": 20,
    "start_time": "2024-07-25T02:33:41.942Z"
   },
   {
    "duration": 28,
    "start_time": "2024-07-25T02:33:42.542Z"
   },
   {
    "duration": 37,
    "start_time": "2024-07-25T02:33:44.150Z"
   },
   {
    "duration": 47,
    "start_time": "2024-07-25T02:33:44.871Z"
   },
   {
    "duration": 38,
    "start_time": "2024-07-25T02:33:46.181Z"
   },
   {
    "duration": 784,
    "start_time": "2024-07-25T02:33:54.881Z"
   },
   {
    "duration": 399,
    "start_time": "2024-07-25T02:33:56.211Z"
   },
   {
    "duration": 17,
    "start_time": "2024-07-25T02:33:58.119Z"
   },
   {
    "duration": 1012,
    "start_time": "2024-07-25T03:04:48.149Z"
   },
   {
    "duration": 971,
    "start_time": "2024-07-25T03:06:33.340Z"
   },
   {
    "duration": 358,
    "start_time": "2024-07-25T03:07:33.504Z"
   },
   {
    "duration": 343,
    "start_time": "2024-07-25T03:11:42.779Z"
   },
   {
    "duration": 259,
    "start_time": "2024-07-25T03:13:13.306Z"
   },
   {
    "duration": 405,
    "start_time": "2024-07-25T03:13:27.252Z"
   },
   {
    "duration": 381,
    "start_time": "2024-07-25T03:13:44.685Z"
   },
   {
    "duration": 34,
    "start_time": "2024-07-25T03:14:18.594Z"
   },
   {
    "duration": 18,
    "start_time": "2024-07-25T03:14:28.932Z"
   },
   {
    "duration": 61,
    "start_time": "2024-07-25T03:14:34.493Z"
   },
   {
    "duration": 336,
    "start_time": "2024-07-25T03:15:18.210Z"
   },
   {
    "duration": 19,
    "start_time": "2024-07-25T03:17:27.756Z"
   },
   {
    "duration": 12,
    "start_time": "2024-07-25T03:20:59.406Z"
   },
   {
    "duration": 12,
    "start_time": "2024-07-25T03:24:13.064Z"
   },
   {
    "duration": 20,
    "start_time": "2024-07-25T03:26:26.503Z"
   },
   {
    "duration": 19,
    "start_time": "2024-07-25T03:27:00.073Z"
   },
   {
    "duration": 18,
    "start_time": "2024-07-25T03:27:04.717Z"
   },
   {
    "duration": 5153,
    "start_time": "2024-07-26T00:29:14.085Z"
   },
   {
    "duration": 404,
    "start_time": "2024-07-26T00:29:19.242Z"
   },
   {
    "duration": 16,
    "start_time": "2024-07-26T00:29:19.649Z"
   },
   {
    "duration": 11,
    "start_time": "2024-07-26T00:29:19.669Z"
   },
   {
    "duration": 21,
    "start_time": "2024-07-26T00:29:19.683Z"
   },
   {
    "duration": 19,
    "start_time": "2024-07-26T00:29:19.707Z"
   },
   {
    "duration": 51,
    "start_time": "2024-07-26T00:29:19.729Z"
   },
   {
    "duration": 12,
    "start_time": "2024-07-26T00:29:19.783Z"
   },
   {
    "duration": 18,
    "start_time": "2024-07-26T00:29:19.799Z"
   },
   {
    "duration": 74,
    "start_time": "2024-07-26T00:29:19.822Z"
   },
   {
    "duration": 25,
    "start_time": "2024-07-26T00:29:19.900Z"
   },
   {
    "duration": 44,
    "start_time": "2024-07-26T00:29:19.928Z"
   },
   {
    "duration": 76,
    "start_time": "2024-07-26T00:29:19.974Z"
   },
   {
    "duration": 167,
    "start_time": "2024-07-26T00:29:20.069Z"
   },
   {
    "duration": 32,
    "start_time": "2024-07-26T00:29:20.240Z"
   },
   {
    "duration": 10,
    "start_time": "2024-07-26T00:29:20.275Z"
   },
   {
    "duration": 46,
    "start_time": "2024-07-26T00:29:20.288Z"
   },
   {
    "duration": 117,
    "start_time": "2024-07-26T00:29:20.337Z"
   },
   {
    "duration": 24,
    "start_time": "2024-07-26T00:29:20.468Z"
   },
   {
    "duration": 11,
    "start_time": "2024-07-26T00:29:20.495Z"
   },
   {
    "duration": 89,
    "start_time": "2024-07-26T00:29:20.509Z"
   },
   {
    "duration": 135,
    "start_time": "2024-07-26T00:29:20.602Z"
   },
   {
    "duration": 42,
    "start_time": "2024-07-26T00:29:20.739Z"
   },
   {
    "duration": 28,
    "start_time": "2024-07-26T00:29:20.784Z"
   },
   {
    "duration": 59,
    "start_time": "2024-07-26T00:29:20.816Z"
   },
   {
    "duration": 19,
    "start_time": "2024-07-26T00:29:20.878Z"
   },
   {
    "duration": 24,
    "start_time": "2024-07-26T00:29:20.900Z"
   },
   {
    "duration": 60,
    "start_time": "2024-07-26T00:29:20.932Z"
   },
   {
    "duration": 35,
    "start_time": "2024-07-26T00:29:20.995Z"
   },
   {
    "duration": 63,
    "start_time": "2024-07-26T00:29:21.033Z"
   },
   {
    "duration": 793,
    "start_time": "2024-07-26T00:29:21.099Z"
   },
   {
    "duration": 419,
    "start_time": "2024-07-26T00:29:21.896Z"
   },
   {
    "duration": 16,
    "start_time": "2024-07-26T00:29:22.319Z"
   },
   {
    "duration": 630,
    "start_time": "2024-07-26T00:29:22.338Z"
   },
   {
    "duration": 623,
    "start_time": "2024-07-26T00:29:22.972Z"
   },
   {
    "duration": 363,
    "start_time": "2024-07-26T00:29:23.598Z"
   },
   {
    "duration": 933,
    "start_time": "2024-07-26T00:29:23.967Z"
   },
   {
    "duration": 416,
    "start_time": "2024-07-26T00:29:24.903Z"
   },
   {
    "duration": 17,
    "start_time": "2024-07-26T00:29:25.322Z"
   },
   {
    "duration": 326,
    "start_time": "2024-07-26T00:29:25.342Z"
   },
   {
    "duration": 20,
    "start_time": "2024-07-26T00:29:25.671Z"
   },
   {
    "duration": 12,
    "start_time": "2024-07-26T00:29:25.694Z"
   },
   {
    "duration": 11,
    "start_time": "2024-07-26T00:29:25.712Z"
   },
   {
    "duration": 558,
    "start_time": "2024-07-26T00:32:15.397Z"
   },
   {
    "duration": 1312,
    "start_time": "2024-07-26T00:32:25.941Z"
   },
   {
    "duration": 309,
    "start_time": "2024-07-26T00:32:27.256Z"
   },
   {
    "duration": 30,
    "start_time": "2024-07-26T00:32:27.570Z"
   },
   {
    "duration": 11,
    "start_time": "2024-07-26T00:32:27.605Z"
   },
   {
    "duration": 20,
    "start_time": "2024-07-26T00:32:27.619Z"
   },
   {
    "duration": 54,
    "start_time": "2024-07-26T00:32:27.641Z"
   },
   {
    "duration": 13,
    "start_time": "2024-07-26T00:32:27.698Z"
   },
   {
    "duration": 9,
    "start_time": "2024-07-26T00:32:27.715Z"
   },
   {
    "duration": 45,
    "start_time": "2024-07-26T00:32:27.727Z"
   },
   {
    "duration": 35,
    "start_time": "2024-07-26T00:32:27.778Z"
   },
   {
    "duration": 50,
    "start_time": "2024-07-26T00:32:27.817Z"
   },
   {
    "duration": 17,
    "start_time": "2024-07-26T00:32:27.875Z"
   },
   {
    "duration": 97,
    "start_time": "2024-07-26T00:32:27.895Z"
   },
   {
    "duration": 162,
    "start_time": "2024-07-26T00:32:27.998Z"
   },
   {
    "duration": 28,
    "start_time": "2024-07-26T00:32:28.172Z"
   },
   {
    "duration": 10,
    "start_time": "2024-07-26T00:32:28.210Z"
   },
   {
    "duration": 63,
    "start_time": "2024-07-26T00:32:28.223Z"
   },
   {
    "duration": 118,
    "start_time": "2024-07-26T00:32:28.289Z"
   },
   {
    "duration": 23,
    "start_time": "2024-07-26T00:32:28.410Z"
   },
   {
    "duration": 14,
    "start_time": "2024-07-26T00:32:28.436Z"
   },
   {
    "duration": 87,
    "start_time": "2024-07-26T00:32:28.454Z"
   },
   {
    "duration": 141,
    "start_time": "2024-07-26T00:32:28.544Z"
   },
   {
    "duration": 29,
    "start_time": "2024-07-26T00:32:28.688Z"
   },
   {
    "duration": 51,
    "start_time": "2024-07-26T00:32:28.720Z"
   },
   {
    "duration": 38,
    "start_time": "2024-07-26T00:32:28.777Z"
   },
   {
    "duration": 31,
    "start_time": "2024-07-26T00:32:28.821Z"
   },
   {
    "duration": 56,
    "start_time": "2024-07-26T00:32:28.856Z"
   },
   {
    "duration": 29,
    "start_time": "2024-07-26T00:32:28.921Z"
   },
   {
    "duration": 43,
    "start_time": "2024-07-26T00:32:28.973Z"
   },
   {
    "duration": 61,
    "start_time": "2024-07-26T00:32:29.020Z"
   },
   {
    "duration": 806,
    "start_time": "2024-07-26T00:32:29.083Z"
   },
   {
    "duration": 459,
    "start_time": "2024-07-26T00:32:29.894Z"
   },
   {
    "duration": 34,
    "start_time": "2024-07-26T00:32:30.357Z"
   },
   {
    "duration": 598,
    "start_time": "2024-07-26T00:32:30.396Z"
   },
   {
    "duration": 486,
    "start_time": "2024-07-26T00:32:30.997Z"
   },
   {
    "duration": 390,
    "start_time": "2024-07-26T00:32:31.491Z"
   },
   {
    "duration": 911,
    "start_time": "2024-07-26T00:32:31.884Z"
   },
   {
    "duration": 477,
    "start_time": "2024-07-26T00:32:32.798Z"
   },
   {
    "duration": 19,
    "start_time": "2024-07-26T00:32:33.277Z"
   },
   {
    "duration": 362,
    "start_time": "2024-07-26T00:32:33.299Z"
   },
   {
    "duration": 23,
    "start_time": "2024-07-26T00:32:33.667Z"
   },
   {
    "duration": 423,
    "start_time": "2024-07-26T00:32:33.693Z"
   },
   {
    "duration": 0,
    "start_time": "2024-07-26T00:32:34.119Z"
   },
   {
    "duration": 29,
    "start_time": "2024-07-26T00:32:56.495Z"
   },
   {
    "duration": 11,
    "start_time": "2024-07-26T00:33:21.308Z"
   },
   {
    "duration": 32,
    "start_time": "2024-07-26T01:13:40.693Z"
   },
   {
    "duration": 15,
    "start_time": "2024-07-26T01:13:59.545Z"
   },
   {
    "duration": 4932,
    "start_time": "2024-07-28T00:57:07.735Z"
   },
   {
    "duration": 334,
    "start_time": "2024-07-28T00:57:12.671Z"
   },
   {
    "duration": 16,
    "start_time": "2024-07-28T00:57:13.008Z"
   },
   {
    "duration": 11,
    "start_time": "2024-07-28T00:57:13.029Z"
   },
   {
    "duration": 42,
    "start_time": "2024-07-28T00:57:13.043Z"
   },
   {
    "duration": 21,
    "start_time": "2024-07-28T00:57:13.087Z"
   },
   {
    "duration": 14,
    "start_time": "2024-07-28T00:57:13.111Z"
   },
   {
    "duration": 46,
    "start_time": "2024-07-28T00:57:13.128Z"
   },
   {
    "duration": 18,
    "start_time": "2024-07-28T00:57:13.177Z"
   },
   {
    "duration": 70,
    "start_time": "2024-07-28T00:57:13.201Z"
   },
   {
    "duration": 26,
    "start_time": "2024-07-28T00:57:13.274Z"
   },
   {
    "duration": 11,
    "start_time": "2024-07-28T00:57:13.303Z"
   },
   {
    "duration": 106,
    "start_time": "2024-07-28T00:57:13.317Z"
   },
   {
    "duration": 171,
    "start_time": "2024-07-28T00:57:13.426Z"
   },
   {
    "duration": 19,
    "start_time": "2024-07-28T00:57:13.600Z"
   },
   {
    "duration": 9,
    "start_time": "2024-07-28T00:57:13.622Z"
   },
   {
    "duration": 75,
    "start_time": "2024-07-28T00:57:13.635Z"
   },
   {
    "duration": 104,
    "start_time": "2024-07-28T00:57:13.713Z"
   },
   {
    "duration": 22,
    "start_time": "2024-07-28T00:57:13.821Z"
   },
   {
    "duration": 11,
    "start_time": "2024-07-28T00:57:13.869Z"
   },
   {
    "duration": 84,
    "start_time": "2024-07-28T00:57:13.884Z"
   },
   {
    "duration": 135,
    "start_time": "2024-07-28T00:57:13.971Z"
   },
   {
    "duration": 27,
    "start_time": "2024-07-28T00:57:14.109Z"
   },
   {
    "duration": 51,
    "start_time": "2024-07-28T00:57:14.140Z"
   },
   {
    "duration": 27,
    "start_time": "2024-07-28T00:57:14.194Z"
   },
   {
    "duration": 47,
    "start_time": "2024-07-28T00:57:14.224Z"
   },
   {
    "duration": 25,
    "start_time": "2024-07-28T00:57:14.275Z"
   },
   {
    "duration": 28,
    "start_time": "2024-07-28T00:57:14.307Z"
   },
   {
    "duration": 64,
    "start_time": "2024-07-28T00:57:14.338Z"
   },
   {
    "duration": 63,
    "start_time": "2024-07-28T00:57:14.405Z"
   },
   {
    "duration": 810,
    "start_time": "2024-07-28T00:57:14.471Z"
   },
   {
    "duration": 400,
    "start_time": "2024-07-28T00:57:15.285Z"
   },
   {
    "duration": 19,
    "start_time": "2024-07-28T00:57:15.689Z"
   },
   {
    "duration": 701,
    "start_time": "2024-07-28T00:57:15.711Z"
   },
   {
    "duration": 548,
    "start_time": "2024-07-28T00:57:16.416Z"
   },
   {
    "duration": 363,
    "start_time": "2024-07-28T00:57:16.969Z"
   },
   {
    "duration": 958,
    "start_time": "2024-07-28T00:57:17.335Z"
   },
   {
    "duration": 399,
    "start_time": "2024-07-28T00:57:18.296Z"
   },
   {
    "duration": 16,
    "start_time": "2024-07-28T00:57:18.698Z"
   },
   {
    "duration": 351,
    "start_time": "2024-07-28T00:57:18.717Z"
   },
   {
    "duration": 19,
    "start_time": "2024-07-28T00:57:19.074Z"
   },
   {
    "duration": 15,
    "start_time": "2024-07-28T00:57:19.096Z"
   },
   {
    "duration": 11,
    "start_time": "2024-07-28T00:57:19.114Z"
   },
   {
    "duration": 5073,
    "start_time": "2024-07-30T03:22:32.870Z"
   },
   {
    "duration": 388,
    "start_time": "2024-07-30T03:22:37.947Z"
   },
   {
    "duration": 18,
    "start_time": "2024-07-30T03:22:38.339Z"
   },
   {
    "duration": 14,
    "start_time": "2024-07-30T03:22:38.361Z"
   },
   {
    "duration": 25,
    "start_time": "2024-07-30T03:22:38.402Z"
   },
   {
    "duration": 21,
    "start_time": "2024-07-30T03:22:38.432Z"
   },
   {
    "duration": 50,
    "start_time": "2024-07-30T03:22:38.457Z"
   },
   {
    "duration": 10,
    "start_time": "2024-07-30T03:22:38.511Z"
   },
   {
    "duration": 17,
    "start_time": "2024-07-30T03:22:38.524Z"
   },
   {
    "duration": 76,
    "start_time": "2024-07-30T03:22:38.548Z"
   },
   {
    "duration": 27,
    "start_time": "2024-07-30T03:22:38.627Z"
   },
   {
    "duration": 13,
    "start_time": "2024-07-30T03:22:38.657Z"
   },
   {
    "duration": 78,
    "start_time": "2024-07-30T03:22:38.703Z"
   },
   {
    "duration": 188,
    "start_time": "2024-07-30T03:22:38.790Z"
   },
   {
    "duration": 40,
    "start_time": "2024-07-30T03:22:38.981Z"
   },
   {
    "duration": 10,
    "start_time": "2024-07-30T03:22:39.023Z"
   },
   {
    "duration": 76,
    "start_time": "2024-07-30T03:22:39.037Z"
   },
   {
    "duration": 109,
    "start_time": "2024-07-30T03:22:39.116Z"
   },
   {
    "duration": 26,
    "start_time": "2024-07-30T03:22:39.228Z"
   },
   {
    "duration": 11,
    "start_time": "2024-07-30T03:22:39.258Z"
   },
   {
    "duration": 60,
    "start_time": "2024-07-30T03:22:39.303Z"
   },
   {
    "duration": 150,
    "start_time": "2024-07-30T03:22:39.367Z"
   },
   {
    "duration": 26,
    "start_time": "2024-07-30T03:22:39.521Z"
   },
   {
    "duration": 58,
    "start_time": "2024-07-30T03:22:39.550Z"
   },
   {
    "duration": 29,
    "start_time": "2024-07-30T03:22:39.612Z"
   },
   {
    "duration": 21,
    "start_time": "2024-07-30T03:22:39.644Z"
   },
   {
    "duration": 52,
    "start_time": "2024-07-30T03:22:39.669Z"
   },
   {
    "duration": 28,
    "start_time": "2024-07-30T03:22:39.729Z"
   },
   {
    "duration": 70,
    "start_time": "2024-07-30T03:22:39.760Z"
   },
   {
    "duration": 39,
    "start_time": "2024-07-30T03:22:39.833Z"
   },
   {
    "duration": 806,
    "start_time": "2024-07-30T03:22:39.903Z"
   },
   {
    "duration": 408,
    "start_time": "2024-07-30T03:22:40.712Z"
   },
   {
    "duration": 18,
    "start_time": "2024-07-30T03:22:41.124Z"
   },
   {
    "duration": 695,
    "start_time": "2024-07-30T03:22:41.145Z"
   },
   {
    "duration": 564,
    "start_time": "2024-07-30T03:22:41.844Z"
   },
   {
    "duration": 395,
    "start_time": "2024-07-30T03:22:42.411Z"
   },
   {
    "duration": 948,
    "start_time": "2024-07-30T03:22:42.809Z"
   },
   {
    "duration": 399,
    "start_time": "2024-07-30T03:22:43.761Z"
   },
   {
    "duration": 17,
    "start_time": "2024-07-30T03:22:44.163Z"
   },
   {
    "duration": 380,
    "start_time": "2024-07-30T03:22:44.203Z"
   },
   {
    "duration": 31,
    "start_time": "2024-07-30T03:22:44.586Z"
   },
   {
    "duration": 14,
    "start_time": "2024-07-30T03:22:44.621Z"
   },
   {
    "duration": 12,
    "start_time": "2024-07-30T03:22:44.638Z"
   },
   {
    "duration": 1288,
    "start_time": "2024-07-30T03:31:39.260Z"
   },
   {
    "duration": 290,
    "start_time": "2024-07-30T03:31:40.552Z"
   },
   {
    "duration": 16,
    "start_time": "2024-07-30T03:31:40.845Z"
   },
   {
    "duration": 12,
    "start_time": "2024-07-30T03:31:40.864Z"
   },
   {
    "duration": 20,
    "start_time": "2024-07-30T03:31:40.901Z"
   },
   {
    "duration": 21,
    "start_time": "2024-07-30T03:31:40.924Z"
   },
   {
    "duration": 15,
    "start_time": "2024-07-30T03:31:40.948Z"
   },
   {
    "duration": 14,
    "start_time": "2024-07-30T03:31:41.002Z"
   },
   {
    "duration": 18,
    "start_time": "2024-07-30T03:31:41.020Z"
   },
   {
    "duration": 78,
    "start_time": "2024-07-30T03:31:41.041Z"
   },
   {
    "duration": 29,
    "start_time": "2024-07-30T03:31:41.122Z"
   },
   {
    "duration": 14,
    "start_time": "2024-07-30T03:31:41.153Z"
   },
   {
    "duration": 107,
    "start_time": "2024-07-30T03:31:41.170Z"
   },
   {
    "duration": 178,
    "start_time": "2024-07-30T03:31:41.304Z"
   },
   {
    "duration": 30,
    "start_time": "2024-07-30T03:31:41.485Z"
   },
   {
    "duration": 9,
    "start_time": "2024-07-30T03:31:41.518Z"
   },
   {
    "duration": 81,
    "start_time": "2024-07-30T03:31:41.531Z"
   },
   {
    "duration": 110,
    "start_time": "2024-07-30T03:31:41.616Z"
   },
   {
    "duration": 24,
    "start_time": "2024-07-30T03:31:41.730Z"
   },
   {
    "duration": 48,
    "start_time": "2024-07-30T03:31:41.757Z"
   },
   {
    "duration": 61,
    "start_time": "2024-07-30T03:31:41.809Z"
   },
   {
    "duration": 155,
    "start_time": "2024-07-30T03:31:41.874Z"
   },
   {
    "duration": 28,
    "start_time": "2024-07-30T03:31:42.033Z"
   },
   {
    "duration": 57,
    "start_time": "2024-07-30T03:31:42.066Z"
   },
   {
    "duration": 28,
    "start_time": "2024-07-30T03:31:42.129Z"
   },
   {
    "duration": 49,
    "start_time": "2024-07-30T03:31:42.160Z"
   },
   {
    "duration": 26,
    "start_time": "2024-07-30T03:31:42.212Z"
   },
   {
    "duration": 61,
    "start_time": "2024-07-30T03:31:42.241Z"
   },
   {
    "duration": 35,
    "start_time": "2024-07-30T03:31:42.305Z"
   },
   {
    "duration": 66,
    "start_time": "2024-07-30T03:31:42.343Z"
   },
   {
    "duration": 799,
    "start_time": "2024-07-30T03:31:42.412Z"
   },
   {
    "duration": 462,
    "start_time": "2024-07-30T03:31:43.216Z"
   },
   {
    "duration": 28,
    "start_time": "2024-07-30T03:31:43.682Z"
   },
   {
    "duration": 623,
    "start_time": "2024-07-30T03:31:43.713Z"
   },
   {
    "duration": 555,
    "start_time": "2024-07-30T03:31:44.339Z"
   },
   {
    "duration": 376,
    "start_time": "2024-07-30T03:31:44.902Z"
   },
   {
    "duration": 973,
    "start_time": "2024-07-30T03:31:45.282Z"
   },
   {
    "duration": 514,
    "start_time": "2024-07-30T03:31:46.259Z"
   },
   {
    "duration": 31,
    "start_time": "2024-07-30T03:31:46.776Z"
   },
   {
    "duration": 369,
    "start_time": "2024-07-30T03:31:46.810Z"
   },
   {
    "duration": 29,
    "start_time": "2024-07-30T03:31:47.187Z"
   },
   {
    "duration": 15,
    "start_time": "2024-07-30T03:31:47.219Z"
   },
   {
    "duration": 13,
    "start_time": "2024-07-30T03:31:47.237Z"
   },
   {
    "duration": 1333,
    "start_time": "2024-07-30T04:01:15.679Z"
   },
   {
    "duration": 282,
    "start_time": "2024-07-30T04:01:17.489Z"
   },
   {
    "duration": 18,
    "start_time": "2024-07-30T04:01:21.022Z"
   },
   {
    "duration": 18,
    "start_time": "2024-07-30T04:01:22.623Z"
   },
   {
    "duration": 21,
    "start_time": "2024-07-30T04:01:47.573Z"
   },
   {
    "duration": 21,
    "start_time": "2024-07-30T04:01:53.427Z"
   },
   {
    "duration": 16,
    "start_time": "2024-07-30T04:02:07.054Z"
   },
   {
    "duration": 16,
    "start_time": "2024-07-30T04:02:14.967Z"
   },
   {
    "duration": 23,
    "start_time": "2024-07-30T04:03:20.791Z"
   },
   {
    "duration": 43,
    "start_time": "2024-07-30T04:03:52.015Z"
   },
   {
    "duration": 24,
    "start_time": "2024-07-30T04:05:12.923Z"
   },
   {
    "duration": 31,
    "start_time": "2024-07-30T04:05:56.030Z"
   },
   {
    "duration": 7,
    "start_time": "2024-07-30T04:06:28.533Z"
   },
   {
    "duration": 82,
    "start_time": "2024-07-30T04:06:33.818Z"
   },
   {
    "duration": 163,
    "start_time": "2024-07-30T04:10:23.600Z"
   },
   {
    "duration": 20,
    "start_time": "2024-07-30T04:11:01.534Z"
   },
   {
    "duration": 13,
    "start_time": "2024-07-30T04:11:09.881Z"
   },
   {
    "duration": 52,
    "start_time": "2024-07-30T04:14:00.394Z"
   },
   {
    "duration": 96,
    "start_time": "2024-07-30T04:14:34.168Z"
   },
   {
    "duration": 21,
    "start_time": "2024-07-30T04:14:54.418Z"
   },
   {
    "duration": 14,
    "start_time": "2024-07-30T04:15:04.072Z"
   },
   {
    "duration": 64,
    "start_time": "2024-07-30T04:16:31.032Z"
   },
   {
    "duration": 40,
    "start_time": "2024-07-30T04:16:35.359Z"
   },
   {
    "duration": 67,
    "start_time": "2024-07-30T04:18:15.439Z"
   },
   {
    "duration": 63,
    "start_time": "2024-07-30T04:18:31.417Z"
   },
   {
    "duration": 130,
    "start_time": "2024-07-30T04:20:29.472Z"
   },
   {
    "duration": 55,
    "start_time": "2024-07-30T04:21:40.833Z"
   },
   {
    "duration": 26,
    "start_time": "2024-07-30T04:22:19.618Z"
   },
   {
    "duration": 28,
    "start_time": "2024-07-30T04:26:57.764Z"
   },
   {
    "duration": 30,
    "start_time": "2024-07-30T04:27:33.719Z"
   },
   {
    "duration": 53,
    "start_time": "2024-07-30T04:47:09.491Z"
   },
   {
    "duration": 123,
    "start_time": "2024-07-30T04:49:46.975Z"
   },
   {
    "duration": 139,
    "start_time": "2024-07-30T04:50:26.179Z"
   },
   {
    "duration": 120,
    "start_time": "2024-07-30T04:50:46.943Z"
   },
   {
    "duration": 28,
    "start_time": "2024-07-30T04:51:55.638Z"
   },
   {
    "duration": 29,
    "start_time": "2024-07-30T04:52:11.569Z"
   },
   {
    "duration": 29,
    "start_time": "2024-07-30T04:54:31.835Z"
   },
   {
    "duration": 54,
    "start_time": "2024-07-30T04:57:09.275Z"
   },
   {
    "duration": 55,
    "start_time": "2024-07-30T04:57:28.207Z"
   },
   {
    "duration": 22,
    "start_time": "2024-07-30T04:59:30.511Z"
   },
   {
    "duration": 127,
    "start_time": "2024-07-30T05:00:21.642Z"
   },
   {
    "duration": 127,
    "start_time": "2024-07-30T05:00:45.653Z"
   },
   {
    "duration": 40,
    "start_time": "2024-07-30T05:03:59.980Z"
   },
   {
    "duration": 38,
    "start_time": "2024-07-30T05:04:12.232Z"
   },
   {
    "duration": 38,
    "start_time": "2024-07-30T05:07:12.439Z"
   },
   {
    "duration": 25,
    "start_time": "2024-07-30T05:27:22.504Z"
   },
   {
    "duration": 444,
    "start_time": "2024-07-30T05:30:32.978Z"
   },
   {
    "duration": 48,
    "start_time": "2024-07-30T05:30:48.119Z"
   },
   {
    "duration": 28,
    "start_time": "2024-07-30T05:36:48.711Z"
   },
   {
    "duration": 33,
    "start_time": "2024-07-30T05:42:15.565Z"
   },
   {
    "duration": 52,
    "start_time": "2024-07-30T05:44:38.248Z"
   },
   {
    "duration": 63,
    "start_time": "2024-07-30T05:53:19.890Z"
   },
   {
    "duration": 1008,
    "start_time": "2024-07-30T05:56:51.453Z"
   },
   {
    "duration": 42,
    "start_time": "2024-07-30T05:58:06.909Z"
   },
   {
    "duration": 4901,
    "start_time": "2024-07-30T21:18:34.936Z"
   },
   {
    "duration": 365,
    "start_time": "2024-07-30T21:18:39.841Z"
   },
   {
    "duration": 19,
    "start_time": "2024-07-30T21:18:40.209Z"
   },
   {
    "duration": 18,
    "start_time": "2024-07-30T21:18:40.232Z"
   },
   {
    "duration": 55,
    "start_time": "2024-07-30T21:18:40.253Z"
   },
   {
    "duration": 18,
    "start_time": "2024-07-30T21:18:40.310Z"
   },
   {
    "duration": 15,
    "start_time": "2024-07-30T21:18:40.331Z"
   },
   {
    "duration": 41,
    "start_time": "2024-07-30T21:18:40.349Z"
   },
   {
    "duration": 21,
    "start_time": "2024-07-30T21:18:40.393Z"
   },
   {
    "duration": 72,
    "start_time": "2024-07-30T21:18:40.420Z"
   },
   {
    "duration": 25,
    "start_time": "2024-07-30T21:18:40.496Z"
   },
   {
    "duration": 17,
    "start_time": "2024-07-30T21:18:40.524Z"
   },
   {
    "duration": 116,
    "start_time": "2024-07-30T21:18:40.543Z"
   },
   {
    "duration": 185,
    "start_time": "2024-07-30T21:18:40.663Z"
   },
   {
    "duration": 21,
    "start_time": "2024-07-30T21:18:40.851Z"
   },
   {
    "duration": 12,
    "start_time": "2024-07-30T21:18:40.892Z"
   },
   {
    "duration": 51,
    "start_time": "2024-07-30T21:18:40.908Z"
   },
   {
    "duration": 130,
    "start_time": "2024-07-30T21:18:40.962Z"
   },
   {
    "duration": 22,
    "start_time": "2024-07-30T21:18:41.095Z"
   },
   {
    "duration": 17,
    "start_time": "2024-07-30T21:18:41.120Z"
   },
   {
    "duration": 97,
    "start_time": "2024-07-30T21:18:41.140Z"
   },
   {
    "duration": 130,
    "start_time": "2024-07-30T21:18:41.241Z"
   },
   {
    "duration": 39,
    "start_time": "2024-07-30T21:18:41.375Z"
   },
   {
    "duration": 138,
    "start_time": "2024-07-30T21:18:41.417Z"
   },
   {
    "duration": 70,
    "start_time": "2024-07-30T21:18:41.559Z"
   },
   {
    "duration": 58,
    "start_time": "2024-07-30T21:18:41.632Z"
   },
   {
    "duration": 46,
    "start_time": "2024-07-30T21:18:41.694Z"
   },
   {
    "duration": 78,
    "start_time": "2024-07-30T21:18:41.747Z"
   },
   {
    "duration": 79,
    "start_time": "2024-07-30T21:18:41.830Z"
   },
   {
    "duration": 46,
    "start_time": "2024-07-30T21:18:41.912Z"
   },
   {
    "duration": 823,
    "start_time": "2024-07-30T21:18:41.960Z"
   },
   {
    "duration": 400,
    "start_time": "2024-07-30T21:18:42.786Z"
   },
   {
    "duration": 19,
    "start_time": "2024-07-30T21:18:43.192Z"
   },
   {
    "duration": 711,
    "start_time": "2024-07-30T21:18:43.214Z"
   },
   {
    "duration": 643,
    "start_time": "2024-07-30T21:18:43.928Z"
   },
   {
    "duration": 0,
    "start_time": "2024-07-30T21:18:44.574Z"
   },
   {
    "duration": 0,
    "start_time": "2024-07-30T21:18:44.576Z"
   },
   {
    "duration": 0,
    "start_time": "2024-07-30T21:18:44.578Z"
   },
   {
    "duration": 0,
    "start_time": "2024-07-30T21:18:44.591Z"
   },
   {
    "duration": 0,
    "start_time": "2024-07-30T21:18:44.593Z"
   },
   {
    "duration": 0,
    "start_time": "2024-07-30T21:18:44.594Z"
   },
   {
    "duration": 0,
    "start_time": "2024-07-30T21:18:44.596Z"
   },
   {
    "duration": 0,
    "start_time": "2024-07-30T21:18:44.600Z"
   },
   {
    "duration": 550,
    "start_time": "2024-07-30T21:19:35.618Z"
   },
   {
    "duration": 348,
    "start_time": "2024-07-30T21:20:06.126Z"
   },
   {
    "duration": 993,
    "start_time": "2024-07-30T21:20:56.243Z"
   },
   {
    "duration": 412,
    "start_time": "2024-07-30T21:21:56.663Z"
   },
   {
    "duration": 22,
    "start_time": "2024-07-30T21:22:02.792Z"
   },
   {
    "duration": 309,
    "start_time": "2024-07-30T21:22:08.086Z"
   },
   {
    "duration": 18,
    "start_time": "2024-07-30T21:22:24.587Z"
   },
   {
    "duration": 23,
    "start_time": "2024-07-30T21:22:35.751Z"
   },
   {
    "duration": 11,
    "start_time": "2024-07-30T21:23:41.763Z"
   },
   {
    "duration": 12,
    "start_time": "2024-07-30T21:28:07.930Z"
   },
   {
    "duration": 11,
    "start_time": "2024-07-30T21:28:19.264Z"
   },
   {
    "duration": 4830,
    "start_time": "2024-08-01T19:03:22.765Z"
   },
   {
    "duration": 363,
    "start_time": "2024-08-01T19:03:27.598Z"
   },
   {
    "duration": 16,
    "start_time": "2024-08-01T19:03:27.964Z"
   },
   {
    "duration": 16,
    "start_time": "2024-08-01T19:03:27.983Z"
   },
   {
    "duration": 41,
    "start_time": "2024-08-01T19:03:28.004Z"
   },
   {
    "duration": 16,
    "start_time": "2024-08-01T19:03:28.048Z"
   },
   {
    "duration": 15,
    "start_time": "2024-08-01T19:03:28.067Z"
   },
   {
    "duration": 52,
    "start_time": "2024-08-01T19:03:28.085Z"
   },
   {
    "duration": 23,
    "start_time": "2024-08-01T19:03:28.140Z"
   },
   {
    "duration": 70,
    "start_time": "2024-08-01T19:03:28.166Z"
   },
   {
    "duration": 29,
    "start_time": "2024-08-01T19:03:28.238Z"
   },
   {
    "duration": 18,
    "start_time": "2024-08-01T19:03:28.271Z"
   },
   {
    "duration": 115,
    "start_time": "2024-08-01T19:03:28.292Z"
   },
   {
    "duration": 166,
    "start_time": "2024-08-01T19:03:28.433Z"
   },
   {
    "duration": 35,
    "start_time": "2024-08-01T19:03:28.602Z"
   },
   {
    "duration": 14,
    "start_time": "2024-08-01T19:03:28.640Z"
   },
   {
    "duration": 75,
    "start_time": "2024-08-01T19:03:28.657Z"
   },
   {
    "duration": 112,
    "start_time": "2024-08-01T19:03:28.736Z"
   },
   {
    "duration": 22,
    "start_time": "2024-08-01T19:03:28.853Z"
   },
   {
    "duration": 15,
    "start_time": "2024-08-01T19:03:28.878Z"
   },
   {
    "duration": 98,
    "start_time": "2024-08-01T19:03:28.896Z"
   },
   {
    "duration": 142,
    "start_time": "2024-08-01T19:03:28.997Z"
   },
   {
    "duration": 24,
    "start_time": "2024-08-01T19:03:29.142Z"
   },
   {
    "duration": 153,
    "start_time": "2024-08-01T19:03:29.169Z"
   },
   {
    "duration": 59,
    "start_time": "2024-08-01T19:03:29.331Z"
   },
   {
    "duration": 64,
    "start_time": "2024-08-01T19:03:29.393Z"
   },
   {
    "duration": 44,
    "start_time": "2024-08-01T19:03:29.459Z"
   },
   {
    "duration": 70,
    "start_time": "2024-08-01T19:03:29.506Z"
   },
   {
    "duration": 84,
    "start_time": "2024-08-01T19:03:29.579Z"
   },
   {
    "duration": 42,
    "start_time": "2024-08-01T19:03:29.666Z"
   },
   {
    "duration": 773,
    "start_time": "2024-08-01T19:03:29.731Z"
   },
   {
    "duration": 386,
    "start_time": "2024-08-01T19:03:30.507Z"
   },
   {
    "duration": 16,
    "start_time": "2024-08-01T19:03:30.896Z"
   },
   {
    "duration": 653,
    "start_time": "2024-08-01T19:03:30.915Z"
   },
   {
    "duration": 558,
    "start_time": "2024-08-01T19:03:31.572Z"
   },
   {
    "duration": 365,
    "start_time": "2024-08-01T19:03:32.133Z"
   },
   {
    "duration": 944,
    "start_time": "2024-08-01T19:03:32.502Z"
   },
   {
    "duration": 398,
    "start_time": "2024-08-01T19:03:33.449Z"
   },
   {
    "duration": 16,
    "start_time": "2024-08-01T19:03:33.850Z"
   },
   {
    "duration": 338,
    "start_time": "2024-08-01T19:03:33.870Z"
   },
   {
    "duration": 32,
    "start_time": "2024-08-01T19:03:34.217Z"
   },
   {
    "duration": 13,
    "start_time": "2024-08-01T19:03:34.252Z"
   },
   {
    "duration": 12,
    "start_time": "2024-08-01T19:03:34.268Z"
   },
   {
    "duration": 6,
    "start_time": "2024-08-01T19:09:45.122Z"
   },
   {
    "duration": 7,
    "start_time": "2024-08-01T19:09:52.097Z"
   },
   {
    "duration": 6,
    "start_time": "2024-08-01T19:09:59.623Z"
   },
   {
    "duration": 8,
    "start_time": "2024-08-01T19:10:02.764Z"
   },
   {
    "duration": 48,
    "start_time": "2024-08-01T19:11:28.388Z"
   },
   {
    "duration": 7,
    "start_time": "2024-08-01T19:11:40.166Z"
   },
   {
    "duration": 4900,
    "start_time": "2024-08-03T01:53:13.319Z"
   },
   {
    "duration": 353,
    "start_time": "2024-08-03T01:53:18.222Z"
   },
   {
    "duration": 17,
    "start_time": "2024-08-03T01:53:18.577Z"
   },
   {
    "duration": 35,
    "start_time": "2024-08-03T01:53:18.598Z"
   },
   {
    "duration": 22,
    "start_time": "2024-08-03T01:53:18.636Z"
   },
   {
    "duration": 17,
    "start_time": "2024-08-03T01:53:18.661Z"
   },
   {
    "duration": 50,
    "start_time": "2024-08-03T01:53:18.681Z"
   },
   {
    "duration": 16,
    "start_time": "2024-08-03T01:53:18.734Z"
   },
   {
    "duration": 22,
    "start_time": "2024-08-03T01:53:18.753Z"
   },
   {
    "duration": 78,
    "start_time": "2024-08-03T01:53:18.781Z"
   },
   {
    "duration": 27,
    "start_time": "2024-08-03T01:53:18.861Z"
   },
   {
    "duration": 44,
    "start_time": "2024-08-03T01:53:18.891Z"
   },
   {
    "duration": 91,
    "start_time": "2024-08-03T01:53:18.937Z"
   },
   {
    "duration": 175,
    "start_time": "2024-08-03T01:53:19.031Z"
   },
   {
    "duration": 31,
    "start_time": "2024-08-03T01:53:19.209Z"
   },
   {
    "duration": 12,
    "start_time": "2024-08-03T01:53:19.243Z"
   },
   {
    "duration": 76,
    "start_time": "2024-08-03T01:53:19.259Z"
   },
   {
    "duration": 108,
    "start_time": "2024-08-03T01:53:19.339Z"
   },
   {
    "duration": 24,
    "start_time": "2024-08-03T01:53:19.450Z"
   },
   {
    "duration": 15,
    "start_time": "2024-08-03T01:53:19.476Z"
   },
   {
    "duration": 89,
    "start_time": "2024-08-03T01:53:19.494Z"
   },
   {
    "duration": 144,
    "start_time": "2024-08-03T01:53:19.587Z"
   },
   {
    "duration": 24,
    "start_time": "2024-08-03T01:53:19.734Z"
   },
   {
    "duration": 153,
    "start_time": "2024-08-03T01:53:19.762Z"
   },
   {
    "duration": 58,
    "start_time": "2024-08-03T01:53:19.918Z"
   },
   {
    "duration": 57,
    "start_time": "2024-08-03T01:53:19.979Z"
   },
   {
    "duration": 44,
    "start_time": "2024-08-03T01:53:20.040Z"
   },
   {
    "duration": 72,
    "start_time": "2024-08-03T01:53:20.093Z"
   },
   {
    "duration": 87,
    "start_time": "2024-08-03T01:53:20.168Z"
   },
   {
    "duration": 44,
    "start_time": "2024-08-03T01:53:20.258Z"
   },
   {
    "duration": 758,
    "start_time": "2024-08-03T01:53:20.325Z"
   },
   {
    "duration": 455,
    "start_time": "2024-08-03T01:53:21.087Z"
   },
   {
    "duration": 17,
    "start_time": "2024-08-03T01:53:21.546Z"
   },
   {
    "duration": 591,
    "start_time": "2024-08-03T01:53:21.565Z"
   },
   {
    "duration": 531,
    "start_time": "2024-08-03T01:53:22.160Z"
   },
   {
    "duration": 354,
    "start_time": "2024-08-03T01:53:22.694Z"
   },
   {
    "duration": 895,
    "start_time": "2024-08-03T01:53:23.051Z"
   },
   {
    "duration": 470,
    "start_time": "2024-08-03T01:53:23.950Z"
   },
   {
    "duration": 16,
    "start_time": "2024-08-03T01:53:24.427Z"
   },
   {
    "duration": 362,
    "start_time": "2024-08-03T01:53:24.446Z"
   },
   {
    "duration": 31,
    "start_time": "2024-08-03T01:53:24.811Z"
   },
   {
    "duration": 12,
    "start_time": "2024-08-03T01:53:24.845Z"
   },
   {
    "duration": 12,
    "start_time": "2024-08-03T01:53:24.860Z"
   },
   {
    "duration": 4843,
    "start_time": "2024-08-03T17:49:03.466Z"
   },
   {
    "duration": 331,
    "start_time": "2024-08-03T17:49:08.313Z"
   },
   {
    "duration": 17,
    "start_time": "2024-08-03T17:49:08.647Z"
   },
   {
    "duration": 16,
    "start_time": "2024-08-03T17:49:08.671Z"
   },
   {
    "duration": 45,
    "start_time": "2024-08-03T17:49:08.690Z"
   },
   {
    "duration": 16,
    "start_time": "2024-08-03T17:49:08.738Z"
   },
   {
    "duration": 14,
    "start_time": "2024-08-03T17:49:08.757Z"
   },
   {
    "duration": 15,
    "start_time": "2024-08-03T17:49:08.774Z"
   },
   {
    "duration": 57,
    "start_time": "2024-08-03T17:49:08.792Z"
   },
   {
    "duration": 43,
    "start_time": "2024-08-03T17:49:08.856Z"
   },
   {
    "duration": 54,
    "start_time": "2024-08-03T17:49:08.901Z"
   },
   {
    "duration": 16,
    "start_time": "2024-08-03T17:49:08.958Z"
   },
   {
    "duration": 111,
    "start_time": "2024-08-03T17:49:08.977Z"
   },
   {
    "duration": 173,
    "start_time": "2024-08-03T17:49:09.090Z"
   },
   {
    "duration": 26,
    "start_time": "2024-08-03T17:49:09.266Z"
   },
   {
    "duration": 39,
    "start_time": "2024-08-03T17:49:09.296Z"
   },
   {
    "duration": 51,
    "start_time": "2024-08-03T17:49:09.338Z"
   },
   {
    "duration": 113,
    "start_time": "2024-08-03T17:49:09.392Z"
   },
   {
    "duration": 40,
    "start_time": "2024-08-03T17:49:09.507Z"
   },
   {
    "duration": 20,
    "start_time": "2024-08-03T17:49:09.551Z"
   },
   {
    "duration": 88,
    "start_time": "2024-08-03T17:49:09.576Z"
   },
   {
    "duration": 140,
    "start_time": "2024-08-03T17:49:09.667Z"
   },
   {
    "duration": 37,
    "start_time": "2024-08-03T17:49:09.810Z"
   },
   {
    "duration": 134,
    "start_time": "2024-08-03T17:49:09.850Z"
   },
   {
    "duration": 66,
    "start_time": "2024-08-03T17:49:09.987Z"
   },
   {
    "duration": 37,
    "start_time": "2024-08-03T17:49:10.059Z"
   },
   {
    "duration": 72,
    "start_time": "2024-08-03T17:49:10.099Z"
   },
   {
    "duration": 66,
    "start_time": "2024-08-03T17:49:10.178Z"
   },
   {
    "duration": 65,
    "start_time": "2024-08-03T17:49:10.247Z"
   },
   {
    "duration": 67,
    "start_time": "2024-08-03T17:49:10.315Z"
   },
   {
    "duration": 762,
    "start_time": "2024-08-03T17:49:10.386Z"
   },
   {
    "duration": 406,
    "start_time": "2024-08-03T17:49:11.151Z"
   },
   {
    "duration": 16,
    "start_time": "2024-08-03T17:49:11.560Z"
   },
   {
    "duration": 679,
    "start_time": "2024-08-03T17:49:11.579Z"
   },
   {
    "duration": 514,
    "start_time": "2024-08-03T17:49:12.262Z"
   },
   {
    "duration": 340,
    "start_time": "2024-08-03T17:49:12.778Z"
   },
   {
    "duration": 946,
    "start_time": "2024-08-03T17:49:13.121Z"
   },
   {
    "duration": 377,
    "start_time": "2024-08-03T17:49:14.070Z"
   },
   {
    "duration": 17,
    "start_time": "2024-08-03T17:49:14.450Z"
   },
   {
    "duration": 352,
    "start_time": "2024-08-03T17:49:14.470Z"
   },
   {
    "duration": 29,
    "start_time": "2024-08-03T17:49:14.825Z"
   },
   {
    "duration": 11,
    "start_time": "2024-08-03T17:49:14.858Z"
   },
   {
    "duration": 11,
    "start_time": "2024-08-03T17:49:14.872Z"
   },
   {
    "duration": 47,
    "start_time": "2024-08-03T18:13:35.028Z"
   },
   {
    "duration": 4998,
    "start_time": "2024-08-03T19:06:48.306Z"
   },
   {
    "duration": 357,
    "start_time": "2024-08-03T19:06:53.308Z"
   },
   {
    "duration": 16,
    "start_time": "2024-08-03T19:06:53.668Z"
   },
   {
    "duration": 27,
    "start_time": "2024-08-03T19:06:53.689Z"
   },
   {
    "duration": 20,
    "start_time": "2024-08-03T19:06:53.719Z"
   },
   {
    "duration": 17,
    "start_time": "2024-08-03T19:06:53.742Z"
   },
   {
    "duration": 50,
    "start_time": "2024-08-03T19:06:53.762Z"
   },
   {
    "duration": 16,
    "start_time": "2024-08-03T19:06:53.815Z"
   },
   {
    "duration": 21,
    "start_time": "2024-08-03T19:06:53.835Z"
   },
   {
    "duration": 77,
    "start_time": "2024-08-03T19:06:53.862Z"
   },
   {
    "duration": 26,
    "start_time": "2024-08-03T19:06:53.942Z"
   },
   {
    "duration": 45,
    "start_time": "2024-08-03T19:06:53.970Z"
   },
   {
    "duration": 94,
    "start_time": "2024-08-03T19:06:54.017Z"
   },
   {
    "duration": 170,
    "start_time": "2024-08-03T19:06:54.114Z"
   },
   {
    "duration": 31,
    "start_time": "2024-08-03T19:06:54.287Z"
   },
   {
    "duration": 13,
    "start_time": "2024-08-03T19:06:54.321Z"
   },
   {
    "duration": 82,
    "start_time": "2024-08-03T19:06:54.337Z"
   },
   {
    "duration": 110,
    "start_time": "2024-08-03T19:06:54.422Z"
   },
   {
    "duration": 24,
    "start_time": "2024-08-03T19:06:54.535Z"
   },
   {
    "duration": 49,
    "start_time": "2024-08-03T19:06:54.562Z"
   },
   {
    "duration": 73,
    "start_time": "2024-08-03T19:06:54.615Z"
   },
   {
    "duration": 147,
    "start_time": "2024-08-03T19:06:54.691Z"
   },
   {
    "duration": 26,
    "start_time": "2024-08-03T19:06:54.841Z"
   },
   {
    "duration": 151,
    "start_time": "2024-08-03T19:06:54.869Z"
   },
   {
    "duration": 55,
    "start_time": "2024-08-03T19:06:55.024Z"
   },
   {
    "duration": 57,
    "start_time": "2024-08-03T19:06:55.082Z"
   },
   {
    "duration": 66,
    "start_time": "2024-08-03T19:06:55.142Z"
   },
   {
    "duration": 55,
    "start_time": "2024-08-03T19:06:55.215Z"
   },
   {
    "duration": 91,
    "start_time": "2024-08-03T19:06:55.273Z"
   },
   {
    "duration": 62,
    "start_time": "2024-08-03T19:06:55.368Z"
   },
   {
    "duration": 758,
    "start_time": "2024-08-03T19:06:55.433Z"
   },
   {
    "duration": 388,
    "start_time": "2024-08-03T19:06:56.194Z"
   },
   {
    "duration": 29,
    "start_time": "2024-08-03T19:06:56.586Z"
   },
   {
    "duration": 668,
    "start_time": "2024-08-03T19:06:56.618Z"
   },
   {
    "duration": 513,
    "start_time": "2024-08-03T19:06:57.289Z"
   },
   {
    "duration": 370,
    "start_time": "2024-08-03T19:06:57.806Z"
   },
   {
    "duration": 976,
    "start_time": "2024-08-03T19:06:58.179Z"
   },
   {
    "duration": 383,
    "start_time": "2024-08-03T19:06:59.158Z"
   },
   {
    "duration": 16,
    "start_time": "2024-08-03T19:06:59.544Z"
   },
   {
    "duration": 332,
    "start_time": "2024-08-03T19:06:59.563Z"
   },
   {
    "duration": 25,
    "start_time": "2024-08-03T19:06:59.907Z"
   },
   {
    "duration": 74,
    "start_time": "2024-08-03T19:06:59.935Z"
   },
   {
    "duration": 12,
    "start_time": "2024-08-03T19:07:00.012Z"
   },
   {
    "duration": 10,
    "start_time": "2024-08-03T19:07:00.028Z"
   },
   {
    "duration": 38,
    "start_time": "2024-08-03T19:09:53.566Z"
   },
   {
    "duration": 1298,
    "start_time": "2024-08-03T19:09:59.769Z"
   },
   {
    "duration": 274,
    "start_time": "2024-08-03T19:10:01.070Z"
   },
   {
    "duration": 16,
    "start_time": "2024-08-03T19:10:01.347Z"
   },
   {
    "duration": 17,
    "start_time": "2024-08-03T19:10:01.367Z"
   },
   {
    "duration": 20,
    "start_time": "2024-08-03T19:10:01.408Z"
   },
   {
    "duration": 16,
    "start_time": "2024-08-03T19:10:01.432Z"
   },
   {
    "duration": 14,
    "start_time": "2024-08-03T19:10:01.451Z"
   },
   {
    "duration": 17,
    "start_time": "2024-08-03T19:10:01.508Z"
   },
   {
    "duration": 22,
    "start_time": "2024-08-03T19:10:01.528Z"
   },
   {
    "duration": 81,
    "start_time": "2024-08-03T19:10:01.556Z"
   },
   {
    "duration": 25,
    "start_time": "2024-08-03T19:10:01.639Z"
   },
   {
    "duration": 44,
    "start_time": "2024-08-03T19:10:01.667Z"
   },
   {
    "duration": 91,
    "start_time": "2024-08-03T19:10:01.715Z"
   },
   {
    "duration": 172,
    "start_time": "2024-08-03T19:10:01.810Z"
   },
   {
    "duration": 32,
    "start_time": "2024-08-03T19:10:01.985Z"
   },
   {
    "duration": 17,
    "start_time": "2024-08-03T19:10:02.020Z"
   },
   {
    "duration": 74,
    "start_time": "2024-08-03T19:10:02.040Z"
   },
   {
    "duration": 117,
    "start_time": "2024-08-03T19:10:02.117Z"
   },
   {
    "duration": 22,
    "start_time": "2024-08-03T19:10:02.237Z"
   },
   {
    "duration": 15,
    "start_time": "2024-08-03T19:10:02.262Z"
   },
   {
    "duration": 62,
    "start_time": "2024-08-03T19:10:02.308Z"
   },
   {
    "duration": 146,
    "start_time": "2024-08-03T19:10:02.373Z"
   },
   {
    "duration": 26,
    "start_time": "2024-08-03T19:10:02.522Z"
   },
   {
    "duration": 148,
    "start_time": "2024-08-03T19:10:02.551Z"
   },
   {
    "duration": 54,
    "start_time": "2024-08-03T19:10:02.707Z"
   },
   {
    "duration": 64,
    "start_time": "2024-08-03T19:10:02.765Z"
   },
   {
    "duration": 47,
    "start_time": "2024-08-03T19:10:02.832Z"
   },
   {
    "duration": 52,
    "start_time": "2024-08-03T19:10:02.908Z"
   },
   {
    "duration": 95,
    "start_time": "2024-08-03T19:10:02.964Z"
   },
   {
    "duration": 58,
    "start_time": "2024-08-03T19:10:03.062Z"
   },
   {
    "duration": 821,
    "start_time": "2024-08-03T19:10:03.124Z"
   },
   {
    "duration": 395,
    "start_time": "2024-08-03T19:10:03.948Z"
   },
   {
    "duration": 17,
    "start_time": "2024-08-03T19:10:04.346Z"
   },
   {
    "duration": 587,
    "start_time": "2024-08-03T19:10:04.367Z"
   },
   {
    "duration": 541,
    "start_time": "2024-08-03T19:10:04.956Z"
   },
   {
    "duration": 348,
    "start_time": "2024-08-03T19:10:05.505Z"
   },
   {
    "duration": 963,
    "start_time": "2024-08-03T19:10:05.856Z"
   },
   {
    "duration": 469,
    "start_time": "2024-08-03T19:10:06.822Z"
   },
   {
    "duration": 25,
    "start_time": "2024-08-03T19:10:07.294Z"
   },
   {
    "duration": 364,
    "start_time": "2024-08-03T19:10:07.322Z"
   },
   {
    "duration": 39,
    "start_time": "2024-08-03T19:10:07.689Z"
   },
   {
    "duration": 48,
    "start_time": "2024-08-03T19:10:07.732Z"
   },
   {
    "duration": 12,
    "start_time": "2024-08-03T19:10:07.807Z"
   },
   {
    "duration": 12,
    "start_time": "2024-08-03T19:10:07.822Z"
   },
   {
    "duration": 11,
    "start_time": "2024-08-03T19:14:28.719Z"
   },
   {
    "duration": 9,
    "start_time": "2024-08-03T19:20:25.592Z"
   },
   {
    "duration": 4,
    "start_time": "2024-08-03T19:20:35.175Z"
   },
   {
    "duration": 13,
    "start_time": "2024-08-03T19:23:13.207Z"
   },
   {
    "duration": 7,
    "start_time": "2024-08-03T19:23:34.639Z"
   },
   {
    "duration": 11,
    "start_time": "2024-08-03T19:24:15.083Z"
   },
   {
    "duration": 8,
    "start_time": "2024-08-03T19:24:17.922Z"
   }
  ],
  "colab": {
   "provenance": []
  },
  "kernelspec": {
   "display_name": "Python 3 (ipykernel)",
   "language": "python",
   "name": "python3"
  },
  "language_info": {
   "codemirror_mode": {
    "name": "ipython",
    "version": 3
   },
   "file_extension": ".py",
   "mimetype": "text/x-python",
   "name": "python",
   "nbconvert_exporter": "python",
   "pygments_lexer": "ipython3",
   "version": "3.9.19"
  },
  "toc": {
   "base_numbering": 1,
   "nav_menu": {
    "height": "218px",
    "width": "211px"
   },
   "number_sections": true,
   "sideBar": true,
   "skip_h1_title": false,
   "title_cell": "Table of Contents",
   "title_sidebar": "Contents",
   "toc_cell": false,
   "toc_position": {
    "height": "calc(100% - 180px)",
    "left": "10px",
    "top": "150px",
    "width": "165px"
   },
   "toc_section_display": true,
   "toc_window_display": true
  }
 },
 "nbformat": 4,
 "nbformat_minor": 1
}
